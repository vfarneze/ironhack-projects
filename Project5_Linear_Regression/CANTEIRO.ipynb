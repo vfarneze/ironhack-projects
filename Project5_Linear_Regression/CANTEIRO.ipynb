{
 "cells": [
  {
   "cell_type": "code",
   "execution_count": 1,
   "metadata": {},
   "outputs": [],
   "source": [
    "import pandas as pd\n",
    "import numpy as np\n",
    "import seaborn as sns\n",
    "import matplotlib.pyplot as plt\n",
    "\n",
    "from sklearn.metrics import mean_squared_error\n",
    "from sklearn.metrics import r2_score\n",
    "\n",
    "from sklearn.linear_model import LinearRegression"
   ]
  },
  {
   "cell_type": "code",
   "execution_count": 2,
   "metadata": {},
   "outputs": [],
   "source": [
    "data = pd.read_csv('diamonds.csv')\n",
    "rick_data = pd.read_csv('rick_diamonds.csv')"
   ]
  },
  {
   "cell_type": "code",
   "execution_count": 3,
   "metadata": {
    "code_folding": [
     0
    ]
   },
   "outputs": [],
   "source": [
    "def get_scores(data, y_pred,rmse_to_compare=0):\n",
    "    \"\"\"This functions receives the y_pred for the prices of the diamond dataframe and prints the scores.\n",
    "    It also prints comparations. If rmse_to_compare is 0, no comparation will be made.\n",
    "    \"\"\"\n",
    "    \n",
    "    data['predicted'] = y_pred\n",
    "    mse = mean_squared_error(data.price, data.predicted)\n",
    "    rmse = np.sqrt(mse)\n",
    "    r2 = r2_score(y_true=data.price, y_pred=data.predicted)\n",
    "    print(f'RMSE: {round(rmse,3)}')\n",
    "    print(f'R2 score: {round(r2,5)}')\n",
    "    \n",
    "    if rmse_to_compare != 0:\n",
    "        comparation = round((rmse-rmse_to_compare)/rmse_to_compare*100,2)\n",
    "        print(f'change in RMSE: {comparation}')\n",
    "        \n",
    "        if comparation < 0:\n",
    "            print('\\ngreat success!!')\n",
    "            \n",
    "        else:\n",
    "            print('\\nit worsened!!')\n",
    "    \n",
    "    return rmse,r2"
   ]
  },
  {
   "cell_type": "code",
   "execution_count": null,
   "metadata": {},
   "outputs": [],
   "source": []
  },
  {
   "cell_type": "code",
   "execution_count": 5,
   "metadata": {},
   "outputs": [],
   "source": [
    "#loading basics\n",
    "X = data.iloc[:,[0,1,2,3,4,5,7,8,9]]\n",
    "X = pd.get_dummies(X, drop_first=True)\n",
    "y = data.iloc[:,6]\n",
    "\n",
    "# Let us try to remove rows where x,y and z are equal zero\n",
    "new_data = data.query('x != 0 or y != 0 or z != 0')\n",
    "\n",
    "#load new basics\n",
    "new_X = new_data.iloc[:,[0,1,2,3,4,5,7,8,9]]\n",
    "new_X = pd.get_dummies(new_X, drop_first=True)\n",
    "\n",
    "new_y = new_data.iloc[:,6]\n",
    "\n",
    "model = LinearRegression()\n",
    "model.fit(new_X,new_y)\n",
    "y_pred5 = model.predict(X)"
   ]
  },
  {
   "cell_type": "code",
   "execution_count": null,
   "metadata": {},
   "outputs": [],
   "source": []
  }
 ],
 "metadata": {
  "kernelspec": {
   "display_name": "Python 3",
   "language": "python",
   "name": "python3"
  },
  "language_info": {
   "codemirror_mode": {
    "name": "ipython",
    "version": 3
   },
   "file_extension": ".py",
   "mimetype": "text/x-python",
   "name": "python",
   "nbconvert_exporter": "python",
   "pygments_lexer": "ipython3",
   "version": "3.8.1"
  },
  "toc": {
   "base_numbering": 1,
   "nav_menu": {},
   "number_sections": true,
   "sideBar": true,
   "skip_h1_title": false,
   "title_cell": "Table of Contents",
   "title_sidebar": "Contents",
   "toc_cell": false,
   "toc_position": {},
   "toc_section_display": true,
   "toc_window_display": false
  },
  "varInspector": {
   "cols": {
    "lenName": 16,
    "lenType": 16,
    "lenVar": 40
   },
   "kernels_config": {
    "python": {
     "delete_cmd_postfix": "",
     "delete_cmd_prefix": "del ",
     "library": "var_list.py",
     "varRefreshCmd": "print(var_dic_list())"
    },
    "r": {
     "delete_cmd_postfix": ") ",
     "delete_cmd_prefix": "rm(",
     "library": "var_list.r",
     "varRefreshCmd": "cat(var_dic_list()) "
    }
   },
   "types_to_exclude": [
    "module",
    "function",
    "builtin_function_or_method",
    "instance",
    "_Feature"
   ],
   "window_display": false
  }
 },
 "nbformat": 4,
 "nbformat_minor": 4
}

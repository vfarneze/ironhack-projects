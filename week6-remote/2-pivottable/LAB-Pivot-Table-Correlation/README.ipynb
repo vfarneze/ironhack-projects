{
 "cells": [
  {
   "cell_type": "markdown",
   "metadata": {},
   "source": [
    "![Ironhack logo](https://i.imgur.com/1QgrNNw.png)\n",
    "\n",
    "# Lab | Pivot Table and Correlations\n",
    "\n",
    "## Introduction\n",
    "You may already be familiar with the concept of pivot tables from Excel to quickly slice, filter, and group data in an efficient way.  \n",
    "In the first part of this lab, you will use Pandas pivot table to extract insights from your data. In the second part of this lab you will learn to describe the strengh and direction of the relationship between two variables using correlatons.\n",
    "\n",
    "## Getting Started\n",
    "Open the `main.ipynb` file in the `your-code` directory. There are 3 exercises and in each exercise you will work with 3 different datasets. Please keep in mind that you might also need to use some of the functions you saw in the previous lessons. Remember there is a common thread!! \n",
    "\n",
    "## Deliverables\n",
    "- `main.ipynb` with your responses.\n",
    "\n",
    "## Submission\n",
    "Upon completion, add your deliverables to git. Then commit git and push your branch to the remote.\n",
    "\n",
    "## Resources\n",
    "[Pandas Pivot Table](https://pandas.pydata.org/pandas-docs/stable/generated/pandas.pivot_table.html)\n",
    "\n",
    "[Correlation and Dependance](https://en.wikipedia.org/wiki/Correlation_and_dependence)\n",
    "\n",
    "[Google Search](https://www.google.com/search?q=pandas+python)"
   ]
  }
 ],
 "metadata": {
  "kernelspec": {
   "display_name": "Python 3",
   "language": "python",
   "name": "python3"
  },
  "language_info": {
   "codemirror_mode": {
    "name": "ipython",
    "version": 3
   },
   "file_extension": ".py",
   "mimetype": "text/x-python",
   "name": "python",
   "nbconvert_exporter": "python",
   "pygments_lexer": "ipython3",
   "version": "3.8.1"
  },
  "toc": {
   "base_numbering": 1,
   "nav_menu": {},
   "number_sections": true,
   "sideBar": true,
   "skip_h1_title": false,
   "title_cell": "Table of Contents",
   "title_sidebar": "Contents",
   "toc_cell": false,
   "toc_position": {},
   "toc_section_display": true,
   "toc_window_display": false
  },
  "varInspector": {
   "cols": {
    "lenName": 16,
    "lenType": 16,
    "lenVar": 40
   },
   "kernels_config": {
    "python": {
     "delete_cmd_postfix": "",
     "delete_cmd_prefix": "del ",
     "library": "var_list.py",
     "varRefreshCmd": "print(var_dic_list())"
    },
    "r": {
     "delete_cmd_postfix": ") ",
     "delete_cmd_prefix": "rm(",
     "library": "var_list.r",
     "varRefreshCmd": "cat(var_dic_list()) "
    }
   },
   "types_to_exclude": [
    "module",
    "function",
    "builtin_function_or_method",
    "instance",
    "_Feature"
   ],
   "window_display": false
  }
 },
 "nbformat": 4,
 "nbformat_minor": 4
}

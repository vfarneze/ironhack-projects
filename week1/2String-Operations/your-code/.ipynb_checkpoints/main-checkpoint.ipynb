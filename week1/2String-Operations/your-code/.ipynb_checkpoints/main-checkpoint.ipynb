{
 "cells": [
  {
   "cell_type": "markdown",
   "metadata": {},
   "source": [
    "# Before your start:\n",
    "- Read the README.md file\n",
    "- Comment as much as you can and use the resources in the README.md file\n",
    "- Happy learning!"
   ]
  },
  {
   "cell_type": "code",
   "execution_count": 1,
   "metadata": {},
   "outputs": [],
   "source": [
    "import re"
   ]
  },
  {
   "cell_type": "markdown",
   "metadata": {},
   "source": [
    "# Challenge 1 - Combining Strings\n",
    "\n",
    "Combining strings is an important skill to acquire. There are multiple ways of combining strings in Python, as well as combining strings with variables. We will explore this in the first challenge. In the cell below, combine the strings in the list and add spaces between the strings (do not add a space after the last string). Insert a period after the last string."
   ]
  },
  {
   "cell_type": "code",
   "execution_count": 2,
   "metadata": {},
   "outputs": [
    {
     "data": {
      "text/plain": [
       "'Durante un tiempo no estuvo segura de si su marido era su marido.'"
      ]
     },
     "execution_count": 2,
     "metadata": {},
     "output_type": "execute_result"
    }
   ],
   "source": [
    "str_list = ['Durante', 'un', 'tiempo', 'no', 'estuvo', 'segura', 'de', 'si', 'su', 'marido', 'era', 'su', 'marido']\n",
    "\n",
    "\n",
    "#The answer is to use .join() method with a spacebar string, and sum a '.' at the end to ensure there is a period.\n",
    "\n",
    "frase = ' '.join(str_list)+'.'\n",
    "frase"
   ]
  },
  {
   "cell_type": "markdown",
   "metadata": {},
   "source": [
    "In the cell below, use the list of strings to create a grocery list. Start the list with the string `Grocery list: ` and include a comma and a space between each item except for the last one. Include a period at the end. Only include foods in the list that start with the letter 'b' and ensure all foods are lower case."
   ]
  },
  {
   "cell_type": "code",
   "execution_count": 3,
   "metadata": {},
   "outputs": [
    {
     "data": {
      "text/plain": [
       "'Grocery list: Bananas, bread, Brownie Mix, broccoli.'"
      ]
     },
     "execution_count": 3,
     "metadata": {},
     "output_type": "execute_result"
    }
   ],
   "source": [
    "food_list = ['Bananas', 'Chocolate', 'bread', 'diapers', 'Ice Cream', 'Brownie Mix', 'broccoli']\n",
    "# Your code here:\n",
    "\n",
    "#We use the same logic as previou exercise, but we must include only foods that start with letter b:\n",
    "\n",
    "# we start with an empty list, for storing food with starting with b:\n",
    "food_with_b = []\n",
    "\n",
    "for food in food_list:\n",
    "        if food.startswith(('b','B')):\n",
    "            food_with_b.append(food)\n",
    "\n",
    "# now that we have a list of foods starting only with [bB], we join them:\n",
    "grocery_list = 'Grocery list: ' + ', '.join(food_with_b)+'.'\n",
    "grocery_list"
   ]
  },
  {
   "cell_type": "markdown",
   "metadata": {},
   "source": [
    "In the cell below, write a function that computes the area of a circle using its radius. Compute the area of the circle and insert the radius and the area between the two strings. Make sure to include spaces between the variable and the strings. \n",
    "\n",
    "Note: You can use the techniques we have learned so far or use f-strings. F-strings allow us to embed code inside strings. You can read more about f-strings [here](https://www.python.org/dev/peps/pep-0498/)."
   ]
  },
  {
   "cell_type": "code",
   "execution_count": 4,
   "metadata": {},
   "outputs": [
    {
     "data": {
      "text/plain": [
       "'The area of the circle with radius: 4.5 is: 63.61725123519331.'"
      ]
     },
     "execution_count": 4,
     "metadata": {},
     "output_type": "execute_result"
    }
   ],
   "source": [
    "import math\n",
    "\n",
    "string1 = \"The area of the circle with radius:\"\n",
    "string2  = \"is:\"\n",
    "radius = 4.5\n",
    "\n",
    "def area(x, pi = math.pi):\n",
    "    \"\"\"\n",
    "    This function takes a radius and returns the area of a circle. \n",
    "    We also pass a default value for pi.\n",
    "    \n",
    "    Input: Float (and default value for pi)\n",
    "    Output: Float\n",
    "    \n",
    "    Sample input: 5.0\n",
    "    Sample Output: 78.53981633\n",
    "    \"\"\"\n",
    "    \n",
    "    # Your code here:\n",
    "    area_of_circle = pi*x*x\n",
    "\n",
    "# Your output string here:\n",
    "    return area_of_circle\n",
    "\n",
    "# Compute the area of the circle... \n",
    "area_circ = area(radius)\n",
    "\n",
    "# and insert the radius and the area between the two strings...\n",
    "frase = string1 + f' {radius} ' + string2 + f' {area_circ}.'\n",
    "\n",
    "#the aswer then is:\n",
    "frase"
   ]
  },
  {
   "cell_type": "markdown",
   "metadata": {},
   "source": [
    "# Challenge 2 - Splitting Strings\n",
    "\n",
    "We have first looked at combining strings into one long string. There are times where we need to do the opposite and split the string into smaller components for further analysis. \n",
    "\n",
    "In the cell below, split the string into a list of strings using the space delimiter. Count the frequency of each word in the string in a dictionary. Strip the periods, line breaks and commas from the text. Make sure to remove empty strings from your dictionary."
   ]
  },
  {
   "cell_type": "code",
   "execution_count": 5,
   "metadata": {},
   "outputs": [
    {
     "ename": "KeyError",
     "evalue": "'some'",
     "output_type": "error",
     "traceback": [
      "\u001b[1;31m---------------------------------------------------------------------------\u001b[0m",
      "\u001b[1;31mKeyError\u001b[0m                                  Traceback (most recent call last)",
      "\u001b[1;32m<ipython-input-5-05541901ba9b>\u001b[0m in \u001b[0;36m<module>\u001b[1;34m\u001b[0m\n\u001b[0;32m     35\u001b[0m \u001b[1;33m\u001b[0m\u001b[0m\n\u001b[0;32m     36\u001b[0m \u001b[1;32mfor\u001b[0m \u001b[0mword\u001b[0m \u001b[1;32min\u001b[0m \u001b[0mclean_poem\u001b[0m\u001b[1;33m:\u001b[0m\u001b[1;33m\u001b[0m\u001b[1;33m\u001b[0m\u001b[0m\n\u001b[1;32m---> 37\u001b[1;33m     \u001b[0mword_dict\u001b[0m\u001b[1;33m[\u001b[0m\u001b[0mword\u001b[0m\u001b[1;33m]\u001b[0m \u001b[1;33m+=\u001b[0m \u001b[1;36m1\u001b[0m\u001b[1;33m\u001b[0m\u001b[1;33m\u001b[0m\u001b[0m\n\u001b[0m\u001b[0;32m     38\u001b[0m \u001b[0mprint\u001b[0m\u001b[1;33m(\u001b[0m\u001b[0mword_dict\u001b[0m\u001b[1;33m)\u001b[0m\u001b[1;33m\u001b[0m\u001b[1;33m\u001b[0m\u001b[0m\n\u001b[0;32m     39\u001b[0m \u001b[1;33m\u001b[0m\u001b[0m\n",
      "\u001b[1;31mKeyError\u001b[0m: 'some'"
     ]
    }
   ],
   "source": [
    "poem = \"\"\"Some say the world will end in fire,\n",
    "Some say in ice.\n",
    "From what I’ve tasted of desire\n",
    "I hold with those who favor fire.\n",
    "But if it had to perish twice,\n",
    "I think I know enough of hate\n",
    "To say that for destruction ice\n",
    "Is also great\n",
    "And would suffice.\"\"\"\n",
    "\n",
    "# Your code here:\n",
    "# ok, lets do it:\n",
    "\n",
    "# first: split the string into a list of strings using the space delimiter\n",
    "\n",
    "#Before that, we need to 'clean' the poem from commans, periods, line breaks. We also lower all characters so \n",
    "# we won't have multiple unique words. We also change \"I've\" to \"I have\":\n",
    "clean_poem = poem.replace(',','').replace('.','').replace('\\n',' ').replace('I’ve','I have').lower()\n",
    "\n",
    "# now we split:\n",
    "clean_poem = clean_poem.split(' ')\n",
    "clean_poem\n",
    "\n",
    "# Count the frequency of each word in the string in a dictionary. \n",
    "    \n",
    "### We first count the unique words>\n",
    "# unique_words = [] # we create empty list to store unique_words\n",
    "# for word in clean_poem:\n",
    "#     if word not in unique_words:\n",
    "#         unique_words.append(word)\n",
    "# print(unique_words)\n",
    "\n",
    "### Now that we have a list of unique, we count them, creating a dict:\n",
    "word_dict = {}\n",
    "\n",
    "for word in clean_poem:\n",
    "    word_dict[word] += 1 \n",
    "print(word_dict)\n",
    "\n",
    "# ou cria o dict de valores únicos e depois atualiza\n",
    "\n",
    "# e se eu fizer sets? para achar os únicos e contar quantas vezes aparece?\n",
    "\n",
    "# outra ideia: is 'say' in clean_poem?\n",
    "\n",
    "\n",
    "# Make sure to remove empty strings from your dictionary.\n",
    "#dict.drop['']\n",
    "\n"
   ]
  },
  {
   "cell_type": "code",
   "execution_count": null,
   "metadata": {},
   "outputs": [],
   "source": [
    "poem = \"\"\"Some say the world will end in fire,\n",
    "Some say in ice.\n",
    "From what I’ve tasted of desire\n",
    "I hold with those who favor fire.\n",
    "But if it had to perish twice,\n",
    "I think I know enough of hate\n",
    "To say that for destruction ice\n",
    "Is also great\n",
    "And would suffice.\"\"\"\n",
    "\n",
    "# ok, lets do it:\n",
    "# first: split the string into a list of strings using the space delimiter\n",
    "# Before that, we need to 'clean' the poem from commans, periods, line breaks. We also lower all characters so \n",
    "# we won't have multiple unique words. We also change \"I've\" to \"I have\":\n",
    "clean_poem = poem.replace(',','').replace('.','').replace('\\n',' ').replace('I’ve','I have').lower()\n",
    "\n",
    "# now we split:\n",
    "poem_words = clean_poem.split(' ')\n",
    "poem_words.sort()\n",
    "print(f'\\nThe sorted words in the poem are: \\n{poem_words}')\n",
    "\n",
    "# Count the frequency of each word in the string in a dictionary. \n",
    "word_dict = {}\n",
    "\n",
    "for word in poem_words:\n",
    "    if word in word_dict:\n",
    "        word_dict[word] += 1\n",
    "    else:\n",
    "        word_dict[word] = 1\n",
    "\n",
    "print(f'\\nThe words in the poem and how much they appear are: \\n{word_dict}')"
   ]
  },
  {
   "cell_type": "markdown",
   "metadata": {},
   "source": [
    "In the cell below, find all the words that appear in the text and do not appear in the blacklist. You must parse the string but can choose any data structure you wish for the words that do not appear in the blacklist. Remove all non letter characters and convert all words to lower case."
   ]
  },
  {
   "cell_type": "code",
   "execution_count": null,
   "metadata": {},
   "outputs": [],
   "source": [
    "blacklist = ['and', 'as', 'an', 'a', 'the', 'in', 'it']\n",
    "\n",
    "poem = \"\"\"I was angry with my friend; \n",
    "I told my wrath, my wrath did end.\n",
    "I was angry with my foe: \n",
    "I told it not, my wrath did grow. \n",
    "\n",
    "And I waterd it in fears,\n",
    "Night & morning with my tears: \n",
    "And I sunned it with smiles,\n",
    "And with soft deceitful wiles. \n",
    "\n",
    "And it grew both day and night. \n",
    "Till it bore an apple bright. \n",
    "And my foe beheld it shine,\n",
    "And he knew that it was mine. \n",
    "\n",
    "And into my garden stole, \n",
    "When the night had veild the pole; \n",
    "In the morning glad I see; \n",
    "My foe outstretched beneath the tree.\"\"\"\n",
    "\n",
    "# first: split the string into a list of strings using the space delimiter\n",
    "# Before that, we need to 'clean' the poem from commans, periods, line breaks. We also lower all characters so \n",
    "# we won't have multiple unique words. We also change \"I've\" to \"I have\": clean_poem\n",
    "chars_to_drop = [',','.','\\n',':',';','&']\n",
    "clean_poem = poem\n",
    "\n",
    "for drop in chars_to_drop:\n",
    "    clean_poem = clean_poem.replace(drop,'')\n",
    "\n",
    "#and now we separate the words in a list, and sort it: poem_words\n",
    "poem_words = clean_poem.lower().split(' '); poem_words.sort()\n",
    "\n",
    "#Now we select only unique words: unique_words\n",
    "unique_words = []\n",
    "\n",
    "for word in poem_words:\n",
    "    if word not in unique_words:\n",
    "        unique_words.append(word)\n",
    "\n",
    "print(f'\\nThe unique words in the poem are: \\n{unique_words}\\n')\n",
    "\n",
    "#now we verify if its in the black list. We could put both for loops in a single for loop, but I wanted to print the\n",
    "#the unique words in the end, and also the unique words\n",
    "\n",
    "#So, list of allowed (not black listed) words: white_list\n",
    "white_list = []\n",
    "\n",
    "for word in unique_words:\n",
    "    if word not in blacklist:\n",
    "        white_list.append(word)\n",
    "\n",
    "\n",
    "print(f'\\nThe allowed words in the poem are: \\n{white_list}')"
   ]
  },
  {
   "cell_type": "markdown",
   "metadata": {},
   "source": [
    "# Challenge 3 - Regular Expressions\n",
    "\n",
    "Sometimes, we would like to perform more complex manipulations of our string. This is where regular expressions come in handy. In the cell below, return all characters that are upper case from the string specified below."
   ]
  },
  {
   "cell_type": "code",
   "execution_count": null,
   "metadata": {},
   "outputs": [],
   "source": [
    "poem = \"\"\"The apparition of these faces in the crowd;\n",
    "Petals on a wet, black bough.\"\"\"\n",
    "\n",
    "# Your code here:\n",
    "pattern = '[A-Z]'\n",
    "re.findall(pattern,poem)"
   ]
  },
  {
   "cell_type": "markdown",
   "metadata": {},
   "source": [
    "In the cell below, filter the list provided and return all elements of the list containing a number. To filter the list, use the `re.search` function. Check if the function does not return `None`. You can read more about the `re.search` function [here](https://docs.python.org/3/library/re.html)."
   ]
  },
  {
   "cell_type": "code",
   "execution_count": 26,
   "metadata": {},
   "outputs": [
    {
     "name": "stdout",
     "output_type": "stream",
     "text": [
      "Resultados da pesquisa: \n",
      " Os seguintes elementos constém um número: \n",
      " ['123abc', 'abc123', 'JohnSmith1', 'ABBY4'] \n"
     ]
    }
   ],
   "source": [
    "data = ['123abc', 'abc123', 'JohnSmith1', 'ABBY4', 'JANE']\n",
    "matches = []\n",
    "\n",
    "# Your code here:\n",
    "for element in data:\n",
    "    if re.search('\\d', element) != None:\n",
    "        matches.append(element)\n",
    "\n",
    "print(f'Resultados da pesquisa: \\n Os seguintes elementos constém um número: \\n {matches} ')"
   ]
  },
  {
   "cell_type": "markdown",
   "metadata": {},
   "source": [
    "Outros links interessantes:\n",
    "https://developers.google.com/edu/python/regular-expressions"
   ]
  },
  {
   "cell_type": "markdown",
   "metadata": {},
   "source": [
    "# Bonus Challenge - Regular Expressions II\n",
    "\n",
    "In the cell below, filter the list provided to keep only strings containing at least one digit and at least one lower case letter. As in the previous question, use the `re.search` function and check that the result is not `None`.\n",
    "\n",
    "To read more about regular expressions, check out [this link](https://developers.google.com/edu/python/regular-expressions)."
   ]
  },
  {
   "cell_type": "code",
   "execution_count": 108,
   "metadata": {},
   "outputs": [
    {
     "name": "stdout",
     "output_type": "stream",
     "text": [
      "Resultados da pesquisa: \n",
      " Os seguintes elementos constém um número: \n",
      " ['123abc', 'abc123', 'JohnSmith1'] \n"
     ]
    }
   ],
   "source": [
    "data = ['123abc', 'abc123', 'JohnSmith1', 'ABBY4', 'JANE']\n",
    "matches = []\n",
    "\n",
    "redgex1 = '[0-9]'\n",
    "redgex2 = '[a-z]'\n",
    "\n",
    "# Your code here:\n",
    "for element in data:\n",
    "    if re.search(redgex1, element) != None and re.search(redgex2, element) != None:\n",
    "        matches.append(element)\n",
    "\n",
    "print(f'Resultados da pesquisa: \\n Os seguintes elementos constém um número: \\n {matches} ')\n",
    "\n",
    "#preciso ver como fazer num regex só"
   ]
  }
 ],
 "metadata": {
  "kernelspec": {
   "display_name": "Python 3",
   "language": "python",
   "name": "python3"
  },
  "language_info": {
   "codemirror_mode": {
    "name": "ipython",
    "version": 3
   },
   "file_extension": ".py",
   "mimetype": "text/x-python",
   "name": "python",
   "nbconvert_exporter": "python",
   "pygments_lexer": "ipython3",
   "version": "3.7.4"
  },
  "toc": {
   "base_numbering": 1,
   "nav_menu": {},
   "number_sections": true,
   "sideBar": true,
   "skip_h1_title": false,
   "title_cell": "Table of Contents",
   "title_sidebar": "Contents",
   "toc_cell": false,
   "toc_position": {},
   "toc_section_display": true,
   "toc_window_display": false
  },
  "varInspector": {
   "cols": {
    "lenName": 16,
    "lenType": 16,
    "lenVar": 40
   },
   "kernels_config": {
    "python": {
     "delete_cmd_postfix": "",
     "delete_cmd_prefix": "del ",
     "library": "var_list.py",
     "varRefreshCmd": "print(var_dic_list())"
    },
    "r": {
     "delete_cmd_postfix": ") ",
     "delete_cmd_prefix": "rm(",
     "library": "var_list.r",
     "varRefreshCmd": "cat(var_dic_list()) "
    }
   },
   "types_to_exclude": [
    "module",
    "function",
    "builtin_function_or_method",
    "instance",
    "_Feature"
   ],
   "window_display": false
  }
 },
 "nbformat": 4,
 "nbformat_minor": 2
}

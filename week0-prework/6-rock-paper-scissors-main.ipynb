{
 "cells": [
  {
   "cell_type": "markdown",
   "metadata": {},
   "source": [
    "<img src=\"https://bit.ly/2VnXWr2\" width=\"100\" align=\"left\">"
   ]
  },
  {
   "cell_type": "markdown",
   "metadata": {},
   "source": [
    "# Rock, Paper & Scissors\n",
    "\n",
    "Let's play the famous game against our computer. You can check the rules [here](https://en.wikipedia.org/wiki/Rock%E2%80%93paper%E2%80%93scissors). \n",
    "\n",
    "## Task\n",
    "Create a program that imitates the playability of the well known game of rock, paper, scissors. Follow the guidelines provided.\n",
    "\n",
    "## Tools\n",
    "1. Loop: **for/while**\n",
    "2. Functions: **input(), print()...**\n",
    "3. Conditional statements: **if, elif, else**\n",
    "4. Definition of functions. Modular programming\n",
    "5. Import modules\n",
    "\n",
    "**To solve this challenge, the use of functions is recommended.**\n",
    "\n",
    "#### 1. Import the choice function of the random module."
   ]
  },
  {
   "cell_type": "code",
   "execution_count": 1,
   "metadata": {},
   "outputs": [],
   "source": [
    "import numpy as np"
   ]
  },
  {
   "cell_type": "markdown",
   "metadata": {},
   "source": [
    "#### 2. Create a list that includes the 3 possible gesture options of the game: 'rock', 'paper' or 'scissors'. Store the list in a variable called `gestures`."
   ]
  },
  {
   "cell_type": "code",
   "execution_count": 2,
   "metadata": {},
   "outputs": [],
   "source": [
    "gestures = ['rock','paper','scissors']"
   ]
  },
  {
   "cell_type": "markdown",
   "metadata": {},
   "source": [
    "#### 3. Create a variable called `n_rounds` to store the maximum number of rounds to play in a game. \n",
    "Remember that the number of rounds must be odd: 1, 3, 5, ..."
   ]
  },
  {
   "cell_type": "code",
   "execution_count": 3,
   "metadata": {},
   "outputs": [],
   "source": [
    "n_rounds = 5"
   ]
  },
  {
   "cell_type": "markdown",
   "metadata": {},
   "source": [
    "#### 4. Create a variable called `rounds_to_win` to store the number of rounds that a player must win to win the game.\n",
    "**Hint**: the value stored in `rounds_to_win` depends on the value of `n_rounds`. "
   ]
  },
  {
   "cell_type": "code",
   "execution_count": 4,
   "metadata": {},
   "outputs": [],
   "source": [
    "rounds_to_win = (n_rounds - 1)/2 + 1"
   ]
  },
  {
   "cell_type": "markdown",
   "metadata": {},
   "source": [
    "#### 5. Create two variables to store the number of rounds that the computer and the player have won. Call these variables `cpu_score` and `player_score`."
   ]
  },
  {
   "cell_type": "code",
   "execution_count": 5,
   "metadata": {},
   "outputs": [],
   "source": [
    "cpu_score = 0\n",
    "player_score = 0"
   ]
  },
  {
   "cell_type": "markdown",
   "metadata": {},
   "source": [
    "#### 6. Define a function that randomly returns one of the 3 gesture options.\n",
    "You will use this function to simulate the gesture choice of the computer. "
   ]
  },
  {
   "cell_type": "code",
   "execution_count": 6,
   "metadata": {
    "scrolled": true
   },
   "outputs": [
    {
     "name": "stdout",
     "output_type": "stream",
     "text": [
      "scissors\n",
      "rock\n",
      "rock\n",
      "paper\n",
      "rock\n",
      "paper\n",
      "paper\n",
      "rock\n",
      "rock\n",
      "scissors\n",
      "Sounds good!\n"
     ]
    }
   ],
   "source": [
    "# defining function random Rock Paper Scissor\n",
    "def randomRPS():\n",
    "    '''This function generates an aleatory gesture for the\n",
    "        computer: rock, paper or scissor '''\n",
    "    random_number = np.random.randint(low=0, high=3)\n",
    "    computer_gesture = gestures[random_number]\n",
    "    \n",
    "    return computer_gesture\n",
    "\n",
    "# we will run an example to check if the function is working:\n",
    "for i in range(10):\n",
    "    print(randomRPS())\n",
    "    \n",
    "print('Sounds good!')"
   ]
  },
  {
   "cell_type": "markdown",
   "metadata": {},
   "source": [
    "#### 7. Define a function that asks the player which is the gesture he or she wants to show: 'rock', 'paper' or 'scissors'.\n",
    "The player should only be allowed to choose one of the 3 gesture options. If the player's choice is not rock, paper or scissors, keep asking until it is."
   ]
  },
  {
   "cell_type": "code",
   "execution_count": 7,
   "metadata": {},
   "outputs": [],
   "source": [
    "def RPSgame():\n",
    "    '''This function just records the player's gesture '''\n",
    "    player_gesture = input('please, select \"rock\", \"paper\" or \"scissors\":')\n",
    "    \n",
    "    return player_gesture\n",
    "    "
   ]
  },
  {
   "cell_type": "markdown",
   "metadata": {},
   "source": [
    "#### 8. Define a function that checks who won a round. \n",
    "The function should return 0 if there is a tie, 1 if the computer wins and 2 if the player wins."
   ]
  },
  {
   "cell_type": "code",
   "execution_count": 8,
   "metadata": {},
   "outputs": [],
   "source": [
    "def winnerRPS(computer_gesture,player_gesture):\n",
    "    '''A function that checks who won a round'''\n",
    "    #conditions for a tie\n",
    "    if player_gesture == computer_gesture:\n",
    "        return 0\n",
    "    \n",
    "    #conditions for player lose\n",
    "    elif (player_gesture == 'rock' and computer_gesture == 'paper') | (player_gesture == 'paper' and computer_gesture == 'scissors') | (player_gesture == 'scissors' and computer_gesture == 'rock'):\n",
    "        return 1\n",
    "    \n",
    "    #other scenarios player would win\n",
    "    else:\n",
    "        return 2\n",
    "    "
   ]
  },
  {
   "cell_type": "markdown",
   "metadata": {},
   "source": [
    "#### 9. Define a function that prints the choice of the computer, the choice of the player and a message that announces who won the current round. \n",
    "You should also use this function to update the variables that count the number of rounds that the computer and the player have won. The score of the winner increases by one point. If there is a tie, the score does not increase."
   ]
  },
  {
   "cell_type": "code",
   "execution_count": 9,
   "metadata": {},
   "outputs": [],
   "source": [
    "def scores():\n",
    "    '''This function will store the scores of the players'''\n",
    "    print(\"\\n----------The choice of the computer is: %s!----------\" %computer_gesture)\n",
    "    print(\"----------The choice of the playa is: %s!--------------\" %player_gesture) \n",
    "    global cpu_score\n",
    "    global player_score\n",
    "    \n",
    "    if winnerRPS(computer_gesture,player_gesture) == 1:\n",
    "        print('\\n\\ncpu wins!')\n",
    "        cpu_score += 1\n",
    "    elif winnerRPS(computer_gesture,player_gesture) == 2:\n",
    "        print('\\n\\nPLAYER WINS!')\n",
    "        player_score += 1\n",
    "    else:\n",
    "        print('\\n\\nits a tie!!')\n",
    "\n",
    "    return cpu_score, player_score"
   ]
  },
  {
   "cell_type": "markdown",
   "metadata": {},
   "source": [
    "#### 10. Now it's time to code the execution of the game using the functions and variables you defined above. \n",
    "\n",
    "First, create a loop structure that repeats while no player reaches the minimum score necessary to win and the number of rounds is less than the maximum number of rounds to play in a game.  \n",
    "\n",
    "Inside the loop, use the functions and variables above to create the execution of a round: ask for the player's choice, generate the random choice of the computer, show the round results, update the scores, etc. "
   ]
  },
  {
   "cell_type": "code",
   "execution_count": 12,
   "metadata": {},
   "outputs": [
    {
     "name": "stdout",
     "output_type": "stream",
     "text": [
      "_____________STARTING_ROUND_#1_________\n",
      "please, select \"rock\", \"paper\" or \"scissors\":rock\n",
      "\n",
      "----------The choice of the computer is: scissors!----------\n",
      "----------The choice of the playa is: rock!--------------\n",
      "\n",
      "\n",
      "PLAYER WINS!\n",
      "\n",
      "--------------------\n",
      "\n",
      "| CPU SCORE: 0\n",
      "\n",
      "| Player SCORE: 1\n",
      "\n",
      "--------------------\n",
      "_____________STARTING_ROUND_#2_________\n",
      "please, select \"rock\", \"paper\" or \"scissors\":paper\n",
      "\n",
      "----------The choice of the computer is: paper!----------\n",
      "----------The choice of the playa is: paper!--------------\n",
      "\n",
      "\n",
      "its a tie!!\n",
      "\n",
      "--------------------\n",
      "\n",
      "| CPU SCORE: 0\n",
      "\n",
      "| Player SCORE: 1\n",
      "\n",
      "--------------------\n",
      "_____________STARTING_ROUND_#3_________\n",
      "please, select \"rock\", \"paper\" or \"scissors\":paper\n",
      "\n",
      "----------The choice of the computer is: paper!----------\n",
      "----------The choice of the playa is: paper!--------------\n",
      "\n",
      "\n",
      "its a tie!!\n",
      "\n",
      "--------------------\n",
      "\n",
      "| CPU SCORE: 0\n",
      "\n",
      "| Player SCORE: 1\n",
      "\n",
      "--------------------\n",
      "_____________STARTING_ROUND_#4_________\n",
      "please, select \"rock\", \"paper\" or \"scissors\":paper\n",
      "\n",
      "----------The choice of the computer is: rock!----------\n",
      "----------The choice of the playa is: paper!--------------\n",
      "\n",
      "\n",
      "PLAYER WINS!\n",
      "\n",
      "--------------------\n",
      "\n",
      "| CPU SCORE: 0\n",
      "\n",
      "| Player SCORE: 2\n",
      "\n",
      "--------------------\n",
      "_____________STARTING_ROUND_#5_________\n",
      "please, select \"rock\", \"paper\" or \"scissors\":paper\n",
      "\n",
      "----------The choice of the computer is: paper!----------\n",
      "----------The choice of the playa is: paper!--------------\n",
      "\n",
      "\n",
      "its a tie!!\n",
      "\n",
      "--------------------\n",
      "\n",
      "| CPU SCORE: 0\n",
      "\n",
      "| Player SCORE: 2\n",
      "\n",
      "--------------------\n",
      "_____________STARTING_ROUND_#6_________\n",
      "please, select \"rock\", \"paper\" or \"scissors\":paper\n",
      "\n",
      "----------The choice of the computer is: scissors!----------\n",
      "----------The choice of the playa is: paper!--------------\n",
      "\n",
      "\n",
      "cpu wins!\n",
      "\n",
      "--------------------\n",
      "\n",
      "| CPU SCORE: 1\n",
      "\n",
      "| Player SCORE: 2\n",
      "\n",
      "--------------------\n",
      "_____________STARTING_ROUND_#7_________\n",
      "please, select \"rock\", \"paper\" or \"scissors\":paper\n",
      "\n",
      "----------The choice of the computer is: paper!----------\n",
      "----------The choice of the playa is: paper!--------------\n",
      "\n",
      "\n",
      "its a tie!!\n",
      "\n",
      "--------------------\n",
      "\n",
      "| CPU SCORE: 1\n",
      "\n",
      "| Player SCORE: 2\n",
      "\n",
      "--------------------\n",
      "_____________STARTING_ROUND_#8_________\n",
      "please, select \"rock\", \"paper\" or \"scissors\":scissors\n",
      "\n",
      "----------The choice of the computer is: paper!----------\n",
      "----------The choice of the playa is: scissors!--------------\n",
      "\n",
      "\n",
      "PLAYER WINS!\n",
      "\n",
      "--------------------\n",
      "\n",
      "| CPU SCORE: 1\n",
      "\n",
      "| Player SCORE: 3\n",
      "\n",
      "--------------------\n",
      "_____________STARTING_ROUND_#9_________\n",
      "-------end of match!!!!\n"
     ]
    }
   ],
   "source": [
    "cpu_score = 0\n",
    "player_score = 0\n",
    "round_n = 1\n",
    "print('_____________STARTING_ROUND_#%s_________' %round_n)\n",
    "    \n",
    "while True:\n",
    "    # Asking for player's choice \n",
    "    player_gesture = RPSgame()    \n",
    "    \n",
    "    #generate the random choice of the computer \n",
    "    computer_gesture = randomRPS()\n",
    "    \n",
    "    #show the round results \n",
    "    cpu_score, player_score = scores()      \n",
    "\n",
    "    #update the scores \n",
    "    print('\\n--------------------')\n",
    "    print('\\n| CPU SCORE:',cpu_score)\n",
    "    print('\\n| Player SCORE:',player_score)\n",
    "    print('\\n--------------------')\n",
    "    \n",
    "    #etc.\n",
    "    round_n += 1\n",
    "    print('_____________STARTING_ROUND_#%s_________' %round_n)\n",
    "    \n",
    "    if (cpu_score == rounds_to_win or player_score == rounds_to_win):\n",
    "        print('-------end of match!!!!')\n",
    "        break\n",
    "    \n",
    "\n",
    "if cpu_score == rounds_to_win:\n",
    "    WINNER = \"Skynet\"\n",
    "else:\n",
    "    WINNER = \"the player\"\n",
    "   "
   ]
  },
  {
   "cell_type": "markdown",
   "metadata": {},
   "source": [
    "#### 11. Print the winner of the game based on who won more rounds.\n",
    "Remember that the game might be tied. "
   ]
  },
  {
   "cell_type": "code",
   "execution_count": 13,
   "metadata": {},
   "outputs": [
    {
     "name": "stdout",
     "output_type": "stream",
     "text": [
      "The winner is... the player!!!!\n"
     ]
    }
   ],
   "source": [
    "print('The winner is... %s!!!!' %WINNER)"
   ]
  }
 ],
 "metadata": {
  "kernelspec": {
   "display_name": "Python 3",
   "language": "python",
   "name": "python3"
  },
  "language_info": {
   "codemirror_mode": {
    "name": "ipython",
    "version": 3
   },
   "file_extension": ".py",
   "mimetype": "text/x-python",
   "name": "python",
   "nbconvert_exporter": "python",
   "pygments_lexer": "ipython3",
   "version": "3.7.4"
  }
 },
 "nbformat": 4,
 "nbformat_minor": 2
}

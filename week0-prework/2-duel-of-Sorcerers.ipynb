{
 "cells": [
  {
   "cell_type": "markdown",
   "metadata": {},
   "source": [
    "<img src=\"https://bit.ly/2VnXWr2\" width=\"100\" align=\"left\">"
   ]
  },
  {
   "cell_type": "markdown",
   "metadata": {},
   "source": [
    "# Duel of Sorcerers\n",
    "You are witnessing an epic battle between two powerful sorcerers: Gandalf and Saruman. Each sorcerer has 10 spells of variable power in their mind and they are going to throw them one after the other. The winner of the duel will be the one who wins more of those clashes between spells. Spells are represented as a list of 10 integers whose value equals the power of the spell.\n",
    "```\n",
    "gandalf = [10, 11, 13, 30, 22, 11, 10, 33, 22, 22]\n",
    "saruman = [23, 66, 12, 43, 12, 10, 44, 23, 12, 17]\n",
    "```\n",
    "For example:\n",
    "- The first clash is won by Saruman: 10 against 23.\n",
    "- The second clash is won by Saruman: 11 against 66.\n",
    "- ...\n",
    "\n",
    "You will create two variables, one for each sorcerer, where the sum of clashes won will be stored. Depending on which variable is greater at the end of the duel, you will show one of the following three results on the screen:\n",
    "* Gandalf wins\n",
    "* Saruman wins\n",
    "* Tie\n",
    "\n",
    "<img src=\"images/content_lightning_bolt_big.jpg\" width=\"400\">"
   ]
  },
  {
   "cell_type": "markdown",
   "metadata": {},
   "source": [
    "## Tools\n",
    "You don't necessarily need to use all the tools. Maybe you opt to use some of them or completely different ones, they are given to help you shape the exercise. Programming exercises can be solved in many different ways.\n",
    "\n",
    "1. Data structures: **lists, dictionaries**\n",
    "2. Loop: **for loop**\n",
    "3. Conditional statements: **if-elif-else**\n",
    "4. Functions: **range(), len(), print()**\n",
    "\n",
    "## Tasks\n",
    "\n",
    "#### 1. Create two variables called `gandalf` and `saruman` and assign them the spell power lists. Create a variable called `spells` to store the number of spells that the sorcerers cast. "
   ]
  },
  {
   "cell_type": "code",
   "execution_count": 19,
   "metadata": {},
   "outputs": [],
   "source": [
    "gandalf = [10, 11, 13, 30, 22, 11, 10, 33, 22, 22]\n",
    "saruman = [23, 66, 12, 43, 12, 10, 44, 23, 12, 17]\n",
    "spells = 0"
   ]
  },
  {
   "cell_type": "markdown",
   "metadata": {},
   "source": [
    "#### 2. Create two variables called `gandalf_wins` and `saruman_wins`. Set both of them to 0. \n",
    "You will use these variables to count the number of clashes each sorcerer wins. "
   ]
  },
  {
   "cell_type": "code",
   "execution_count": 20,
   "metadata": {},
   "outputs": [],
   "source": [
    "gandalf_wins = 0\n",
    "saruman_wins = 0\n",
    "tie = 0"
   ]
  },
  {
   "cell_type": "markdown",
   "metadata": {},
   "source": [
    "#### 3. Using the lists of spells of both sorcerers, update variables `gandalf_wins` and `saruman_wins` to count the number of times each sorcerer wins a clash. "
   ]
  },
  {
   "cell_type": "code",
   "execution_count": 21,
   "metadata": {},
   "outputs": [],
   "source": [
    "# supose spells would be used not randomly but from 0 to 10\n",
    "\n",
    "for spell in range(len(gandalf)):\n",
    "    if gandalf[spell] > saruman[spell]:\n",
    "        gandalf_wins += 1\n",
    "        \n",
    "    elif gandalf[spell] == saruman[spell]:\n",
    "        tie +=1\n",
    "        \n",
    "    else:\n",
    "        saruman_wins += 1"
   ]
  },
  {
   "cell_type": "markdown",
   "metadata": {},
   "source": [
    "#### 4. Who won the battle?\n",
    "Print `Gandalf wins`, `Saruman wins` or `Tie` depending on the result. "
   ]
  },
  {
   "cell_type": "code",
   "execution_count": 23,
   "metadata": {},
   "outputs": [
    {
     "name": "stdout",
     "output_type": "stream",
     "text": [
      "\n",
      "Gandaf wins: 6 \n",
      "Saruman wins: 4 \n",
      "Ties: 0\n"
     ]
    }
   ],
   "source": [
    "print(\"\\nGandaf wins: %s \\nSaruman wins: %s \\nTies: %s\" % (gandalf_wins, saruman_wins, tie))"
   ]
  },
  {
   "cell_type": "markdown",
   "metadata": {},
   "source": [
    "## Bonus\n",
    "\n",
    "In this bonus challenge, you'll need to check the winner of the battle but this time, a sorcerer wins if he succeeds in winning 3 spell clashes in a row.\n",
    "\n",
    "Also, the spells now have a name and there is a dictionary that associates that name to a power.\n",
    "\n",
    "```\n",
    "POWER = {\n",
    "    'Fireball': 50, \n",
    "    'Lightning bolt': 40, \n",
    "    'Magic arrow': 10, \n",
    "    'Black Tentacles': 25, \n",
    "    'Contagion': 45\n",
    "}\n",
    "\n",
    "gandalf = ['Fireball', 'Lightning bolt', 'Lightning bolt', 'Magic arrow', 'Fireball', \n",
    "           'Magic arrow', 'Lightning bolt', 'Fireball', 'Fireball', 'Fireball']\n",
    "saruman = ['Contagion', 'Contagion', 'Black Tentacles', 'Fireball', 'Black Tentacles', \n",
    "           'Lightning bolt', 'Magic arrow', 'Contagion', 'Magic arrow', 'Magic arrow']\n",
    "```\n",
    "\n",
    "#### 1. Create variables `POWER`, `gandalf` and `saruman` as seen above. Create a variable called `spells` to store the number of spells that the sorcerers cast. "
   ]
  },
  {
   "cell_type": "code",
   "execution_count": 50,
   "metadata": {},
   "outputs": [],
   "source": [
    "# First, list of powers and a dictionary of power : damage!\n",
    "POWER = {\n",
    "    'Fireball': 50, \n",
    "    'Lightning bolt': 40, \n",
    "    'Magic arrow': 10, \n",
    "    'Black Tentacles': 25, \n",
    "    'Contagion': 45\n",
    "}\n",
    "\n",
    "gandalf = ['Fireball', 'Lightning bolt', 'Lightning bolt', 'Magic arrow', 'Fireball', \n",
    "           'Magic arrow', 'Lightning bolt', 'Fireball', 'Fireball', 'Fireball']\n",
    "saruman = ['Contagion', 'Contagion', 'Black Tentacles', 'Fireball', 'Black Tentacles', \n",
    "           'Lightning bolt', 'Magic arrow', 'Contagion', 'Magic arrow', 'Magic arrow']\n",
    "\n",
    "# Also create a list of spells:\n",
    "spells = []"
   ]
  },
  {
   "cell_type": "markdown",
   "metadata": {},
   "source": [
    "#### 2. Create two variables called `gandalf_wins` and `saruman_wins`. Set both of them to 0. "
   ]
  },
  {
   "cell_type": "code",
   "execution_count": 51,
   "metadata": {},
   "outputs": [],
   "source": [
    "# Declaring variables:\n",
    "gandalf_wins = 0\n",
    "saruman_wins = 0\n",
    "tie = 0"
   ]
  },
  {
   "cell_type": "markdown",
   "metadata": {},
   "source": [
    "#### 3. Create two variables called `gandalf_power` and `saruman_power` to store the list of spell powers of each sorcerer."
   ]
  },
  {
   "cell_type": "code",
   "execution_count": 52,
   "metadata": {},
   "outputs": [
    {
     "name": "stdout",
     "output_type": "stream",
     "text": [
      "\n",
      "Gandaf powers: [50, 40, 40, 10, 50, 10, 40, 50, 50, 50] \n",
      "Saruman powers: [45, 45, 25, 50, 25, 40, 10, 45, 10, 10]\n"
     ]
    }
   ],
   "source": [
    "# More variables to store the list of spell powers\n",
    "gandalf_power = []\n",
    "saruman_power = []\n",
    "\n",
    "# We could convert de list of spells to a list of powers(damages).\n",
    "\n",
    "for i in range(len(gandalf)):\n",
    "    gandalf_power.append(POWER[gandalf[i]])\n",
    "    saruman_power.append(POWER[saruman[i]])\n",
    "\n",
    "print(\"\\nGandaf powers: %s \\nSaruman powers: %s\" % (gandalf_power, saruman_power))"
   ]
  },
  {
   "cell_type": "markdown",
   "metadata": {},
   "source": [
    "#### 4. The battle starts! Using the variables you've created above, code the execution of spell clashes. Remember that a sorcerer wins if he succeeds in winning 3 spell clashes in a row. \n",
    "If a clash ends up in a tie, the counter of wins in a row is not restarted to 0. Remember to print who is the winner of the battle. "
   ]
  },
  {
   "cell_type": "code",
   "execution_count": 56,
   "metadata": {},
   "outputs": [
    {
     "name": "stdout",
     "output_type": "stream",
     "text": [
      "Gandalf won by winning three in a row!\n",
      "\n",
      "Gandaf wins: 6 \n",
      "Saruman wins: 3 \n",
      "Ties: 0 \n",
      "No wonder Saruman didn't make it to the end of the movies!\n"
     ]
    }
   ],
   "source": [
    "# Declaring variables:\n",
    "gandalf_wins = 0\n",
    "saruman_wins = 0\n",
    "tie = 0\n",
    "\n",
    "# Lets convert all the spells list to a damage list\n",
    "counter_G = 0\n",
    "counter_S = 0\n",
    "for spell in range(len(gandalf)):\n",
    "    \n",
    "    if POWER[gandalf[spell]] > POWER[saruman[spell]]:\n",
    "        counter_G += 1\n",
    "        counter_S = 0\n",
    "        gandalf_wins += 1\n",
    "        if counter_G == 3:\n",
    "            print(\"Gandalf won by winning three in a row!\")\n",
    "            break\n",
    "    \n",
    "    elif POWER[gandalf[spell]] == POWER[saruman[spell]]:\n",
    "        tie += 1\n",
    "    \n",
    "    else:\n",
    "        counter_G = 0\n",
    "        counter_S += 1\n",
    "        saruman_wins += 1\n",
    "        if counter_S == 3:\n",
    "            print(\"Saruman won by winning three in a row!\")\n",
    "    \n",
    "print(\"\\nGandaf wins: %s \\nSaruman wins: %s \\nTies: %s \\nNo wonder Saruman didn't make it to the end of the movies!\" % (gandalf_wins, saruman_wins, tie))"
   ]
  },
  {
   "cell_type": "markdown",
   "metadata": {},
   "source": [
    "#### 5. Find the average spell power of Gandalf and Saruman. "
   ]
  },
  {
   "cell_type": "code",
   "execution_count": 57,
   "metadata": {},
   "outputs": [
    {
     "name": "stdout",
     "output_type": "stream",
     "text": [
      "\n",
      "Gandaf avg power: 39.0 \n",
      "Saruman avg power: 30.5\n"
     ]
    }
   ],
   "source": [
    "gand_avg_power = sum(gandalf_power)/len(gandalf_power)\n",
    "saru_avg_power = sum(saruman_power)/len(saruman_power)\n",
    "\n",
    "print(\"\\nGandaf avg power: %s \\nSaruman avg power: %s\" % (gand_avg_power,saru_avg_power))"
   ]
  },
  {
   "cell_type": "markdown",
   "metadata": {},
   "source": [
    "#### 6. Find the standard deviation of the spell power of Gandalf and Saruman. "
   ]
  },
  {
   "cell_type": "code",
   "execution_count": 64,
   "metadata": {},
   "outputs": [
    {
     "name": "stdout",
     "output_type": "stream",
     "text": [
      "\n",
      "Gandaf std dev power: 15.132745950421556 \n",
      "Saruman std dev power: 15.56438241627338\n"
     ]
    }
   ],
   "source": [
    "#calculating de sqr deviations:\n",
    "dev_gand = []\n",
    "dev_saru = []\n",
    "\n",
    "for power in range(len(gandalf_power)):\n",
    "    dev_gand.append((gandalf_power[power] - gand_avg_power) ** 2)\n",
    "    dev_saru.append((saruman_power[power] - saru_avg_power) ** 2)\n",
    "\n",
    "#Calculatin Variance:\n",
    "var_gandalf = sum(dev_gand)/len(dev_gand)\n",
    "var_saruman = sum(dev_saru)/len(dev_saru)\n",
    "\n",
    "#Calculating std devs:\n",
    "gand_std_power, saru_std_power = var_gandalf**(0.5), var_saruman**(0.5)\n",
    "\n",
    "    \n",
    "print(\"\\nGandaf std dev power: %s \\nSaruman std dev power: %s\" % (gand_std_power,saru_std_power))"
   ]
  }
 ],
 "metadata": {
  "kernelspec": {
   "display_name": "Python 3",
   "language": "python",
   "name": "python3"
  },
  "language_info": {
   "codemirror_mode": {
    "name": "ipython",
    "version": 3
   },
   "file_extension": ".py",
   "mimetype": "text/x-python",
   "name": "python",
   "nbconvert_exporter": "python",
   "pygments_lexer": "ipython3",
   "version": "3.7.4"
  }
 },
 "nbformat": 4,
 "nbformat_minor": 2
}

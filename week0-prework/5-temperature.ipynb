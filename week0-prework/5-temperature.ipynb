{
 "cells": [
  {
   "cell_type": "markdown",
   "metadata": {},
   "source": [
    "<img src=\"https://bit.ly/2VnXWr2\" width=\"100\" align=\"left\">"
   ]
  },
  {
   "cell_type": "markdown",
   "metadata": {},
   "source": [
    "# Temperature Sensor\n",
    "\n",
    "There is a temperature sensor in the processor of your company's server. The company wants to analyze the data provided by the sensor to decide if they should change the cooling system for a better one. As changing the cooling system is expensive and you are an excellent data analyst, you can't make a decision without basis.\n",
    "\n",
    "## Tools\n",
    "You don't necessarily need to use all the tools. Maybe you opt to use some of them or completely different ones, they are given to help you shape the exercise. Programming exercises can be solved in many different ways.\n",
    "1. Data structures: **lists**\n",
    "2. Loops: **list comprehension**\n",
    "3. Functions: **min, max, print, len**\n",
    "4. Conditional statements: **if-elif-else**\n",
    "\n",
    "## Tasks\n",
    "The temperatures measured throughout the 24 hours of a day are:"
   ]
  },
  {
   "cell_type": "code",
   "execution_count": 1,
   "metadata": {},
   "outputs": [],
   "source": [
    "temperatures_C = [33, 66, 65, 0, 59, 60, 62, 64, 70, 76, 80, 81, 80, 83, 90, 79, 61, 53, 50, 49, 53, 48, 45, 39]"
   ]
  },
  {
   "cell_type": "markdown",
   "metadata": {},
   "source": [
    "The first element of the list is the temperature at 12am, the second element is the temperature at 1am, and so on. \n",
    "\n",
    "The company has decided that if one of the following events occurs, then the cooling system needs to be replaced for a new one to avoid damaging the processor.\n",
    "* More than 4 temperatures are greater than or equal to 70ºC.\n",
    "* Any temperature is above 80ºC.\n",
    "* The average temperature exceeds 65ºC.\n",
    "\n",
    "Follow the steps so that you can make the decision.\n",
    "\n",
    "#### 1. Find the minimum temperature of the day and store it in a variable."
   ]
  },
  {
   "cell_type": "code",
   "execution_count": 2,
   "metadata": {},
   "outputs": [],
   "source": [
    "min_temp = min(temperatures_C)"
   ]
  },
  {
   "cell_type": "markdown",
   "metadata": {},
   "source": [
    "#### 2. Find the maximum temperature of the day and store it in a variable."
   ]
  },
  {
   "cell_type": "code",
   "execution_count": 3,
   "metadata": {},
   "outputs": [],
   "source": [
    "max_temp = max(temperatures_C)"
   ]
  },
  {
   "cell_type": "markdown",
   "metadata": {},
   "source": [
    "#### 3. Create a list with the temperatures that are greater than or equal to 70ºC. Store it in a variable."
   ]
  },
  {
   "cell_type": "code",
   "execution_count": 4,
   "metadata": {},
   "outputs": [],
   "source": [
    "high_temperatures = []\n",
    "\n",
    "for temperature in temperatures_C:\n",
    "    if temperature >= 70:\n",
    "        high_temperatures.append(temperature)"
   ]
  },
  {
   "cell_type": "markdown",
   "metadata": {},
   "source": [
    "#### 4. Find the average temperature of the day and store it in a variable."
   ]
  },
  {
   "cell_type": "code",
   "execution_count": 5,
   "metadata": {},
   "outputs": [],
   "source": [
    "avg_temp = sum(temperatures_C)/len(temperatures_C)"
   ]
  },
  {
   "cell_type": "markdown",
   "metadata": {},
   "source": [
    "#### 5. Imagine that there was a sensor failure at 3am and the data for that specific hour was not recorded. How would you estimate the missing value? Replace the current value of the list at 3am for an estimation. "
   ]
  },
  {
   "cell_type": "code",
   "execution_count": 6,
   "metadata": {},
   "outputs": [],
   "source": [
    "#The missing value could be estimated as the average between its \"neighbor\" temperatures\n",
    "#The temperature in question is temperatures_C[3]\n",
    "\n",
    "#Therefore:\n",
    "temperatures_C[3] = (temperatures_C[2] + temperatures_C[4])/2\n",
    "\n"
   ]
  },
  {
   "cell_type": "markdown",
   "metadata": {},
   "source": [
    "#### 6. Bonus: the maintenance staff is from the United States and does not understand the international metric system. Help them by converting the temperatures from Celsius to Fahrenheit.\n",
    "To know more about temperature conversion check this [link](https://en.wikipedia.org/wiki/Conversion_of_units_of_temperature).\n",
    "\n",
    "**Formula**: \n",
    "\n",
    "$F = 1.8 * C + 32$"
   ]
  },
  {
   "cell_type": "code",
   "execution_count": 7,
   "metadata": {},
   "outputs": [
    {
     "name": "stdout",
     "output_type": "stream",
     "text": [
      "temperatures in Fahrenheit: [91.4, 150.8, 149.0, 143.60000000000002, 138.2, 140.0, 143.60000000000002, 147.2, 158.0, 168.8, 176.0, 177.8, 176.0, 181.4, 194.0, 174.20000000000002, 141.8, 127.4, 122.0, 120.2, 127.4, 118.4, 113.0, 102.2]\n"
     ]
    }
   ],
   "source": [
    "#since lists doenst do math like arrays do, we may take a different approach\n",
    "temperatures_F = []\n",
    "\n",
    "for temp_C in temperatures_C:\n",
    "    temp_F = 1.8 * temp_C + 32\n",
    "    temperatures_F.append(temp_F)\n",
    "    \n",
    "print('temperatures in Fahrenheit:', temperatures_F)"
   ]
  },
  {
   "cell_type": "markdown",
   "metadata": {},
   "source": [
    "#### 7. Make a decision!\n",
    "Now it's time to make a decision taking into account what you have seen until now. \n",
    "\n",
    "Remember that if one of the following events occurs, then the cooling system needs to be replaced for a new one to avoid damaging the processor.\n",
    "* More than 4 temperatures are greater than or equal to 70ºC.\n",
    "* Any temperature is above 80ºC.\n",
    "* The average temperature exceeds 65ºC.\n",
    "\n",
    "#### To make your decision, check if any of the three conditions above is met. You might need to use some of the variables you created in steps 1 to 6. Print a message to show if the cooling system needs to be changed or not."
   ]
  },
  {
   "cell_type": "code",
   "execution_count": 8,
   "metadata": {},
   "outputs": [
    {
     "name": "stdout",
     "output_type": "stream",
     "text": [
      "Warning! System overheat at 11:00:00AM! Please replace cooler!\n"
     ]
    }
   ],
   "source": [
    "# we just pass each temperature throught 3 comparators and if any is broken, we break the loop and release a warning msg\n",
    "time = 0\n",
    "counter = 0\n",
    "temp_rec = [] # this will help store values\n",
    "\n",
    "#we will create a for loop, which will give us the exact moment when one of the 3 rules is broken\n",
    "\n",
    "for temp in temperatures_C:\n",
    "    temp_rec.append(temp)\n",
    "    mean_temp = sum(temp_rec)/len(temp_rec)\n",
    "    \n",
    "    # Rule #1: More than 4 temperatures are greater than or equal to 70ºC.\n",
    "    if temp >= 70:\n",
    "        counter += 1\n",
    "        if counter > 4:\n",
    "            print('Warning! System overheat at %s:00:00AM! More than 4 temperatures are greater than or equal to 70ºC. \\nPlease replace cooler!' %time)\n",
    "            break\n",
    "    \n",
    "    # Rule #2:Any temperature is above 80ºC.\n",
    "    if temp > 80:\n",
    "        print('Warning! System overheat at %s:00:00AM! Please replace cooler!' %time)\n",
    "        break\n",
    "    \n",
    "    # Rule #3: The average temperature exceeds 65ºC.\n",
    "    if mean_temp > 65:\n",
    "        print('Warning! System mean temperature overheat at %s:00:00AM! Please replace cooler!' %time)\n",
    "        break\n",
    "    time += 1\n"
   ]
  },
  {
   "cell_type": "markdown",
   "metadata": {},
   "source": [
    "## Bonus\n",
    "\n",
    "The company has decided that the decision you made is not valid. They want you to analyze the data again but this time, the conditions that need to be met in order to change the cooling system are different.\n",
    "\n",
    "This time, if one of the following events occurs, then the cooling system needs to be replaced:\n",
    "* The temperature is greater than 70ºC during more than 4 consecutive hours.\n",
    "* Any temperature is above 80ºC.\n",
    "* The average temperature exceeds 65ºC.\n",
    "\n",
    "Follow the steps so that you can make the decision.\n",
    "\n",
    "#### 1. Create a list with the hours where the temperature is greater than 70ºC. Store it in a variable."
   ]
  },
  {
   "cell_type": "code",
   "execution_count": 9,
   "metadata": {},
   "outputs": [
    {
     "name": "stdout",
     "output_type": "stream",
     "text": [
      "Hours in which the temperature was greater than 70ºC\n",
      "09:00:00\n",
      "10:00:00\n",
      "11:00:00\n",
      "12:00:00\n",
      "13:00:00\n",
      "14:00:00\n",
      "15:00:00\n"
     ]
    }
   ],
   "source": [
    "overheat_times = []\n",
    "timer = 0\n",
    "\n",
    "for temp in temperatures_C:\n",
    "    if temp > 70:\n",
    "        overheat_times.append(timer)\n",
    "    timer +=1\n",
    "        \n",
    "        \n",
    "print('Hours in which the temperature was greater than 70ºC')\n",
    "\n",
    "for t in overheat_times:\n",
    "    if t <= 9:\n",
    "        print('0%s:00:00' %t)\n",
    "    else:\n",
    "        print('%s:00:00' %t)"
   ]
  },
  {
   "cell_type": "markdown",
   "metadata": {},
   "source": [
    "#### 2. Check if the list you created in step 1 has more than 4 consecutive hours. "
   ]
  },
  {
   "cell_type": "code",
   "execution_count": 10,
   "metadata": {},
   "outputs": [
    {
     "name": "stdout",
     "output_type": "stream",
     "text": [
      "System Overheat! Four consecutive hours above max temp!\n"
     ]
    }
   ],
   "source": [
    "#just check if the diference between hours is equal to 1 for 4 consecutive times\n",
    "\n",
    "counter = 0\n",
    "counter2 = 0\n",
    "for time in overheat_times[1:]:\n",
    "    difference = time - overheat_times[counter]\n",
    "    counter += 1\n",
    "    \n",
    "    #insert condition, if the diference between positions in list is 1 hour, counter rises 1 point, else, it comes back to zero\n",
    "    if difference == 1:\n",
    "        counter2 += 1\n",
    "        #if counter 2 is equal to 4, that means 4 consecutive rises appeared, and the entire loop is broken\n",
    "        if counter2 == 4:\n",
    "            print('System Overheat! Four consecutive hours above max temp!')\n",
    "            break\n",
    "    else:\n",
    "        counter2 = 0"
   ]
  },
  {
   "cell_type": "markdown",
   "metadata": {},
   "source": [
    "#### 3. Make the decision!\n",
    "To make your decision, check if any of the three conditions is met. Print a message to show if the cooling system needs to be changed or not."
   ]
  },
  {
   "cell_type": "code",
   "execution_count": 11,
   "metadata": {},
   "outputs": [],
   "source": [
    "# this was answered on the previous question!!"
   ]
  },
  {
   "cell_type": "markdown",
   "metadata": {},
   "source": [
    "#### 4. Find the average value of the temperature lists (ºC and ºF). What is the relation between both average values?"
   ]
  },
  {
   "cell_type": "code",
   "execution_count": 12,
   "metadata": {},
   "outputs": [
    {
     "name": "stdout",
     "output_type": "stream",
     "text": [
      "Mean temperature in celsius: 62.83ºC\n",
      "Mean temperature in fahrenheit: 145.1ºF\n",
      "\n",
      "Both average values are related between them by the formula: \n",
      "F = 1.8 * C + 32\n"
     ]
    }
   ],
   "source": [
    "mean_C = round(sum(temperatures_C)/len(temperatures_C),2)\n",
    "mean_F = round(sum(temperatures_F)/len(temperatures_F),2)\n",
    "\n",
    "print('Mean temperature in celsius: %sºC' %mean_C)\n",
    "print('Mean temperature in fahrenheit: %sºF' %mean_F)\n",
    "\n",
    "\n",
    "print('\\nBoth average values are related between them by the formula: \\nF = 1.8 * C + 32')"
   ]
  },
  {
   "cell_type": "markdown",
   "metadata": {},
   "source": [
    "#### 5. Find the standard deviation of the temperature lists (ºC and ºF). What is the relation between both standard deviations?"
   ]
  },
  {
   "cell_type": "code",
   "execution_count": 27,
   "metadata": {},
   "outputs": [
    {
     "name": "stdout",
     "output_type": "stream",
     "text": [
      "Standard deviation of temp in celsius: 14.63ºC\n",
      "Standard deviation of temp in fahrenheit: 14.63ºC\n",
      "\n",
      "In this case, the standard deviations are equal because, since the scale Celsius is linearly related to the fahrenheit scale, they both will have the same deviations, hence the same std dev\n"
     ]
    }
   ],
   "source": [
    "# to save us some time, we will use numpy\n",
    "import numpy as np\n",
    "\n",
    "# convert lists to array\n",
    "Temp_C_array = np.array(temperatures_C)\n",
    "Temp_F_array = np.array(temperatures_C)\n",
    "\n",
    "# calculate standard deviations:\n",
    "std_C = np.std(Temp_C_array)\n",
    "std_F = np.std(Temp_F_array)\n",
    "\n",
    "#Print answers\n",
    "print('Standard deviation of temp in celsius: %sºC' %round(std_C,2))\n",
    "print('Standard deviation of temp in fahrenheit: %sºC' %round(std_F,2))\n",
    "\n",
    "print('\\nIn this case, the standard deviations are equal because, since the scale Celsius is linearly related to the fahrenheit scale, they both will have the same deviations, hence the same std dev')"
   ]
  }
 ],
 "metadata": {
  "kernelspec": {
   "display_name": "Python 3",
   "language": "python",
   "name": "python3"
  },
  "language_info": {
   "codemirror_mode": {
    "name": "ipython",
    "version": 3
   },
   "file_extension": ".py",
   "mimetype": "text/x-python",
   "name": "python",
   "nbconvert_exporter": "python",
   "pygments_lexer": "ipython3",
   "version": "3.7.4"
  }
 },
 "nbformat": 4,
 "nbformat_minor": 2
}

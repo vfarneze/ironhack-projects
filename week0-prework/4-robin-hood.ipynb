{
 "cells": [
  {
   "cell_type": "markdown",
   "metadata": {},
   "source": [
    "<img src=\"https://bit.ly/2VnXWr2\" width=\"100\" align=\"left\"/>"
   ]
  },
  {
   "cell_type": "markdown",
   "metadata": {},
   "source": [
    "# Robin Hood\n",
    "Robin Hood has entered a competition to win the archery contest in Sherwood. With his bow and arrows, he needs to shoot on a target and try to hit as close as possible to the center.\n",
    "\n",
    "![](images/arrows.jpg)\n",
    "\n",
    "## Context\n",
    "In this challenge, the landing position of arrows shot by archers in the competition will be represented using 2-dimensional coordinates. \n",
    "\n",
    "In the 2-dimensional space, a point can be defined by a pair of values that correspond to the horizontal coordinate (x) and the vertical coordinate (y). For example, in our case, an arrow that hits the center of the archery target will land in position (0, 0) on the coordinate axes. \n",
    "\n",
    "The space can be divided into 4 zones (quadrants): Q1, Q2, Q3, Q4. If a point is in Q1, both its x coordinate and y coordinate are positive. Any point with a null x or y coordinate is considered to not belong to any quadrant. \n",
    "\n",
    "If you want to know more about the cartesian coordinate system, you can check this [link](https://en.wikipedia.org/wiki/Cartesian_coordinate_system). \n",
    "\n",
    "## Tools\n",
    "You don't necessarily need to use all the tools. Maybe you opt to use some of them or completely different ones, they are given to help you shape the exercise. Programming exercises can be solved in many different ways.\n",
    "* Data structures: **lists, sets, tuples**\n",
    "* Conditional statements: **if-elif-else**\n",
    "* Loop: **while/for**\n",
    "* Minimum (optional sorting)\n",
    "\n",
    "## Tasks\n",
    "Robin Hood has hit the following points:"
   ]
  },
  {
   "cell_type": "code",
   "execution_count": 1,
   "metadata": {},
   "outputs": [],
   "source": [
    "points = [(4, 5), (-0, 2), (4, 7), (1, -3), (3, -2), (4, 5), (3, 2), (5, 7), (-5, 7), (2, 2), (-4, 5), (0, -2),\n",
    "          (-4, 7), (-1, 3), (-3, 2), (-4, -5), (-3, 2), (5, 7), (5, 7), (2, 2), (9, 9), (-8, -9)]"
   ]
  },
  {
   "cell_type": "markdown",
   "metadata": {},
   "source": [
    "#### 1. Robin Hood is famous for hitting an arrow with another arrow. Find the coordinates of the points where an arrow hits another arrow."
   ]
  },
  {
   "cell_type": "code",
   "execution_count": 2,
   "metadata": {},
   "outputs": [
    {
     "name": "stdout",
     "output_type": "stream",
     "text": [
      "We have an arrow-arrow hit at the 6# arrow shot!\n",
      "We have an arrow-arrow hit at the 17# arrow shot!\n",
      "We have an arrow-arrow hit at the 18# arrow shot!\n",
      "We have an arrow-arrow hit at the 19# arrow shot!\n",
      "We have an arrow-arrow hit at the 20# arrow shot!\n",
      "\n",
      "\n",
      "ANSWER:\n",
      "\n",
      "The coordinates of the points where an arrow hits another arrow are: [(3, 2), (5, 7), (2, 2), (9, 9)]\n"
     ]
    }
   ],
   "source": [
    "#Start with a list of which arrows shoots had and arrow hit. A hit is 1 and a not arrow-arrow hit is a zero.\n",
    "#Since the first arrow won't hit another arrow...\n",
    "\n",
    "arrows_hit_list =[]\n",
    "\n",
    "#we create a list to record which shots hit another arrow... (Arrow-Arrow shots)\n",
    "list_of_AA_shots =[]\n",
    "\n",
    "counter = 1 #this counter will help select the precise coordinates of the points list\n",
    "\n",
    "#now a loop for every shoot\n",
    "for point in points:\n",
    "    \n",
    "    # first, we check if the arrow hit another arrow\n",
    "    if point in arrows_hit_list:\n",
    "        print(\"We have an arrow-arrow hit at the %s# arrow shot!\" %counter)\n",
    "        \n",
    "        # and then we record on a list which shot was\n",
    "        list_of_AA_shots.append(counter)\n",
    "    \n",
    "    #After that, we set the counter to the next shot, and save on a list the position of the arrows.\n",
    "    counter += 1\n",
    "    arrows_hit_list.append(point)\n",
    "    \n",
    "#Now we answer our question: Find the coordinates of the points where an arrow hits another arrow.\n",
    "# first create a list: answer\n",
    "answer = []\n",
    "\n",
    "for hit in list_of_AA_shots:\n",
    "    if points[hit] not in answer:\n",
    "        answer.append(points[hit])\n",
    "    \n",
    "print(\"\\n\\nANSWER:\\n\\nThe coordinates of the points where an arrow hits another arrow are:\", answer)\n",
    "\n",
    "\n"
   ]
  },
  {
   "cell_type": "markdown",
   "metadata": {},
   "source": [
    "#### 2. Calculate how many arrows have fallen in each quadrant. \n",
    "**Note**: the arrows that fall in the axis (x=0 or y=0) don't belong to any quadrant."
   ]
  },
  {
   "cell_type": "code",
   "execution_count": 3,
   "metadata": {},
   "outputs": [
    {
     "name": "stdout",
     "output_type": "stream",
     "text": [
      "The number of arrows that have fallen in each quadrant are: \n",
      "Q1 - 10 \n",
      "Q2 - 6 \n",
      "Q3 - 2 \n",
      "Q4 - 2\n"
     ]
    }
   ],
   "source": [
    "#creating counter of hits per quadrants\n",
    "q1 = 0\n",
    "q2 = 0\n",
    "q3 = 0\n",
    "q4 = 0\n",
    "\n",
    "#its easy, we just separate first for positive X and then positive y\n",
    "\n",
    "for point in points:\n",
    "    if point[0] > 0:\n",
    "        if point[1] > 0:\n",
    "            q1 += 1\n",
    "        else:\n",
    "            q4 += 1\n",
    "    if point[0] < 0:\n",
    "        if point[1] > 0:\n",
    "            q2 += 1\n",
    "        else:\n",
    "            q3 += 1\n",
    "            \n",
    "print('The number of arrows that have fallen in each quadrant are: \\nQ1 - %s \\nQ2 - %s \\nQ3 - %s \\nQ4 - %s' %(q1,q2,q3,q4))\n",
    "\n"
   ]
  },
  {
   "cell_type": "markdown",
   "metadata": {},
   "source": [
    "#### 3. Find the point closest to the center. Calculate its distance to the center. \n",
    "Take into account that there might be more than one point at the minimum distance to the center.\n",
    "\n",
    "**Hint**: Use the Euclidean distance. You can find more information about it [here](https://en.wikipedia.org/wiki/Euclidean_distance).  \n",
    "**Hint**: Defining a function that calculates the distance to the center can help."
   ]
  },
  {
   "cell_type": "code",
   "execution_count": 5,
   "metadata": {},
   "outputs": [
    {
     "name": "stdout",
     "output_type": "stream",
     "text": [
      "\n",
      "The point closest to the center are: [(0, 2), (0, -2)]\n",
      "\n",
      "While its distance to the center is: 2.0\n"
     ]
    }
   ],
   "source": [
    "# first, let us creat a function:\n",
    "def distance_to_center(point):\n",
    "    '''This function receives a tuple with 2 coordinates, x and y, and returns de distance to the center'''\n",
    "    x = point[0]\n",
    "    y = point[1]\n",
    "    #distance will be kind like a pitagoras\n",
    "    distance = (x ** 2 + y ** 2) **(0.5)\n",
    "    return distance\n",
    "\n",
    "# To answer our question, one way is to create a list of distances and then get the min value\n",
    "point_dist = []\n",
    "closest_point = 0\n",
    "\n",
    "\n",
    "#we will first create a lists with all distances\n",
    "for point in points:\n",
    "    \n",
    "    point_distance = distance_to_center(point)\n",
    "    point_dist.append(point_distance)\n",
    "\n",
    "\n",
    "\n",
    "#Now we select a list with the closest points to the center, bca we may have multiple different points at same dist to center\n",
    "shortest_dist = min(point_dist)\n",
    "\n",
    "counter = 0\n",
    "closest_shots = []\n",
    "\n",
    "for dist in point_dist:\n",
    "    if dist == shortest_dist:\n",
    "        #the counter will give us which points have the same distances to the closest distance\n",
    "        closest_shots.append(points[counter])\n",
    "    counter += 1\n",
    "\n",
    "\n",
    "\n",
    "\n",
    "#Now asnwering the problem: \"Find the point closest to the center. Calculate its distance to the center.\"\n",
    "print('\\nThe point closest to the center are:', closest_shots)\n",
    "print('\\nWhile its distance to the center is: %s' %shortest_dist)\n"
   ]
  },
  {
   "cell_type": "markdown",
   "metadata": {},
   "source": [
    "#### 4. If the archery target has a radius of 9, calculate the number of arrows that won't hit the target. \n",
    "**Hint**: Use the function created in step 3. "
   ]
  },
  {
   "cell_type": "code",
   "execution_count": 6,
   "metadata": {},
   "outputs": [
    {
     "name": "stdout",
     "output_type": "stream",
     "text": [
      "\n",
      "The number of arrows that wont hit the target is: 2.\n",
      "\n",
      "The missed shots would be: [(9, 9), (-8, -9)]\n"
     ]
    }
   ],
   "source": [
    "#we can use the same principle of a counter as in the last exercise\n",
    "\n",
    "counter = 0\n",
    "shots_missed = []\n",
    "\n",
    "for dist in point_dist:\n",
    "    if dist > 9:\n",
    "        shots_missed.append(points[counter])\n",
    "    counter += 1\n",
    "\n",
    "# answering the question\n",
    "\n",
    "print('\\nThe number of arrows that wont hit the target is: %s.' %len(shots_missed))\n",
    "print('\\nThe missed shots would be:', shots_missed)"
   ]
  }
 ],
 "metadata": {
  "kernelspec": {
   "display_name": "Python 3",
   "language": "python",
   "name": "python3"
  },
  "language_info": {
   "codemirror_mode": {
    "name": "ipython",
    "version": 3
   },
   "file_extension": ".py",
   "mimetype": "text/x-python",
   "name": "python",
   "nbconvert_exporter": "python",
   "pygments_lexer": "ipython3",
   "version": "3.7.4"
  }
 },
 "nbformat": 4,
 "nbformat_minor": 2
}

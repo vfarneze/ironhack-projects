{
 "cells": [
  {
   "cell_type": "markdown",
   "metadata": {},
   "source": [
    "![Ironhack logo](https://i.imgur.com/1QgrNNw.png)\n",
    "\n",
    "# Lab | StackAPI\n",
    "Let's check if you can handle working with an API. \n",
    "\n",
    "Use [StackAPI](https://stackapi.readthedocs.io/en/latest/), a Python wrapper for the Stack Exchange API, and answer the following questions:\n",
    "\n",
    "* Question 1: Find the questions and answers of last month.\n",
    "* Question 2: Find the most voted question today with at least a score of 5 and tagged with 'python'. \n",
    "* Question 3: Find the answers with id 6784 and 6473.\n",
    "\n",
    "## Deliverables\n",
    "- Submit the `main.ipynb` file with the solutions. \n"
   ]
  },
  {
   "cell_type": "markdown",
   "metadata": {},
   "source": [
    "# StackAPI\n",
    "\n",
    "#### Import the necessary libraries here:"
   ]
  },
  {
   "cell_type": "code",
   "execution_count": 1,
   "metadata": {},
   "outputs": [
    {
     "name": "stdout",
     "output_type": "stream",
     "text": [
      "Collecting stackapi\n",
      "  Downloading StackAPI-0.1.12.tar.gz (5.5 kB)\n",
      "Requirement already satisfied: requests in c:\\users\\vfarn\\appdata\\local\\programs\\python\\python38-32\\lib\\site-packages (from stackapi) (2.23.0)\n",
      "Requirement already satisfied: certifi>=2017.4.17 in c:\\users\\vfarn\\appdata\\local\\programs\\python\\python38-32\\lib\\site-packages (from requests->stackapi) (2019.11.28)\n",
      "Requirement already satisfied: urllib3!=1.25.0,!=1.25.1,<1.26,>=1.21.1 in c:\\users\\vfarn\\appdata\\local\\programs\\python\\python38-32\\lib\\site-packages (from requests->stackapi) (1.25.8)\n",
      "Requirement already satisfied: chardet<4,>=3.0.2 in c:\\users\\vfarn\\appdata\\local\\programs\\python\\python38-32\\lib\\site-packages (from requests->stackapi) (3.0.4)\n",
      "Requirement already satisfied: idna<3,>=2.5 in c:\\users\\vfarn\\appdata\\local\\programs\\python\\python38-32\\lib\\site-packages (from requests->stackapi) (2.9)\n",
      "Installing collected packages: stackapi\n",
      "    Running setup.py install for stackapi: started\n",
      "    Running setup.py install for stackapi: finished with status 'done'\n",
      "Successfully installed stackapi-0.1.12\n"
     ]
    }
   ],
   "source": [
    "!pip install stackapi"
   ]
  },
  {
   "cell_type": "code",
   "execution_count": 88,
   "metadata": {},
   "outputs": [],
   "source": [
    "# your code here\n",
    "from stackapi import StackAPI\n",
    "import pandas as pd\n",
    "from tqdm.auto import tqdm\n",
    "from datetime import datetime"
   ]
  },
  {
   "cell_type": "markdown",
   "metadata": {},
   "source": [
    "#### Question 1: Find the questions and answers of last month."
   ]
  },
  {
   "cell_type": "code",
   "execution_count": 145,
   "metadata": {},
   "outputs": [],
   "source": [
    "# your code here\n",
    "SITE = StackAPI('stackoverflow')\n",
    "\n",
    "#we set the number of pages to max\n",
    "SITE.page_size = 100\n",
    "SITE.max_pages = 1"
   ]
  },
  {
   "cell_type": "code",
   "execution_count": 148,
   "metadata": {},
   "outputs": [],
   "source": [
    "# the time used in this API is in Unix epoch time!\n",
    "#last month: 2020-02-01 to 2020-02-29, which is 1580515200 to 1583020800\n",
    "\n",
    "#29 days is a lot of days. We will take day by day the results and save in a pandas dataframe\n",
    "days_unix = [1580515200 + day*24*60*60 for day in list(range(29))]\n",
    "\n",
    "#in this list, the last element is 1582934400, which is the time start of the last day, which ends in 1583020800"
   ]
  },
  {
   "cell_type": "code",
   "execution_count": 149,
   "metadata": {},
   "outputs": [],
   "source": [
    "#One problem is... stackoverflow has 7600 questions per day, so we will only extract the first\n",
    "#100 questions of each day at max... otherwise we will pass the 10k daily limit!!\n",
    "\n",
    "#we will also only select questions and answers with more than 25 points"
   ]
  },
  {
   "cell_type": "code",
   "execution_count": 169,
   "metadata": {},
   "outputs": [
    {
     "data": {
      "application/vnd.jupyter.widget-view+json": {
       "model_id": "39d13fc92ada448287cc3d208bb0c93a",
       "version_major": 2,
       "version_minor": 0
      },
      "text/plain": [
       "HBox(children=(FloatProgress(value=0.0, max=29.0), HTML(value='')))"
      ]
     },
     "metadata": {},
     "output_type": "display_data"
    },
    {
     "name": "stdout",
     "output_type": "stream",
     "text": [
      "\n"
     ]
    }
   ],
   "source": [
    "df_ques = pd.DataFrame()\n",
    "df_ans = pd.DataFrame()\n",
    "\n",
    "for day_unix in tqdm(days_unix):\n",
    "    questions = SITE.fetch('questions', fromdate=day_unix, todate=day_unix+1*60*60*24, min=25,sort='votes')\n",
    "    answers = SITE.fetch('answers', fromdate=day_unix, todate=day_unix+1*60*60*24, min=25,sort='votes')\n",
    "    \n",
    "    mini_df = pd.DataFrame(questions)\n",
    "    df_ques = pd.concat([df_ques, mini_df])\n",
    "    \n",
    "    mini_df = pd.DataFrame(answers)\n",
    "    df_ans = pd.concat([df_ans, mini_df])    "
   ]
  },
  {
   "cell_type": "code",
   "execution_count": 178,
   "metadata": {},
   "outputs": [],
   "source": [
    "the_ques = df_ques.loc[:,'items'].reset_index(drop=True)\n",
    "the_ans = df_ans.loc[:,'items'].reset_index(drop=True)"
   ]
  },
  {
   "cell_type": "code",
   "execution_count": 198,
   "metadata": {},
   "outputs": [
    {
     "name": "stdout",
     "output_type": "stream",
     "text": [
      "the scores of answers are:\n",
      "\n",
      "38\n",
      "37\n",
      "29\n",
      "53\n",
      "32\n",
      "30\n",
      "27\n",
      "25\n",
      "27\n",
      "25\n",
      "205\n",
      "46\n",
      "40\n",
      "92\n",
      "41\n",
      "29\n",
      "61\n",
      "36\n",
      "63\n",
      "60\n",
      "42\n",
      "32\n",
      "29\n",
      "28\n",
      "93\n",
      "61\n",
      "49\n",
      "29\n",
      "28\n",
      "25\n",
      "25\n",
      "44\n",
      "90\n",
      "58\n",
      "37\n",
      "25\n",
      "39\n",
      "32\n",
      "40\n",
      "60\n",
      "32\n",
      "31\n",
      "26\n",
      "48\n",
      "35\n",
      "33\n",
      "26\n",
      "26\n",
      "45\n",
      "39\n",
      "54\n"
     ]
    },
    {
     "data": {
      "text/plain": [
       "[None,\n",
       " None,\n",
       " None,\n",
       " None,\n",
       " None,\n",
       " None,\n",
       " None,\n",
       " None,\n",
       " None,\n",
       " None,\n",
       " None,\n",
       " None,\n",
       " None,\n",
       " None,\n",
       " None,\n",
       " None,\n",
       " None,\n",
       " None,\n",
       " None,\n",
       " None,\n",
       " None,\n",
       " None,\n",
       " None,\n",
       " None,\n",
       " None,\n",
       " None,\n",
       " None,\n",
       " None,\n",
       " None,\n",
       " None,\n",
       " None,\n",
       " None,\n",
       " None,\n",
       " None,\n",
       " None,\n",
       " None,\n",
       " None,\n",
       " None,\n",
       " None,\n",
       " None,\n",
       " None,\n",
       " None,\n",
       " None,\n",
       " None,\n",
       " None,\n",
       " None,\n",
       " None,\n",
       " None,\n",
       " None,\n",
       " None,\n",
       " None]"
      ]
     },
     "execution_count": 198,
     "metadata": {},
     "output_type": "execute_result"
    }
   ],
   "source": [
    "ans_scores = [the_ans.iloc[row]['score']for row in range(the_ans.shape[0])]\n",
    "print('the scores of answers are:\\n')\n",
    "[print(score) for score in ans_scores]"
   ]
  },
  {
   "cell_type": "code",
   "execution_count": 195,
   "metadata": {},
   "outputs": [
    {
     "name": "stdout",
     "output_type": "stream",
     "text": [
      "the questions are:\n",
      "\n",
      "--Why can&#39;t I access a pointer to pointer for a stack array?\n",
      "--Running iOS apps causes runtime error for frameworks &quot;code signature invalid&quot;\n",
      "--How is this C# dictionary initialization correct?\n",
      "--Why is &quot;using System;&quot; not considered bad practice?\n",
      "--Why are char[] the only arrays not supported by Arrays.stream()?\n",
      "--What characters are grouped with Array.from?\n",
      "--Is it legal to new-allocate a pointer to function?\n",
      "--Why does the difference between 30 March and 1 March 2020 erroneously give 28 days instead of 29?\n",
      "--C++ compile time counters, revisited\n",
      "--What is Nullability in Dart (Non-nullable by default)?\n",
      "--How to set an alarm to be scheduled at an exact time after all the newest restrictions on Android?\n",
      "--Library not loaded: @rpath/FBLPromises.framework/FBLPromises iOS 13.3.1\n",
      "--Why is a switch not optimized the same way as chained if else in c/c++?\n",
      "--Copying structs with uninitialized members\n",
      "--Why are the addresses of argc and argv 12 bytes apart?\n",
      "--Weird &quot;is_xhr&quot; error when deploying Flask app to Heroku\n",
      "--Using std::vector as view on to raw memory\n",
      "--Is it possible to prevent omission of aggregate initialization members?\n",
      "--How to create arrays from array\n",
      "--String identitical to id of an element returns the element\n",
      "--Removed operator!= in C++20 standard library\n",
      "--Why is the computational complexity O(n^4)?\n",
      "--Job name &quot;..getProjectMetadata&quot; does not exist\n",
      "--Why are two using clauses resolving to the same type seen as ambigious in gcc\n",
      "--Count and summation of positive and negative number sequences\n",
      "--TypeError [ERR_INVALID_ARG_TYPE]: The &quot;path&quot; argument must be of type string. Received type undefined raised when starting react app\n",
      "--How to bypass python function definition with decorator?\n",
      "--Overloading a function using templates\n",
      "--I can&#39;t install Docker because containerd.io has no installation candidate\n",
      "--Template friendly string to numeric in C++\n",
      "--STL container with a specific type as a generic argument\n",
      "--Why does 11010100 &lt;&lt; 1 equal 110101000, not 10101000?\n",
      "--Why 1//0.01 == 99 in Python?\n",
      "--Is the strcasecmp algorithm flawed?\n",
      "--C++ decltype and parentheses - why?\n",
      "--How can I replace the first occurrence of a character in every word?\n",
      "--Expecting &#39;android:screenOrientation=&quot;unspecified&quot;&#39; or &#39;&quot;fullSensor&quot;&#39; for this activity\n",
      "--Android: No version of NDK matched the requested version\n",
      "--What does &quot;is { }&quot; mean?\n",
      "--Weird indexing using numpy\n",
      "--Android Command line tools sdkmanager always shows: Warning: Could not create settings\n",
      "--What&#39;s the point of firstindex in Julia?\n",
      "--Why is a.insert(0,0) much slower than a[0:0]=[0]?\n"
     ]
    },
    {
     "data": {
      "text/plain": [
       "[None,\n",
       " None,\n",
       " None,\n",
       " None,\n",
       " None,\n",
       " None,\n",
       " None,\n",
       " None,\n",
       " None,\n",
       " None,\n",
       " None,\n",
       " None,\n",
       " None,\n",
       " None,\n",
       " None,\n",
       " None,\n",
       " None,\n",
       " None,\n",
       " None,\n",
       " None,\n",
       " None,\n",
       " None,\n",
       " None,\n",
       " None,\n",
       " None,\n",
       " None,\n",
       " None,\n",
       " None,\n",
       " None,\n",
       " None,\n",
       " None,\n",
       " None,\n",
       " None,\n",
       " None,\n",
       " None,\n",
       " None,\n",
       " None,\n",
       " None,\n",
       " None,\n",
       " None,\n",
       " None,\n",
       " None,\n",
       " None]"
      ]
     },
     "execution_count": 195,
     "metadata": {},
     "output_type": "execute_result"
    }
   ],
   "source": [
    "quests = [the_ques.iloc[row]['title'] for row in range(the_ques.shape[0])]\n",
    "print('the questions are:\\n')\n",
    "[print('--' + question) for question in quests]"
   ]
  },
  {
   "cell_type": "markdown",
   "metadata": {},
   "source": [
    "#### Question 2: Find the most voted question today with at least a score of 5 and tagged with 'python'. "
   ]
  },
  {
   "cell_type": "code",
   "execution_count": 119,
   "metadata": {},
   "outputs": [],
   "source": [
    "# your code here\n",
    "SITE = StackAPI('stackoverflow')\n",
    "questions = SITE.fetch('questions', fromdate=1584748800, todate=1584748800+60*60*24, min=5,sort='votes')"
   ]
  },
  {
   "cell_type": "code",
   "execution_count": 134,
   "metadata": {},
   "outputs": [],
   "source": [
    "scores = [pd.DataFrame(questions).loc[:,'items'].iloc[i]['score'] for i in range(len(pd.DataFrame(questions).loc[:,'items']))]\n",
    "quests = [pd.DataFrame(questions).loc[:,'items'].iloc[i]['title'] for i in range(len(pd.DataFrame(questions).loc[:,'items']))]"
   ]
  },
  {
   "cell_type": "code",
   "execution_count": 138,
   "metadata": {},
   "outputs": [
    {
     "data": {
      "text/html": [
       "<div>\n",
       "<style scoped>\n",
       "    .dataframe tbody tr th:only-of-type {\n",
       "        vertical-align: middle;\n",
       "    }\n",
       "\n",
       "    .dataframe tbody tr th {\n",
       "        vertical-align: top;\n",
       "    }\n",
       "\n",
       "    .dataframe thead th {\n",
       "        text-align: right;\n",
       "    }\n",
       "</style>\n",
       "<table border=\"1\" class=\"dataframe\">\n",
       "  <thead>\n",
       "    <tr style=\"text-align: right;\">\n",
       "      <th></th>\n",
       "      <th>questions</th>\n",
       "      <th>scores</th>\n",
       "    </tr>\n",
       "  </thead>\n",
       "  <tbody>\n",
       "    <tr>\n",
       "      <th>0</th>\n",
       "      <td>Python modifies unicode identifiers?</td>\n",
       "      <td>6</td>\n",
       "    </tr>\n",
       "    <tr>\n",
       "      <th>1</th>\n",
       "      <td>Why does javac allow some impossible casts and...</td>\n",
       "      <td>6</td>\n",
       "    </tr>\n",
       "    <tr>\n",
       "      <th>2</th>\n",
       "      <td>Avoiding repeated C++ virtual table lookup</td>\n",
       "      <td>5</td>\n",
       "    </tr>\n",
       "    <tr>\n",
       "      <th>3</th>\n",
       "      <td>how to build count and say problem in javascript</td>\n",
       "      <td>5</td>\n",
       "    </tr>\n",
       "    <tr>\n",
       "      <th>4</th>\n",
       "      <td>How to extract particular rows from a data fra...</td>\n",
       "      <td>5</td>\n",
       "    </tr>\n",
       "    <tr>\n",
       "      <th>5</th>\n",
       "      <td>What is the time complexity of type casting fu...</td>\n",
       "      <td>5</td>\n",
       "    </tr>\n",
       "  </tbody>\n",
       "</table>\n",
       "</div>"
      ],
      "text/plain": [
       "                                           questions  scores\n",
       "0               Python modifies unicode identifiers?       6\n",
       "1  Why does javac allow some impossible casts and...       6\n",
       "2         Avoiding repeated C++ virtual table lookup       5\n",
       "3   how to build count and say problem in javascript       5\n",
       "4  How to extract particular rows from a data fra...       5\n",
       "5  What is the time complexity of type casting fu...       5"
      ]
     },
     "execution_count": 138,
     "metadata": {},
     "output_type": "execute_result"
    }
   ],
   "source": [
    "my_dict = {'questions':quests,'scores':scores}\n",
    "\n",
    "#There are two most voted questions, which have 6 points each!\n",
    "pd.DataFrame(my_dict)"
   ]
  },
  {
   "cell_type": "markdown",
   "metadata": {},
   "source": [
    "#### Question 3: Find the answers with id 6784 and 6473."
   ]
  },
  {
   "cell_type": "code",
   "execution_count": 144,
   "metadata": {},
   "outputs": [
    {
     "data": {
      "text/plain": [
       "{'backoff': 0,\n",
       " 'has_more': False,\n",
       " 'page': 1,\n",
       " 'quota_max': 300,\n",
       " 'quota_remaining': 300,\n",
       " 'total': 0,\n",
       " 'items': [{'owner': {'reputation': 28647,\n",
       "    'user_id': 758,\n",
       "    'user_type': 'registered',\n",
       "    'accept_rate': 77,\n",
       "    'profile_image': 'https://www.gravatar.com/avatar/0b4adc19284ed0751844d610555dc6b2?s=128&d=identicon&r=PG',\n",
       "    'display_name': 'Mark Renouf',\n",
       "    'link': 'https://stackoverflow.com/users/758/mark-renouf'},\n",
       "   'is_accepted': False,\n",
       "   'score': 0,\n",
       "   'last_activity_date': 1218291583,\n",
       "   'creation_date': 1218291583,\n",
       "   'answer_id': 6784,\n",
       "   'question_id': 6778}]}"
      ]
     },
     "execution_count": 144,
     "metadata": {},
     "output_type": "execute_result"
    }
   ],
   "source": [
    "SITE = StackAPI('stackoverflow')\n",
    "answers = SITE.fetch('answers', ids=[6784,6473])\n",
    "answers"
   ]
  },
  {
   "cell_type": "markdown",
   "metadata": {},
   "source": [
    "NOTICE: it returned only one answer, the one with id 6784. This means that the one with id 6473 does not exists!!"
   ]
  }
 ],
 "metadata": {
  "kernelspec": {
   "display_name": "Python 3",
   "language": "python",
   "name": "python3"
  },
  "language_info": {
   "codemirror_mode": {
    "name": "ipython",
    "version": 3
   },
   "file_extension": ".py",
   "mimetype": "text/x-python",
   "name": "python",
   "nbconvert_exporter": "python",
   "pygments_lexer": "ipython3",
   "version": "3.8.1"
  },
  "toc": {
   "base_numbering": 1,
   "nav_menu": {},
   "number_sections": true,
   "sideBar": true,
   "skip_h1_title": false,
   "title_cell": "Table of Contents",
   "title_sidebar": "Contents",
   "toc_cell": false,
   "toc_position": {},
   "toc_section_display": true,
   "toc_window_display": false
  },
  "varInspector": {
   "cols": {
    "lenName": 16,
    "lenType": 16,
    "lenVar": 40
   },
   "kernels_config": {
    "python": {
     "delete_cmd_postfix": "",
     "delete_cmd_prefix": "del ",
     "library": "var_list.py",
     "varRefreshCmd": "print(var_dic_list())"
    },
    "r": {
     "delete_cmd_postfix": ") ",
     "delete_cmd_prefix": "rm(",
     "library": "var_list.r",
     "varRefreshCmd": "cat(var_dic_list()) "
    }
   },
   "types_to_exclude": [
    "module",
    "function",
    "builtin_function_or_method",
    "instance",
    "_Feature"
   ],
   "window_display": false
  }
 },
 "nbformat": 4,
 "nbformat_minor": 2
}

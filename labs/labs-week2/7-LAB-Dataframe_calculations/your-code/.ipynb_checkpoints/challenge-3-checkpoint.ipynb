{
 "cells": [
  {
   "cell_type": "markdown",
   "metadata": {},
   "source": [
    "# Challenge 3\n",
    "\n",
    "In this challenge we will work on the `Orders` data set. In your work you will apply the thinking process and workflow we showed you in Challenge 2.\n",
    "\n",
    "You are serving as a Business Intelligence Analyst at the headquarter of an international fashion goods chain store. Your boss today asked you to do two things for her:\n",
    "\n",
    "**First, identify two groups of customers from the data set.** The first group is **VIP Customers** whose **aggregated expenses** at your global chain stores are **above the 95th percentile** (aka. 0.95 quantile). The second group is **Preferred Customers** whose **aggregated expenses** are **between the 75th and 95th percentile**.\n",
    "\n",
    "**Second, identify which country has the most of your VIP customers, and which country has the most of your VIP+Preferred Customers combined.**"
   ]
  },
  {
   "cell_type": "markdown",
   "metadata": {},
   "source": [
    "## Q1: How to identify VIP & Preferred Customers?\n",
    "\n",
    "We start by importing all the required libraries:"
   ]
  },
  {
   "cell_type": "code",
   "execution_count": 6,
   "metadata": {},
   "outputs": [],
   "source": [
    "# import required libraries\n",
    "import numpy as np\n",
    "import pandas as pd"
   ]
  },
  {
   "cell_type": "markdown",
   "metadata": {},
   "source": [
    "Next, import `Orders` from Ironhack's database into a dataframe variable called `orders`. Print the head of `orders` to overview the data:"
   ]
  },
  {
   "cell_type": "code",
   "execution_count": 10,
   "metadata": {
    "scrolled": false
   },
   "outputs": [
    {
     "name": "stdout",
     "output_type": "stream",
     "text": [
      "<class 'pandas.core.frame.DataFrame'>\n",
      "RangeIndex: 20000 entries, 0 to 19999\n",
      "Data columns (total 13 columns):\n",
      " #   Column        Non-Null Count  Dtype  \n",
      "---  ------        --------------  -----  \n",
      " 0   InvoiceNo     20000 non-null  int64  \n",
      " 1   StockCode     20000 non-null  object \n",
      " 2   year          20000 non-null  int64  \n",
      " 3   month         20000 non-null  int64  \n",
      " 4   day           20000 non-null  int64  \n",
      " 5   hour          20000 non-null  int64  \n",
      " 6   Description   20000 non-null  object \n",
      " 7   Quantity      20000 non-null  int64  \n",
      " 8   InvoiceDate   20000 non-null  object \n",
      " 9   UnitPrice     20000 non-null  float64\n",
      " 10  CustomerID    20000 non-null  int64  \n",
      " 11  Country       20000 non-null  object \n",
      " 12  amount_spent  20000 non-null  float64\n",
      "dtypes: float64(2), int64(7), object(4)\n",
      "memory usage: 1.7+ MB\n"
     ]
    }
   ],
   "source": [
    "orders = pd.read_csv('../data/orders_sample.csv')\n",
    "orders.info()"
   ]
  },
  {
   "cell_type": "code",
   "execution_count": 43,
   "metadata": {
    "scrolled": true
   },
   "outputs": [
    {
     "data": {
      "text/html": [
       "<div>\n",
       "<style scoped>\n",
       "    .dataframe tbody tr th:only-of-type {\n",
       "        vertical-align: middle;\n",
       "    }\n",
       "\n",
       "    .dataframe tbody tr th {\n",
       "        vertical-align: top;\n",
       "    }\n",
       "\n",
       "    .dataframe thead th {\n",
       "        text-align: right;\n",
       "    }\n",
       "</style>\n",
       "<table border=\"1\" class=\"dataframe\">\n",
       "  <thead>\n",
       "    <tr style=\"text-align: right;\">\n",
       "      <th></th>\n",
       "      <th>InvoiceNo</th>\n",
       "      <th>StockCode</th>\n",
       "      <th>year</th>\n",
       "      <th>month</th>\n",
       "      <th>day</th>\n",
       "      <th>hour</th>\n",
       "      <th>Description</th>\n",
       "      <th>Quantity</th>\n",
       "      <th>InvoiceDate</th>\n",
       "      <th>UnitPrice</th>\n",
       "      <th>CustomerID</th>\n",
       "      <th>Country</th>\n",
       "      <th>amount_spent</th>\n",
       "    </tr>\n",
       "  </thead>\n",
       "  <tbody>\n",
       "    <tr>\n",
       "      <th>0</th>\n",
       "      <td>546084</td>\n",
       "      <td>22741</td>\n",
       "      <td>2011</td>\n",
       "      <td>3</td>\n",
       "      <td>3</td>\n",
       "      <td>11</td>\n",
       "      <td>funky diva pen</td>\n",
       "      <td>48</td>\n",
       "      <td>2011-03-09 11:28:00</td>\n",
       "      <td>0.85</td>\n",
       "      <td>14112</td>\n",
       "      <td>United Kingdom</td>\n",
       "      <td>40.80</td>\n",
       "    </tr>\n",
       "    <tr>\n",
       "      <th>1</th>\n",
       "      <td>545906</td>\n",
       "      <td>22557</td>\n",
       "      <td>2011</td>\n",
       "      <td>3</td>\n",
       "      <td>2</td>\n",
       "      <td>9</td>\n",
       "      <td>plasters in tin vintage paisley</td>\n",
       "      <td>12</td>\n",
       "      <td>2011-03-08 09:23:00</td>\n",
       "      <td>1.65</td>\n",
       "      <td>15764</td>\n",
       "      <td>United Kingdom</td>\n",
       "      <td>19.80</td>\n",
       "    </tr>\n",
       "    <tr>\n",
       "      <th>2</th>\n",
       "      <td>539475</td>\n",
       "      <td>22176</td>\n",
       "      <td>2010</td>\n",
       "      <td>12</td>\n",
       "      <td>7</td>\n",
       "      <td>14</td>\n",
       "      <td>blue owl soft toy</td>\n",
       "      <td>1</td>\n",
       "      <td>2010-12-19 14:41:00</td>\n",
       "      <td>2.95</td>\n",
       "      <td>16686</td>\n",
       "      <td>United Kingdom</td>\n",
       "      <td>2.95</td>\n",
       "    </tr>\n",
       "    <tr>\n",
       "      <th>3</th>\n",
       "      <td>572562</td>\n",
       "      <td>21889</td>\n",
       "      <td>2011</td>\n",
       "      <td>10</td>\n",
       "      <td>2</td>\n",
       "      <td>9</td>\n",
       "      <td>wooden box of dominoes</td>\n",
       "      <td>12</td>\n",
       "      <td>2011-10-25 09:07:00</td>\n",
       "      <td>1.25</td>\n",
       "      <td>13481</td>\n",
       "      <td>United Kingdom</td>\n",
       "      <td>15.00</td>\n",
       "    </tr>\n",
       "    <tr>\n",
       "      <th>4</th>\n",
       "      <td>549372</td>\n",
       "      <td>72741</td>\n",
       "      <td>2011</td>\n",
       "      <td>4</td>\n",
       "      <td>5</td>\n",
       "      <td>11</td>\n",
       "      <td>grand chocolatecandle</td>\n",
       "      <td>9</td>\n",
       "      <td>2011-04-08 11:28:00</td>\n",
       "      <td>1.45</td>\n",
       "      <td>14958</td>\n",
       "      <td>United Kingdom</td>\n",
       "      <td>13.05</td>\n",
       "    </tr>\n",
       "  </tbody>\n",
       "</table>\n",
       "</div>"
      ],
      "text/plain": [
       "   InvoiceNo StockCode  year  month  day  hour  \\\n",
       "0     546084     22741  2011      3    3    11   \n",
       "1     545906     22557  2011      3    2     9   \n",
       "2     539475     22176  2010     12    7    14   \n",
       "3     572562     21889  2011     10    2     9   \n",
       "4     549372     72741  2011      4    5    11   \n",
       "\n",
       "                        Description  Quantity          InvoiceDate  UnitPrice  \\\n",
       "0                    funky diva pen        48  2011-03-09 11:28:00       0.85   \n",
       "1  plasters in tin vintage paisley         12  2011-03-08 09:23:00       1.65   \n",
       "2                 blue owl soft toy         1  2010-12-19 14:41:00       2.95   \n",
       "3            wooden box of dominoes        12  2011-10-25 09:07:00       1.25   \n",
       "4             grand chocolatecandle         9  2011-04-08 11:28:00       1.45   \n",
       "\n",
       "   CustomerID         Country  amount_spent  \n",
       "0       14112  United Kingdom         40.80  \n",
       "1       15764  United Kingdom         19.80  \n",
       "2       16686  United Kingdom          2.95  \n",
       "3       13481  United Kingdom         15.00  \n",
       "4       14958  United Kingdom         13.05  "
      ]
     },
     "execution_count": 43,
     "metadata": {},
     "output_type": "execute_result"
    }
   ],
   "source": [
    "orders.head()"
   ]
  },
  {
   "cell_type": "markdown",
   "metadata": {},
   "source": [
    "---\n",
    "\n",
    "\"Identify VIP and Preferred Customers\" is the non-technical goal of your boss. You need to translate that goal into technical languages that data analysts use:"
   ]
  },
  {
   "cell_type": "markdown",
   "metadata": {},
   "source": [
    "## How to label customers whose aggregated `amount_spent` is in a given quantile range?\n"
   ]
  },
  {
   "cell_type": "markdown",
   "metadata": {},
   "source": [
    "We break down the main problem into several sub problems:\n",
    "\n",
    "#### Sub Problem 1: How to aggregate the  `amount_spent` for unique customers?"
   ]
  },
  {
   "cell_type": "code",
   "execution_count": 106,
   "metadata": {},
   "outputs": [
    {
     "data": {
      "text/html": [
       "<div>\n",
       "<style scoped>\n",
       "    .dataframe tbody tr th:only-of-type {\n",
       "        vertical-align: middle;\n",
       "    }\n",
       "\n",
       "    .dataframe tbody tr th {\n",
       "        vertical-align: top;\n",
       "    }\n",
       "\n",
       "    .dataframe thead th {\n",
       "        text-align: right;\n",
       "    }\n",
       "</style>\n",
       "<table border=\"1\" class=\"dataframe\">\n",
       "  <thead>\n",
       "    <tr style=\"text-align: right;\">\n",
       "      <th></th>\n",
       "      <th>CustomerID</th>\n",
       "      <th>Country</th>\n",
       "      <th>InvoiceNo</th>\n",
       "      <th>year</th>\n",
       "      <th>month</th>\n",
       "      <th>day</th>\n",
       "      <th>hour</th>\n",
       "      <th>Quantity</th>\n",
       "      <th>UnitPrice</th>\n",
       "      <th>amount_spent</th>\n",
       "    </tr>\n",
       "  </thead>\n",
       "  <tbody>\n",
       "    <tr>\n",
       "      <th>0</th>\n",
       "      <td>12347</td>\n",
       "      <td>Iceland</td>\n",
       "      <td>3393172</td>\n",
       "      <td>12066</td>\n",
       "      <td>47</td>\n",
       "      <td>13</td>\n",
       "      <td>75</td>\n",
       "      <td>66</td>\n",
       "      <td>18.70</td>\n",
       "      <td>149.90</td>\n",
       "    </tr>\n",
       "    <tr>\n",
       "      <th>1</th>\n",
       "      <td>12348</td>\n",
       "      <td>Finland</td>\n",
       "      <td>1620634</td>\n",
       "      <td>6031</td>\n",
       "      <td>25</td>\n",
       "      <td>10</td>\n",
       "      <td>48</td>\n",
       "      <td>192</td>\n",
       "      <td>1.69</td>\n",
       "      <td>75.36</td>\n",
       "    </tr>\n",
       "    <tr>\n",
       "      <th>2</th>\n",
       "      <td>12349</td>\n",
       "      <td>Italy</td>\n",
       "      <td>2888045</td>\n",
       "      <td>10055</td>\n",
       "      <td>55</td>\n",
       "      <td>5</td>\n",
       "      <td>45</td>\n",
       "      <td>56</td>\n",
       "      <td>45.41</td>\n",
       "      <td>100.09</td>\n",
       "    </tr>\n",
       "    <tr>\n",
       "      <th>3</th>\n",
       "      <td>12350</td>\n",
       "      <td>Norway</td>\n",
       "      <td>543037</td>\n",
       "      <td>2011</td>\n",
       "      <td>2</td>\n",
       "      <td>3</td>\n",
       "      <td>16</td>\n",
       "      <td>12</td>\n",
       "      <td>0.85</td>\n",
       "      <td>10.20</td>\n",
       "    </tr>\n",
       "    <tr>\n",
       "      <th>4</th>\n",
       "      <td>12352</td>\n",
       "      <td>Norway</td>\n",
       "      <td>2284754</td>\n",
       "      <td>8044</td>\n",
       "      <td>40</td>\n",
       "      <td>13</td>\n",
       "      <td>56</td>\n",
       "      <td>14</td>\n",
       "      <td>54.83</td>\n",
       "      <td>126.48</td>\n",
       "    </tr>\n",
       "  </tbody>\n",
       "</table>\n",
       "</div>"
      ],
      "text/plain": [
       "   CustomerID  Country  InvoiceNo   year  month  day  hour  Quantity  \\\n",
       "0       12347  Iceland    3393172  12066     47   13    75        66   \n",
       "1       12348  Finland    1620634   6031     25   10    48       192   \n",
       "2       12349    Italy    2888045  10055     55    5    45        56   \n",
       "3       12350   Norway     543037   2011      2    3    16        12   \n",
       "4       12352   Norway    2284754   8044     40   13    56        14   \n",
       "\n",
       "   UnitPrice  amount_spent  \n",
       "0      18.70        149.90  \n",
       "1       1.69         75.36  \n",
       "2      45.41        100.09  \n",
       "3       0.85         10.20  \n",
       "4      54.83        126.48  "
      ]
     },
     "execution_count": 106,
     "metadata": {},
     "output_type": "execute_result"
    }
   ],
   "source": [
    "#just use a groupby with sum()\n",
    "Client_total_spent = orders.groupby(by=['CustomerID','Country'],as_index = False).sum()\n",
    "Client_total_spent.head()"
   ]
  },
  {
   "cell_type": "markdown",
   "metadata": {},
   "source": [
    "#### Sub Problem 2: How to select customers whose aggregated `amount_spent` is in a given quantile range?"
   ]
  },
  {
   "cell_type": "code",
   "execution_count": 103,
   "metadata": {},
   "outputs": [
    {
     "data": {
      "text/plain": [
       "0.75    111.955\n",
       "0.95    385.440\n",
       "Name: amount_spent, dtype: float64"
      ]
     },
     "execution_count": 103,
     "metadata": {},
     "output_type": "execute_result"
    }
   ],
   "source": [
    "#we just use quantile function to check the limits corresponding to prefered (75-95) and VIP (95-100)\n",
    "orders.groupby(by='CustomerID').sum()['amount_spent'].quantile([0.75,0.95])"
   ]
  },
  {
   "cell_type": "markdown",
   "metadata": {},
   "source": [
    "#### Sub Problem 3: How to label selected customers as \"VIP\" or \"Preferred\"?\n",
    "\n",
    "*Note: If you want to break down the main problem in a different way, please feel free to revise the sub problems above.*\n",
    "\n",
    "Now in the workspace below, tackle each of the sub problems using the iterative problem solving workflow. Insert cells as necessary to write your codes and explain your steps."
   ]
  },
  {
   "cell_type": "code",
   "execution_count": 98,
   "metadata": {},
   "outputs": [],
   "source": [
    "#now we store the quantiles in variables:\n",
    "qt75 = orders.groupby(by='CustomerID').sum()['amount_spent'].quantile(0.75)\n",
    "qt95 = orders.groupby(by='CustomerID').sum()['amount_spent'].quantile(0.95)\n",
    "\n",
    "#we create a little function:\n",
    "def cat_customer(x):\n",
    "    if x > qt95:\n",
    "        return 'VIP'\n",
    "    elif x > qt75 and x <= qt95:\n",
    "        return 'preferred'\n",
    "    else:\n",
    "        return 'ordinary'"
   ]
  },
  {
   "cell_type": "code",
   "execution_count": 109,
   "metadata": {},
   "outputs": [
    {
     "data": {
      "text/html": [
       "<div>\n",
       "<style scoped>\n",
       "    .dataframe tbody tr th:only-of-type {\n",
       "        vertical-align: middle;\n",
       "    }\n",
       "\n",
       "    .dataframe tbody tr th {\n",
       "        vertical-align: top;\n",
       "    }\n",
       "\n",
       "    .dataframe thead th {\n",
       "        text-align: right;\n",
       "    }\n",
       "</style>\n",
       "<table border=\"1\" class=\"dataframe\">\n",
       "  <thead>\n",
       "    <tr style=\"text-align: right;\">\n",
       "      <th></th>\n",
       "      <th>client_class</th>\n",
       "      <th>amount_spent</th>\n",
       "      <th>Country</th>\n",
       "    </tr>\n",
       "  </thead>\n",
       "  <tbody>\n",
       "    <tr>\n",
       "      <th>0</th>\n",
       "      <td>preferred</td>\n",
       "      <td>149.90</td>\n",
       "      <td>Iceland</td>\n",
       "    </tr>\n",
       "    <tr>\n",
       "      <th>1</th>\n",
       "      <td>ordinary</td>\n",
       "      <td>75.36</td>\n",
       "      <td>Finland</td>\n",
       "    </tr>\n",
       "    <tr>\n",
       "      <th>2</th>\n",
       "      <td>ordinary</td>\n",
       "      <td>100.09</td>\n",
       "      <td>Italy</td>\n",
       "    </tr>\n",
       "    <tr>\n",
       "      <th>3</th>\n",
       "      <td>ordinary</td>\n",
       "      <td>10.20</td>\n",
       "      <td>Norway</td>\n",
       "    </tr>\n",
       "    <tr>\n",
       "      <th>4</th>\n",
       "      <td>preferred</td>\n",
       "      <td>126.48</td>\n",
       "      <td>Norway</td>\n",
       "    </tr>\n",
       "    <tr>\n",
       "      <th>...</th>\n",
       "      <td>...</td>\n",
       "      <td>...</td>\n",
       "      <td>...</td>\n",
       "    </tr>\n",
       "    <tr>\n",
       "      <th>3326</th>\n",
       "      <td>ordinary</td>\n",
       "      <td>25.20</td>\n",
       "      <td>United Kingdom</td>\n",
       "    </tr>\n",
       "    <tr>\n",
       "      <th>3327</th>\n",
       "      <td>ordinary</td>\n",
       "      <td>29.70</td>\n",
       "      <td>United Kingdom</td>\n",
       "    </tr>\n",
       "    <tr>\n",
       "      <th>3328</th>\n",
       "      <td>ordinary</td>\n",
       "      <td>23.60</td>\n",
       "      <td>United Kingdom</td>\n",
       "    </tr>\n",
       "    <tr>\n",
       "      <th>3329</th>\n",
       "      <td>ordinary</td>\n",
       "      <td>78.08</td>\n",
       "      <td>United Kingdom</td>\n",
       "    </tr>\n",
       "    <tr>\n",
       "      <th>3330</th>\n",
       "      <td>preferred</td>\n",
       "      <td>209.52</td>\n",
       "      <td>United Kingdom</td>\n",
       "    </tr>\n",
       "  </tbody>\n",
       "</table>\n",
       "<p>3331 rows × 3 columns</p>\n",
       "</div>"
      ],
      "text/plain": [
       "     client_class  amount_spent         Country\n",
       "0       preferred        149.90         Iceland\n",
       "1        ordinary         75.36         Finland\n",
       "2        ordinary        100.09           Italy\n",
       "3        ordinary         10.20          Norway\n",
       "4       preferred        126.48          Norway\n",
       "...           ...           ...             ...\n",
       "3326     ordinary         25.20  United Kingdom\n",
       "3327     ordinary         29.70  United Kingdom\n",
       "3328     ordinary         23.60  United Kingdom\n",
       "3329     ordinary         78.08  United Kingdom\n",
       "3330    preferred        209.52  United Kingdom\n",
       "\n",
       "[3331 rows x 3 columns]"
      ]
     },
     "execution_count": 109,
     "metadata": {},
     "output_type": "execute_result"
    }
   ],
   "source": [
    "#and classify costumers:\n",
    "Client_total_spent['client_class'] = Client_total_spent['amount_spent'].apply(cat_customer)\n",
    "\n",
    "Client_total_spent.loc[:,['client_class','amount_spent','Country']]"
   ]
  },
  {
   "cell_type": "markdown",
   "metadata": {},
   "source": [
    "Now we'll leave it to you to solve Q2 & Q3, which you can leverage from your solution for Q1:\n",
    "\n",
    "## Q2: How to identify which country has the most VIP Customers?"
   ]
  },
  {
   "cell_type": "code",
   "execution_count": 132,
   "metadata": {},
   "outputs": [
    {
     "data": {
      "text/plain": [
       "'United Kingdom'"
      ]
     },
     "execution_count": 132,
     "metadata": {},
     "output_type": "execute_result"
    }
   ],
   "source": [
    "#to solve this, we use getdummies with the client_class and country columns\n",
    "countries = pd.get_dummies(Client_total_spent.loc[:,['client_class','Country']], columns=['client_class'],prefix='',prefix_sep='')\n",
    "\n",
    "# and group by with sum(), and select the country with the most VIPs...\n",
    "countries.groupby(by='Country').sum().VIP.sort_values(ascending=False).index[0]"
   ]
  },
  {
   "cell_type": "markdown",
   "metadata": {},
   "source": [
    "## Q3: How to identify which country has the most VIP+Preferred Customers combined?"
   ]
  },
  {
   "cell_type": "code",
   "execution_count": 139,
   "metadata": {},
   "outputs": [
    {
     "data": {
      "text/plain": [
       "'United Kingdom'"
      ]
     },
     "execution_count": 139,
     "metadata": {},
     "output_type": "execute_result"
    }
   ],
   "source": [
    "#we add another column\n",
    "countries['VIPpreferred'] = countries.VIP + countries.preferred\n",
    "\n",
    "# and do another groupby with sum and select the country with most VIP+Preferred Customers...\n",
    "countries.groupby(by='Country').sum().VIP.sort_values(ascending=False).index[0]"
   ]
  }
 ],
 "metadata": {
  "kernelspec": {
   "display_name": "Python 3",
   "language": "python",
   "name": "python3"
  },
  "language_info": {
   "codemirror_mode": {
    "name": "ipython",
    "version": 3
   },
   "file_extension": ".py",
   "mimetype": "text/x-python",
   "name": "python",
   "nbconvert_exporter": "python",
   "pygments_lexer": "ipython3",
   "version": "3.8.1"
  },
  "toc": {
   "base_numbering": 1,
   "nav_menu": {},
   "number_sections": true,
   "sideBar": true,
   "skip_h1_title": false,
   "title_cell": "Table of Contents",
   "title_sidebar": "Contents",
   "toc_cell": false,
   "toc_position": {},
   "toc_section_display": true,
   "toc_window_display": false
  },
  "varInspector": {
   "cols": {
    "lenName": 16,
    "lenType": 16,
    "lenVar": 40
   },
   "kernels_config": {
    "python": {
     "delete_cmd_postfix": "",
     "delete_cmd_prefix": "del ",
     "library": "var_list.py",
     "varRefreshCmd": "print(var_dic_list())"
    },
    "r": {
     "delete_cmd_postfix": ") ",
     "delete_cmd_prefix": "rm(",
     "library": "var_list.r",
     "varRefreshCmd": "cat(var_dic_list()) "
    }
   },
   "types_to_exclude": [
    "module",
    "function",
    "builtin_function_or_method",
    "instance",
    "_Feature"
   ],
   "window_display": false
  }
 },
 "nbformat": 4,
 "nbformat_minor": 2
}

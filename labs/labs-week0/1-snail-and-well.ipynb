{
 "cells": [
  {
   "cell_type": "markdown",
   "metadata": {},
   "source": [
    "<img src=\"https://bit.ly/2VnXWr2\" width=\"100\" align=\"left\">"
   ]
  },
  {
   "cell_type": "markdown",
   "metadata": {},
   "source": [
    "# The Snail and the Well\n",
    "\n",
    "A snail falls at the bottom of a 125 cm well. Each day the snail rises 30 cm. But at night, while sleeping, slides 20 cm because the walls are wet. How many days does it take for the snail to escape the well?\n",
    "\n",
    "**Hint**: The snail gets out of the well when it surpasses the 125cm of height.\n",
    "\n",
    "## Tools\n",
    "\n",
    "1. Loop: **while**\n",
    "2. Conditional statements: **if-else**\n",
    "3. Function: **print()**\n",
    "\n",
    "## Tasks\n",
    "\n",
    "#### 1. Assign the challenge data to variables with representative names: `well_height`, `daily_distance`, `nightly_distance` and `snail_position`."
   ]
  },
  {
   "cell_type": "code",
   "execution_count": 66,
   "metadata": {},
   "outputs": [],
   "source": [
    "well_height = 125\n",
    "daily_distance = 30\n",
    "nightly_distance = -20\n",
    "snail_position = 0"
   ]
  },
  {
   "cell_type": "markdown",
   "metadata": {},
   "source": [
    "#### 2. Create a variable `days` to keep count of the days that pass until the snail escapes the well. "
   ]
  },
  {
   "cell_type": "code",
   "execution_count": 67,
   "metadata": {},
   "outputs": [],
   "source": [
    "# we start with 1 because the snail start on the First day.\n",
    "days = 1"
   ]
  },
  {
   "cell_type": "markdown",
   "metadata": {},
   "source": [
    "#### 3. Find the solution to the challenge using the variables defined above. "
   ]
  },
  {
   "cell_type": "code",
   "execution_count": 68,
   "metadata": {},
   "outputs": [],
   "source": [
    "#Supposing that the snail starts the day already at the bottom of the well (meaning that will make full \"walk\" on the first day)\n",
    "\n",
    "while True:\n",
    "    \n",
    "    #snail wakes up\n",
    "    snail_position += daily_distance\n",
    "    \n",
    "    # comparator, if snail position is equal or above well height, it is free!\n",
    "    if snail_position > well_height:\n",
    "        break\n",
    "    \n",
    "    #If not free after walking its daily distance, snail falls asleep\n",
    "    else:\n",
    "        snail_position += nightly_distance\n",
    "        days +=1"
   ]
  },
  {
   "cell_type": "markdown",
   "metadata": {},
   "source": [
    "#### 4. Print the solution."
   ]
  },
  {
   "cell_type": "code",
   "execution_count": 70,
   "metadata": {},
   "outputs": [
    {
     "name": "stdout",
     "output_type": "stream",
     "text": [
      "the snail will be free on the 11# day!\n"
     ]
    }
   ],
   "source": [
    "print(\"the snail will be free on the %d# day!\" %days)"
   ]
  },
  {
   "cell_type": "markdown",
   "metadata": {},
   "source": [
    "## Bonus\n",
    "The distance traveled by the snail each day is now defined by a list.\n",
    "```\n",
    "advance_cm = [30, 21, 33, 77, 44, 45, 23, 45, 12, 34, 55]\n",
    "```\n",
    "On the first day, the snail rises 30cm but during the night it slides 20cm. On the second day, the snail rises 21cm but during the night it slides 20cm, and so on. \n",
    "\n",
    "#### 1. How many days does it take for the snail to escape the well?\n",
    "Follow the same guidelines as in the previous challenge.\n",
    "\n",
    "**Hint**: Remember that the snail gets out of the well when it surpasses the 125cm of height."
   ]
  },
  {
   "cell_type": "code",
   "execution_count": 74,
   "metadata": {},
   "outputs": [
    {
     "name": "stdout",
     "output_type": "stream",
     "text": [
      "the snail will be free on the 6# day!\n"
     ]
    }
   ],
   "source": [
    "advance_cm = [30, 21, 33, 77, 44, 45, 23, 45, 12, 34, 55]\n",
    "\n",
    "#reset the number of days passed and snail_position\n",
    "days = 1\n",
    "snail_position = 0\n",
    "daily_position = [0]\n",
    "\n",
    "for adv_of_the_day in advance_cm:\n",
    "    \n",
    "    #snail wakes up\n",
    "    snail_position += adv_of_the_day\n",
    "    \n",
    "    # comparator, if snail position is above well height, it is free!\n",
    "    if snail_position > well_height:\n",
    "        \n",
    "        # print a freedom related message:\n",
    "        print(\"the snail will be free on the %d# day!\" %days)\n",
    "        # Update the positon of the last day: we will consider that at the moment the snail leaves the well, it will wander randomly, doing its snail things. Therefore the position on the last day will be the well's height.\n",
    "        daily_position.append(well_height)\n",
    "        break\n",
    "    \n",
    "    \n",
    "     #If not free after walking its daily distance, snail falls asleep\n",
    "    else:\n",
    "        snail_position += nightly_distance\n",
    "        days += 1\n",
    "        #Register in a List the end position of the day, which is the position of the snail shortly after it wakes up\n",
    "        daily_position.append(snail_position)\n",
    "    "
   ]
  },
  {
   "cell_type": "markdown",
   "metadata": {},
   "source": [
    "#### 2. What is its maximum displacement in one day? And its minimum? Calculate the displacement using only the travel distance of the days used to get out of the well. \n",
    "**Hint**: Remember that displacement means the total distance risen taking into account that the snail slides at night.  "
   ]
  },
  {
   "cell_type": "code",
   "execution_count": 88,
   "metadata": {},
   "outputs": [
    {
     "name": "stdout",
     "output_type": "stream",
     "text": [
      "The daily position of the snail, at the beginning of each day is: [0, 10, 11, 24, 81, 105, 125]\n",
      "\n",
      "The maximum displacement in one day is 57 cm\n",
      "\n",
      "The minimum displacement in one day is 1 cm\n"
     ]
    }
   ],
   "source": [
    "# FIRST OF ALL: we will only consider the displacement on the days that the snail was inside the well. Because\n",
    "# after leaving the well it wont fall down again back its 20 cm.\n",
    "\n",
    "print(\"The daily position of the snail, at the beginning of each day is:\", daily_position)\n",
    "\n",
    "# we will now create a list regarding the daily displacement, it will make more sense than the previous list.\n",
    "daily_displacement = []\n",
    "\n",
    "for position in range(len(daily_position[0:-1])):\n",
    "    daily_displacement.append(daily_position[position+1]-daily_position[position])\n",
    "\n",
    "print(\"\\nThe maximum displacement in one day is %s cm.\" %max(daily_displacement))\n",
    "print(\"\\nThe minimum displacement in one day is %s cm.\" %min(daily_displacement))"
   ]
  },
  {
   "cell_type": "markdown",
   "metadata": {},
   "source": [
    "#### 3. What is its average progress? Take into account the snail slides at night."
   ]
  },
  {
   "cell_type": "code",
   "execution_count": 96,
   "metadata": {},
   "outputs": [
    {
     "name": "stdout",
     "output_type": "stream",
     "text": [
      "\n",
      "The average displacement is 20.83 cm\n"
     ]
    }
   ],
   "source": [
    "#Calculating the mean daily displacement, considering 2 decimals for round-up\n",
    "mean_daily_disp = round(sum(daily_displacement)/len(daily_displacement),2)\n",
    "\n",
    "print(\"\\nThe average displacement is %s cm.\" %mean_daily_disp)\n"
   ]
  },
  {
   "cell_type": "markdown",
   "metadata": {},
   "source": [
    "#### 4. What is the standard deviation of its displacement? Take into account the snail slides at night."
   ]
  },
  {
   "cell_type": "code",
   "execution_count": 108,
   "metadata": {},
   "outputs": [
    {
     "name": "stdout",
     "output_type": "stream",
     "text": [
      "\n",
      "Using basic python:\n",
      "The standard deviation of the snail's displacement is %s cm. 17.75215198222458\n",
      "\n",
      "Using numpy:\n",
      "The standard deviation of the snail's displacement is %s cm. 17.752151669273474\n",
      "\n",
      "As one may notice, there is a slight difference between values...\n"
     ]
    }
   ],
   "source": [
    "# We will calculate it using two ways: only \"basic python\" and the lovely numpy.\n",
    "\n",
    "# First with \"basic python\". The std dev of a population is std = root(sum(deviation^2)/N)\n",
    "# First, calculate the deviation of each element of the list\n",
    "\n",
    "deviation_squared = []\n",
    "\n",
    "for element in daily_displacement:\n",
    "    dev = (element - mean_daily_disp) ** 2\n",
    "    #calculating and storing the deviations\n",
    "    deviation_squared.append(dev)\n",
    "    \n",
    "#Now calculate the standard deviation and print it\n",
    "Variance = sum(deviation_squared)/len(daily_displacement)\n",
    "std_dev = Variance ** (0.5)\n",
    "\n",
    "print(\"\\nUsing basic python:\\nThe standard deviation of the snail's displacement is %s cm.\", std_dev)\n",
    "\n",
    "\n",
    "# Now using numpy!\n",
    "import numpy as np\n",
    "std_dev_np = np.std(np.array(daily_displacement))\n",
    "print(\"\\nUsing numpy:\\nThe standard deviation of the snail's displacement is %s cm.\", std_dev_np)\n",
    "    \n",
    "print(\"\\nAs one may notice, there is a slight difference between values...\")\n",
    "\n"
   ]
  }
 ],
 "metadata": {
  "kernelspec": {
   "display_name": "Python 3",
   "language": "python",
   "name": "python3"
  },
  "language_info": {
   "codemirror_mode": {
    "name": "ipython",
    "version": 3
   },
   "file_extension": ".py",
   "mimetype": "text/x-python",
   "name": "python",
   "nbconvert_exporter": "python",
   "pygments_lexer": "ipython3",
   "version": "3.7.4"
  }
 },
 "nbformat": 4,
 "nbformat_minor": 2
}

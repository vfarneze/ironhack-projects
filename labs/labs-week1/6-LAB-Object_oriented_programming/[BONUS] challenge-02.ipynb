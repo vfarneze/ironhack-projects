{
 "cells": [
  {
   "cell_type": "markdown",
   "metadata": {
    "colab_type": "text",
    "id": "IGVndfDXTYvF"
   },
   "source": [
    "# Lab - Object Oriented Programming"
   ]
  },
  {
   "cell_type": "code",
   "execution_count": 1,
   "metadata": {
    "colab": {},
    "colab_type": "code",
    "id": "eFUM14nhTYvJ"
   },
   "outputs": [],
   "source": [
    "import pandas as pd\n",
    "import numpy as np"
   ]
  },
  {
   "cell_type": "markdown",
   "metadata": {
    "colab_type": "text",
    "id": "VAdTxKlPTYvP"
   },
   "source": [
    "# Challenge 2"
   ]
  },
  {
   "cell_type": "markdown",
   "metadata": {
    "colab_type": "text",
    "id": "r1ytbMg1TYvR"
   },
   "source": [
    "In order to understand the benefits of simple object-oriented programming, we have to build up our classes from the beginning. "
   ]
  },
  {
   "cell_type": "markdown",
   "metadata": {
    "colab_type": "text",
    "id": "X0QMBMXqTYvS"
   },
   "source": [
    "You'll use the following dataframe generator to test some things. Try to understand what the following function does."
   ]
  },
  {
   "cell_type": "code",
   "execution_count": 2,
   "metadata": {
    "colab": {},
    "colab_type": "code",
    "id": "X45Itv4vTYvU"
   },
   "outputs": [],
   "source": [
    "chars = ['a', 'b', 'c','d', 'e', 'f', ' ', 'á','é','ó']\n",
    "\n",
    "def create_weird_dataframe(size=10):\n",
    "    def create_weird_colnames(size=size):\n",
    "        probs = [.2,.2,.15,.1,.1,.1,.05,.05,.025,.025]\n",
    "\n",
    "        #basically, this thing below returns a random name,\n",
    "        # by joining the chars randomly selected from a list, being those characters with a\n",
    "        # 20% chance of each character to return Capitalized\n",
    "        return [''.join(\n",
    "            [(char.upper() if np.random.random() < 0.2 else char) \n",
    "                     for char in np.random.choice(chars,size=12, p=probs)]) for i in range(size)]\n",
    "    \n",
    "    #this returns an array size x size of random floats (0-1)\n",
    "    data = np.random.random(size=(size,size))\n",
    "    \n",
    "    #this uses the function create_weird_colnames to create a number (size) of names for the columns of df\n",
    "    colnames = create_weird_colnames(size)\n",
    "    \n",
    "    #this returns a pandas dataframe, with the weird values and random column names\n",
    "    return pd.DataFrame(data=data, columns=colnames)"
   ]
  },
  {
   "cell_type": "markdown",
   "metadata": {
    "colab_type": "text",
    "id": "u2mUOpnbTYvY"
   },
   "source": [
    "Test the results of running that function below. Run it several times"
   ]
  },
  {
   "cell_type": "code",
   "execution_count": 3,
   "metadata": {
    "colab": {},
    "colab_type": "code",
    "id": "sN4YC6L2TYvZ"
   },
   "outputs": [
    {
     "data": {
      "text/html": [
       "<div>\n",
       "<style scoped>\n",
       "    .dataframe tbody tr th:only-of-type {\n",
       "        vertical-align: middle;\n",
       "    }\n",
       "\n",
       "    .dataframe tbody tr th {\n",
       "        vertical-align: top;\n",
       "    }\n",
       "\n",
       "    .dataframe thead th {\n",
       "        text-align: right;\n",
       "    }\n",
       "</style>\n",
       "<table border=\"1\" class=\"dataframe\">\n",
       "  <thead>\n",
       "    <tr style=\"text-align: right;\">\n",
       "      <th></th>\n",
       "      <th>fac bbfadfaE</th>\n",
       "      <th>D ebóAdfbfec</th>\n",
       "      <th>CcecBóbaaded</th>\n",
       "      <th>óaaabcBdadÁF</th>\n",
       "      <th>áceóeEeFF óa</th>\n",
       "      <th>cbAbbdáacafe</th>\n",
       "      <th>áabeb febAec</th>\n",
       "      <th>cEcbá ca ácD</th>\n",
       "      <th>babbeacdÁaba</th>\n",
       "      <th>c eabaábbeba</th>\n",
       "    </tr>\n",
       "  </thead>\n",
       "  <tbody>\n",
       "    <tr>\n",
       "      <th>0</th>\n",
       "      <td>0.444081</td>\n",
       "      <td>0.435717</td>\n",
       "      <td>0.598674</td>\n",
       "      <td>0.766785</td>\n",
       "      <td>0.208349</td>\n",
       "      <td>0.591085</td>\n",
       "      <td>0.517208</td>\n",
       "      <td>0.621961</td>\n",
       "      <td>0.561359</td>\n",
       "      <td>0.577239</td>\n",
       "    </tr>\n",
       "    <tr>\n",
       "      <th>1</th>\n",
       "      <td>0.046768</td>\n",
       "      <td>0.516666</td>\n",
       "      <td>0.389973</td>\n",
       "      <td>0.046662</td>\n",
       "      <td>0.191673</td>\n",
       "      <td>0.177972</td>\n",
       "      <td>0.793305</td>\n",
       "      <td>0.415431</td>\n",
       "      <td>0.732161</td>\n",
       "      <td>0.640130</td>\n",
       "    </tr>\n",
       "    <tr>\n",
       "      <th>2</th>\n",
       "      <td>0.224878</td>\n",
       "      <td>0.041101</td>\n",
       "      <td>0.042380</td>\n",
       "      <td>0.035450</td>\n",
       "      <td>0.082410</td>\n",
       "      <td>0.682302</td>\n",
       "      <td>0.665287</td>\n",
       "      <td>0.966968</td>\n",
       "      <td>0.752128</td>\n",
       "      <td>0.076593</td>\n",
       "    </tr>\n",
       "    <tr>\n",
       "      <th>3</th>\n",
       "      <td>0.865375</td>\n",
       "      <td>0.191926</td>\n",
       "      <td>0.823239</td>\n",
       "      <td>0.917846</td>\n",
       "      <td>0.416423</td>\n",
       "      <td>0.176828</td>\n",
       "      <td>0.757708</td>\n",
       "      <td>0.902323</td>\n",
       "      <td>0.527291</td>\n",
       "      <td>0.238321</td>\n",
       "    </tr>\n",
       "    <tr>\n",
       "      <th>4</th>\n",
       "      <td>0.700902</td>\n",
       "      <td>0.015404</td>\n",
       "      <td>0.285464</td>\n",
       "      <td>0.888363</td>\n",
       "      <td>0.521588</td>\n",
       "      <td>0.613340</td>\n",
       "      <td>0.759336</td>\n",
       "      <td>0.667602</td>\n",
       "      <td>0.798660</td>\n",
       "      <td>0.737864</td>\n",
       "    </tr>\n",
       "  </tbody>\n",
       "</table>\n",
       "</div>"
      ],
      "text/plain": [
       "   fac bbfadfaE  D ebóAdfbfec  CcecBóbaaded  óaaabcBdadÁF  áceóeEeFF óa  \\\n",
       "0      0.444081      0.435717      0.598674      0.766785      0.208349   \n",
       "1      0.046768      0.516666      0.389973      0.046662      0.191673   \n",
       "2      0.224878      0.041101      0.042380      0.035450      0.082410   \n",
       "3      0.865375      0.191926      0.823239      0.917846      0.416423   \n",
       "4      0.700902      0.015404      0.285464      0.888363      0.521588   \n",
       "\n",
       "   cbAbbdáacafe  áabeb febAec  cEcbá ca ácD  babbeacdÁaba  c eabaábbeba  \n",
       "0      0.591085      0.517208      0.621961      0.561359      0.577239  \n",
       "1      0.177972      0.793305      0.415431      0.732161      0.640130  \n",
       "2      0.682302      0.665287      0.966968      0.752128      0.076593  \n",
       "3      0.176828      0.757708      0.902323      0.527291      0.238321  \n",
       "4      0.613340      0.759336      0.667602      0.798660      0.737864  "
      ]
     },
     "execution_count": 3,
     "metadata": {},
     "output_type": "execute_result"
    }
   ],
   "source": [
    "df = create_weird_dataframe()\n",
    "df.head()"
   ]
  },
  {
   "cell_type": "markdown",
   "metadata": {
    "colab_type": "text",
    "id": "uk4PrJFfTYvd"
   },
   "source": [
    "## Correcting the column names\n",
    "\n",
    "We'll create a function that rename the weird column names. The idea is to, later, extend that idea to our own brand new dataframe class."
   ]
  },
  {
   "cell_type": "markdown",
   "metadata": {
    "colab_type": "text",
    "id": "n7Zt4bABTYvf"
   },
   "source": [
    "### let's start simple: get the column names of the dataframe.\n",
    "\n",
    "Store it in a variable called `col_names`\n"
   ]
  },
  {
   "cell_type": "code",
   "execution_count": 4,
   "metadata": {
    "colab": {},
    "colab_type": "code",
    "id": "ZPR1hdCITYvg"
   },
   "outputs": [],
   "source": [
    "col_names = df.columns"
   ]
  },
  {
   "cell_type": "markdown",
   "metadata": {
    "colab_type": "text",
    "id": "CIkkr475TYvk"
   },
   "source": [
    "### Let's iterate through this columns and transform them into lower-case column names\n",
    "\n",
    "Create a list comprehension to do that if possible. Store it in a variable called `lower_colnames`"
   ]
  },
  {
   "cell_type": "code",
   "execution_count": 5,
   "metadata": {
    "colab": {},
    "colab_type": "code",
    "id": "6TXYfFx5TYvl"
   },
   "outputs": [
    {
     "data": {
      "text/plain": [
       "['fac bbfadfae',\n",
       " 'd ebóadfbfec',\n",
       " 'ccecbóbaaded',\n",
       " 'óaaabcbdadáf',\n",
       " 'áceóeeeff óa',\n",
       " 'cbabbdáacafe',\n",
       " 'áabeb febaec',\n",
       " 'cecbá ca ácd',\n",
       " 'babbeacdáaba',\n",
       " 'c eabaábbeba']"
      ]
     },
     "execution_count": 5,
     "metadata": {},
     "output_type": "execute_result"
    }
   ],
   "source": [
    "lower_colnames = [col_name.lower() for col_name in col_names]\n",
    "lower_colnames"
   ]
  },
  {
   "cell_type": "markdown",
   "metadata": {
    "colab_type": "text",
    "id": "qlTchgNbTYvp"
   },
   "source": [
    "### Let's remove the spaces of these column names!\n",
    "\n",
    "Replace each column name space ` ` for an underline `_`. Again, try to use a list comprehension to do that. \n",
    "For this first task use `.replace(' ','')` method to do that."
   ]
  },
  {
   "cell_type": "code",
   "execution_count": 6,
   "metadata": {
    "colab": {},
    "colab_type": "code",
    "id": "y0JFfKgFTYvq"
   },
   "outputs": [
    {
     "data": {
      "text/plain": [
       "['facbbfadfae',\n",
       " 'debóadfbfec',\n",
       " 'ccecbóbaaded',\n",
       " 'óaaabcbdadáf',\n",
       " 'áceóeeeffóa',\n",
       " 'cbabbdáacafe',\n",
       " 'áabebfebaec',\n",
       " 'cecbácaácd',\n",
       " 'babbeacdáaba',\n",
       " 'ceabaábbeba']"
      ]
     },
     "execution_count": 6,
     "metadata": {},
     "output_type": "execute_result"
    }
   ],
   "source": [
    "replaced_colnames = [col_name.replace(' ','') for col_name in lower_colnames]\n",
    "replaced_colnames"
   ]
  },
  {
   "cell_type": "markdown",
   "metadata": {
    "colab_type": "text",
    "id": "TCj5NklYTYvu"
   },
   "source": [
    "### Create a function that groups the results obtained above and return the lower case underlined names as a list\n",
    "\n",
    "Name the function `normalize_cols`. This function should receive a dataframe, get the column names of a it and return the treated list of column names."
   ]
  },
  {
   "cell_type": "code",
   "execution_count": 7,
   "metadata": {
    "colab": {},
    "colab_type": "code",
    "id": "aqYwg4EJTYvv"
   },
   "outputs": [],
   "source": [
    "def normalize_cols(dataframe):\n",
    "    col_names = df.columns\n",
    "    lower_colnames = [col_name.lower() for col_name in col_names]\n",
    "    replaced_colnames = [col_name.replace(' ','') for col_name in lower_colnames]\n",
    "    \n",
    "    dataframe.columns = replaced_colnames\n",
    "    return dataframe"
   ]
  },
  {
   "cell_type": "markdown",
   "metadata": {
    "colab_type": "text",
    "id": "YMpWYJFwTYvz"
   },
   "source": [
    "### Test your results\n",
    "\n",
    "Use the following line of code to test your results. Run it several times to see some behaviors."
   ]
  },
  {
   "cell_type": "code",
   "execution_count": 8,
   "metadata": {
    "colab": {},
    "colab_type": "code",
    "id": "fbXmMMd3TYv0"
   },
   "outputs": [
    {
     "data": {
      "text/html": [
       "<div>\n",
       "<style scoped>\n",
       "    .dataframe tbody tr th:only-of-type {\n",
       "        vertical-align: middle;\n",
       "    }\n",
       "\n",
       "    .dataframe tbody tr th {\n",
       "        vertical-align: top;\n",
       "    }\n",
       "\n",
       "    .dataframe thead th {\n",
       "        text-align: right;\n",
       "    }\n",
       "</style>\n",
       "<table border=\"1\" class=\"dataframe\">\n",
       "  <thead>\n",
       "    <tr style=\"text-align: right;\">\n",
       "      <th></th>\n",
       "      <th>facbbfadfae</th>\n",
       "      <th>debóadfbfec</th>\n",
       "      <th>ccecbóbaaded</th>\n",
       "      <th>óaaabcbdadáf</th>\n",
       "      <th>áceóeeeffóa</th>\n",
       "      <th>cbabbdáacafe</th>\n",
       "      <th>áabebfebaec</th>\n",
       "      <th>cecbácaácd</th>\n",
       "      <th>babbeacdáaba</th>\n",
       "      <th>ceabaábbeba</th>\n",
       "    </tr>\n",
       "  </thead>\n",
       "  <tbody>\n",
       "    <tr>\n",
       "      <th>0</th>\n",
       "      <td>0.104879</td>\n",
       "      <td>0.037999</td>\n",
       "      <td>0.181878</td>\n",
       "      <td>0.930764</td>\n",
       "      <td>0.542367</td>\n",
       "      <td>0.083665</td>\n",
       "      <td>0.233623</td>\n",
       "      <td>0.913545</td>\n",
       "      <td>0.991445</td>\n",
       "      <td>0.965867</td>\n",
       "    </tr>\n",
       "    <tr>\n",
       "      <th>1</th>\n",
       "      <td>0.958153</td>\n",
       "      <td>0.061768</td>\n",
       "      <td>0.346155</td>\n",
       "      <td>0.407801</td>\n",
       "      <td>0.473205</td>\n",
       "      <td>0.375507</td>\n",
       "      <td>0.453192</td>\n",
       "      <td>0.017181</td>\n",
       "      <td>0.059834</td>\n",
       "      <td>0.608307</td>\n",
       "    </tr>\n",
       "    <tr>\n",
       "      <th>2</th>\n",
       "      <td>0.042414</td>\n",
       "      <td>0.398845</td>\n",
       "      <td>0.640429</td>\n",
       "      <td>0.271455</td>\n",
       "      <td>0.043893</td>\n",
       "      <td>0.839384</td>\n",
       "      <td>0.621703</td>\n",
       "      <td>0.315821</td>\n",
       "      <td>0.681553</td>\n",
       "      <td>0.205901</td>\n",
       "    </tr>\n",
       "    <tr>\n",
       "      <th>3</th>\n",
       "      <td>0.497434</td>\n",
       "      <td>0.960384</td>\n",
       "      <td>0.929996</td>\n",
       "      <td>0.208933</td>\n",
       "      <td>0.379141</td>\n",
       "      <td>0.941136</td>\n",
       "      <td>0.119298</td>\n",
       "      <td>0.208944</td>\n",
       "      <td>0.815170</td>\n",
       "      <td>0.458802</td>\n",
       "    </tr>\n",
       "    <tr>\n",
       "      <th>4</th>\n",
       "      <td>0.394159</td>\n",
       "      <td>0.832315</td>\n",
       "      <td>0.979549</td>\n",
       "      <td>0.582175</td>\n",
       "      <td>0.735418</td>\n",
       "      <td>0.357424</td>\n",
       "      <td>0.175339</td>\n",
       "      <td>0.478996</td>\n",
       "      <td>0.351878</td>\n",
       "      <td>0.400445</td>\n",
       "    </tr>\n",
       "    <tr>\n",
       "      <th>5</th>\n",
       "      <td>0.600069</td>\n",
       "      <td>0.217704</td>\n",
       "      <td>0.811490</td>\n",
       "      <td>0.429756</td>\n",
       "      <td>0.358144</td>\n",
       "      <td>0.254141</td>\n",
       "      <td>0.845541</td>\n",
       "      <td>0.742572</td>\n",
       "      <td>0.961181</td>\n",
       "      <td>0.805368</td>\n",
       "    </tr>\n",
       "    <tr>\n",
       "      <th>6</th>\n",
       "      <td>0.690642</td>\n",
       "      <td>0.087790</td>\n",
       "      <td>0.711248</td>\n",
       "      <td>0.577442</td>\n",
       "      <td>0.821944</td>\n",
       "      <td>0.874715</td>\n",
       "      <td>0.673539</td>\n",
       "      <td>0.134771</td>\n",
       "      <td>0.278386</td>\n",
       "      <td>0.148333</td>\n",
       "    </tr>\n",
       "    <tr>\n",
       "      <th>7</th>\n",
       "      <td>0.206140</td>\n",
       "      <td>0.219410</td>\n",
       "      <td>0.086263</td>\n",
       "      <td>0.109134</td>\n",
       "      <td>0.511645</td>\n",
       "      <td>0.447889</td>\n",
       "      <td>0.496881</td>\n",
       "      <td>0.675442</td>\n",
       "      <td>0.214076</td>\n",
       "      <td>0.533165</td>\n",
       "    </tr>\n",
       "    <tr>\n",
       "      <th>8</th>\n",
       "      <td>0.889593</td>\n",
       "      <td>0.220182</td>\n",
       "      <td>0.681884</td>\n",
       "      <td>0.566324</td>\n",
       "      <td>0.607646</td>\n",
       "      <td>0.815095</td>\n",
       "      <td>0.763064</td>\n",
       "      <td>0.170097</td>\n",
       "      <td>0.050232</td>\n",
       "      <td>0.823529</td>\n",
       "    </tr>\n",
       "    <tr>\n",
       "      <th>9</th>\n",
       "      <td>0.730522</td>\n",
       "      <td>0.103984</td>\n",
       "      <td>0.433321</td>\n",
       "      <td>0.255177</td>\n",
       "      <td>0.960980</td>\n",
       "      <td>0.837640</td>\n",
       "      <td>0.504370</td>\n",
       "      <td>0.625121</td>\n",
       "      <td>0.316048</td>\n",
       "      <td>0.599901</td>\n",
       "    </tr>\n",
       "  </tbody>\n",
       "</table>\n",
       "</div>"
      ],
      "text/plain": [
       "   facbbfadfae  debóadfbfec  ccecbóbaaded  óaaabcbdadáf  áceóeeeffóa  \\\n",
       "0     0.104879     0.037999      0.181878      0.930764     0.542367   \n",
       "1     0.958153     0.061768      0.346155      0.407801     0.473205   \n",
       "2     0.042414     0.398845      0.640429      0.271455     0.043893   \n",
       "3     0.497434     0.960384      0.929996      0.208933     0.379141   \n",
       "4     0.394159     0.832315      0.979549      0.582175     0.735418   \n",
       "5     0.600069     0.217704      0.811490      0.429756     0.358144   \n",
       "6     0.690642     0.087790      0.711248      0.577442     0.821944   \n",
       "7     0.206140     0.219410      0.086263      0.109134     0.511645   \n",
       "8     0.889593     0.220182      0.681884      0.566324     0.607646   \n",
       "9     0.730522     0.103984      0.433321      0.255177     0.960980   \n",
       "\n",
       "   cbabbdáacafe  áabebfebaec  cecbácaácd  babbeacdáaba  ceabaábbeba  \n",
       "0      0.083665     0.233623    0.913545      0.991445     0.965867  \n",
       "1      0.375507     0.453192    0.017181      0.059834     0.608307  \n",
       "2      0.839384     0.621703    0.315821      0.681553     0.205901  \n",
       "3      0.941136     0.119298    0.208944      0.815170     0.458802  \n",
       "4      0.357424     0.175339    0.478996      0.351878     0.400445  \n",
       "5      0.254141     0.845541    0.742572      0.961181     0.805368  \n",
       "6      0.874715     0.673539    0.134771      0.278386     0.148333  \n",
       "7      0.447889     0.496881    0.675442      0.214076     0.533165  \n",
       "8      0.815095     0.763064    0.170097      0.050232     0.823529  \n",
       "9      0.837640     0.504370    0.625121      0.316048     0.599901  "
      ]
     },
     "execution_count": 8,
     "metadata": {},
     "output_type": "execute_result"
    }
   ],
   "source": [
    "normalize_cols(create_weird_dataframe())"
   ]
  },
  {
   "cell_type": "markdown",
   "metadata": {
    "colab_type": "text",
    "id": "LWMc9bikTYv4"
   },
   "source": [
    "### hmmm, we've made a mistake!\n",
    "\n",
    "We've commited several mistakes by doing this. Have observed any bugs associated with our results?"
   ]
  },
  {
   "cell_type": "markdown",
   "metadata": {
    "colab_type": "text",
    "id": "fGnyUzGATYv5"
   },
   "source": [
    "In order for us to see some problems in our results, we have to look for edge cases. \n",
    "\n",
    "For example: \n",
    "\n",
    "**Problem #1:** what if there are 2 or more following spaces? We want it to replace the spaces by several underlines or condense them into one?\n",
    "\n",
    "**Problem #2:** what if there are spaces at the beginning? Should we substitute them by underline or drop them?"
   ]
  },
  {
   "cell_type": "markdown",
   "metadata": {
    "colab_type": "text",
    "id": "BkJguuBITYv6"
   },
   "source": [
    "Let's correct each problem. Starting by problem 2."
   ]
  },
  {
   "cell_type": "markdown",
   "metadata": {
    "colab_type": "text",
    "id": "ikvacQQ3TYv7"
   },
   "source": [
    "## Correcting our function\n",
    "\n",
    "Instead of substituting the spaces at first place, let's remove the trailing and leading spaces!\n",
    "\n",
    "Recreate the `normalize_cols` with the solution to `Problem 2`.\n",
    "\n",
    "*Hint: Copy and paste the last `normalize_cols` function to change it.*"
   ]
  },
  {
   "cell_type": "code",
   "execution_count": 9,
   "metadata": {
    "colab": {},
    "colab_type": "code",
    "id": "u_kX4HS1TYv8"
   },
   "outputs": [],
   "source": [
    "def normalize_cols(dataframe):\n",
    "    col_names = df.columns\n",
    "    lower_colnames = [col_name.lower() for col_name in col_names]\n",
    "    replaced_colnames = [col_name.lstrip().rstrip() for col_name in lower_colnames]\n",
    "    \n",
    "    dataframe.columns = replaced_colnames\n",
    "    return dataframe"
   ]
  },
  {
   "cell_type": "markdown",
   "metadata": {
    "colab_type": "text",
    "id": "MXm2-PEbTYwA"
   },
   "source": [
    "### Test your results again.\n",
    "\n",
    "At least, for now, you should not have any trailing nor leading underlines."
   ]
  },
  {
   "cell_type": "code",
   "execution_count": 10,
   "metadata": {
    "colab": {},
    "colab_type": "code",
    "id": "Bm9ifu5QTYwB"
   },
   "outputs": [
    {
     "data": {
      "text/html": [
       "<div>\n",
       "<style scoped>\n",
       "    .dataframe tbody tr th:only-of-type {\n",
       "        vertical-align: middle;\n",
       "    }\n",
       "\n",
       "    .dataframe tbody tr th {\n",
       "        vertical-align: top;\n",
       "    }\n",
       "\n",
       "    .dataframe thead th {\n",
       "        text-align: right;\n",
       "    }\n",
       "</style>\n",
       "<table border=\"1\" class=\"dataframe\">\n",
       "  <thead>\n",
       "    <tr style=\"text-align: right;\">\n",
       "      <th></th>\n",
       "      <th>fac bbfadfae</th>\n",
       "      <th>d ebóadfbfec</th>\n",
       "      <th>ccecbóbaaded</th>\n",
       "      <th>óaaabcbdadáf</th>\n",
       "      <th>áceóeeeff óa</th>\n",
       "      <th>cbabbdáacafe</th>\n",
       "      <th>áabeb febaec</th>\n",
       "      <th>cecbá ca ácd</th>\n",
       "      <th>babbeacdáaba</th>\n",
       "      <th>c eabaábbeba</th>\n",
       "    </tr>\n",
       "  </thead>\n",
       "  <tbody>\n",
       "    <tr>\n",
       "      <th>0</th>\n",
       "      <td>0.414894</td>\n",
       "      <td>0.936116</td>\n",
       "      <td>0.158600</td>\n",
       "      <td>0.615873</td>\n",
       "      <td>0.414861</td>\n",
       "      <td>0.786908</td>\n",
       "      <td>0.493091</td>\n",
       "      <td>0.011859</td>\n",
       "      <td>0.619101</td>\n",
       "      <td>0.755983</td>\n",
       "    </tr>\n",
       "    <tr>\n",
       "      <th>1</th>\n",
       "      <td>0.291697</td>\n",
       "      <td>0.555452</td>\n",
       "      <td>0.963743</td>\n",
       "      <td>0.624392</td>\n",
       "      <td>0.553369</td>\n",
       "      <td>0.134196</td>\n",
       "      <td>0.878461</td>\n",
       "      <td>0.866776</td>\n",
       "      <td>0.762290</td>\n",
       "      <td>0.909605</td>\n",
       "    </tr>\n",
       "    <tr>\n",
       "      <th>2</th>\n",
       "      <td>0.692960</td>\n",
       "      <td>0.702987</td>\n",
       "      <td>0.813262</td>\n",
       "      <td>0.704668</td>\n",
       "      <td>0.901324</td>\n",
       "      <td>0.125173</td>\n",
       "      <td>0.683491</td>\n",
       "      <td>0.400886</td>\n",
       "      <td>0.736809</td>\n",
       "      <td>0.308960</td>\n",
       "    </tr>\n",
       "    <tr>\n",
       "      <th>3</th>\n",
       "      <td>0.626759</td>\n",
       "      <td>0.376721</td>\n",
       "      <td>0.236938</td>\n",
       "      <td>0.596771</td>\n",
       "      <td>0.741189</td>\n",
       "      <td>0.290073</td>\n",
       "      <td>0.614825</td>\n",
       "      <td>0.601767</td>\n",
       "      <td>0.517875</td>\n",
       "      <td>0.270567</td>\n",
       "    </tr>\n",
       "    <tr>\n",
       "      <th>4</th>\n",
       "      <td>0.633872</td>\n",
       "      <td>0.768847</td>\n",
       "      <td>0.673893</td>\n",
       "      <td>0.467148</td>\n",
       "      <td>0.327748</td>\n",
       "      <td>0.246387</td>\n",
       "      <td>0.811288</td>\n",
       "      <td>0.400398</td>\n",
       "      <td>0.583348</td>\n",
       "      <td>0.444680</td>\n",
       "    </tr>\n",
       "    <tr>\n",
       "      <th>5</th>\n",
       "      <td>0.119328</td>\n",
       "      <td>0.406824</td>\n",
       "      <td>0.147071</td>\n",
       "      <td>0.235626</td>\n",
       "      <td>0.369485</td>\n",
       "      <td>0.745964</td>\n",
       "      <td>0.949595</td>\n",
       "      <td>0.314420</td>\n",
       "      <td>0.540291</td>\n",
       "      <td>0.865794</td>\n",
       "    </tr>\n",
       "    <tr>\n",
       "      <th>6</th>\n",
       "      <td>0.189892</td>\n",
       "      <td>0.137077</td>\n",
       "      <td>0.808038</td>\n",
       "      <td>0.678416</td>\n",
       "      <td>0.166738</td>\n",
       "      <td>0.267337</td>\n",
       "      <td>0.555998</td>\n",
       "      <td>0.021454</td>\n",
       "      <td>0.665699</td>\n",
       "      <td>0.705028</td>\n",
       "    </tr>\n",
       "    <tr>\n",
       "      <th>7</th>\n",
       "      <td>0.842260</td>\n",
       "      <td>0.885042</td>\n",
       "      <td>0.217385</td>\n",
       "      <td>0.063314</td>\n",
       "      <td>0.704027</td>\n",
       "      <td>0.596762</td>\n",
       "      <td>0.779513</td>\n",
       "      <td>0.820269</td>\n",
       "      <td>0.113801</td>\n",
       "      <td>0.715800</td>\n",
       "    </tr>\n",
       "    <tr>\n",
       "      <th>8</th>\n",
       "      <td>0.410958</td>\n",
       "      <td>0.302309</td>\n",
       "      <td>0.066565</td>\n",
       "      <td>0.949345</td>\n",
       "      <td>0.994860</td>\n",
       "      <td>0.034570</td>\n",
       "      <td>0.606471</td>\n",
       "      <td>0.455719</td>\n",
       "      <td>0.265119</td>\n",
       "      <td>0.327757</td>\n",
       "    </tr>\n",
       "    <tr>\n",
       "      <th>9</th>\n",
       "      <td>0.492400</td>\n",
       "      <td>0.269247</td>\n",
       "      <td>0.860221</td>\n",
       "      <td>0.808926</td>\n",
       "      <td>0.978817</td>\n",
       "      <td>0.967505</td>\n",
       "      <td>0.613253</td>\n",
       "      <td>0.180751</td>\n",
       "      <td>0.583323</td>\n",
       "      <td>0.280416</td>\n",
       "    </tr>\n",
       "  </tbody>\n",
       "</table>\n",
       "</div>"
      ],
      "text/plain": [
       "   fac bbfadfae  d ebóadfbfec  ccecbóbaaded  óaaabcbdadáf  áceóeeeff óa  \\\n",
       "0      0.414894      0.936116      0.158600      0.615873      0.414861   \n",
       "1      0.291697      0.555452      0.963743      0.624392      0.553369   \n",
       "2      0.692960      0.702987      0.813262      0.704668      0.901324   \n",
       "3      0.626759      0.376721      0.236938      0.596771      0.741189   \n",
       "4      0.633872      0.768847      0.673893      0.467148      0.327748   \n",
       "5      0.119328      0.406824      0.147071      0.235626      0.369485   \n",
       "6      0.189892      0.137077      0.808038      0.678416      0.166738   \n",
       "7      0.842260      0.885042      0.217385      0.063314      0.704027   \n",
       "8      0.410958      0.302309      0.066565      0.949345      0.994860   \n",
       "9      0.492400      0.269247      0.860221      0.808926      0.978817   \n",
       "\n",
       "   cbabbdáacafe  áabeb febaec  cecbá ca ácd  babbeacdáaba  c eabaábbeba  \n",
       "0      0.786908      0.493091      0.011859      0.619101      0.755983  \n",
       "1      0.134196      0.878461      0.866776      0.762290      0.909605  \n",
       "2      0.125173      0.683491      0.400886      0.736809      0.308960  \n",
       "3      0.290073      0.614825      0.601767      0.517875      0.270567  \n",
       "4      0.246387      0.811288      0.400398      0.583348      0.444680  \n",
       "5      0.745964      0.949595      0.314420      0.540291      0.865794  \n",
       "6      0.267337      0.555998      0.021454      0.665699      0.705028  \n",
       "7      0.596762      0.779513      0.820269      0.113801      0.715800  \n",
       "8      0.034570      0.606471      0.455719      0.265119      0.327757  \n",
       "9      0.967505      0.613253      0.180751      0.583323      0.280416  "
      ]
     },
     "execution_count": 10,
     "metadata": {},
     "output_type": "execute_result"
    }
   ],
   "source": [
    "normalize_cols(create_weird_dataframe())\n"
   ]
  },
  {
   "cell_type": "markdown",
   "metadata": {
    "colab_type": "text",
    "id": "zNR5w4cWTYwE"
   },
   "source": [
    "### Correcting problem 1"
   ]
  },
  {
   "cell_type": "markdown",
   "metadata": {
    "colab_type": "text",
    "id": "vSJu3qCCTYwG"
   },
   "source": [
    "To correct problem 1, instead of using `.replace()` string method, we want to use a regular expression. Use the module `re` to substitute the pattern of `1 or more spaces` by 1 underline `_`.\n",
    "\n",
    "Test your solution on the variable below:"
   ]
  },
  {
   "cell_type": "code",
   "execution_count": 11,
   "metadata": {
    "colab": {},
    "colab_type": "code",
    "id": "8dm4rS5mTYwH"
   },
   "outputs": [],
   "source": [
    "import re \n",
    "\n",
    "text = 'these spaces      should all be one underline'"
   ]
  },
  {
   "cell_type": "code",
   "execution_count": 12,
   "metadata": {
    "colab": {},
    "colab_type": "code",
    "id": "RP-cz9kKTYwK"
   },
   "outputs": [
    {
     "data": {
      "text/plain": [
       "'these_spaces_should_all_be_one_underline'"
      ]
     },
     "execution_count": 12,
     "metadata": {},
     "output_type": "execute_result"
    }
   ],
   "source": [
    "pattern = r'( )+'\n",
    "re.sub(pattern,'_',text)"
   ]
  },
  {
   "cell_type": "markdown",
   "metadata": {
    "colab_type": "text",
    "id": "iqffTpd3TYwU"
   },
   "source": [
    "### Now correct your `normalize_cols` function\n",
    "\n",
    "*Hint: Copy and paste the last `normalize_cols` function to change it.*"
   ]
  },
  {
   "cell_type": "code",
   "execution_count": 13,
   "metadata": {
    "colab": {},
    "colab_type": "code",
    "id": "7SxhpuOCTYwV"
   },
   "outputs": [],
   "source": [
    "def normalize_cols(dataframe):\n",
    "    col_names = df.columns\n",
    "    lower_colnames = [col_name.lower() for col_name in col_names]\n",
    "    pattern = r'( )+'\n",
    "    replaced_colnames = [re.sub(pattern,'_',col_name) for col_name in lower_colnames]\n",
    "    \n",
    "    dataframe.columns = replaced_colnames\n",
    "    return dataframe"
   ]
  },
  {
   "cell_type": "markdown",
   "metadata": {
    "colab_type": "text",
    "id": "mn0UwlZATYwX"
   },
   "source": [
    "### Again, test your results.\n",
    "\n",
    "Now, sometimes some column names should have smaller sizes (because you are removing consecutive spaces)"
   ]
  },
  {
   "cell_type": "code",
   "execution_count": 14,
   "metadata": {
    "colab": {},
    "colab_type": "code",
    "id": "LzHIKAT4TYwZ"
   },
   "outputs": [
    {
     "data": {
      "text/html": [
       "<div>\n",
       "<style scoped>\n",
       "    .dataframe tbody tr th:only-of-type {\n",
       "        vertical-align: middle;\n",
       "    }\n",
       "\n",
       "    .dataframe tbody tr th {\n",
       "        vertical-align: top;\n",
       "    }\n",
       "\n",
       "    .dataframe thead th {\n",
       "        text-align: right;\n",
       "    }\n",
       "</style>\n",
       "<table border=\"1\" class=\"dataframe\">\n",
       "  <thead>\n",
       "    <tr style=\"text-align: right;\">\n",
       "      <th></th>\n",
       "      <th>fac_bbfadfae</th>\n",
       "      <th>d_ebóadfbfec</th>\n",
       "      <th>ccecbóbaaded</th>\n",
       "      <th>óaaabcbdadáf</th>\n",
       "      <th>áceóeeeff_óa</th>\n",
       "      <th>cbabbdáacafe</th>\n",
       "      <th>áabeb_febaec</th>\n",
       "      <th>cecbá_ca_ácd</th>\n",
       "      <th>babbeacdáaba</th>\n",
       "      <th>c_eabaábbeba</th>\n",
       "    </tr>\n",
       "  </thead>\n",
       "  <tbody>\n",
       "    <tr>\n",
       "      <th>0</th>\n",
       "      <td>0.710246</td>\n",
       "      <td>0.351865</td>\n",
       "      <td>0.932896</td>\n",
       "      <td>0.964481</td>\n",
       "      <td>0.294724</td>\n",
       "      <td>0.681199</td>\n",
       "      <td>0.165415</td>\n",
       "      <td>0.303708</td>\n",
       "      <td>0.134243</td>\n",
       "      <td>0.536175</td>\n",
       "    </tr>\n",
       "    <tr>\n",
       "      <th>1</th>\n",
       "      <td>0.983196</td>\n",
       "      <td>0.566668</td>\n",
       "      <td>0.582839</td>\n",
       "      <td>0.137668</td>\n",
       "      <td>0.520655</td>\n",
       "      <td>0.807065</td>\n",
       "      <td>0.591286</td>\n",
       "      <td>0.168739</td>\n",
       "      <td>0.017303</td>\n",
       "      <td>0.447991</td>\n",
       "    </tr>\n",
       "    <tr>\n",
       "      <th>2</th>\n",
       "      <td>0.096261</td>\n",
       "      <td>0.875883</td>\n",
       "      <td>0.742203</td>\n",
       "      <td>0.093869</td>\n",
       "      <td>0.805596</td>\n",
       "      <td>0.628393</td>\n",
       "      <td>0.730311</td>\n",
       "      <td>0.785123</td>\n",
       "      <td>0.329924</td>\n",
       "      <td>0.676715</td>\n",
       "    </tr>\n",
       "    <tr>\n",
       "      <th>3</th>\n",
       "      <td>0.521453</td>\n",
       "      <td>0.720856</td>\n",
       "      <td>0.922842</td>\n",
       "      <td>0.916821</td>\n",
       "      <td>0.134147</td>\n",
       "      <td>0.741496</td>\n",
       "      <td>0.111167</td>\n",
       "      <td>0.193364</td>\n",
       "      <td>0.657294</td>\n",
       "      <td>0.836397</td>\n",
       "    </tr>\n",
       "    <tr>\n",
       "      <th>4</th>\n",
       "      <td>0.394101</td>\n",
       "      <td>0.368565</td>\n",
       "      <td>0.955128</td>\n",
       "      <td>0.081880</td>\n",
       "      <td>0.085939</td>\n",
       "      <td>0.120536</td>\n",
       "      <td>0.087029</td>\n",
       "      <td>0.643695</td>\n",
       "      <td>0.903286</td>\n",
       "      <td>0.335706</td>\n",
       "    </tr>\n",
       "    <tr>\n",
       "      <th>5</th>\n",
       "      <td>0.981875</td>\n",
       "      <td>0.076130</td>\n",
       "      <td>0.827350</td>\n",
       "      <td>0.743678</td>\n",
       "      <td>0.357911</td>\n",
       "      <td>0.151897</td>\n",
       "      <td>0.137791</td>\n",
       "      <td>0.901062</td>\n",
       "      <td>0.124034</td>\n",
       "      <td>0.744549</td>\n",
       "    </tr>\n",
       "    <tr>\n",
       "      <th>6</th>\n",
       "      <td>0.622052</td>\n",
       "      <td>0.263913</td>\n",
       "      <td>0.217058</td>\n",
       "      <td>0.407211</td>\n",
       "      <td>0.603979</td>\n",
       "      <td>0.745006</td>\n",
       "      <td>0.411171</td>\n",
       "      <td>0.569672</td>\n",
       "      <td>0.309792</td>\n",
       "      <td>0.904292</td>\n",
       "    </tr>\n",
       "    <tr>\n",
       "      <th>7</th>\n",
       "      <td>0.004605</td>\n",
       "      <td>0.585467</td>\n",
       "      <td>0.667685</td>\n",
       "      <td>0.064463</td>\n",
       "      <td>0.389703</td>\n",
       "      <td>0.887500</td>\n",
       "      <td>0.183267</td>\n",
       "      <td>0.179383</td>\n",
       "      <td>0.484561</td>\n",
       "      <td>0.989075</td>\n",
       "    </tr>\n",
       "    <tr>\n",
       "      <th>8</th>\n",
       "      <td>0.757513</td>\n",
       "      <td>0.032947</td>\n",
       "      <td>0.548916</td>\n",
       "      <td>0.206824</td>\n",
       "      <td>0.777225</td>\n",
       "      <td>0.811093</td>\n",
       "      <td>0.278939</td>\n",
       "      <td>0.784354</td>\n",
       "      <td>0.698117</td>\n",
       "      <td>0.279457</td>\n",
       "    </tr>\n",
       "    <tr>\n",
       "      <th>9</th>\n",
       "      <td>0.169686</td>\n",
       "      <td>0.402384</td>\n",
       "      <td>0.780946</td>\n",
       "      <td>0.755331</td>\n",
       "      <td>0.306813</td>\n",
       "      <td>0.652058</td>\n",
       "      <td>0.105075</td>\n",
       "      <td>0.705457</td>\n",
       "      <td>0.197569</td>\n",
       "      <td>0.120546</td>\n",
       "    </tr>\n",
       "  </tbody>\n",
       "</table>\n",
       "</div>"
      ],
      "text/plain": [
       "   fac_bbfadfae  d_ebóadfbfec  ccecbóbaaded  óaaabcbdadáf  áceóeeeff_óa  \\\n",
       "0      0.710246      0.351865      0.932896      0.964481      0.294724   \n",
       "1      0.983196      0.566668      0.582839      0.137668      0.520655   \n",
       "2      0.096261      0.875883      0.742203      0.093869      0.805596   \n",
       "3      0.521453      0.720856      0.922842      0.916821      0.134147   \n",
       "4      0.394101      0.368565      0.955128      0.081880      0.085939   \n",
       "5      0.981875      0.076130      0.827350      0.743678      0.357911   \n",
       "6      0.622052      0.263913      0.217058      0.407211      0.603979   \n",
       "7      0.004605      0.585467      0.667685      0.064463      0.389703   \n",
       "8      0.757513      0.032947      0.548916      0.206824      0.777225   \n",
       "9      0.169686      0.402384      0.780946      0.755331      0.306813   \n",
       "\n",
       "   cbabbdáacafe  áabeb_febaec  cecbá_ca_ácd  babbeacdáaba  c_eabaábbeba  \n",
       "0      0.681199      0.165415      0.303708      0.134243      0.536175  \n",
       "1      0.807065      0.591286      0.168739      0.017303      0.447991  \n",
       "2      0.628393      0.730311      0.785123      0.329924      0.676715  \n",
       "3      0.741496      0.111167      0.193364      0.657294      0.836397  \n",
       "4      0.120536      0.087029      0.643695      0.903286      0.335706  \n",
       "5      0.151897      0.137791      0.901062      0.124034      0.744549  \n",
       "6      0.745006      0.411171      0.569672      0.309792      0.904292  \n",
       "7      0.887500      0.183267      0.179383      0.484561      0.989075  \n",
       "8      0.811093      0.278939      0.784354      0.698117      0.279457  \n",
       "9      0.652058      0.105075      0.705457      0.197569      0.120546  "
      ]
     },
     "execution_count": 14,
     "metadata": {},
     "output_type": "execute_result"
    }
   ],
   "source": [
    "normalize_cols(create_weird_dataframe())"
   ]
  },
  {
   "cell_type": "markdown",
   "metadata": {
    "colab_type": "text",
    "id": "bs7KvyTwTYwc"
   },
   "source": [
    "## Last step: remove accents"
   ]
  },
  {
   "cell_type": "markdown",
   "metadata": {
    "colab_type": "text",
    "id": "rhQLRfoYTYwd"
   },
   "source": [
    "The last step consists in removing accents from the strings.\n",
    "\n",
    "Import the package `unidecode` to use its module also called `unidecode` to remove accents. Test on the word below."
   ]
  },
  {
   "cell_type": "code",
   "execution_count": 15,
   "metadata": {
    "colab": {},
    "colab_type": "code",
    "id": "osrv7brdTYwe"
   },
   "outputs": [],
   "source": [
    "from unidecode import unidecode\n",
    "\n",
    "text = 'aéóúaorowó'"
   ]
  },
  {
   "cell_type": "code",
   "execution_count": 16,
   "metadata": {
    "colab": {},
    "colab_type": "code",
    "id": "4fgbbUbZTYwg"
   },
   "outputs": [
    {
     "data": {
      "text/plain": [
       "'aeouaorowo'"
      ]
     },
     "execution_count": 16,
     "metadata": {},
     "output_type": "execute_result"
    }
   ],
   "source": [
    "unidecode(u'aéóúaorowó')"
   ]
  },
  {
   "cell_type": "markdown",
   "metadata": {
    "colab_type": "text",
    "id": "tCoX4ZYLTYwj"
   },
   "source": [
    "### Now remove the accents for each column name in your `normalized_cols` function.\n",
    "\n",
    "*Hint: Copy and paste the last `normalize_cols` function to change it.*"
   ]
  },
  {
   "cell_type": "code",
   "execution_count": 17,
   "metadata": {
    "colab": {},
    "colab_type": "code",
    "id": "3ZW9No0uTYwk"
   },
   "outputs": [],
   "source": [
    "def normalize_cols(dataframe):\n",
    "    col_names = df.columns\n",
    "    lower_colnames = [col_name.lower() for col_name in col_names]\n",
    "    pattern = r'( )+'\n",
    "    replaced_colnames = [unidecode(re.sub(pattern,'_',col_name)) for col_name in lower_colnames]\n",
    "    \n",
    "    return replaced_colnames"
   ]
  },
  {
   "cell_type": "markdown",
   "metadata": {
    "colab_type": "text",
    "id": "MTgNfgeYTYwm"
   },
   "source": [
    "### Test your results"
   ]
  },
  {
   "cell_type": "code",
   "execution_count": 18,
   "metadata": {
    "colab": {},
    "colab_type": "code",
    "id": "RxDiO0PzTYwn"
   },
   "outputs": [
    {
     "data": {
      "text/plain": [
       "['fac_bbfadfae',\n",
       " 'd_eboadfbfec',\n",
       " 'ccecbobaaded',\n",
       " 'oaaabcbdadaf',\n",
       " 'aceoeeeff_oa',\n",
       " 'cbabbdaacafe',\n",
       " 'aabeb_febaec',\n",
       " 'cecba_ca_acd',\n",
       " 'babbeacdaaba',\n",
       " 'c_eabaabbeba']"
      ]
     },
     "execution_count": 18,
     "metadata": {},
     "output_type": "execute_result"
    }
   ],
   "source": [
    "normalize_cols(create_weird_dataframe())"
   ]
  },
  {
   "cell_type": "markdown",
   "metadata": {
    "colab_type": "text",
    "id": "VQ9C0CjkTYwq"
   },
   "source": [
    "## Good job. \n",
    "\n",
    "Right now you have a function that receives a dataframe and returns its columns names with a good formatting."
   ]
  },
  {
   "cell_type": "markdown",
   "metadata": {
    "colab_type": "text",
    "id": "5swtawYcTYwq"
   },
   "source": [
    "# Creating our own dataframe."
   ]
  },
  {
   "cell_type": "code",
   "execution_count": 19,
   "metadata": {
    "colab": {},
    "colab_type": "code",
    "id": "69irk1odTYwr"
   },
   "outputs": [],
   "source": [
    "from pandas import DataFrame"
   ]
  },
  {
   "cell_type": "markdown",
   "metadata": {
    "colab_type": "text",
    "id": "3vUf_BFSTYwt"
   },
   "source": [
    "A dataframe is just a simple class. It contains its own attributes and methods. \n",
    "\n",
    "When you create a pd.DataFrame() you are just instantiating the DataFrame class as an object that you can store in a variable. From this point onwards, you have access to all DataFrame class attributes (`.columns` for example) and methods (`.isna()` for example). We've been using those since always! "
   ]
  },
  {
   "cell_type": "markdown",
   "metadata": {
    "colab_type": "text",
    "id": "A5I8dflETYwu"
   },
   "source": [
    "If we wish, we could create our own class inheriting everything from a DataFrame class."
   ]
  },
  {
   "cell_type": "code",
   "execution_count": 23,
   "metadata": {
    "colab": {},
    "colab_type": "code",
    "id": "xZUmnuzzTYwv"
   },
   "outputs": [],
   "source": [
    "class myDataFrame(DataFrame):\n",
    "    pass"
   ]
  },
  {
   "cell_type": "markdown",
   "metadata": {
    "colab_type": "text",
    "id": "mPSyMDn4TYwy"
   },
   "source": [
    "Instead of just creating myDataFrame, put your function inside your new inherited class, that is, transform `normalize_cols` into a method of your own DataFrame.\n",
    "\n",
    "Remember you'll have to give self as the first argument of the `normalize_cols`. So you could replace everything you once called `dataframe` inside your `normalize_cols` by `self`. \n",
    "\n",
    "At the end, return the list of the correct names."
   ]
  },
  {
   "cell_type": "code",
   "execution_count": 60,
   "metadata": {
    "colab": {},
    "colab_type": "code",
    "id": "dTtylbdGTYw7"
   },
   "outputs": [],
   "source": [
    "class myDataFrame(pd.DataFrame):\n",
    "\n",
    "    def normalize_cols(self,):\n",
    "        \"\"\"This method removes accents and lowers all Capital letters\"\"\"\n",
    "        col_names = self.columns\n",
    "        \n",
    "        lower_colnames = [col_name.lower() for col_name in col_names]\n",
    "        pattern = r'( )+'\n",
    "        replaced_colnames = [unidecode(re.sub(pattern,'_',col_name)) for col_name in lower_colnames]\n",
    "        \n",
    "        return  replaced_colnames\n"
   ]
  },
  {
   "cell_type": "markdown",
   "metadata": {
    "colab_type": "text",
    "id": "lCKiKMavTYw1"
   },
   "source": [
    "Test your results."
   ]
  },
  {
   "cell_type": "code",
   "execution_count": 61,
   "metadata": {
    "colab": {},
    "colab_type": "code",
    "id": "EaVQNJBbTYw2"
   },
   "outputs": [
    {
     "name": "stdout",
     "output_type": "stream",
     "text": [
      "['f_acbc_babee', 'cebcaacefaba', 'abdda_d_f_fb', 'bafacecafdea', 'bc_baefbdbfd', 'bafdabaaa_ab', 'febaeacbdfbe', 'faadbebbaebe', 'fcadefcfbbae', 'badbeacaabaa']\n"
     ]
    }
   ],
   "source": [
    "df = myDataFrame(create_weird_dataframe())\n",
    "print(df.normalize_cols())"
   ]
  },
  {
   "cell_type": "markdown",
   "metadata": {
    "colab_type": "text",
    "id": "I0IlScuLTYw5"
   },
   "source": [
    "## Understanding even more the `self` argument"
   ]
  },
  {
   "cell_type": "markdown",
   "metadata": {
    "colab_type": "text",
    "id": "UF5gjA1qTYw6"
   },
   "source": [
    "Instead of returning a list containing the correct columns, you should now assign the correct columns to the `self.columns` - this will effectively replace the values of your object by the correct columns.\n",
    "\n",
    "\n",
    "Now change your method to return the dataframe itself. That is, return the `self` argument this time and see the results! \n",
    "\n",
    "```python\n",
    "class myDataFrame(DataFrame):\n",
    "    def normalize_cos(self):\n",
    "        ...\n",
    "        return self\n",
    "```"
   ]
  },
  {
   "cell_type": "code",
   "execution_count": 55,
   "metadata": {
    "colab": {},
    "colab_type": "code",
    "id": "UD3uk6bkTYwz"
   },
   "outputs": [],
   "source": [
    "class myDataFrame(pd.DataFrame):\n",
    "\n",
    "    def normalize_cols(self,):\n",
    "        \"\"\"This method removes accents and lowers all Capital letters\"\"\"\n",
    "        col_names = self.columns\n",
    "        \n",
    "        lower_colnames = [col_name.lower() for col_name in col_names]\n",
    "        pattern = r'( )+'\n",
    "        replaced_colnames = [unidecode(re.sub(pattern,'_',col_name)) for col_name in lower_colnames]\n",
    "        \n",
    "        self.columns =  replaced_colnames\n",
    "\n",
    "        "
   ]
  },
  {
   "cell_type": "code",
   "execution_count": 58,
   "metadata": {
    "colab": {},
    "colab_type": "code",
    "id": "EaVQNJBbTYw2"
   },
   "outputs": [
    {
     "name": "stdout",
     "output_type": "stream",
     "text": [
      "   oebbeaecbdbc  bfaaeaae_bao  abedbaaabbba  dfaa_afcofcf  _aoebbaoaaaa  \\\n",
      "0      0.485893      0.168382      0.931090      0.778966      0.874308   \n",
      "1      0.210348      0.552513      0.345115      0.847515      0.643528   \n",
      "2      0.107553      0.929372      0.574961      0.485148      0.561703   \n",
      "3      0.644165      0.146594      0.903203      0.559193      0.647608   \n",
      "4      0.178969      0.068399      0.636888      0.335033      0.379667   \n",
      "5      0.206715      0.535851      0.157828      0.925616      0.298275   \n",
      "6      0.628315      0.262806      0.190517      0.126292      0.183332   \n",
      "7      0.223053      0.537902      0.463281      0.604586      0.889782   \n",
      "8      0.521478      0.664508      0.193282      0.559089      0.685906   \n",
      "9      0.330649      0.879435      0.819418      0.219947      0.656697   \n",
      "\n",
      "   decceadcdbcf  bafaebbbbebc  bbobebeabbbc  facaab_fdfbb  _abbdoeeecef  \n",
      "0      0.743769      0.038622      0.634555      0.207643      0.731790  \n",
      "1      0.303286      0.819772      0.465722      0.923088      0.433033  \n",
      "2      0.823006      0.826018      0.265462      0.215886      0.769701  \n",
      "3      0.195051      0.010521      0.158637      0.494736      0.704980  \n",
      "4      0.802368      0.485530      0.519127      0.842441      0.855567  \n",
      "5      0.307584      0.861577      0.865181      0.772446      0.464819  \n",
      "6      0.949770      0.236102      0.373729      0.492182      0.941777  \n",
      "7      0.285237      0.455063      0.715782      0.629528      0.503530  \n",
      "8      0.050349      0.897833      0.896750      0.595418      0.217211  \n",
      "9      0.972682      0.328160      0.215170      0.426834      0.812354  \n"
     ]
    }
   ],
   "source": [
    "df = myDataFrame(create_weird_dataframe())\n",
    "df.normalize_cols()\n",
    "print(df)"
   ]
  },
  {
   "cell_type": "markdown",
   "metadata": {
    "colab_type": "text",
    "id": "bh1SJi3lTYxf"
   },
   "source": [
    "## Understanding the self argument"
   ]
  },
  {
   "cell_type": "markdown",
   "metadata": {
    "colab_type": "text",
    "id": "ZnGiF0QgTYxi"
   },
   "source": [
    "Now, below the `for loop` you've created, let's create the attributes of the `Car` class. Remember the attributes you wrote down earlier? Let's put them as arguments of the `__init__(self,)` function.\n",
    "\n",
    "Remember, the first argument of the `__init__(self,)` function should always be the `self` keyword. \n",
    "\n",
    "The `self` argument represents the object itself. That is a way for you to have access to the objects own attribute. \n"
   ]
  },
  {
   "cell_type": "markdown",
   "metadata": {
    "colab_type": "text",
    "id": "EuP7N9DzTYxj"
   },
   "source": [
    "### First, let's start creating one single attribute of this car."
   ]
  },
  {
   "cell_type": "markdown",
   "metadata": {
    "colab_type": "text",
    "id": "Szqw_HxlTYxk"
   },
   "source": [
    "Let's say you have chosen `name` as a car attribute (what? can't a car have a name?). \n",
    "\n",
    "If you want your class to receive a specific car name as an argument, you have to put this variable as the argument of the `__init__` function. So, to add `name`, the results of your special function definition would be:\n",
    "\n",
    "```python\n",
    "def __init__(self, name):\n",
    "    pass\n",
    "```\n",
    "\n",
    "Now, when you instantiate your Car class, the syntax would be similar to calling a function (which, by now, you should now that it is what you are effectively doing - you are calling the __init__ method), so what the syntax would be:\n",
    "\n",
    "*Hint: If you don't specify an argument, the python interpreter will complain that your class requires one argument (try that - if you don't try it now, it is not a problem, you'll try in future, even when you don't want to).*\n"
   ]
  },
  {
   "cell_type": "code",
   "execution_count": null,
   "metadata": {
    "colab": {},
    "colab_type": "code",
    "id": "Uz0lt0tuTYxk"
   },
   "outputs": [],
   "source": [
    "# your code here"
   ]
  },
  {
   "cell_type": "markdown",
   "metadata": {
    "colab_type": "text",
    "id": "FLmjUel1TYxo"
   },
   "source": [
    "### Now let's store that new argument\n",
    "\n",
    "By now, you are only receiving the name of the car as an argument, but you are not doing anything specifically with that variable called `name`.\n",
    "\n",
    "Let's store that in the object. That's the first use of the `self` keyword.\n",
    "\n",
    "To store the variable in a way that the user can access via a `car.SOMETHING`, you have to specify that the object itself is receiving the attribute `name` (for example)\n",
    "\n",
    "Then, **create a variable called `name` that receives the argument `name`** (keep in mind that the name of the variable need not necessarily be the same, you could assing the argument `name` to an attribute called `chimpanze` for example).\n",
    "\n",
    "Also **create the other 5 attributes that you previously had in mind**\n"
   ]
  },
  {
   "cell_type": "code",
   "execution_count": null,
   "metadata": {
    "colab": {},
    "colab_type": "code",
    "id": "7FzwacOwTYxq"
   },
   "outputs": [],
   "source": [
    "# your code here"
   ]
  },
  {
   "cell_type": "markdown",
   "metadata": {
    "colab_type": "text",
    "id": "3fS9sCKjTYxs"
   },
   "source": [
    "### Access the attribute\n",
    "\n",
    "You should now be able to access the object's attribute once you instantiate it as `my_car.name`\n",
    "\n",
    "You can try to write `my_car.<TAB>` to check what attributes or methods your object contains."
   ]
  },
  {
   "cell_type": "code",
   "execution_count": null,
   "metadata": {
    "colab": {},
    "colab_type": "code",
    "id": "if18GWwtTYxt"
   },
   "outputs": [],
   "source": []
  },
  {
   "cell_type": "markdown",
   "metadata": {
    "colab_type": "text",
    "id": "uu5Ma2rvTYxu"
   },
   "source": [
    "## Understanding special methods"
   ]
  },
  {
   "cell_type": "markdown",
   "metadata": {
    "colab_type": "text",
    "id": "ltpSwuvTTYxv"
   },
   "source": [
    "Special methods are the ones that start with double underlines (usually called `dunder`), for example the `__init__` method, the `__doc__` method or `__repr__` method (called as `dunder init`, `dunder doc`, `dunder repr`)."
   ]
  },
  {
   "cell_type": "markdown",
   "metadata": {
    "colab_type": "text",
    "id": "dyytOn27TYxw"
   },
   "source": [
    "The `__repr__` method is responsible to show how your class will be displayed on screen when you display it.\n",
    "Let's create a `__repr__(self)` function on our `Car` class that returns the following string below (copy the string below):\n",
    "\n",
    "```python\n",
    "    car = f'''\n",
    "                  ______--------___\n",
    "                 /|             / |\n",
    "      o___________|_\\__________/__|\n",
    "     ]|___     |  |=   ||  =|___  |\"\n",
    "     //   \\\\    |  |____||_///   \\\\|\"\n",
    "    |  X  |\\--------------/|  X  |\\\"\n",
    "     \\___/                  \\___/\n",
    "    '''\n",
    "```\n",
    "\n",
    "Your class should now have two special methods, `__init__` and `__repr__`"
   ]
  },
  {
   "cell_type": "code",
   "execution_count": 62,
   "metadata": {
    "colab": {},
    "colab_type": "code",
    "id": "y4JUYVALTYxw"
   },
   "outputs": [],
   "source": [
    "class Car:\n",
    "    \n",
    "    def __init__(self, car_name):\n",
    "        self.car_name = car_name\n",
    "    \n",
    "    def __repr__(self):\n",
    "        \n",
    "        car = f'''\n",
    "                      ______--------___\n",
    "                     /|             / |\n",
    "          o___________|_\\__________/__|\n",
    "         ]|___     |  |=   ||  =|___  |\"\n",
    "         //   \\\\    |  |____||_///   \\\\|\"\n",
    "        |  X  |\\--------------/|  X  |\\\"\n",
    "         \\___/                  \\___/\n",
    "        '''\n",
    "        \n",
    "        return car"
   ]
  },
  {
   "cell_type": "markdown",
   "metadata": {
    "colab_type": "text",
    "id": "cZV4Qq62TYx4"
   },
   "source": [
    "### Now instantiate your Car class again"
   ]
  },
  {
   "cell_type": "code",
   "execution_count": 63,
   "metadata": {
    "colab": {},
    "colab_type": "code",
    "id": "K51Kjik8TYx4"
   },
   "outputs": [],
   "source": [
    "my_car = Car('Jeguinho')"
   ]
  },
  {
   "cell_type": "markdown",
   "metadata": {
    "colab_type": "text",
    "id": "ZoFEGcT1TYx8"
   },
   "source": [
    "### And check what happens when you print your object on screen"
   ]
  },
  {
   "cell_type": "code",
   "execution_count": 64,
   "metadata": {
    "colab": {},
    "colab_type": "code",
    "id": "v3JCceBBTYx9"
   },
   "outputs": [
    {
     "name": "stdout",
     "output_type": "stream",
     "text": [
      "\n",
      "                      ______--------___\n",
      "                     /|             / |\n",
      "          o___________|_\\__________/__|\n",
      "         ]|___     |  |=   ||  =|___  |\"\n",
      "         //   \\    |  |____||_///   \\|\"\n",
      "        |  X  |\\--------------/|  X  |\"\n",
      "         \\___/                  \\___/\n",
      "        \n"
     ]
    }
   ],
   "source": [
    "print(my_car)"
   ]
  },
  {
   "cell_type": "markdown",
   "metadata": {
    "colab_type": "text",
    "id": "tfhgwGFDTYyA"
   },
   "source": [
    "### Now create a simple method to receive and return the `self` variable\n",
    "\n",
    "Create a simple method inside your `class Car` and return `self` the self argument. Name this method `get_itself`."
   ]
  },
  {
   "cell_type": "code",
   "execution_count": 65,
   "metadata": {
    "colab": {},
    "colab_type": "code",
    "id": "jEQNj8r4TYyB"
   },
   "outputs": [],
   "source": [
    "class Car:\n",
    "    \n",
    "    def __init__(self, car_name):\n",
    "        self.car_name = car_name\n",
    "    \n",
    "    def __repr__(self):\n",
    "        \n",
    "        car = f'''\n",
    "                      ______--------___\n",
    "                     /|             / |\n",
    "          o___________|_\\__________/__|\n",
    "         ]|___     |  |=   ||  =|___  |\"\n",
    "         //   \\\\    |  |____||_///   \\\\|\"\n",
    "        |  X  |\\--------------/|  X  |\\\"\n",
    "         \\___/                  \\___/\n",
    "        '''\n",
    "        \n",
    "        return car\n",
    "    \n",
    "    def get_itself(self):\n",
    "        return self"
   ]
  },
  {
   "cell_type": "markdown",
   "metadata": {
    "colab_type": "text",
    "id": "Zd2avbOGTYyE"
   },
   "source": [
    "#### Now instantiate the Car class and call `get_itself()`"
   ]
  },
  {
   "cell_type": "code",
   "execution_count": 66,
   "metadata": {
    "colab": {},
    "colab_type": "code",
    "id": "pUl9ZI8YTYyF"
   },
   "outputs": [],
   "source": [
    "my_car = Car('andre')"
   ]
  },
  {
   "cell_type": "code",
   "execution_count": 67,
   "metadata": {
    "colab": {},
    "colab_type": "code",
    "id": "AZ3o-NCkTYyK"
   },
   "outputs": [
    {
     "data": {
      "text/plain": [
       "\n",
       "                      ______--------___\n",
       "                     /|             / |\n",
       "          o___________|_\\__________/__|\n",
       "         ]|___     |  |=   ||  =|___  |\"\n",
       "         //   \\    |  |____||_///   \\|\"\n",
       "        |  X  |\\--------------/|  X  |\"\n",
       "         \\___/                  \\___/\n",
       "        "
      ]
     },
     "execution_count": 67,
     "metadata": {},
     "output_type": "execute_result"
    }
   ],
   "source": [
    "my_car.get_itself()"
   ]
  },
  {
   "cell_type": "markdown",
   "metadata": {
    "colab_type": "text",
    "id": "QZ25I6chTYyL"
   },
   "source": [
    "This happens because you are print this specific object. "
   ]
  }
 ],
 "metadata": {
  "colab": {
   "collapsed_sections": [
    "TCj5NklYTYvu",
    "YMpWYJFwTYvz",
    "LWMc9bikTYv4",
    "ikvacQQ3TYv7",
    "MXm2-PEbTYwA",
    "zNR5w4cWTYwE",
    "iqffTpd3TYwU",
    "mn0UwlZATYwX",
    "bs7KvyTwTYwc",
    "tCoX4ZYLTYwj",
    "MTgNfgeYTYwm",
    "VQ9C0CjkTYwq",
    "I0IlScuLTYw5",
    "bh1SJi3lTYxf",
    "EuP7N9DzTYxj",
    "FLmjUel1TYxo",
    "3fS9sCKjTYxs",
    "uu5Ma2rvTYxu",
    "cZV4Qq62TYx4",
    "ZoFEGcT1TYx8",
    "tfhgwGFDTYyA",
    "Zd2avbOGTYyE"
   ],
   "name": "[BONUS] challenge-02.ipynb",
   "provenance": []
  },
  "kernelspec": {
   "display_name": "Python 3",
   "language": "python",
   "name": "python3"
  },
  "language_info": {
   "codemirror_mode": {
    "name": "ipython",
    "version": 3
   },
   "file_extension": ".py",
   "mimetype": "text/x-python",
   "name": "python",
   "nbconvert_exporter": "python",
   "pygments_lexer": "ipython3",
   "version": "3.8.1"
  },
  "toc": {
   "base_numbering": 1,
   "nav_menu": {},
   "number_sections": true,
   "sideBar": true,
   "skip_h1_title": false,
   "title_cell": "Table of Contents",
   "title_sidebar": "Contents",
   "toc_cell": false,
   "toc_position": {},
   "toc_section_display": true,
   "toc_window_display": false
  }
 },
 "nbformat": 4,
 "nbformat_minor": 1
}

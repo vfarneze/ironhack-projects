{
 "cells": [
  {
   "cell_type": "markdown",
   "metadata": {},
   "source": [
    "# Before your start:\n",
    "- Read the README.md file\n",
    "- Comment as much as you can and use the resources in the README.md file\n",
    "- Happy learning!"
   ]
  },
  {
   "cell_type": "code",
   "execution_count": 8,
   "metadata": {},
   "outputs": [],
   "source": [
    "import numpy as np\n",
    "import pandas as pd"
   ]
  },
  {
   "cell_type": "markdown",
   "metadata": {},
   "source": [
    "# Challenge - Inside a function\n",
    "You are already familiar with several built in functions on python as well as libraries. Let's try to figure out how they are made in pure python. "
   ]
  },
  {
   "cell_type": "markdown",
   "metadata": {},
   "source": [
    "Create a function that returns the count of a list of numbers"
   ]
  },
  {
   "cell_type": "code",
   "execution_count": 9,
   "metadata": {},
   "outputs": [],
   "source": [
    "#### The fun here will be trying not to use the fundamental functions like len(), sum(), etc...\n",
    "def like_len(lista):\n",
    "    '''Essa função retorna o número de elementos numa função'''\n",
    "    \n",
    "    soma = 0\n",
    "    for i in lista:\n",
    "        soma += 1\n",
    "    \n",
    "    return soma"
   ]
  },
  {
   "cell_type": "markdown",
   "metadata": {},
   "source": [
    "Create a function that returns the mean of a list of numbers"
   ]
  },
  {
   "cell_type": "code",
   "execution_count": 10,
   "metadata": {},
   "outputs": [],
   "source": [
    "# Your code here:\n",
    "def not_numpy_but_calc_mean(lista):\n",
    "    '''Essa função retorna a média dos elementos de uma lista'''\n",
    "    \n",
    "    soma = 0\n",
    "    for number in lista:\n",
    "        soma += number\n",
    "    \n",
    "    return soma/like_len(lista)"
   ]
  },
  {
   "cell_type": "markdown",
   "metadata": {},
   "source": [
    "Create a function that returns the standard deviation of a list of numbers using the previous functions you created. "
   ]
  },
  {
   "cell_type": "code",
   "execution_count": 11,
   "metadata": {},
   "outputs": [],
   "source": [
    "# Your code here:\n",
    "def fake_numpy_dot_std(lista):\n",
    "    '''Essa função retorna o desvio padrão dos valores dos elementos de uma lista'''\n",
    "    \n",
    "    #primeiro calculamos a média\n",
    "    media = not_numpy_but_calc_mean(lista)\n",
    "    \n",
    "    #depois calculamos o número de elementos\n",
    "    numero_de_elementos = like_len(lista)\n",
    "    \n",
    "    #depois calculamos a lista de variâncias\n",
    "    lista_desvios_quadrados = [(valor-media)**2 for valor in lista]\n",
    "    \n",
    "    #por fim calculamos o desvio padrão: que é a raiz da média dos desvios quadrados\n",
    "    devio_padrao = (not_numpy_but_calc_mean(lista_desvios_quadrados))**(1/2)\n",
    "    \n",
    "    return devio_padrao"
   ]
  },
  {
   "cell_type": "markdown",
   "metadata": {},
   "source": [
    "------------------------------------------"
   ]
  },
  {
   "cell_type": "code",
   "execution_count": 13,
   "metadata": {},
   "outputs": [],
   "source": [
    "#vamos testar \n",
    "import numpy as np\n",
    "\n",
    "lista_teste = [10,13,45,49,55,12,10,11,13,19]"
   ]
  },
  {
   "cell_type": "code",
   "execution_count": 14,
   "metadata": {},
   "outputs": [
    {
     "data": {
      "text/plain": [
       "True"
      ]
     },
     "execution_count": 14,
     "metadata": {},
     "output_type": "execute_result"
    }
   ],
   "source": [
    "len(lista_teste) == like_len(lista_teste)"
   ]
  },
  {
   "cell_type": "code",
   "execution_count": 15,
   "metadata": {},
   "outputs": [
    {
     "data": {
      "text/plain": [
       "True"
      ]
     },
     "execution_count": 15,
     "metadata": {},
     "output_type": "execute_result"
    }
   ],
   "source": [
    "np.mean(lista_teste) == not_numpy_but_calc_mean(lista_teste)"
   ]
  },
  {
   "cell_type": "code",
   "execution_count": 16,
   "metadata": {},
   "outputs": [
    {
     "data": {
      "text/plain": [
       "True"
      ]
     },
     "execution_count": 16,
     "metadata": {},
     "output_type": "execute_result"
    }
   ],
   "source": [
    "np.std(lista_teste) == fake_numpy_dot_std(lista_teste)"
   ]
  },
  {
   "cell_type": "code",
   "execution_count": null,
   "metadata": {},
   "outputs": [],
   "source": [
    "#### UHUULLL, TUDO TRUE!!!"
   ]
  },
  {
   "cell_type": "markdown",
   "metadata": {},
   "source": [
    "------------------------------------------"
   ]
  },
  {
   "cell_type": "markdown",
   "metadata": {},
   "source": [
    "Create a function that returns the count, mean and standard deviation of a given list. Document this function using triple quotes, your documentation should have description, parameters, returns and examples. "
   ]
  },
  {
   "cell_type": "code",
   "execution_count": 17,
   "metadata": {},
   "outputs": [
    {
     "name": "stdout",
     "output_type": "stream",
     "text": [
      "(10, 23.7, 17.31502237942533)\n"
     ]
    }
   ],
   "source": [
    "# Your code here:\n",
    "def parametros_estatisticos(lista):\n",
    "    '''Essa função retorna: a quantidade de elementos, além da média e do desvio padrão destes.'''\n",
    "    \n",
    "    count = like_len(lista)\n",
    "    mean = not_numpy_but_calc_mean(lista)\n",
    "    std = fake_numpy_dot_std(lista)\n",
    "    \n",
    "    return count, mean, std"
   ]
  },
  {
   "cell_type": "code",
   "execution_count": 20,
   "metadata": {
    "scrolled": true
   },
   "outputs": [
    {
     "name": "stdout",
     "output_type": "stream",
     "text": [
      "Parâmetros pela função criada: (10, 23.7, 17.31502237942533)\n",
      "Parâmetros usando as clássicas funções \n",
      "  len(): 10 \n",
      "  np.mean(): 23.7 \n",
      "  np.std(): 17.31502237942533\n"
     ]
    }
   ],
   "source": [
    "# Verificando se tudo funciona:\n",
    "\n",
    "print(f'Parâmetros pela função criada: {parametros_estatisticos(lista_teste)}')\n",
    "\n",
    "print(f'Parâmetros usando as clássicas funções \\n  len(): {len(lista_teste)} \\n  np.mean(): {np.mean(lista_teste)} \\n  np.std(): {np.std(lista_teste)}')"
   ]
  },
  {
   "cell_type": "markdown",
   "metadata": {},
   "source": [
    "# Challenge  - String Cleaning\n",
    "When working with textual data you will often have to clean it before being able to analyze it. Create a function that receives a string and returns that string in all lower case, without special characters and in alphabetical order. "
   ]
  },
  {
   "cell_type": "code",
   "execution_count": 41,
   "metadata": {},
   "outputs": [],
   "source": [
    "# Your code here:\n",
    "def clean_string(string, blacklist=\"!@#$1234567890\"):\n",
    "    '''receives a string and returns that string in all lower case,\n",
    "        without special characters and in alphabetical order.\n",
    "        It accepts 2 variables: string is the string to be clean,\n",
    "        and blacklist is a string containing characters to be removed,\n",
    "        being \"!@#$1234567890\" as default.'''\n",
    "\n",
    "    #we first lower all words:\n",
    "    string.lower()\n",
    "    \n",
    "    #remove special characters:\n",
    "    for char in blacklist:\n",
    "        string = string.replace(char, '')\n",
    "    \n",
    "    #Now sort it. To do this, we need for loop with what is left with the input string.\n",
    "    \n",
    "    #we create a list of letters\n",
    "    letters = []\n",
    "    for letter in string:\n",
    "        letters.append(letter)\n",
    "    \n",
    "    #sort it and merge it, return it:\n",
    "    return ''.join(sorted(letters))    "
   ]
  },
  {
   "cell_type": "markdown",
   "metadata": {},
   "source": [
    "# Challenge  - Classification\n",
    "Sometimes datasets provide very good and precise information but not in the way we need to use it. In this challenge, make a function that takes a numeric value (age or income for example) and turns it into a category (could be from Very Low to Very High or rated from 0 to 10). \n"
   ]
  },
  {
   "cell_type": "code",
   "execution_count": 92,
   "metadata": {},
   "outputs": [],
   "source": [
    "# Your code here:\n",
    "def person_generation(age:int, current_year:int = 2020):\n",
    "    '''This function takes the age of someone and informs in which generation this person was born.\n",
    "    \n",
    "    Takes two arguments: age of a person and the current_year, with 2020 by default\n",
    "    \n",
    "    Categories are based on the named generations of the western world, according to wikipedia. They are:\n",
    "    The Lost Generation: people born from 1883 to 1900.\n",
    "    The Silent Generation: people born from 1901 to 1927\n",
    "    The Greatest Generation: people born from 1928 to 1945\n",
    "    Baby boomers: people born from 1946 to 1964\n",
    "    Generation X: people born from 1965 to 1980\n",
    "    Millennials: people born from 1981 to 1996\n",
    "    Generation Z: people born from 1996 to 2012\n",
    "    Generation Alpha: people born from 2012 to today'''\n",
    "    \n",
    "    # function also needs to take age and year as integers:\n",
    "    if type(age) != int or type(current_year) != int:\n",
    "         raise TypeError('Age and/or current year must be a integers!')\n",
    "    \n",
    "    # Age cannot be also a negative number!!!\n",
    "    if age < 0:\n",
    "         raise ValueError('Age cannot be a negative number!')\n",
    "    \n",
    "    birth_year = current_year - age\n",
    "    \n",
    "    # now we need an for loop to construct categories:\n",
    "    gen_dicts = {}\n",
    "    \n",
    "    # we use multiple for loops to categorize. In this dictionary, keys are the years, and values are the generations.\n",
    "\n",
    "    for year in range(1883,1901):\n",
    "        gen_dicts.update({year:'The Lost Generation'})\n",
    "    for year in range(1901,1928):\n",
    "        gen_dicts.update({year:'The Silent Generation'})\n",
    "    for year in range(1928,1946):\n",
    "        gen_dicts.update({year:'The Greatest Generation'})\n",
    "    for year in range(1946,1965):\n",
    "        gen_dicts.update({year:'The Baby boomers'})\n",
    "    for year in range(1965,1981):\n",
    "        gen_dicts.update({year:'The Generation X'})\n",
    "    for year in range(1981,1997):\n",
    "        gen_dicts.update({year:'The Millennials'})\n",
    "    for year in range(1997,2013):\n",
    "        gen_dicts.update({year:'The Generation Z'})\n",
    "    for year in range(2013,current_year+1):\n",
    "        gen_dicts.update({year:'The Generation Alpha'}) \n",
    "    # I am pretty sure we can reduce de amount of code, but I will think later something about it.\n",
    "    \n",
    "    \n",
    "    # now we check to which generation the person belongs.\n",
    "    person_generation = gen_dicts[birth_year]\n",
    "\n",
    "    return person_generation\n",
    "    \n",
    "    \n"
   ]
  },
  {
   "cell_type": "markdown",
   "metadata": {},
   "source": [
    "Victor: I did a shorter version of this code below!!!"
   ]
  },
  {
   "cell_type": "code",
   "execution_count": 110,
   "metadata": {
    "code_folding": [
     1
    ]
   },
   "outputs": [],
   "source": [
    "# If you wanna see a shorter version of the code, check below:\n",
    "def person_generation(age:int, current_year:int = 2020):\n",
    "    '''This function takes the age of someone and informs in which generation this person was born.\n",
    "    \n",
    "    Takes two arguments: age of a person and the current_year, with 2020 by default\n",
    "    \n",
    "    Categories are based on the named generations of the western world, according to wikipedia. They are:\n",
    "    The Lost Generation: people born from 1883 to 1900.\n",
    "    The Silent Generation: people born from 1901 to 1927\n",
    "    The Greatest Generation: people born from 1928 to 1945\n",
    "    Baby boomers: people born from 1946 to 1964\n",
    "    Generation X: people born from 1965 to 1980\n",
    "    Millennials: people born from 1981 to 1996\n",
    "    Generation Z: people born from 1996 to 2012\n",
    "    Generation Alpha: people born from 2012 to today'''\n",
    "    \n",
    "    # function also needs to take age and year as integers:\n",
    "    if type(age) != int or type(current_year) != int:\n",
    "         raise TypeError('Age and/or current year must be a integers!')\n",
    "    \n",
    "    # Age cannot be also a negative number!!!\n",
    "    if age < 0:\n",
    "         raise ValueError('Age cannot be a negative number!')\n",
    "    \n",
    "    birth_year = current_year - age\n",
    "    \n",
    "    # now we need an for loop to construct categories:\n",
    "    gen_dicts = {}\n",
    "    \n",
    "    # we use multiple for loops to categorize. In this dictionary, keys are the years, and values are the generations.\n",
    "    \n",
    "    # first we create two lists, with the year spams and the generations.\n",
    "    list_of_years = [1883,1900,1927,1945,1964,1980,1996,2012,current_year]\n",
    "    list_of_generations = ['The Lost Generation','The Silent Generation',\n",
    "                          'The Greatest Generation','The Baby boomers',\n",
    "                          'The Generation X','The Millennials',\n",
    "                          'The Generation Z','The Generation Alpha']\n",
    "    \n",
    "    # we iterate over the list_of_generations:\n",
    "    for index in range(len(list_of_generations)):\n",
    "\n",
    "        # we select the years from the list_of_years. I.e. the first two would be 1883 and 1900\n",
    "        start_year = list_of_years[index]\n",
    "        end_year = list_of_years[index+1]\n",
    "        \n",
    "        # now we create keys for every year and generation. I.e. the first one would be '1883':'The Lost Generation'\n",
    "        for year in range(start_year,end_year+1):\n",
    "            generation = list_of_generations[index]\n",
    "            gen_dicts.update({year:generation})\n",
    "    \n",
    "    # now we check to which generation the person belongs.\n",
    "    person_generation = gen_dicts[birth_year]\n",
    "    return person_generation"
   ]
  },
  {
   "cell_type": "code",
   "execution_count": 112,
   "metadata": {},
   "outputs": [
    {
     "data": {
      "text/plain": [
       "'The Millennials'"
      ]
     },
     "execution_count": 112,
     "metadata": {},
     "output_type": "execute_result"
    }
   ],
   "source": [
    "# Testandoooo:\n",
    "person_generation(32)"
   ]
  },
  {
   "cell_type": "code",
   "execution_count": 113,
   "metadata": {},
   "outputs": [
    {
     "data": {
      "text/plain": [
       "'The Baby boomers'"
      ]
     },
     "execution_count": 113,
     "metadata": {},
     "output_type": "execute_result"
    }
   ],
   "source": [
    "# Testandoooo:\n",
    "person_generation(58)"
   ]
  },
  {
   "cell_type": "code",
   "execution_count": 114,
   "metadata": {},
   "outputs": [
    {
     "data": {
      "text/plain": [
       "'The Generation Z'"
      ]
     },
     "execution_count": 114,
     "metadata": {},
     "output_type": "execute_result"
    }
   ],
   "source": [
    "# Testandoooo:\n",
    "person_generation(12)"
   ]
  },
  {
   "cell_type": "markdown",
   "metadata": {},
   "source": [
    "# Challenge  - Recursion \n",
    "In some cases it is interesting to build a function that calls itself. Use a recursive function that asks for an input from the users age and keeps asking for it until the input is a number between 0 and 150. "
   ]
  },
  {
   "cell_type": "code",
   "execution_count": 1,
   "metadata": {},
   "outputs": [],
   "source": [
    "# Your code here:\n",
    "def your_age():\n",
    "    ''' This function asks for the user age\n",
    "    \n",
    "    It keeps asking it until the input is a number between 0 and 150'''\n",
    "    \n",
    "    #infinite loop, it will be broken when a valid age is inserted\n",
    "    while True:\n",
    "        age = input('Please, insert your age: ')\n",
    "        age = int(age)\n",
    "    \n",
    "        if age >= 0 and age <= 150:\n",
    "            break\n",
    "    \n",
    "    if age > 120:\n",
    "        return print(f'User is: {age} years old... is he a ghost!?')\n",
    "    else:\n",
    "        return print(f'User is: {age} years old')"
   ]
  },
  {
   "cell_type": "code",
   "execution_count": 4,
   "metadata": {},
   "outputs": [
    {
     "name": "stdout",
     "output_type": "stream",
     "text": [
      "Please, insert your age: 155\n",
      "Please, insert your age: 32\n",
      "User is: 32 years old\n"
     ]
    }
   ],
   "source": [
    "#testing:\n",
    "your_age()"
   ]
  },
  {
   "cell_type": "markdown",
   "metadata": {},
   "source": [
    "# Challenge - Global and local variables "
   ]
  },
  {
   "cell_type": "markdown",
   "metadata": {},
   "source": [
    "Make a function that returns the buzz string in alphabetical order  "
   ]
  },
  {
   "cell_type": "code",
   "execution_count": 9,
   "metadata": {},
   "outputs": [],
   "source": [
    "buzz = \"Big Data, Machine Learning, AI, Data Warehouse, Pipeline\"\n",
    "\n",
    "def sorter_cutter(string):\n",
    "    '''This function returns a string in groups of words separated by alphabetical order.\n",
    "    \n",
    "    It operates by separating the string by commans, and sorting everything'''\n",
    "    \n",
    "    #we start by spliting all\n",
    "    string = string.split(',')\n",
    "    string.sort()\n",
    "    return string"
   ]
  },
  {
   "cell_type": "code",
   "execution_count": 10,
   "metadata": {},
   "outputs": [
    {
     "data": {
      "text/plain": [
       "[' AI', ' Data Warehouse', ' Machine Learning', ' Pipeline', 'Big Data']"
      ]
     },
     "execution_count": 10,
     "metadata": {},
     "output_type": "execute_result"
    }
   ],
   "source": [
    "#testing\n",
    "sorter_cutter(buzz)"
   ]
  },
  {
   "cell_type": "markdown",
   "metadata": {},
   "source": [
    "Make a function without return that modifies the buzz string and puts it in alphabetical order"
   ]
  },
  {
   "cell_type": "code",
   "execution_count": 21,
   "metadata": {},
   "outputs": [],
   "source": [
    "buzz = \"Big Data, Machine Learning, AI, Data Warehouse, Pipeline\"\n",
    "\n",
    "def sorter_cutter(string,in_words = False):\n",
    "    '''This function returns a string in groups of words separated by alphabetical order.\n",
    "    \n",
    "    by default, it operates by separating the string by commans, and sorting everything\n",
    "    if in_words = True, it will separate all groups into words.'''\n",
    "    \n",
    "    #The default mode:\n",
    "    if in_words == False:    \n",
    "        #we start by spliting all\n",
    "        string = string.split(',')\n",
    "        string.sort()\n",
    "        return string\n",
    "    \n",
    "    #the in_words mode true: separating by spaces and commas\n",
    "    if in_words == True:\n",
    "    \n",
    "        #we start by replacing commas for spacebars\n",
    "        string = string.replace(',','')\n",
    "        \n",
    "        #now we split and sort\n",
    "        string = string.split(' ')\n",
    "        string.sort()\n",
    "        return string\n",
    "       \n",
    "    "
   ]
  },
  {
   "cell_type": "code",
   "execution_count": 22,
   "metadata": {},
   "outputs": [
    {
     "data": {
      "text/plain": [
       "['AI', 'Big', 'Data', 'Data', 'Learning', 'Machine', 'Pipeline', 'Warehouse']"
      ]
     },
     "execution_count": 22,
     "metadata": {},
     "output_type": "execute_result"
    }
   ],
   "source": [
    "#testing\n",
    "sorter_cutter(buzz,in_words = True)"
   ]
  },
  {
   "cell_type": "markdown",
   "metadata": {},
   "source": [
    "# Bonus Challenge  - Applying Functions to DataFrames\n",
    "\n",
    "In this challenge, we will look at how to transform cells or entire columns at once.\n"
   ]
  },
  {
   "cell_type": "code",
   "execution_count": 114,
   "metadata": {},
   "outputs": [],
   "source": [
    "import pandas as pd"
   ]
  },
  {
   "cell_type": "code",
   "execution_count": 115,
   "metadata": {},
   "outputs": [],
   "source": [
    "iris_numeric = pd.DataFrame(data =[[5.1,3.5,1.4,0.2], [4.9,3,1.4,0.2],[4.7,3.2,1.3,0.2],[4.6,3.1,1.5,0.2],[5,3.6,1.4,0.2],[5.4,3.9,1.7,0.4],[4.6,3.4,1.4,0.3],[5,3.4,1.5,0.2],[4.4,2.9,1.4,0.2],[4.9,3.1,1.5,0.1]],columns = ['sepal_length', 'sepal_width', 'petal_length','petal_width'])"
   ]
  },
  {
   "cell_type": "markdown",
   "metadata": {},
   "source": [
    "Let's look at the dataset using the `head` function."
   ]
  },
  {
   "cell_type": "code",
   "execution_count": 116,
   "metadata": {},
   "outputs": [
    {
     "data": {
      "text/html": [
       "<div>\n",
       "<style scoped>\n",
       "    .dataframe tbody tr th:only-of-type {\n",
       "        vertical-align: middle;\n",
       "    }\n",
       "\n",
       "    .dataframe tbody tr th {\n",
       "        vertical-align: top;\n",
       "    }\n",
       "\n",
       "    .dataframe thead th {\n",
       "        text-align: right;\n",
       "    }\n",
       "</style>\n",
       "<table border=\"1\" class=\"dataframe\">\n",
       "  <thead>\n",
       "    <tr style=\"text-align: right;\">\n",
       "      <th></th>\n",
       "      <th>sepal_length</th>\n",
       "      <th>sepal_width</th>\n",
       "      <th>petal_length</th>\n",
       "      <th>petal_width</th>\n",
       "    </tr>\n",
       "  </thead>\n",
       "  <tbody>\n",
       "    <tr>\n",
       "      <th>0</th>\n",
       "      <td>5.1</td>\n",
       "      <td>3.5</td>\n",
       "      <td>1.4</td>\n",
       "      <td>0.2</td>\n",
       "    </tr>\n",
       "    <tr>\n",
       "      <th>1</th>\n",
       "      <td>4.9</td>\n",
       "      <td>3.0</td>\n",
       "      <td>1.4</td>\n",
       "      <td>0.2</td>\n",
       "    </tr>\n",
       "    <tr>\n",
       "      <th>2</th>\n",
       "      <td>4.7</td>\n",
       "      <td>3.2</td>\n",
       "      <td>1.3</td>\n",
       "      <td>0.2</td>\n",
       "    </tr>\n",
       "    <tr>\n",
       "      <th>3</th>\n",
       "      <td>4.6</td>\n",
       "      <td>3.1</td>\n",
       "      <td>1.5</td>\n",
       "      <td>0.2</td>\n",
       "    </tr>\n",
       "    <tr>\n",
       "      <th>4</th>\n",
       "      <td>5.0</td>\n",
       "      <td>3.6</td>\n",
       "      <td>1.4</td>\n",
       "      <td>0.2</td>\n",
       "    </tr>\n",
       "  </tbody>\n",
       "</table>\n",
       "</div>"
      ],
      "text/plain": [
       "   sepal_length  sepal_width  petal_length  petal_width\n",
       "0           5.1          3.5           1.4          0.2\n",
       "1           4.9          3.0           1.4          0.2\n",
       "2           4.7          3.2           1.3          0.2\n",
       "3           4.6          3.1           1.5          0.2\n",
       "4           5.0          3.6           1.4          0.2"
      ]
     },
     "execution_count": 116,
     "metadata": {},
     "output_type": "execute_result"
    }
   ],
   "source": [
    "# Your code here:\n",
    "iris_numeric.head()"
   ]
  },
  {
   "cell_type": "markdown",
   "metadata": {},
   "source": [
    "Let's start off by using built-in functions. Try to use the numpy mean function and describe what happens in the comments of the code."
   ]
  },
  {
   "cell_type": "code",
   "execution_count": 117,
   "metadata": {},
   "outputs": [
    {
     "data": {
      "text/plain": [
       "sepal_length    4.86\n",
       "sepal_width     3.31\n",
       "petal_length    1.45\n",
       "petal_width     0.22\n",
       "dtype: float64"
      ]
     },
     "execution_count": 117,
     "metadata": {},
     "output_type": "execute_result"
    }
   ],
   "source": [
    "import numpy as np\n",
    "np.mean(iris_numeric)\n",
    "\n",
    "# Descripition: np.mean() returns a pandas Series containing the mean \n",
    "# of the elemets of each column, indexed by the name of the column"
   ]
  },
  {
   "cell_type": "markdown",
   "metadata": {},
   "source": [
    "Next, we'll use the standard deviation function in numpy (np.std). Describe what happened in the comments."
   ]
  },
  {
   "cell_type": "code",
   "execution_count": 118,
   "metadata": {},
   "outputs": [
    {
     "data": {
      "text/plain": [
       "sepal_length    0.276405\n",
       "sepal_width     0.291376\n",
       "petal_length    0.102470\n",
       "petal_width     0.074833\n",
       "dtype: float64"
      ]
     },
     "execution_count": 118,
     "metadata": {},
     "output_type": "execute_result"
    }
   ],
   "source": [
    "np.std(iris_numeric)\n",
    "\n",
    "# Descripition: np.std() returns a pandas Series containing the standard deviation \n",
    "# of the elemets of each column, indexed by the name of the column"
   ]
  },
  {
   "cell_type": "markdown",
   "metadata": {},
   "source": [
    "The measurements are in centimeters. Let's convert them all to inches. We will write a function that converts centimeters to inches in the cell below. Recall that 1cm = 0.393701in."
   ]
  },
  {
   "cell_type": "code",
   "execution_count": 119,
   "metadata": {},
   "outputs": [],
   "source": [
    "def cm_to_in(x):\n",
    "    '''This function takes in a numeric value in centimeters and converts it to inches'''\n",
    "    # Input: numeric value\n",
    "    # Output: float\n",
    "    \n",
    "    # Sample Input: 1.0\n",
    "    # Sample Output: 0.393701\n",
    "    \n",
    "    # Your code here:\n",
    "    inch = round(x * 0.393701,2)\n",
    "    \n",
    "    return inch\n",
    "    "
   ]
  },
  {
   "cell_type": "markdown",
   "metadata": {},
   "source": [
    "Now convert all columns in `iris_numeric` to inches in the cell below. We like to think of functional transformations as immutable. Therefore, save the transformed data in a dataframe called `iris_inch`."
   ]
  },
  {
   "cell_type": "code",
   "execution_count": 120,
   "metadata": {},
   "outputs": [
    {
     "data": {
      "text/html": [
       "<div>\n",
       "<style scoped>\n",
       "    .dataframe tbody tr th:only-of-type {\n",
       "        vertical-align: middle;\n",
       "    }\n",
       "\n",
       "    .dataframe tbody tr th {\n",
       "        vertical-align: top;\n",
       "    }\n",
       "\n",
       "    .dataframe thead th {\n",
       "        text-align: right;\n",
       "    }\n",
       "</style>\n",
       "<table border=\"1\" class=\"dataframe\">\n",
       "  <thead>\n",
       "    <tr style=\"text-align: right;\">\n",
       "      <th></th>\n",
       "      <th>sepal_length</th>\n",
       "      <th>sepal_width</th>\n",
       "      <th>petal_length</th>\n",
       "      <th>petal_width</th>\n",
       "    </tr>\n",
       "  </thead>\n",
       "  <tbody>\n",
       "    <tr>\n",
       "      <th>0</th>\n",
       "      <td>2.01</td>\n",
       "      <td>1.38</td>\n",
       "      <td>0.55</td>\n",
       "      <td>0.08</td>\n",
       "    </tr>\n",
       "    <tr>\n",
       "      <th>1</th>\n",
       "      <td>1.93</td>\n",
       "      <td>1.18</td>\n",
       "      <td>0.55</td>\n",
       "      <td>0.08</td>\n",
       "    </tr>\n",
       "    <tr>\n",
       "      <th>2</th>\n",
       "      <td>1.85</td>\n",
       "      <td>1.26</td>\n",
       "      <td>0.51</td>\n",
       "      <td>0.08</td>\n",
       "    </tr>\n",
       "    <tr>\n",
       "      <th>3</th>\n",
       "      <td>1.81</td>\n",
       "      <td>1.22</td>\n",
       "      <td>0.59</td>\n",
       "      <td>0.08</td>\n",
       "    </tr>\n",
       "    <tr>\n",
       "      <th>4</th>\n",
       "      <td>1.97</td>\n",
       "      <td>1.42</td>\n",
       "      <td>0.55</td>\n",
       "      <td>0.08</td>\n",
       "    </tr>\n",
       "    <tr>\n",
       "      <th>5</th>\n",
       "      <td>2.13</td>\n",
       "      <td>1.54</td>\n",
       "      <td>0.67</td>\n",
       "      <td>0.16</td>\n",
       "    </tr>\n",
       "    <tr>\n",
       "      <th>6</th>\n",
       "      <td>1.81</td>\n",
       "      <td>1.34</td>\n",
       "      <td>0.55</td>\n",
       "      <td>0.12</td>\n",
       "    </tr>\n",
       "    <tr>\n",
       "      <th>7</th>\n",
       "      <td>1.97</td>\n",
       "      <td>1.34</td>\n",
       "      <td>0.59</td>\n",
       "      <td>0.08</td>\n",
       "    </tr>\n",
       "    <tr>\n",
       "      <th>8</th>\n",
       "      <td>1.73</td>\n",
       "      <td>1.14</td>\n",
       "      <td>0.55</td>\n",
       "      <td>0.08</td>\n",
       "    </tr>\n",
       "    <tr>\n",
       "      <th>9</th>\n",
       "      <td>1.93</td>\n",
       "      <td>1.22</td>\n",
       "      <td>0.59</td>\n",
       "      <td>0.04</td>\n",
       "    </tr>\n",
       "  </tbody>\n",
       "</table>\n",
       "</div>"
      ],
      "text/plain": [
       "   sepal_length  sepal_width  petal_length  petal_width\n",
       "0          2.01         1.38          0.55         0.08\n",
       "1          1.93         1.18          0.55         0.08\n",
       "2          1.85         1.26          0.51         0.08\n",
       "3          1.81         1.22          0.59         0.08\n",
       "4          1.97         1.42          0.55         0.08\n",
       "5          2.13         1.54          0.67         0.16\n",
       "6          1.81         1.34          0.55         0.12\n",
       "7          1.97         1.34          0.59         0.08\n",
       "8          1.73         1.14          0.55         0.08\n",
       "9          1.93         1.22          0.59         0.04"
      ]
     },
     "execution_count": 120,
     "metadata": {},
     "output_type": "execute_result"
    }
   ],
   "source": [
    "# Your code here:\n",
    "iris_inch = cm_to_in(iris_numeric)\n",
    "iris_inch\n"
   ]
  },
  {
   "cell_type": "markdown",
   "metadata": {},
   "source": [
    "We have just found that the original measurements were off by a constant. Define the global constant `error` and set it to 2. Write a function that uses the global constant and adds it to each cell in the dataframe. Apply this function to `iris_numeric` and save the result in `iris_constant`."
   ]
  },
  {
   "cell_type": "code",
   "execution_count": 121,
   "metadata": {},
   "outputs": [],
   "source": [
    "# Define constant below:\n",
    "error = 2\n",
    "\n",
    "def add_constant(x):\n",
    "    # This function adds a global constant to our input.\n",
    "    # Input: numeric value\n",
    "    # Output: numeric value\n",
    "    \n",
    "    # Your code here:\n",
    "    return x + error"
   ]
  },
  {
   "cell_type": "markdown",
   "metadata": {},
   "source": [
    "Read more about applying functions to either rows or columns [here](https://pandas.pydata.org/pandas-docs/stable/generated/pandas.DataFrame.apply.html) and write a function that computes the maximum value for each row of `iris_numeric`"
   ]
  },
  {
   "cell_type": "code",
   "execution_count": 134,
   "metadata": {},
   "outputs": [],
   "source": [
    "# Your code here:\n",
    "#first, we correct our dataframe:\n",
    "\n",
    "iris_numeric_c = add_constant(iris_numeric)\n",
    "\n",
    "def max_of_rows(dataframe):\n",
    "    '''This function computes the maximum value for each row of \n",
    "    it adds a new column called max_value'''\n",
    "    \n",
    "    # we first create a new column of zeros\n",
    "    dataframe['max_value'] = 0\n",
    "    \n",
    "    #iterate over the index of DataFrame\n",
    "    for index in iris_numeric.index:\n",
    "        \n",
    "        max_value_in_row = max(dataframe.iloc[index])\n",
    "        \n",
    "        #store max value in df\n",
    "        dataframe['max_value'][index] = max_value_in_row\n",
    "    \n",
    "    return dataframe\n",
    "        \n",
    "    \n",
    "\n"
   ]
  },
  {
   "cell_type": "code",
   "execution_count": 135,
   "metadata": {},
   "outputs": [
    {
     "name": "stderr",
     "output_type": "stream",
     "text": [
      "<ipython-input-134-cf008e294696>:19: SettingWithCopyWarning: \n",
      "A value is trying to be set on a copy of a slice from a DataFrame\n",
      "\n",
      "See the caveats in the documentation: https://pandas.pydata.org/pandas-docs/stable/user_guide/indexing.html#returning-a-view-versus-a-copy\n",
      "  dataframe['max_value'][index] = max_value_in_row\n"
     ]
    },
    {
     "data": {
      "text/html": [
       "<div>\n",
       "<style scoped>\n",
       "    .dataframe tbody tr th:only-of-type {\n",
       "        vertical-align: middle;\n",
       "    }\n",
       "\n",
       "    .dataframe tbody tr th {\n",
       "        vertical-align: top;\n",
       "    }\n",
       "\n",
       "    .dataframe thead th {\n",
       "        text-align: right;\n",
       "    }\n",
       "</style>\n",
       "<table border=\"1\" class=\"dataframe\">\n",
       "  <thead>\n",
       "    <tr style=\"text-align: right;\">\n",
       "      <th></th>\n",
       "      <th>sepal_length</th>\n",
       "      <th>sepal_width</th>\n",
       "      <th>petal_length</th>\n",
       "      <th>petal_width</th>\n",
       "      <th>max_value</th>\n",
       "    </tr>\n",
       "  </thead>\n",
       "  <tbody>\n",
       "    <tr>\n",
       "      <th>0</th>\n",
       "      <td>7.1</td>\n",
       "      <td>5.5</td>\n",
       "      <td>3.4</td>\n",
       "      <td>2.2</td>\n",
       "      <td>7</td>\n",
       "    </tr>\n",
       "    <tr>\n",
       "      <th>1</th>\n",
       "      <td>6.9</td>\n",
       "      <td>5.0</td>\n",
       "      <td>3.4</td>\n",
       "      <td>2.2</td>\n",
       "      <td>6</td>\n",
       "    </tr>\n",
       "    <tr>\n",
       "      <th>2</th>\n",
       "      <td>6.7</td>\n",
       "      <td>5.2</td>\n",
       "      <td>3.3</td>\n",
       "      <td>2.2</td>\n",
       "      <td>6</td>\n",
       "    </tr>\n",
       "    <tr>\n",
       "      <th>3</th>\n",
       "      <td>6.6</td>\n",
       "      <td>5.1</td>\n",
       "      <td>3.5</td>\n",
       "      <td>2.2</td>\n",
       "      <td>6</td>\n",
       "    </tr>\n",
       "    <tr>\n",
       "      <th>4</th>\n",
       "      <td>7.0</td>\n",
       "      <td>5.6</td>\n",
       "      <td>3.4</td>\n",
       "      <td>2.2</td>\n",
       "      <td>7</td>\n",
       "    </tr>\n",
       "    <tr>\n",
       "      <th>5</th>\n",
       "      <td>7.4</td>\n",
       "      <td>5.9</td>\n",
       "      <td>3.7</td>\n",
       "      <td>2.4</td>\n",
       "      <td>7</td>\n",
       "    </tr>\n",
       "    <tr>\n",
       "      <th>6</th>\n",
       "      <td>6.6</td>\n",
       "      <td>5.4</td>\n",
       "      <td>3.4</td>\n",
       "      <td>2.3</td>\n",
       "      <td>6</td>\n",
       "    </tr>\n",
       "    <tr>\n",
       "      <th>7</th>\n",
       "      <td>7.0</td>\n",
       "      <td>5.4</td>\n",
       "      <td>3.5</td>\n",
       "      <td>2.2</td>\n",
       "      <td>7</td>\n",
       "    </tr>\n",
       "    <tr>\n",
       "      <th>8</th>\n",
       "      <td>6.4</td>\n",
       "      <td>4.9</td>\n",
       "      <td>3.4</td>\n",
       "      <td>2.2</td>\n",
       "      <td>6</td>\n",
       "    </tr>\n",
       "    <tr>\n",
       "      <th>9</th>\n",
       "      <td>6.9</td>\n",
       "      <td>5.1</td>\n",
       "      <td>3.5</td>\n",
       "      <td>2.1</td>\n",
       "      <td>6</td>\n",
       "    </tr>\n",
       "  </tbody>\n",
       "</table>\n",
       "</div>"
      ],
      "text/plain": [
       "   sepal_length  sepal_width  petal_length  petal_width  max_value\n",
       "0           7.1          5.5           3.4          2.2          7\n",
       "1           6.9          5.0           3.4          2.2          6\n",
       "2           6.7          5.2           3.3          2.2          6\n",
       "3           6.6          5.1           3.5          2.2          6\n",
       "4           7.0          5.6           3.4          2.2          7\n",
       "5           7.4          5.9           3.7          2.4          7\n",
       "6           6.6          5.4           3.4          2.3          6\n",
       "7           7.0          5.4           3.5          2.2          7\n",
       "8           6.4          4.9           3.4          2.2          6\n",
       "9           6.9          5.1           3.5          2.1          6"
      ]
     },
     "execution_count": 135,
     "metadata": {},
     "output_type": "execute_result"
    }
   ],
   "source": [
    "max_of_rows(iris_numeric_c)"
   ]
  },
  {
   "cell_type": "markdown",
   "metadata": {},
   "source": [
    "Compute the combined lengths for each row and the combined widths for each row using a function. Assign these values to new columns `total_length` and `total_width`."
   ]
  },
  {
   "cell_type": "code",
   "execution_count": 136,
   "metadata": {},
   "outputs": [],
   "source": [
    "# Your code here:\n",
    "\n",
    "def total_lenth_width(dataframe):\n",
    "    '''This function computes the total values of lentgh and widths of each of row.\n",
    "    It also adds new columns called max_width and max_length'''\n",
    "\n",
    "    # we first create a new column\n",
    "    dataframe['total_width'] = 0\n",
    "    dataframe['total_length'] = 0\n",
    "\n",
    "    for index in iris_numeric.index:\n",
    "        width_sum = dataframe.sepal_width[index] + dataframe.petal_width[index]\n",
    "        len_sum = dataframe.sepal_length[index] + dataframe.petal_length[index]\n",
    "\n",
    "        #store max value in df\n",
    "        dataframe['total_width'][index] = width_sum\n",
    "        dataframe['total_length'][index] = len_sum\n",
    "\n",
    "    return dataframe"
   ]
  },
  {
   "cell_type": "code",
   "execution_count": 137,
   "metadata": {},
   "outputs": [
    {
     "name": "stderr",
     "output_type": "stream",
     "text": [
      "<ipython-input-136-929c535d0c5f>:16: SettingWithCopyWarning: \n",
      "A value is trying to be set on a copy of a slice from a DataFrame\n",
      "\n",
      "See the caveats in the documentation: https://pandas.pydata.org/pandas-docs/stable/user_guide/indexing.html#returning-a-view-versus-a-copy\n",
      "  dataframe['total_width'][index] = width_sum\n",
      "<ipython-input-136-929c535d0c5f>:17: SettingWithCopyWarning: \n",
      "A value is trying to be set on a copy of a slice from a DataFrame\n",
      "\n",
      "See the caveats in the documentation: https://pandas.pydata.org/pandas-docs/stable/user_guide/indexing.html#returning-a-view-versus-a-copy\n",
      "  dataframe['total_length'][index] = len_sum\n"
     ]
    },
    {
     "data": {
      "text/html": [
       "<div>\n",
       "<style scoped>\n",
       "    .dataframe tbody tr th:only-of-type {\n",
       "        vertical-align: middle;\n",
       "    }\n",
       "\n",
       "    .dataframe tbody tr th {\n",
       "        vertical-align: top;\n",
       "    }\n",
       "\n",
       "    .dataframe thead th {\n",
       "        text-align: right;\n",
       "    }\n",
       "</style>\n",
       "<table border=\"1\" class=\"dataframe\">\n",
       "  <thead>\n",
       "    <tr style=\"text-align: right;\">\n",
       "      <th></th>\n",
       "      <th>sepal_length</th>\n",
       "      <th>sepal_width</th>\n",
       "      <th>petal_length</th>\n",
       "      <th>petal_width</th>\n",
       "      <th>max_value</th>\n",
       "      <th>total_width</th>\n",
       "      <th>total_length</th>\n",
       "    </tr>\n",
       "  </thead>\n",
       "  <tbody>\n",
       "    <tr>\n",
       "      <th>0</th>\n",
       "      <td>7.1</td>\n",
       "      <td>5.5</td>\n",
       "      <td>3.4</td>\n",
       "      <td>2.2</td>\n",
       "      <td>7</td>\n",
       "      <td>7</td>\n",
       "      <td>10</td>\n",
       "    </tr>\n",
       "    <tr>\n",
       "      <th>1</th>\n",
       "      <td>6.9</td>\n",
       "      <td>5.0</td>\n",
       "      <td>3.4</td>\n",
       "      <td>2.2</td>\n",
       "      <td>6</td>\n",
       "      <td>7</td>\n",
       "      <td>10</td>\n",
       "    </tr>\n",
       "    <tr>\n",
       "      <th>2</th>\n",
       "      <td>6.7</td>\n",
       "      <td>5.2</td>\n",
       "      <td>3.3</td>\n",
       "      <td>2.2</td>\n",
       "      <td>6</td>\n",
       "      <td>7</td>\n",
       "      <td>10</td>\n",
       "    </tr>\n",
       "    <tr>\n",
       "      <th>3</th>\n",
       "      <td>6.6</td>\n",
       "      <td>5.1</td>\n",
       "      <td>3.5</td>\n",
       "      <td>2.2</td>\n",
       "      <td>6</td>\n",
       "      <td>7</td>\n",
       "      <td>10</td>\n",
       "    </tr>\n",
       "    <tr>\n",
       "      <th>4</th>\n",
       "      <td>7.0</td>\n",
       "      <td>5.6</td>\n",
       "      <td>3.4</td>\n",
       "      <td>2.2</td>\n",
       "      <td>7</td>\n",
       "      <td>7</td>\n",
       "      <td>10</td>\n",
       "    </tr>\n",
       "    <tr>\n",
       "      <th>5</th>\n",
       "      <td>7.4</td>\n",
       "      <td>5.9</td>\n",
       "      <td>3.7</td>\n",
       "      <td>2.4</td>\n",
       "      <td>7</td>\n",
       "      <td>8</td>\n",
       "      <td>11</td>\n",
       "    </tr>\n",
       "    <tr>\n",
       "      <th>6</th>\n",
       "      <td>6.6</td>\n",
       "      <td>5.4</td>\n",
       "      <td>3.4</td>\n",
       "      <td>2.3</td>\n",
       "      <td>6</td>\n",
       "      <td>7</td>\n",
       "      <td>10</td>\n",
       "    </tr>\n",
       "    <tr>\n",
       "      <th>7</th>\n",
       "      <td>7.0</td>\n",
       "      <td>5.4</td>\n",
       "      <td>3.5</td>\n",
       "      <td>2.2</td>\n",
       "      <td>7</td>\n",
       "      <td>7</td>\n",
       "      <td>10</td>\n",
       "    </tr>\n",
       "    <tr>\n",
       "      <th>8</th>\n",
       "      <td>6.4</td>\n",
       "      <td>4.9</td>\n",
       "      <td>3.4</td>\n",
       "      <td>2.2</td>\n",
       "      <td>6</td>\n",
       "      <td>7</td>\n",
       "      <td>9</td>\n",
       "    </tr>\n",
       "    <tr>\n",
       "      <th>9</th>\n",
       "      <td>6.9</td>\n",
       "      <td>5.1</td>\n",
       "      <td>3.5</td>\n",
       "      <td>2.1</td>\n",
       "      <td>6</td>\n",
       "      <td>7</td>\n",
       "      <td>10</td>\n",
       "    </tr>\n",
       "  </tbody>\n",
       "</table>\n",
       "</div>"
      ],
      "text/plain": [
       "   sepal_length  sepal_width  petal_length  petal_width  max_value  \\\n",
       "0           7.1          5.5           3.4          2.2          7   \n",
       "1           6.9          5.0           3.4          2.2          6   \n",
       "2           6.7          5.2           3.3          2.2          6   \n",
       "3           6.6          5.1           3.5          2.2          6   \n",
       "4           7.0          5.6           3.4          2.2          7   \n",
       "5           7.4          5.9           3.7          2.4          7   \n",
       "6           6.6          5.4           3.4          2.3          6   \n",
       "7           7.0          5.4           3.5          2.2          7   \n",
       "8           6.4          4.9           3.4          2.2          6   \n",
       "9           6.9          5.1           3.5          2.1          6   \n",
       "\n",
       "   total_width  total_length  \n",
       "0            7            10  \n",
       "1            7            10  \n",
       "2            7            10  \n",
       "3            7            10  \n",
       "4            7            10  \n",
       "5            8            11  \n",
       "6            7            10  \n",
       "7            7            10  \n",
       "8            7             9  \n",
       "9            7            10  "
      ]
     },
     "execution_count": 137,
     "metadata": {},
     "output_type": "execute_result"
    }
   ],
   "source": [
    " total_lenth_width(iris_numeric_c)"
   ]
  },
  {
   "cell_type": "code",
   "execution_count": null,
   "metadata": {},
   "outputs": [],
   "source": []
  }
 ],
 "metadata": {
  "kernelspec": {
   "display_name": "Python 3",
   "language": "python",
   "name": "python3"
  },
  "language_info": {
   "codemirror_mode": {
    "name": "ipython",
    "version": 3
   },
   "file_extension": ".py",
   "mimetype": "text/x-python",
   "name": "python",
   "nbconvert_exporter": "python",
   "pygments_lexer": "ipython3",
   "version": "3.8.1"
  },
  "toc": {
   "base_numbering": 1,
   "nav_menu": {},
   "number_sections": true,
   "sideBar": true,
   "skip_h1_title": false,
   "title_cell": "Table of Contents",
   "title_sidebar": "Contents",
   "toc_cell": false,
   "toc_position": {},
   "toc_section_display": true,
   "toc_window_display": false
  },
  "varInspector": {
   "cols": {
    "lenName": 16,
    "lenType": 16,
    "lenVar": 40
   },
   "kernels_config": {
    "python": {
     "delete_cmd_postfix": "",
     "delete_cmd_prefix": "del ",
     "library": "var_list.py",
     "varRefreshCmd": "print(var_dic_list())"
    },
    "r": {
     "delete_cmd_postfix": ") ",
     "delete_cmd_prefix": "rm(",
     "library": "var_list.r",
     "varRefreshCmd": "cat(var_dic_list()) "
    }
   },
   "types_to_exclude": [
    "module",
    "function",
    "builtin_function_or_method",
    "instance",
    "_Feature"
   ],
   "window_display": false
  }
 },
 "nbformat": 4,
 "nbformat_minor": 2
}

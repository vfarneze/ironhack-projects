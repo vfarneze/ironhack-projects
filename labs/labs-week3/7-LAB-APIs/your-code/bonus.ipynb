{
 "cells": [
  {
   "cell_type": "markdown",
   "metadata": {},
   "source": [
    "# Additional Challenge for the Nerds"
   ]
  },
  {
   "cell_type": "markdown",
   "metadata": {},
   "source": [
    "#### Create a new file called test.txt.\n",
    "\n",
    "* Create a new repository.\n",
    "* Call the API endpoint to create a new file in the new repository.\n",
    "\n",
    "Include the command you used in the terminal to call the API endpoint and create the file:"
   ]
  },
  {
   "cell_type": "code",
   "execution_count": null,
   "metadata": {},
   "outputs": [],
   "source": [
    "# your command here"
   ]
  },
  {
   "cell_type": "code",
   "execution_count": 5,
   "metadata": {},
   "outputs": [
    {
     "name": "stdout",
     "output_type": "stream",
     "text": [
      "[youtube] BtN-goy9VOY: Downloading webpage\n",
      "[youtube] BtN-goy9VOY: Downloading video info webpage\n",
      "[info] Writing video subtitles to: The Coronavirus Explained & What You Should Do-BtN-goy9VOY.en.vtt\n",
      "[download] Destination: The Coronavirus Explained & What You Should Do-BtN-goy9VOY.mp4\n",
      "\n",
      "[download]   0.0% of 56.47MiB at Unknown speed ETA Unknown ETA\n",
      "[download]   0.0% of 56.47MiB at  1.47MiB/s ETA 00:38         \n",
      "[download]   0.0% of 56.47MiB at 636.95KiB/s ETA 01:30        \n",
      "[download]   0.0% of 56.47MiB at  1.22MiB/s ETA 00:46         \n",
      "[download]   0.1% of 56.47MiB at  1.78MiB/s ETA 00:31         \n",
      "[download]   0.1% of 56.47MiB at  1.58MiB/s ETA 00:35         \n",
      "[download]   0.2% of 56.47MiB at  1.94MiB/s ETA 00:29         \n",
      "[download]   0.4% of 56.47MiB at  2.93MiB/s ETA 00:19         \n",
      "[download]   0.9% of 56.47MiB at  3.31MiB/s ETA 00:16         \n",
      "[download]   1.8% of 56.47MiB at  3.44MiB/s ETA 00:16         \n",
      "[download]   3.5% of 56.47MiB at  4.05MiB/s ETA 00:13         \n",
      "[download]   7.1% of 56.47MiB at  4.52MiB/s ETA 00:11         \n",
      "[download]  14.2% of 56.47MiB at  4.99MiB/s ETA 00:09         \n",
      "[download]  21.2% of 56.47MiB at  5.27MiB/s ETA 00:08         \n",
      "[download]  28.3% of 56.47MiB at  5.38MiB/s ETA 00:07         \n",
      "[download]  35.4% of 56.47MiB at  5.46MiB/s ETA 00:06         \n",
      "[download]  42.5% of 56.47MiB at  5.56MiB/s ETA 00:05         \n",
      "[download]  49.6% of 56.47MiB at  5.65MiB/s ETA 00:05         \n",
      "[download]  56.7% of 56.47MiB at  5.67MiB/s ETA 00:04         \n",
      "[download]  63.7% of 56.47MiB at  5.69MiB/s ETA 00:03         \n",
      "[download]  70.8% of 56.47MiB at  5.71MiB/s ETA 00:02         \n",
      "[download]  77.9% of 56.47MiB at  5.72MiB/s ETA 00:02         \n",
      "[download]  85.0% of 56.47MiB at  5.72MiB/s ETA 00:01         \n",
      "[download]  92.1% of 56.47MiB at  5.72MiB/s ETA 00:00         \n",
      "[download]  99.2% of 56.47MiB at  5.75MiB/s ETA 00:00         \n",
      "[download] 100.0% of 56.47MiB at  5.76MiB/s ETA 00:00         \n",
      "[download] 100% of 56.47MiB in 00:09                          \n"
     ]
    }
   ],
   "source": [
    "youtube-dl --all-subs --write-auto-sub --skip-download https://youtu.be/3mhx5XUYmGw\n",
    "!youtube-dl --write-sub --sub-lang en https://www.youtube.com/watch?v=BtN-goy9VOY"
   ]
  }
 ],
 "metadata": {
  "kernelspec": {
   "display_name": "Python 3",
   "language": "python",
   "name": "python3"
  },
  "language_info": {
   "codemirror_mode": {
    "name": "ipython",
    "version": 3
   },
   "file_extension": ".py",
   "mimetype": "text/x-python",
   "name": "python",
   "nbconvert_exporter": "python",
   "pygments_lexer": "ipython3",
   "version": "3.8.1"
  },
  "toc": {
   "base_numbering": 1,
   "nav_menu": {},
   "number_sections": true,
   "sideBar": true,
   "skip_h1_title": false,
   "title_cell": "Table of Contents",
   "title_sidebar": "Contents",
   "toc_cell": false,
   "toc_position": {},
   "toc_section_display": true,
   "toc_window_display": false
  },
  "varInspector": {
   "cols": {
    "lenName": 16,
    "lenType": 16,
    "lenVar": 40
   },
   "kernels_config": {
    "python": {
     "delete_cmd_postfix": "",
     "delete_cmd_prefix": "del ",
     "library": "var_list.py",
     "varRefreshCmd": "print(var_dic_list())"
    },
    "r": {
     "delete_cmd_postfix": ") ",
     "delete_cmd_prefix": "rm(",
     "library": "var_list.r",
     "varRefreshCmd": "cat(var_dic_list()) "
    }
   },
   "types_to_exclude": [
    "module",
    "function",
    "builtin_function_or_method",
    "instance",
    "_Feature"
   ],
   "window_display": false
  }
 },
 "nbformat": 4,
 "nbformat_minor": 2
}

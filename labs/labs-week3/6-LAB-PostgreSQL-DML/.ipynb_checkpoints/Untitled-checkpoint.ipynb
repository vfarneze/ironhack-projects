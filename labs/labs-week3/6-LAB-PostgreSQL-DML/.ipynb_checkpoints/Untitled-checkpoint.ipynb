{
 "cells": [
  {
   "cell_type": "markdown",
   "metadata": {},
   "source": [
    "![Ironhack logo](https://i.imgur.com/1QgrNNw.png)\n",
    "\n",
    "# Lab | PostgreSQL Select\n",
    "\n",
    "## Introduction\n",
    "\n",
    "In this lab you will practice how to use the PostgreSQL `SELECT` statement which will be extremely useful in your future work as a data analyst/scientist/engineer. **You will use the `publications` database**. You can find it in the Lab card on Student Platform. Use your database management application to query it. \n",
    "\n",
    "You will create a `solutions.sql` file to record your solutions to all challenges.\n",
    "\n",
    "## Challenge 1 - Who Have Published What At Where?\n",
    "\n",
    "In this challenge you will write a PostgreSQL `SELECT` query that joins various tables to figure out what titles each author has published at which publishers. Your output should have at least the following columns:\n",
    "\n",
    "* `AUTHOR ID` - the ID of the author\n",
    "* `LAST NAME` - author last name\n",
    "* `FIRST NAME` - author first name\n",
    "* `TITLE` - name of the published titlec  \n",
    "* `PUBLISHER` - name of the publisher where the title was published\n",
    "\n",
    "Your output will look something like below:\n",
    "\n",
    "![Challenge 1 output](./images/challenge-1.png)\n",
    "\n",
    "*Note: the screenshot above is not the complete output.*\n",
    "\n",
    "If your query is correct, the total rows in your output should be the same as the total number of records in Table `titleauthor`.\n",
    "\n",
    "## Challenge 2 - Who Have Published How Many At Where?\n",
    "\n",
    "Elevating from your solution in Challenge 1, query how many titles each author has published at each publisher. Order your output by the title count in descending order. Your output should look something like below:\n",
    "\n",
    "![Challenge 2 output](./images/challenge-2.png)\n",
    "\n",
    "*Note: the screenshot above is not the complete output.*\n",
    "\n",
    "To check if your output is correct, sum up the `TITLE COUNT` column. The sum number should be the same as the total number of records in Table `titleauthor`.\n",
    "\n",
    "*Hint: In order to count the number of titles published by an author, you need to use [COUNT](https://www.w3resource.com/PostgreSQL/postgresql-count-function.php). Also check out [Group By](https://www.w3resource.com/PostgreSQL/postgresql-group-by.php) because you will count the rows of different groups of data.*\n",
    "\n",
    "## Challenge 3 - Best Selling Authors\n",
    "\n",
    "Who are the top 3 authors who have sold the highest number of titles? Write a query to find out.\n",
    "\n",
    "Requirements:\n",
    "\n",
    "* Your output should have the following columns:\n",
    "\t* `AUTHOR ID` - the ID of the author\n",
    "\t* `LAST NAME` - author last name\n",
    "\t* `FIRST NAME` - author first name\n",
    "\t* `TOTAL` - total number of titles sold from this author\n",
    "* Your output should be ordered based on `TOTAL` from high to low.\n",
    "* Only output the top 3 best selling authors.\n",
    "\n",
    "## Challenge 4 - Best Selling Authors Ranking\n",
    "\n",
    "Now modify your solution in Challenge 3 so that the output will display all 23 authors instead of the top 3. Note that the authors who have sold 0 titles should also appear in your output (ideally display `0` instead of `NULL` as the `TOTAL`). Also order your results based on `TOTAL` from high to low.\n",
    "\n",
    "## Deliverables\n",
    "\n",
    "* `solution.sql` that contains all your MySQL queries.\n",
    "\n",
    "## Submission\n",
    "\n",
    "* Add `solutions.sql` to git.\n",
    "* Commit your code.\n",
    "* Submit (push) your solution to your github."
   ]
  },
  {
   "cell_type": "code",
   "execution_count": null,
   "metadata": {},
   "outputs": [],
   "source": []
  }
 ],
 "metadata": {
  "kernelspec": {
   "display_name": "Python 3",
   "language": "python",
   "name": "python3"
  },
  "language_info": {
   "codemirror_mode": {
    "name": "ipython",
    "version": 3
   },
   "file_extension": ".py",
   "mimetype": "text/x-python",
   "name": "python",
   "nbconvert_exporter": "python",
   "pygments_lexer": "ipython3",
   "version": "3.8.1"
  },
  "toc": {
   "base_numbering": 1,
   "nav_menu": {},
   "number_sections": true,
   "sideBar": true,
   "skip_h1_title": false,
   "title_cell": "Table of Contents",
   "title_sidebar": "Contents",
   "toc_cell": false,
   "toc_position": {},
   "toc_section_display": true,
   "toc_window_display": false
  },
  "varInspector": {
   "cols": {
    "lenName": 16,
    "lenType": 16,
    "lenVar": 40
   },
   "kernels_config": {
    "python": {
     "delete_cmd_postfix": "",
     "delete_cmd_prefix": "del ",
     "library": "var_list.py",
     "varRefreshCmd": "print(var_dic_list())"
    },
    "r": {
     "delete_cmd_postfix": ") ",
     "delete_cmd_prefix": "rm(",
     "library": "var_list.r",
     "varRefreshCmd": "cat(var_dic_list()) "
    }
   },
   "types_to_exclude": [
    "module",
    "function",
    "builtin_function_or_method",
    "instance",
    "_Feature"
   ],
   "window_display": false
  }
 },
 "nbformat": 4,
 "nbformat_minor": 4
}

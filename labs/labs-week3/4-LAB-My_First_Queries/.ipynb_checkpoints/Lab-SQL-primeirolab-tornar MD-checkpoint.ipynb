{
 "cells": [
  {
   "attachments": {},
   "cell_type": "markdown",
   "metadata": {},
   "source": [
    "![Ironhack logo](https://i.imgur.com/1QgrNNw.png)\n",
    "\n",
    "# Lab | My First Queries\n",
    "\n",
    "Open the PgAdmin server from PostgreSQL - pgAdmin 4 is a server that runs on a browser, which is pretty good for an easy start. If you haven't already, start a new server by passing the password you've setup. Create a database called **applestore** and use the `dump file` provided to import a database. \n",
    "\n",
    "After creating the `applestore` database, right click it and `restore` it. Select the dump file and hopefully pgAdmin will create the database needed for the following exercises.\n",
    "\n",
    "Use the table to query the data about Apple Store Apps and answer the following questions: \n",
    "\n",
    "**1. What are the different genres?**\n",
    "Ans: prime_genre, Shopping, Games, Education, Reference, Business, Social Networking, Food & Drink, Sports, Catalogs, Weather, Book, Music, Entertainment, Medical, Utilities, Travel, Navigation, Photo & Video, Finance, Health & Fitness, News, Productivity and Lifestyle\n",
    "\n",
    "**2. Which is the genre with the most apps rated?**\n",
    "The count of ratings an app has received is in the rating_count_tot column.\n",
    "Ans: Social Networking\n",
    "\n",
    "**3. Which is the genre with most apps?**\n",
    "Ans: Games\n",
    "\n",
    "**4. Which is the one with least?**\n",
    "Ans: Catalogs\n",
    "\n",
    "**5. Find the top 10 apps most rated.**\n",
    "Ans: Facebook, Instagram, Clash of Clans, Temple Run, Pandora - Music & Radio, Pinterest, Bible, Candy Crush Saga, Spotify Music and Angry Birds\n",
    "\n",
    "**6. Find the top 10 apps best rated by users.**\n",
    "Ans: track_name, Plants vs. Zombies HD, Flashlight Â‰Ã’Ã£, TurboScanÂ‰Ã£Â¢ Pro - document & receipt scanner: scan multiple pages and photos to PDF, Learn to Speak Spanish Fast With MosaLingua, The Photographer's Ephemeris, Â‰ÃÃˆSudoku +, :) Sudoku +, King of Dragon Pass, Plants vs. Zombies and Infinity Blade\n",
    "\n",
    "**7. Take a look at the data you retrieved in question 5. Give some insights.**\n",
    "Ans: It makes sens that facebook and Instagram are the most rated, since both are widely used.\n",
    "\n",
    "**8. Take a look at the data you retrieved in question 6. Give some insights.**\n",
    "Ans: the user rating has the unique values: 0, 1, 1.5, 2, 2.5, 3, 3.5, 4, 4.5 and 5. Therefore, you can show all apps with max user_rating (5), but this information is not complete, since an app maybe rated a few timesand have rating 5 and it wont necessarily mean it is a good app. Also, this data wont differentiate apps which have rating between the unique values, and therefore, some ratings are probably rounded up.\n",
    "\n",
    "**9. Now compare the data from questions 5 and 6. What do you see?**\n",
    "Ans: \n",
    "> SELECT track_name, rating_count_tot, user_rating FROM data ORDER BY rating_count_tot DESC LIMIT 10;\n",
    ">\n",
    "> SELECT track_name, user_rating, rating_count_tot FROM data ORDER BY user_rating DESC LIMIT 10;\n",
    "\n",
    "Those two queries show that, being the most rated doenst mean being the one with the best rating, and vice-versa.\n",
    "As thought in question 8, the app \"Learn to Speak Spanish...\" has only 9 ratings and user_rating 9, which does not infer its a good app.\n",
    "\n",
    "**10. How could you take the top 3 regarding both user ratings and number of votes?**\n",
    "Ans: Jus query:\n",
    "> SELECT track_name, user_rating, rating_count_tot FROM data WHERE user_rating = 5 ORDER BY rating_count_tot DESC LIMIT 3;\n",
    "\n",
    "**11. Do people care about the price of an app?** Do some queries, comment why are you doing them and the results you retrieve. What is your conclusion?\n",
    "Ans: \n",
    "We will pop out rows with rating_count_tot == 0, since this infers that the app is not being sold.\n",
    "> SELECT price, AVG(rating_count_tot) AS avg_rat_count, AVG(user_rating) AS avg_rating FROM data WHERE rating_count_tot != 0 GROUP BY price ORDER BY price;\n",
    "\n",
    "This query indicates that free apps are the most \"rated\" by average, and from 3 to 15 dollars it seems that the avg number of ratings (and maybe sales) have little correlation to the price of an app. However, above 15 dollars, the correlation between price and the average number of grows.\n",
    "\n",
    "**Bonus: Find the total number of games available in more than 1 language.**\n",
    "Ans: 1660\n",
    "\n",
    "**Bonus2: Find the number of free vs paid apps**\n",
    "Ans: paid (4056)\n",
    "     free (3141)\n",
    "\n",
    "**Bonus3: Find the number of free vs paid apps for each genre**\n",
    "Ans: Jusy use...\n",
    "SELECT prime_genre, app_type, COUNT(id)\n",
    "FROM (SELECT prime_genre, id, CASE WHEN price !=0 THEN 'free'ELSE 'paid' END AS app_type \n",
    "   FROM data) AS table1\n",
    "   GROUP BY prime_genre, app_type\n",
    "   ORDER BY prime_genre;\n",
    "\n",
    "## Deliverables \n",
    "You need to submit a `.sql` file that includes the queries used to answer the questions above, as well as an `.md` file including your answers. \n"
   ]
  }
 ],
 "metadata": {
  "kernelspec": {
   "display_name": "Python 3",
   "language": "python",
   "name": "python3"
  },
  "language_info": {
   "codemirror_mode": {
    "name": "ipython",
    "version": 3
   },
   "file_extension": ".py",
   "mimetype": "text/x-python",
   "name": "python",
   "nbconvert_exporter": "python",
   "pygments_lexer": "ipython3",
   "version": "3.8.1"
  },
  "toc": {
   "base_numbering": 1,
   "nav_menu": {},
   "number_sections": true,
   "sideBar": true,
   "skip_h1_title": false,
   "title_cell": "Table of Contents",
   "title_sidebar": "Contents",
   "toc_cell": false,
   "toc_position": {},
   "toc_section_display": true,
   "toc_window_display": false
  },
  "varInspector": {
   "cols": {
    "lenName": 16,
    "lenType": 16,
    "lenVar": 40
   },
   "kernels_config": {
    "python": {
     "delete_cmd_postfix": "",
     "delete_cmd_prefix": "del ",
     "library": "var_list.py",
     "varRefreshCmd": "print(var_dic_list())"
    },
    "r": {
     "delete_cmd_postfix": ") ",
     "delete_cmd_prefix": "rm(",
     "library": "var_list.r",
     "varRefreshCmd": "cat(var_dic_list()) "
    }
   },
   "types_to_exclude": [
    "module",
    "function",
    "builtin_function_or_method",
    "instance",
    "_Feature"
   ],
   "window_display": false
  }
 },
 "nbformat": 4,
 "nbformat_minor": 4
}

{
 "cells": [
  {
   "cell_type": "markdown",
   "metadata": {},
   "source": [
    "# Web scraping jacotei.com.br"
   ]
  },
  {
   "cell_type": "code",
   "execution_count": 152,
   "metadata": {},
   "outputs": [],
   "source": [
    "import requests\n",
    "from bs4 import BeautifulSoup\n",
    "from tqdm.auto import tqdm\n",
    "import pandas as pd\n",
    "import re\n",
    "import datetime"
   ]
  },
  {
   "cell_type": "markdown",
   "metadata": {},
   "source": [
    "## Function that sews url"
   ]
  },
  {
   "cell_type": "code",
   "execution_count": 145,
   "metadata": {},
   "outputs": [],
   "source": [
    "exemplo = 'https://www.jacotei.com.br/busca/'\n",
    "\n",
    "def get_all_jacotei_cellphones(page=1,number=10000):\n",
    "    '''\n",
    "    This function gets all cellphones listed on https://www.jacotei.com.br.\n",
    "    pages: which page to search.\n",
    "    number: how many cellphones per page\n",
    "    '''\n",
    "    \n",
    "    url_base = 'https://www.jacotei.com.br/busca/?cids=57&bids=&fids=&o=2'\n",
    "    pages= f'&p={page}'\n",
    "    number= f'&n={number}'\n",
    "    \n",
    "    url = url_base + pages + number\n",
    "\n",
    "    print('loading response...')\n",
    "    response = requests.get(url)\n",
    "\n",
    "    print('loading soup...')\n",
    "    soup = BeautifulSoup(response.content)\n",
    "    minisoup = soup.find_all('div', attrs={'id':'produtos'})[0]\n",
    "\n",
    "    print('loading products...')\n",
    "    #<article class=\"produtosS col-lg-4 col-md-4 col-sm-6 col-xs-12 produtos_vertical\"> \n",
    "    html_chunk_products = minisoup.find_all('article', attrs={'class':'produtosS col-lg-4 col-md-4 col-sm-6 col-xs-12 produtos_vertical'})\n",
    "\n",
    "    df = pd.DataFrame()\n",
    "\n",
    "    for product_html in tqdm(html_chunk_products):\n",
    "\n",
    "        # <div class=\"carousel-inner\" role=\"listbox\">      LINK\n",
    "        link = product_html.find_all('a',attrs={'rel':\"nofollow\"})[0]['href']\n",
    "\n",
    "        # <h3 class=\"text-center hidden-sm hidden-lg hidden-md\"> <a rel=\"nofollow\" ...> NOME\n",
    "        name = product_html.find_all('h3', attrs={'class':\"text-center hidden-sm hidden-lg hidden-md\"})[0].find_all('a',attrs={'rel':\"nofollow\"})[0].text\n",
    "\n",
    "        #getting prices\n",
    "        price_html_chunk = product_html.find_all('span', attrs={'class':\"menorPrecoDestaque\"})\n",
    "        faixa_preco = price_html_chunk[0].text.strip('\\n')\n",
    "\n",
    "        if len(price_html_chunk) == 1:\n",
    "            menorPrecoDestaque = faixa_preco\n",
    "\n",
    "        else:\n",
    "            menorPrecoDestaque = price_html_chunk[1].text\n",
    "\n",
    "        my_dict = {'nome': name,      \n",
    "                    'faixa_preco':faixa_preco,\n",
    "                   'menor_preco':menorPrecoDestaque,\n",
    "                  'piece_link': link}\n",
    "\n",
    "        minidf = pd.DataFrame(my_dict,index=[0])\n",
    "        df = pd.concat([df,minidf])\n",
    "\n",
    "    df = df.reset_index(drop=True)\n",
    "    return df"
   ]
  },
  {
   "cell_type": "markdown",
   "metadata": {},
   "source": [
    "# testing"
   ]
  },
  {
   "cell_type": "code",
   "execution_count": 147,
   "metadata": {},
   "outputs": [
    {
     "name": "stdout",
     "output_type": "stream",
     "text": [
      "loading response...\n",
      "loading soup...\n",
      "loading products...\n"
     ]
    },
    {
     "data": {
      "application/vnd.jupyter.widget-view+json": {
       "model_id": "b75cbcd7d6c04daea091e39246365474",
       "version_major": 2,
       "version_minor": 0
      },
      "text/plain": [
       "HBox(children=(FloatProgress(value=0.0, max=2050.0), HTML(value='')))"
      ]
     },
     "metadata": {},
     "output_type": "display_data"
    },
    {
     "name": "stdout",
     "output_type": "stream",
     "text": [
      "\n"
     ]
    }
   ],
   "source": [
    "results = get_all_jacotei_cellphones(number=10000)"
   ]
  },
  {
   "cell_type": "code",
   "execution_count": 151,
   "metadata": {},
   "outputs": [
    {
     "data": {
      "text/html": [
       "<div>\n",
       "<style scoped>\n",
       "    .dataframe tbody tr th:only-of-type {\n",
       "        vertical-align: middle;\n",
       "    }\n",
       "\n",
       "    .dataframe tbody tr th {\n",
       "        vertical-align: top;\n",
       "    }\n",
       "\n",
       "    .dataframe thead th {\n",
       "        text-align: right;\n",
       "    }\n",
       "</style>\n",
       "<table border=\"1\" class=\"dataframe\">\n",
       "  <thead>\n",
       "    <tr style=\"text-align: right;\">\n",
       "      <th></th>\n",
       "      <th>nome</th>\n",
       "      <th>faixa_preco</th>\n",
       "      <th>menor_preco</th>\n",
       "      <th>piece_link</th>\n",
       "    </tr>\n",
       "  </thead>\n",
       "  <tbody>\n",
       "    <tr>\n",
       "      <th>0</th>\n",
       "      <td>Smartphone Samsung Galaxy Z Flip SM-F700F Desb...</td>\n",
       "      <td>R$ 12.980,00</td>\n",
       "      <td>R$ 12.980,00</td>\n",
       "      <td>/smartphone-samsung-galaxy-z-flip-sm-f700f-des...</td>\n",
       "    </tr>\n",
       "    <tr>\n",
       "      <th>1</th>\n",
       "      <td>OnePlus 7 Pro tela 6,67 polegadas completa Sma...</td>\n",
       "      <td>R$ 9.312,24</td>\n",
       "      <td>R$ 9.312,24</td>\n",
       "      <td>https://track2.jacotei.com.br/r?h=eJxVkWFr2zAQ...</td>\n",
       "    </tr>\n",
       "    <tr>\n",
       "      <th>2</th>\n",
       "      <td>iPhone 11 Pro Max 512GB Prateado iOS 4G + Wi-F...</td>\n",
       "      <td>R$ 8.639,10</td>\n",
       "      <td>R$ 8.639,10</td>\n",
       "      <td>https://track2.jacotei.com.br/r?h=eJxVUV1r4zAQ...</td>\n",
       "    </tr>\n",
       "    <tr>\n",
       "      <th>3</th>\n",
       "      <td>Smartphone Samsung Galaxy S20 Ultra SM-G988B D...</td>\n",
       "      <td>R$ 8.499,00</td>\n",
       "      <td>R$ 8.499,00</td>\n",
       "      <td>/smartphone-samsung-galaxy-s20-ultra-sm-g988b-...</td>\n",
       "    </tr>\n",
       "    <tr>\n",
       "      <th>4</th>\n",
       "      <td>iPhone 11 Pro Max Apple com 512GB, Tela Retina...</td>\n",
       "      <td>R$ 8.447,12</td>\n",
       "      <td>R$ 8.447,12</td>\n",
       "      <td>https://track2.jacotei.com.br/r?h=eJxNUcFu2zAM...</td>\n",
       "    </tr>\n",
       "    <tr>\n",
       "      <th>...</th>\n",
       "      <td>...</td>\n",
       "      <td>...</td>\n",
       "      <td>...</td>\n",
       "      <td>...</td>\n",
       "    </tr>\n",
       "    <tr>\n",
       "      <th>2045</th>\n",
       "      <td>Celular Red Mobile Fit Music M011F Desbloquead...</td>\n",
       "      <td>R$ 69,99</td>\n",
       "      <td>R$ 79,99</td>\n",
       "      <td>/celular-red-mobile-fit-music-m011f-desbloquea...</td>\n",
       "    </tr>\n",
       "    <tr>\n",
       "      <th>2046</th>\n",
       "      <td>Celular Alcatel 1011 Desbloqueado GSM Dual Chi...</td>\n",
       "      <td>R$ 69,00</td>\n",
       "      <td>R$ 69,00</td>\n",
       "      <td>/celular-alcatel-1011-desbloqueado-gsm-dual-ch...</td>\n",
       "    </tr>\n",
       "    <tr>\n",
       "      <th>2047</th>\n",
       "      <td>Celular Positivo P26 Desbloqueado Dual Chip Preto</td>\n",
       "      <td>R$ 68,99</td>\n",
       "      <td>R$ 93,90</td>\n",
       "      <td>/celular-positivo-p26-desbloqueado-dual-chip-p...</td>\n",
       "    </tr>\n",
       "    <tr>\n",
       "      <th>2048</th>\n",
       "      <td>Celular Positivo P25 Desbloqueado GSM Dual Chi...</td>\n",
       "      <td>R$ 66,40</td>\n",
       "      <td>R$ 84,90</td>\n",
       "      <td>/celular-positivo-p25-desbloqueado-gsm-dual-ch...</td>\n",
       "    </tr>\n",
       "    <tr>\n",
       "      <th>2049</th>\n",
       "      <td>Celular Positivo P25 Desbloqueado GSM Dual Chi...</td>\n",
       "      <td>R$ 66,00</td>\n",
       "      <td>R$ 66,00</td>\n",
       "      <td>/celular-positivo-p25-desbloqueado-gsm-dual-ch...</td>\n",
       "    </tr>\n",
       "  </tbody>\n",
       "</table>\n",
       "<p>2050 rows × 4 columns</p>\n",
       "</div>"
      ],
      "text/plain": [
       "                                                   nome   faixa_preco  \\\n",
       "0     Smartphone Samsung Galaxy Z Flip SM-F700F Desb...  R$ 12.980,00   \n",
       "1     OnePlus 7 Pro tela 6,67 polegadas completa Sma...   R$ 9.312,24   \n",
       "2     iPhone 11 Pro Max 512GB Prateado iOS 4G + Wi-F...   R$ 8.639,10   \n",
       "3     Smartphone Samsung Galaxy S20 Ultra SM-G988B D...   R$ 8.499,00   \n",
       "4     iPhone 11 Pro Max Apple com 512GB, Tela Retina...   R$ 8.447,12   \n",
       "...                                                 ...           ...   \n",
       "2045  Celular Red Mobile Fit Music M011F Desbloquead...      R$ 69,99   \n",
       "2046  Celular Alcatel 1011 Desbloqueado GSM Dual Chi...      R$ 69,00   \n",
       "2047  Celular Positivo P26 Desbloqueado Dual Chip Preto      R$ 68,99   \n",
       "2048  Celular Positivo P25 Desbloqueado GSM Dual Chi...      R$ 66,40   \n",
       "2049  Celular Positivo P25 Desbloqueado GSM Dual Chi...      R$ 66,00   \n",
       "\n",
       "       menor_preco                                         piece_link  \n",
       "0     R$ 12.980,00  /smartphone-samsung-galaxy-z-flip-sm-f700f-des...  \n",
       "1      R$ 9.312,24  https://track2.jacotei.com.br/r?h=eJxVkWFr2zAQ...  \n",
       "2      R$ 8.639,10  https://track2.jacotei.com.br/r?h=eJxVUV1r4zAQ...  \n",
       "3      R$ 8.499,00  /smartphone-samsung-galaxy-s20-ultra-sm-g988b-...  \n",
       "4      R$ 8.447,12  https://track2.jacotei.com.br/r?h=eJxNUcFu2zAM...  \n",
       "...            ...                                                ...  \n",
       "2045      R$ 79,99  /celular-red-mobile-fit-music-m011f-desbloquea...  \n",
       "2046      R$ 69,00  /celular-alcatel-1011-desbloqueado-gsm-dual-ch...  \n",
       "2047      R$ 93,90  /celular-positivo-p26-desbloqueado-dual-chip-p...  \n",
       "2048      R$ 84,90  /celular-positivo-p25-desbloqueado-gsm-dual-ch...  \n",
       "2049      R$ 66,00  /celular-positivo-p25-desbloqueado-gsm-dual-ch...  \n",
       "\n",
       "[2050 rows x 4 columns]"
      ]
     },
     "execution_count": 151,
     "metadata": {},
     "output_type": "execute_result"
    }
   ],
   "source": [
    "results"
   ]
  },
  {
   "cell_type": "code",
   "execution_count": 153,
   "metadata": {},
   "outputs": [
    {
     "name": "stdout",
     "output_type": "stream",
     "text": [
      "Current Year is: 2020\n",
      "Current Month is: 3\n",
      "Current Day is: 31\n",
      "Current Hour is: 14\n",
      "Current Minute is: 50\n",
      "Current Second is: 20\n",
      "Current Microsecond is: 54244\n"
     ]
    }
   ],
   "source": [
    "import datetime\n",
    " \n",
    "currentDT = datetime.datetime.now()\n",
    "\n",
    "\n",
    "print (\"Current Year is: %d\" % currentDT.year)\n",
    "print (\"Current Month is: %d\" % currentDT.month)\n",
    "print (\"Current Day is: %d\" % currentDT.day)\n",
    "print (\"Current Hour is: %d\" % currentDT.hour)\n",
    "print (\"Current Minute is: %d\" % currentDT.minute)\n",
    "print (\"Current Second is: %d\" % currentDT.second)\n",
    "print (\"Current Microsecond is: %d\" % currentDT.microsecond)"
   ]
  },
  {
   "cell_type": "code",
   "execution_count": 156,
   "metadata": {},
   "outputs": [
    {
     "data": {
      "text/plain": [
       "datetime.datetime(2020, 3, 31, 14, 50, 20, 54244)"
      ]
     },
     "execution_count": 156,
     "metadata": {},
     "output_type": "execute_result"
    }
   ],
   "source": [
    "currentDT"
   ]
  },
  {
   "cell_type": "code",
   "execution_count": null,
   "metadata": {},
   "outputs": [],
   "source": []
  }
 ],
 "metadata": {
  "kernelspec": {
   "display_name": "Python 3",
   "language": "python",
   "name": "python3"
  },
  "language_info": {
   "codemirror_mode": {
    "name": "ipython",
    "version": 3
   },
   "file_extension": ".py",
   "mimetype": "text/x-python",
   "name": "python",
   "nbconvert_exporter": "python",
   "pygments_lexer": "ipython3",
   "version": "3.8.1"
  },
  "toc": {
   "base_numbering": 1,
   "nav_menu": {},
   "number_sections": true,
   "sideBar": true,
   "skip_h1_title": false,
   "title_cell": "Table of Contents",
   "title_sidebar": "Contents",
   "toc_cell": false,
   "toc_position": {},
   "toc_section_display": true,
   "toc_window_display": false
  },
  "varInspector": {
   "cols": {
    "lenName": 16,
    "lenType": 16,
    "lenVar": 40
   },
   "kernels_config": {
    "python": {
     "delete_cmd_postfix": "",
     "delete_cmd_prefix": "del ",
     "library": "var_list.py",
     "varRefreshCmd": "print(var_dic_list())"
    },
    "r": {
     "delete_cmd_postfix": ") ",
     "delete_cmd_prefix": "rm(",
     "library": "var_list.r",
     "varRefreshCmd": "cat(var_dic_list()) "
    }
   },
   "types_to_exclude": [
    "module",
    "function",
    "builtin_function_or_method",
    "instance",
    "_Feature"
   ],
   "window_display": false
  }
 },
 "nbformat": 4,
 "nbformat_minor": 4
}

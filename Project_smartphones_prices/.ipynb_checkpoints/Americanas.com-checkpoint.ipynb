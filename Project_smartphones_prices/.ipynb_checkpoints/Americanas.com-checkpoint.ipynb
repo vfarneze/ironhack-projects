{
 "cells": [
  {
   "cell_type": "markdown",
   "metadata": {},
   "source": [
    "# Web scraping www.americanas.com.br"
   ]
  },
  {
   "cell_type": "markdown",
   "metadata": {},
   "source": [
    "Main search:\n",
    "\n",
    "pg 1: https://www.americanas.com.br/categoria/celulares-e-smartphones/smartphone/{manufacturer}?ornenacao={orderby}\n",
    "\n",
    "pg >1: https://www.americanas.com.br/.../smartphone/{manufacturer}/pagina-2?ornenacao={orderby}\n",
    "\n",
    "possible manufacturers:\n",
    "> samsung-galaxy, iphone, motorola, zenfone, lg, alcatel, quantum, quantum, q-touch, huawei, zte, sony-xperia, lenovo, meizu, lumia, xiaomi, yezz and multilaser.\n",
    "\n",
    "possible orderby:\n",
    "> topSelling, higherPrice, lowerPrice, rating and relevance\n",
    "\n"
   ]
  },
  {
   "cell_type": "code",
   "execution_count": 20,
   "metadata": {},
   "outputs": [],
   "source": [
    "import requests\n",
    "from bs4 import BeautifulSoup\n",
    "from tqdm.auto import tqdm\n",
    "import pandas as pd\n",
    "import re"
   ]
  },
  {
   "cell_type": "markdown",
   "metadata": {},
   "source": [
    "### Function that sews url"
   ]
  },
  {
   "cell_type": "code",
   "execution_count": 18,
   "metadata": {},
   "outputs": [],
   "source": [
    "def define_url(manufacturer, page, order_by):\n",
    "    '''\n",
    "    This function defines the url, based on manufacturer, page and order_by.\n",
    "    '''\n",
    "    \n",
    "    url_base = 'https://www.americanas.com.br/categoria/celulares-e-smartphones/smartphone/'\n",
    "    url_2 = manufacturer\n",
    "\n",
    "    #if page = 1, this is eliminated    \n",
    "    url_3 = f'/pagina-{page}'*(f'{page}' != '1')\n",
    "\n",
    "    url_4 = '?ordenacao=' + order_by\n",
    "    \n",
    "    return url_base + url_2 + url_3 + url_4"
   ]
  },
  {
   "cell_type": "code",
   "execution_count": 19,
   "metadata": {},
   "outputs": [
    {
     "data": {
      "text/plain": [
       "'https://www.americanas.com.br/categoria/celulares-e-smartphones/smartphone/samsung-galaxy?ordenacao=higherPrice'"
      ]
     },
     "execution_count": 19,
     "metadata": {},
     "output_type": "execute_result"
    }
   ],
   "source": [
    "#testing: \n",
    "url = define_url(manufacturer='samsung-galaxy', page=1, order_by='higherPrice')\n",
    "url"
   ]
  },
  {
   "cell_type": "code",
   "execution_count": 23,
   "metadata": {},
   "outputs": [],
   "source": [
    "df = pd.DataFrame()\n",
    "df.to_csv(r'americanas.csv', sep=',', na_rep='unknown')"
   ]
  },
  {
   "cell_type": "code",
   "execution_count": null,
   "metadata": {},
   "outputs": [],
   "source": [
    "manufacturer = 'samsung-galaxy'\n",
    "orderby = \"higherPrice\"\n",
    "\n",
    "https://www.americanas.com.br/categoria/celulares-e-smartphones/smartphone\n",
    "\n",
    "\n",
    "\n",
    "    \n",
    "    \n",
    "    {manufacturer}?ordenacao={orderby}'\n",
    "\n",
    "https://www.americanas.com.br/categoria/celulares-e-smartphones/smartphone/multilaser/pagina-2?ordenacao=higherPrice\n"
   ]
  }
 ],
 "metadata": {
  "kernelspec": {
   "display_name": "Python 3",
   "language": "python",
   "name": "python3"
  },
  "language_info": {
   "codemirror_mode": {
    "name": "ipython",
    "version": 3
   },
   "file_extension": ".py",
   "mimetype": "text/x-python",
   "name": "python",
   "nbconvert_exporter": "python",
   "pygments_lexer": "ipython3",
   "version": "3.8.1"
  },
  "toc": {
   "base_numbering": 1,
   "nav_menu": {},
   "number_sections": true,
   "sideBar": true,
   "skip_h1_title": false,
   "title_cell": "Table of Contents",
   "title_sidebar": "Contents",
   "toc_cell": false,
   "toc_position": {},
   "toc_section_display": true,
   "toc_window_display": false
  },
  "varInspector": {
   "cols": {
    "lenName": 16,
    "lenType": 16,
    "lenVar": 40
   },
   "kernels_config": {
    "python": {
     "delete_cmd_postfix": "",
     "delete_cmd_prefix": "del ",
     "library": "var_list.py",
     "varRefreshCmd": "print(var_dic_list())"
    },
    "r": {
     "delete_cmd_postfix": ") ",
     "delete_cmd_prefix": "rm(",
     "library": "var_list.r",
     "varRefreshCmd": "cat(var_dic_list()) "
    }
   },
   "types_to_exclude": [
    "module",
    "function",
    "builtin_function_or_method",
    "instance",
    "_Feature"
   ],
   "window_display": false
  }
 },
 "nbformat": 4,
 "nbformat_minor": 4
}

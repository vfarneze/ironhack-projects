{
 "cells": [
  {
   "cell_type": "markdown",
   "metadata": {},
   "source": [
    "# Snake game player versus player\n",
    "\n",
    "This game was created inspired by the famous snake video game genre.\n",
    "\n",
    "- The main objective is make the oponent player colide with your body or wait for him to colide with himself.\n",
    "\n",
    "Rules are:\n",
    "\n",
    "- Each game is divided in at least three rounds. When a player wins the round, he/she scores one point. A player needs three points to win the game.\n",
    "- When a player hits a wall, its direction is changed to its left way.\n",
    "- An apple appears randomly on screen and when a player reaches it, it is \"eaten\" and another apple reapears at a random spot again.\n",
    "- Eating an apple lengthen the eater snake's body in a progressive manner: first apple gives 1 \"squarebody\", second apple gives 2, third gives 3, and so on.\n",
    "- if players collide themselves head-to-head, the round ends in draw."
   ]
  },
  {
   "cell_type": "markdown",
   "metadata": {},
   "source": [
    "DISCLAIMER: This game was created for python learning purposes only and shall be free for anyone to base his or her project on my project. A little reference to me should be nice too."
   ]
  },
  {
   "cell_type": "markdown",
   "metadata": {},
   "source": [
    "## Library used"
   ]
  },
  {
   "cell_type": "code",
   "execution_count": 1,
   "metadata": {},
   "outputs": [
    {
     "name": "stdout",
     "output_type": "stream",
     "text": [
      "pygame 1.9.6\n",
      "Hello from the pygame community. https://www.pygame.org/contribute.html\n"
     ]
    }
   ],
   "source": [
    "import random\n",
    "import pygame\n",
    "import time\n",
    "from pygame.locals import *\n",
    "from pygame import mixer"
   ]
  },
  {
   "cell_type": "markdown",
   "metadata": {},
   "source": [
    "## Classes:"
   ]
  },
  {
   "cell_type": "markdown",
   "metadata": {},
   "source": [
    "### A class for snake:\n",
    "\n",
    "This is the main class in the game.\n",
    "The snake is composed by a list of tuples where each tuple is a square with X and Y coordinates. The first tuple is the coordinates of the square, while the other tuples are bodyparts.\n",
    "\n",
    "Method \\__$init$__$(self,...)$\n",
    "> - Here is stored the main attributes of the snake class. The main ones are the *self.body* which contains the coordinates of every square that a snake is composed, and the direction flags, which are booleans.\n",
    "\n",
    "Method $.update(self)$\n",
    "> - Movement occurs with \"movement-flags\", meaning that there are four direction flags (up, down, left, right), and therefore, four boolean variables. That means a movement south is when the \"variable south\" is true and the rest is false. Therefore, the way the game was shaped only allows pure vertical or pure horizontal movements.\n",
    "> - The update of body parts positions occurs from tail to head. It needs to be this way, otherwise all squares would have the same position\n",
    "\n",
    "Method $.display(self)$\n",
    "> - A method that shows/blits the snake on screen."
   ]
  },
  {
   "cell_type": "code",
   "execution_count": 2,
   "metadata": {
    "code_folding": []
   },
   "outputs": [],
   "source": [
    "class Snake(object):\n",
    "\n",
    "    def __init__(self, start=[(200, 200), (210, 200), (220, 200)],\n",
    "                 color=(120, 255, 0), name='Player_1', blink=False):\n",
    "        \"\"\"loading the starting snake, each tuple is the position of a segment of the snake.\"\"\"\n",
    "        self.body = start\n",
    "        self.name = name\n",
    "        self.score = [0]\n",
    "        self.blink = blink\n",
    "\n",
    "        # sizing the snake\n",
    "        self.skin = pygame.Surface((10, 10))\n",
    "\n",
    "        # colouring the snake:\n",
    "        self.skin.fill(color)\n",
    "\n",
    "        # starting directions\n",
    "        self.fl_moving_right = False\n",
    "        self.fl_moving_left = True\n",
    "        self.fl_moving_down = False\n",
    "        self.fl_moving_up = False\n",
    "\n",
    "    def update(self):\n",
    "        \"\"\"This method updates the position of the snake. Each time the head moves one position forward, the 2nd square\n",
    "        of the snake ocupies the previous position of the head, and the rest of the body continues this motion.\"\"\"\n",
    "\n",
    "        for i in range(len(self.body) - 1, 0, -1):\n",
    "            self.body[i] = (self.body[i - 1][0], self.body[i - 1][1])\n",
    "\n",
    "        # creating movements:\n",
    "        if self.fl_moving_up == True:\n",
    "            # moving up: Y lowers\n",
    "            self.body[0] = (self.body[0][0], self.body[0][1] - 10) \n",
    "        if self.fl_moving_down == True:\n",
    "            # moving down: Y rises\n",
    "            self.body[0] = (self.body[0][0], self.body[0][1] + 10)  \n",
    "        if self.fl_moving_left == True:\n",
    "            # moving left: X lowers\n",
    "            self.body[0] = (self.body[0][0] - 10, self.body[0][1])\n",
    "        if self.fl_moving_right == True:\n",
    "            # moving left: X lowers\n",
    "            self.body[0] = (self.body[0][0] + 10, self.body[0][1])\n",
    "            \n",
    "    def display(self):\n",
    "        \"\"\"This method shows the snake on screen\"\"\"\n",
    "        for pos in self.body:\n",
    "            screen.blit(self.skin, pos)\n"
   ]
  },
  {
   "cell_type": "markdown",
   "metadata": {},
   "source": [
    "### A a class for apple:\n",
    "\n",
    "The class apple is very simple, its just need to be a red square that appears in a random position when the game is started or a previous apple is eaten."
   ]
  },
  {
   "cell_type": "code",
   "execution_count": 3,
   "metadata": {
    "code_folding": []
   },
   "outputs": [],
   "source": [
    "class Apple(object):\n",
    "\n",
    "    def __init__(self):\n",
    "        self.position = (random_grid_pos())\n",
    "        self.size = pygame.Surface((10, 10))  # sizing the apple\n",
    "        self.size.fill((255, 0, 0))  # red color"
   ]
  },
  {
   "cell_type": "markdown",
   "metadata": {},
   "source": [
    "### A class for the walls:\n",
    "\n",
    "The walls are just an entity that aren't exactly needed, but were a way to practice classes and I would not need to modify or create a more complex background. They where also created in case the had any other future use in the game."
   ]
  },
  {
   "cell_type": "code",
   "execution_count": 4,
   "metadata": {
    "code_folding": []
   },
   "outputs": [],
   "source": [
    "class Wall(object):\n",
    "    \"\"\"We are the watchers on the wall\"\"\"\n",
    "\n",
    "    def __init__(self, wall_color=(0, 0, 0)):\n",
    "        self.vertical_size = pygame.Surface((10, 600))\n",
    "        self.horizontal_size = pygame.Surface((600, 10))\n",
    "        self.horizontal_size.fill(wall_color)\n",
    "        self.vertical_size.fill(wall_color)\n",
    "\n",
    "    def display(self):\n",
    "        # vertical walls (L,R)\n",
    "        screen.blit(self.vertical_size, (0, 0))\n",
    "        screen.blit(self.vertical_size, (590, 0))\n",
    "        # horizontal walls (U,D)\n",
    "        screen.blit(self.horizontal_size, (0, 0))\n",
    "        screen.blit(self.horizontal_size, (0, 590))"
   ]
  },
  {
   "cell_type": "markdown",
   "metadata": {},
   "source": [
    "## Functions:"
   ]
  },
  {
   "cell_type": "markdown",
   "metadata": {},
   "source": [
    "### Generic/miscelaneous functions:\n",
    "\n",
    "    - One for generating an random position for the apple.\n",
    "    - One that checks collision between objects (returns a True when it happens).\n",
    "    - One function that resets the movements of an object (snake).\n",
    "    - One function that blinks a snake, when it hits itself or another player.\n",
    "    - One function that prints on screen (not on console!) an text. A colision will update the specific msg to be printed after the snake battle ends.\n",
    "    - One function that resets snakes parameters.\n",
    "    - One function that checks scores of the snakes.\n"
   ]
  },
  {
   "cell_type": "code",
   "execution_count": 5,
   "metadata": {
    "code_folding": []
   },
   "outputs": [],
   "source": [
    "def random_grid_pos():\n",
    "    '''This function standardizes the position of the apple\n",
    "    so it can be generated in positions divisible by 10.\n",
    "    This way the apple will aways fit properly with the snake'''\n",
    "    \n",
    "    x = random.randint(10, 580)\n",
    "    y = random.randint(10, 580)\n",
    "    return (x // 10 * 10, y // 10 * 10)"
   ]
  },
  {
   "cell_type": "code",
   "execution_count": 6,
   "metadata": {
    "code_folding": []
   },
   "outputs": [],
   "source": [
    "def collision(object1, object2):\n",
    "    '''This functions return a boolean True when the first argument\n",
    "    matches the position of the second argument'''\n",
    "    \n",
    "    return (object1[0] == object2[0]) and (object1[1] == object2[1])"
   ]
  },
  {
   "cell_type": "code",
   "execution_count": 7,
   "metadata": {
    "code_folding": []
   },
   "outputs": [],
   "source": [
    "def reset_movements(object1):\n",
    "    '''This function reset all flag movements of an object/snake'''\n",
    "    object1.fl_moving_up = False\n",
    "    object1.fl_moving_down = False\n",
    "    object1.fl_moving_left = False\n",
    "    object1.fl_moving_right = False"
   ]
  },
  {
   "cell_type": "code",
   "execution_count": 8,
   "metadata": {
    "code_folding": []
   },
   "outputs": [],
   "source": [
    "def snake_blink(object1, object2, blink_amount=10, blink_color=(255, 255, 255), blink_freq=0.25):\n",
    "    \"\"\"This function blinks the snake when it hits itself or other snake\"\"\"\n",
    "\n",
    "    white_squares = pygame.Surface((10, 10))\n",
    "    white_squares.fill(blink_color)\n",
    "\n",
    "    for i in range(blink_amount):\n",
    "\n",
    "        if object1.blink:\n",
    "            for pos in object1.body:\n",
    "                screen.blit(white_squares, pos)\n",
    "\n",
    "        if object2.blink:\n",
    "            for pos in object2.body:\n",
    "                screen.blit(white_squares, pos)\n",
    "\n",
    "        pygame.display.flip()\n",
    "        time.sleep(blink_freq)\n",
    "\n",
    "        for pos in object1.body:\n",
    "            screen.blit(object1.skin, pos)\n",
    "\n",
    "        for pos in object2.body:\n",
    "            screen.blit(object2.skin, pos)\n",
    "\n",
    "        pygame.display.flip()\n",
    "        time.sleep(blink_freq)"
   ]
  },
  {
   "cell_type": "code",
   "execution_count": 9,
   "metadata": {
    "code_folding": []
   },
   "outputs": [],
   "source": [
    "def print_on_screen(string='This is a test!',\n",
    "                    string_color=(0, 255, 0), bkg_color=(0, 0, 128),\n",
    "                    lfont='freesansbold.ttf', print_pos=(300, 300)):\n",
    "    \"\"\"Prints on screen a message.\"\"\"\n",
    "    \n",
    "    # create a font object. 1st parameter is the font file, which is present in pygame. 2nd parameter is size of the font\n",
    "    font = pygame.font.Font(lfont, 32)\n",
    "\n",
    "    # create a text suface object, on which text is drawn on it.\n",
    "    text = font.render(string, True, string_color, bkg_color)\n",
    "\n",
    "    # create a rectangular object for the text surface object\n",
    "    textRect = text.get_rect()\n",
    "\n",
    "    # set the center of the rectangular object.\n",
    "    textRect.center = print_pos\n",
    "    screen.blit(text, textRect)"
   ]
  },
  {
   "cell_type": "code",
   "execution_count": 10,
   "metadata": {},
   "outputs": [],
   "source": [
    "def reset_snake(object1,object2):\n",
    "        \"\"\"This function resets snakes movements and positions and other attributes\"\"\"\n",
    "\n",
    "        # reset snakes direction:\n",
    "        reset_movements(object1)\n",
    "        reset_movements(object2)\n",
    "        object1.fl_moving_left, object2.fl_moving_left = True, True\n",
    "\n",
    "        # reset_snakes_position\n",
    "        object1.body, object2.body = [(200, 200), (210, 200), (220, 200)], [(400, 400), (410, 400), (420, 400)]\n",
    "        \n",
    "        #reset other attributes\n",
    "        object1.blink, object2.blink = False, False"
   ]
  },
  {
   "cell_type": "code",
   "execution_count": 11,
   "metadata": {},
   "outputs": [],
   "source": [
    "def score_check(object1,score_needed=2):\n",
    "    \"Returns True if a player's score is enough to win the game. If so, turns global variable game_over True\"\n",
    "    global game_over\n",
    "    \n",
    "    if sum(object1.score) == score_needed:\n",
    "        game_over = True\n",
    "        return True\n",
    "    else:\n",
    "        return False"
   ]
  },
  {
   "cell_type": "markdown",
   "metadata": {},
   "source": [
    "### Functions related to collisions:\n",
    "\n",
    "- check_wall_colision(object)\n",
    "- check_own_colision(object1, object2)\n",
    "- check_head_colision(object1, object2)\n",
    "- check_snake_colision(object1, object2)\n",
    "- One function that checks all colisions\n",
    "\n"
   ]
  },
  {
   "cell_type": "code",
   "execution_count": 12,
   "metadata": {
    "code_folding": []
   },
   "outputs": [],
   "source": [
    "def check_wall_colision(object1):\n",
    "    '''This function checks if the head of the snake colides with wall positions. If it does so,\n",
    "    the course is diverted lef of the snake's current direction'''\n",
    "    \n",
    "    if object1.body[0][0] == screen.get_rect().right - 20 and object1.fl_moving_right == True:\n",
    "        reset_movements(object1)\n",
    "        object1.fl_moving_up = True\n",
    "    \n",
    "    if object1.body[0][0] == screen.get_rect().left + 10 and object1.fl_moving_left == True:\n",
    "        reset_movements(object1)\n",
    "        object1.fl_moving_down = True\n",
    "    \n",
    "    if object1.body[0][1] == screen.get_rect().bottom - 20 and object1.fl_moving_down == True:\n",
    "        reset_movements(object1)\n",
    "        object1.fl_moving_right = True\n",
    "    \n",
    "    if object1.body[0][1] == screen.get_rect().top + 10 and object1.fl_moving_up == True:\n",
    "        reset_movements(object1)\n",
    "        object1.fl_moving_left = True"
   ]
  },
  {
   "cell_type": "code",
   "execution_count": 13,
   "metadata": {},
   "outputs": [],
   "source": [
    "def check_own_colision(object1, object2):\n",
    "    \"\"\"This function verifies if player collides with itself\"\"\"\n",
    "    global round_over\n",
    "    global round_end_msg\n",
    "\n",
    "    if object1.body[0] in object1.body[1:]:\n",
    "        round_end_msg = f'{object1.name} collided with himself!!'\n",
    "        object1.blink = True\n",
    "        round_over = True\n",
    "        object2.score.append(1)"
   ]
  },
  {
   "cell_type": "code",
   "execution_count": 14,
   "metadata": {},
   "outputs": [],
   "source": [
    "def check_head_colision(object1, object2):\n",
    "    '''This function verifies if player collides with itself'''\n",
    "    global round_over\n",
    "    global round_end_msg\n",
    "\n",
    "    if object1.body[0] == object2.body[0]:\n",
    "        round_end_msg = f'Players collided head to head!!'\n",
    "        round_over = True\n",
    "        object1.blink = True\n",
    "        object2.blink = True"
   ]
  },
  {
   "cell_type": "code",
   "execution_count": 15,
   "metadata": {},
   "outputs": [],
   "source": [
    "def check_snake_colision(object1, object2):\n",
    "    \"\"\"This function verifies if player colides with another player\n",
    "        it follows the way object1's head hits object2's body \"\"\"\n",
    "    global round_over\n",
    "    global round_end_msg\n",
    "\n",
    "    if object1.body[0] in object2.body[1:]:\n",
    "        round_end_msg = f'{object2.name} scores!!!'\n",
    "        object2.score.append(1)\n",
    "        object1.blink = True\n",
    "        round_over = True"
   ]
  },
  {
   "cell_type": "code",
   "execution_count": 16,
   "metadata": {},
   "outputs": [],
   "source": [
    "def check_colisions(object1,object2):\n",
    "    \"\"\"This function checks all possible colisions\"\"\"\n",
    "    \n",
    "    check_head_colision(object1,object2)\n",
    "    check_snake_colision(object1,object2)\n",
    "    check_snake_colision(object2,object1)\n",
    "    check_own_colision(object1,object2)\n",
    "    check_own_colision(object2,object1)\n"
   ]
  },
  {
   "cell_type": "markdown",
   "metadata": {},
   "source": [
    "### Functions related to checking actions:\n",
    "\n",
    "- check_button_push(event, object, player_buttons=[K_w, K_s, K_a, K_d])\n",
    "> - This function lets the player to press P for QUIT\n",
    "> - It will also detect if a movement-related key is pressed (i.e.: up, down, left, right) and then change an object's (snake) movement. The key here is to not allow the player to make a movement to the oposite direction of the snake's way, so the snake won't colide with itself (or the head get inside the body).\n",
    "> - The function also allows you to insert diferent keys (player_buttons) in order to change which keys are used to move the snake of player 1 or player 2\n",
    "- check_click(event)\n",
    "> - This function has two modes: one for when the game is not over and one for when the game is over.\n",
    "> - this function is used to allow the game to procede in main menu or be restarted when it is over.\n"
   ]
  },
  {
   "cell_type": "code",
   "execution_count": 17,
   "metadata": {
    "code_folding": []
   },
   "outputs": [],
   "source": [
    "def check_button_push(event, object1, player_buttons=[K_w, K_s, K_a, K_d]):\n",
    "    \"\"\"This functions checks if a button was pushed and outputs an action\"\"\"\n",
    "    global fight_started\n",
    "    \n",
    "    if event.type == KEYDOWN:\n",
    "\n",
    "        if event.key == K_p:\n",
    "            pygame.quit()\n",
    "\n",
    "        if fight_started:\n",
    "            if object1.fl_moving_right == True or object1.fl_moving_left == True:\n",
    "                if event.key == player_buttons[0]:\n",
    "                    reset_movements(object1)\n",
    "                    object1.fl_moving_up = True\n",
    "                if event.key == player_buttons[1]:\n",
    "                    reset_movements(object1)\n",
    "                    object1.fl_moving_down = True\n",
    "\n",
    "            if object1.fl_moving_down == True or object1.fl_moving_up == True:\n",
    "                if event.key == player_buttons[2]:\n",
    "                    reset_movements(object1)\n",
    "                    object1.fl_moving_left = True\n",
    "                if event.key == player_buttons[3]:\n",
    "                    reset_movements(object1)\n",
    "                    object1.fl_moving_right = True"
   ]
  },
  {
   "cell_type": "code",
   "execution_count": 18,
   "metadata": {
    "code_folding": []
   },
   "outputs": [],
   "source": [
    "def check_click(event):\n",
    "    '''This functions checks if a mouse clicks on an area related to a button on background'''\n",
    "    \n",
    "    global game_started\n",
    "    global fight_started\n",
    "    global round_over\n",
    "    global restart\n",
    "\n",
    "    if not game_over:\n",
    "        if event.type == pygame.MOUSEBUTTONDOWN and not game_started:\n",
    "            mouse_pos = pygame.mouse.get_pos()\n",
    "\n",
    "            if mouse_pos[0] in range(200, 400, 1) and mouse_pos[1] in range(250, 350, 1):\n",
    "                print('START button clicked!')\n",
    "                game_started = True\n",
    "\n",
    "            if mouse_pos[0] in range(200, 400, 1) and mouse_pos[1] in range(400, 500, 1):\n",
    "                print('QUIT button clicked!')\n",
    "                pygame.quit()\n",
    "\n",
    "        if event.type == pygame.MOUSEBUTTONDOWN and game_started:\n",
    "            mouse_pos = pygame.mouse.get_pos()\n",
    "\n",
    "            if mouse_pos[0] in range(200, 400, 1) and mouse_pos[1] in range(400, 500, 1):\n",
    "                print('GAME REALLY STARTED!')\n",
    "                round_over = False\n",
    "                fight_started = True\n",
    "\n",
    "    else:\n",
    "        if event.type == pygame.MOUSEBUTTONDOWN:\n",
    "            mouse_pos = pygame.mouse.get_pos()\n",
    "\n",
    "            if mouse_pos[0] in range(200, 400, 1) and mouse_pos[1] in range(420, 520, 1):\n",
    "                print('BORA button clicked!')\n",
    "                restart = True"
   ]
  },
  {
   "cell_type": "markdown",
   "metadata": {},
   "source": [
    "### Functions related to event checking:\n",
    "\n",
    "- check_events(object)\n",
    "> - This function checks for events. First, checks events (pressed keys) for first player and then second player, or if the game is quit. Decisions are made after the player push a button.\n",
    "> - Then, it checks colisions between the apple and the snake. Note that the apple_counter (it will be explained more about it later) rises. After eaten, a new square is appended to the snake body. The position of this new square starts outside of the visible display are, but as soon as a new\n",
    "- check_main_menu_events(object1)"
   ]
  },
  {
   "cell_type": "code",
   "execution_count": 19,
   "metadata": {
    "code_folding": []
   },
   "outputs": [],
   "source": [
    "def check_events(object1):\n",
    "    \"\"\"This function check events within the game.\"\"\"\n",
    "    global apple_counter\n",
    "\n",
    "    for event in pygame.event.get():\n",
    "        check_button_push(event, snake)\n",
    "        check_button_push(event, snake2, player_buttons=[K_UP, K_DOWN, K_LEFT, K_RIGHT])\n",
    "\n",
    "        if event.type == QUIT:\n",
    "            pygame.quit()\n",
    "\n",
    "    # Seting colision apple + snake\n",
    "    if collision(object1.body[0], apple.position):\n",
    "        apple.position = random_grid_pos()\n",
    "        apple_counter.append(0)\n",
    "\n",
    "        for i in apple_counter:\n",
    "            object1.body.append((-10, -10))\n",
    "\n",
    "    check_wall_colision(object1)"
   ]
  },
  {
   "cell_type": "code",
   "execution_count": 20,
   "metadata": {
    "code_folding": []
   },
   "outputs": [],
   "source": [
    "def check_main_menu_events(object1):\n",
    "    \"\"\"Checks all main menu events and detects mouse clicks or button pushs\"\"\"\n",
    "    \n",
    "    for event in pygame.event.get():\n",
    "        check_button_push(event, object1)\n",
    "        check_click(event)\n",
    "\n",
    "        if event.type == QUIT:\n",
    "            pygame.quit()"
   ]
  },
  {
   "cell_type": "markdown",
   "metadata": {},
   "source": [
    "## The game algorithm"
   ]
  },
  {
   "cell_type": "markdown",
   "metadata": {
    "code_folding": [
     0,
     8,
     13,
     20,
     48
    ]
   },
   "source": [
    "### Pre-declared variables:"
   ]
  },
  {
   "cell_type": "code",
   "execution_count": 21,
   "metadata": {},
   "outputs": [],
   "source": [
    "round_end_msg = 'Round end!'\n",
    "apple_counter = []\n",
    "scores = [[], []]\n",
    "intro_sound = 'game_intro.wav'\n",
    "menu_player_sound = 'player_menu.mp3'\n",
    "game_back_sound = 'game_fight.mp3'\n",
    "winner = 'winner.mp3' \n",
    "death = 'death.wav'\n",
    "hit = '2AH.wav'\n",
    "\n",
    "# assigning values to X and Y variable: display dimensions\n",
    "X = 600\n",
    "Y = 600"
   ]
  },
  {
   "cell_type": "markdown",
   "metadata": {},
   "source": [
    "### Initializing pygame: loading screen display and sound effects"
   ]
  },
  {
   "cell_type": "markdown",
   "metadata": {},
   "source": [
    "Initializing pygame and display"
   ]
  },
  {
   "cell_type": "code",
   "execution_count": 22,
   "metadata": {},
   "outputs": [],
   "source": [
    "pygame.init()\n",
    "pygame.mixer.pre_init(44100, 16, 2, 4096)  # frequency, size, channels, buffersize\n",
    "\n",
    "# Loading pygame and setting a display size with window name.\n",
    "screen = pygame.display.set_mode((X, Y))\n",
    "pygame.display.set_caption('Snek PvP Game')\n",
    "clock = pygame.time.Clock()"
   ]
  },
  {
   "cell_type": "markdown",
   "metadata": {},
   "source": [
    "Sounds and background images:"
   ]
  },
  {
   "cell_type": "code",
   "execution_count": 23,
   "metadata": {},
   "outputs": [],
   "source": [
    "background = pygame.image.load('menu.png')\n",
    "background2 = pygame.image.load('menu_player.png')\n",
    "background_end1 = pygame.image.load('end_bkg1.png')\n",
    "background_end2 = pygame.image.load('end_bkg2.png')\n",
    "death_sound = pygame.mixer.Sound(death)\n",
    "hit_sound = pygame.mixer.Sound(hit)"
   ]
  },
  {
   "cell_type": "markdown",
   "metadata": {},
   "source": [
    "### Main loop\n",
    "\n",
    "The game operates with an while loop with a main while inside.\n",
    "Inside this main loop (*while not game_over*), there are four sub loops:\n",
    "\n",
    "- When the main loop starts, All boolean variables that rule the sub-loops are restarted.\n",
    "\n",
    "- First \"sub\" loop is the *main menu*, with an background made in paint.\n",
    "> *while not game_started:*\n",
    "> - Here there are two options: if the player clicks within the \"Start\" button area, *game_started* changes to *True*\n",
    "\n",
    "- Second \"sub\" loop is the *player menu*, with another background made in paint.\n",
    "> *while round_over:*\n",
    "> - Here there is only one option: the button \"BORA\" that starts the round. If the player clicks within the \"BORA\" button area, *round_over* changes to *False*\n",
    "\n",
    "- Third \"sub\" loop is the *snake battle*, with background and entities generated by the pygame functions.\n",
    "> *while not round_over:*\n",
    "> - Here, if any colision happens, the score is changed and the *round_over* changes back to *True*.\n",
    "> - If any player score two points total, the variable game_over will be True, and the fourth sub loop starts.\n",
    "\n",
    "- Fourth \"sub\" loop is the *end game menu*, with backgroundalso made in paint.\n",
    "> *while not restart:*\n",
    "> - Here, there is only one option is to click within on the virtual button \"Back to main menu\". if clicked, restart = True, and the players are sent back to main menu."
   ]
  },
  {
   "cell_type": "code",
   "execution_count": 24,
   "metadata": {
    "code_folding": []
   },
   "outputs": [
    {
     "name": "stdout",
     "output_type": "stream",
     "text": [
      "START button clicked!\n",
      "GAME REALLY STARTED!\n",
      "GAME REALLY STARTED!\n",
      "GAME REALLY STARTED!\n",
      "BORA button clicked!\n",
      "QUIT button clicked!\n"
     ]
    },
    {
     "ename": "error",
     "evalue": "video system not initialized",
     "output_type": "error",
     "traceback": [
      "\u001b[1;31m---------------------------------------------------------------------------\u001b[0m",
      "\u001b[1;31merror\u001b[0m                                     Traceback (most recent call last)",
      "\u001b[1;32m<ipython-input-24-88b312723bc4>\u001b[0m in \u001b[0;36m<module>\u001b[1;34m\u001b[0m\n\u001b[0;32m     25\u001b[0m             \u001b[0mscreen\u001b[0m\u001b[1;33m.\u001b[0m\u001b[0mblit\u001b[0m\u001b[1;33m(\u001b[0m\u001b[0mbackground\u001b[0m\u001b[1;33m,\u001b[0m \u001b[1;33m[\u001b[0m\u001b[1;36m0\u001b[0m\u001b[1;33m,\u001b[0m \u001b[1;36m0\u001b[0m\u001b[1;33m]\u001b[0m\u001b[1;33m)\u001b[0m\u001b[1;33m\u001b[0m\u001b[1;33m\u001b[0m\u001b[0m\n\u001b[0;32m     26\u001b[0m             \u001b[0mcheck_main_menu_events\u001b[0m\u001b[1;33m(\u001b[0m\u001b[0mobject1\u001b[0m\u001b[1;33m=\u001b[0m\u001b[1;33m[\u001b[0m\u001b[1;33m]\u001b[0m\u001b[1;33m)\u001b[0m\u001b[1;33m\u001b[0m\u001b[1;33m\u001b[0m\u001b[0m\n\u001b[1;32m---> 27\u001b[1;33m             \u001b[0mpygame\u001b[0m\u001b[1;33m.\u001b[0m\u001b[0mdisplay\u001b[0m\u001b[1;33m.\u001b[0m\u001b[0mflip\u001b[0m\u001b[1;33m(\u001b[0m\u001b[1;33m)\u001b[0m\u001b[1;33m\u001b[0m\u001b[1;33m\u001b[0m\u001b[0m\n\u001b[0m\u001b[0;32m     28\u001b[0m \u001b[1;33m\u001b[0m\u001b[0m\n\u001b[0;32m     29\u001b[0m         \u001b[0mmixer\u001b[0m\u001b[1;33m.\u001b[0m\u001b[0mmusic\u001b[0m\u001b[1;33m.\u001b[0m\u001b[0mload\u001b[0m\u001b[1;33m(\u001b[0m\u001b[0mmenu_player_sound\u001b[0m\u001b[1;33m)\u001b[0m\u001b[1;33m\u001b[0m\u001b[1;33m\u001b[0m\u001b[0m\n",
      "\u001b[1;31merror\u001b[0m: video system not initialized"
     ]
    }
   ],
   "source": [
    "while True:\n",
    "    game_over = False\n",
    "    round_over = True\n",
    "    game_started = False\n",
    "    fight_started = False\n",
    "    restart = False\n",
    "    apple = Apple()\n",
    "    wall = Wall()\n",
    "    bg_color = (230, 230, 230)\n",
    "\n",
    "    # Background Sound\n",
    "    pygame.mixer.init()\n",
    "    mixer.music.load(intro_sound)\n",
    "    mixer.music.play(-1)\n",
    "\n",
    "    # generating snakes\n",
    "    snake = Snake(color=(0, 0, 255), )\n",
    "    snake2 = Snake(start=[(400, 400), (410, 400), (420, 400)], color=(255, 255, 0), name='Player_2')\n",
    "\n",
    "    #The main game loop\n",
    "    while not game_over:\n",
    "\n",
    "        while not game_started:\n",
    "            #First Menu\n",
    "            screen.blit(background, [0, 0])\n",
    "            check_main_menu_events(object1=[])\n",
    "            pygame.display.flip()\n",
    "\n",
    "        mixer.music.load(menu_player_sound)\n",
    "        mixer.music.play(-1)\n",
    "\n",
    "        while round_over:\n",
    "            #Player Menu\n",
    "            screen.blit(background2, [0, 0])\n",
    "            check_main_menu_events(object1=[])\n",
    "            print_on_screen(f'Wins: {sum(snake.score)}' + ' ' * 30 + f'Wins: {sum(snake2.score)}',\n",
    "                            print_pos=(300, 50), string_color=(255, 255, 255), bkg_color=(0, 0, 0))\n",
    "            pygame.display.flip()\n",
    "\n",
    "        # reset snakes direction, position and apple_counter:\n",
    "        reset_snake(snake, snake2)\n",
    "        apple_counter = []\n",
    "\n",
    "        mixer.music.load(game_back_sound)\n",
    "        mixer.music.play(-1)\n",
    "\n",
    "        while not round_over:\n",
    "            clock.tick(20)\n",
    "            check_events(snake)\n",
    "            check_events(snake2)\n",
    "            snake.update()\n",
    "            snake2.update()\n",
    "\n",
    "            # updating screen\n",
    "            screen.fill((140, 140, 50))\n",
    "            screen.blit(apple.size, apple.position)\n",
    "            wall.display()\n",
    "            snake.display()\n",
    "            snake2.display()\n",
    "            pygame.display.flip()\n",
    "            \n",
    "            #check all colisions\n",
    "            check_colisions(snake, snake2)\n",
    "\n",
    "        print_on_screen(round_end_msg, bkg_color=(140, 140, 50), string_color=(255, 0, 0))\n",
    "        death_sound.play()\n",
    "        hit_sound.play(5)\n",
    "        snake_blink(snake, snake2)\n",
    "        round_over = True\n",
    "        fight_started = False\n",
    "        time.sleep(1)\n",
    "        \n",
    "        if score_check(snake):\n",
    "             bkg_end = background_end1\n",
    "\n",
    "        if score_check(snake2):\n",
    "             bkg_end = background_end2\n",
    "\n",
    "    mixer.music.load(winner)\n",
    "    mixer.music.play(-1)\n",
    "\n",
    "    while not restart:\n",
    "        fight_started = False\n",
    "        game_started = False\n",
    "        screen.blit(bkg_end, [0, 0])\n",
    "        check_main_menu_events(object1=[])\n",
    "        pygame.display.flip()"
   ]
  },
  {
   "cell_type": "markdown",
   "metadata": {},
   "source": [
    "## References and used media:"
   ]
  },
  {
   "cell_type": "markdown",
   "metadata": {
    "code_folding": [
     0
    ]
   },
   "source": [
    "Soundtrack was obtained from youtube videos:\n",
    "\n",
    "- 'game_intro.wav' - https://www.youtube.com/watch?v=vMqUEFIb-EI&list=PL709C66DD40795D4F\n",
    "- 'player_menu.mp3' - https://www.youtube.com/watch?v=Kmnmaui9s_I\n",
    "- 'game_fight.mp3' - https://www.youtube.com/watch?v=TBR2x1v-5s4\n",
    "- 'winner.mp3' - https://www.youtube.com/watch?v=aSQ00SAPs1g\n",
    "- 'death.wav' - https://www.youtube.com/watch?v=3FmN46XQius\n",
    "- '2AH.wav' - https://www.youtube.com/watch?v=axV4iFiuDmE"
   ]
  }
 ],
 "metadata": {
  "kernelspec": {
   "display_name": "Python 3",
   "language": "python",
   "name": "python3"
  },
  "language_info": {
   "codemirror_mode": {
    "name": "ipython",
    "version": 3
   },
   "file_extension": ".py",
   "mimetype": "text/x-python",
   "name": "python",
   "nbconvert_exporter": "python",
   "pygments_lexer": "ipython3",
   "version": "3.8.1"
  },
  "toc": {
   "base_numbering": 1,
   "nav_menu": {},
   "number_sections": true,
   "sideBar": true,
   "skip_h1_title": false,
   "title_cell": "Table of Contents",
   "title_sidebar": "Contents",
   "toc_cell": false,
   "toc_position": {},
   "toc_section_display": true,
   "toc_window_display": false
  }
 },
 "nbformat": 4,
 "nbformat_minor": 4
}

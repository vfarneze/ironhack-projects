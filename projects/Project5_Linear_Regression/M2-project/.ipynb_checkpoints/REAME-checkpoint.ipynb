{
 "cells": [
  {
   "cell_type": "markdown",
   "metadata": {},
   "source": [
    "\n",
    "![Ironhack logo](https://i.imgur.com/1QgrNNw.png)\n",
    "\n",
    "# Mini-Project | Module 2 Cumulative Lab 1\n",
    "\n",
    "\n",
    "## Introduction\n",
    "\n",
    "The goal of this extended lab is to apply the statistical concepts that you have learned so far to real-world data both to practice and better understand how these concepts are useful. \n",
    "\n",
    "\n",
    "## Getting Started\n",
    "\n",
    "This lab consists of two parts: Data cleaning & Exploratory data analysis. You should begin with '1.-Data Cleaning.ipynb', and then move on to '2.-EDA.ipynb' as you will want to use the clean dataset you build in part 1 to complete part 2. \n",
    "\n",
    "\n",
    "## Expectations\n",
    "\n",
    "- Write clean, well-commented code\n",
    "- Fully explain your responses where necessary\n",
    "- Refer to the lecture notes if you have questions\n",
    "- Don't be afraid to ask your TAs for help!\n",
    "\n",
    "\n",
    "## Deliverables\n",
    "\n",
    "- '1.-Data Cleaning.ipynb' with your responses\n",
    "- '2.-EDA.ipynb' with your responses\n",
    "\n",
    "\n",
    "## Submission\n",
    "\n",
    "Upon completion, add your deliverables to git. Then commit git and push your branch to the remote.\n"
   ]
  },
  {
   "cell_type": "code",
   "execution_count": null,
   "metadata": {},
   "outputs": [],
   "source": []
  }
 ],
 "metadata": {
  "kernelspec": {
   "display_name": "Python 3",
   "language": "python",
   "name": "python3"
  },
  "language_info": {
   "codemirror_mode": {
    "name": "ipython",
    "version": 3
   },
   "file_extension": ".py",
   "mimetype": "text/x-python",
   "name": "python",
   "nbconvert_exporter": "python",
   "pygments_lexer": "ipython3",
   "version": "3.8.1"
  },
  "toc": {
   "base_numbering": 1,
   "nav_menu": {},
   "number_sections": true,
   "sideBar": true,
   "skip_h1_title": false,
   "title_cell": "Table of Contents",
   "title_sidebar": "Contents",
   "toc_cell": false,
   "toc_position": {},
   "toc_section_display": true,
   "toc_window_display": false
  },
  "varInspector": {
   "cols": {
    "lenName": 16,
    "lenType": 16,
    "lenVar": 40
   },
   "kernels_config": {
    "python": {
     "delete_cmd_postfix": "",
     "delete_cmd_prefix": "del ",
     "library": "var_list.py",
     "varRefreshCmd": "print(var_dic_list())"
    },
    "r": {
     "delete_cmd_postfix": ") ",
     "delete_cmd_prefix": "rm(",
     "library": "var_list.r",
     "varRefreshCmd": "cat(var_dic_list()) "
    }
   },
   "types_to_exclude": [
    "module",
    "function",
    "builtin_function_or_method",
    "instance",
    "_Feature"
   ],
   "window_display": false
  }
 },
 "nbformat": 4,
 "nbformat_minor": 4
}

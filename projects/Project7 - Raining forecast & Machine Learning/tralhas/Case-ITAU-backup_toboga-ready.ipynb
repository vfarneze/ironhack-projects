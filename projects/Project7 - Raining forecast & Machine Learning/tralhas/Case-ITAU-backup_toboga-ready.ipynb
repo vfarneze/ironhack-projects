{
 "cells": [
  {
   "cell_type": "markdown",
   "metadata": {},
   "source": []
  },
  {
   "cell_type": "code",
   "execution_count": null,
   "metadata": {},
   "outputs": [],
   "source": [
    "import warnings\n",
    "warnings.filterwarnings(\"ignore\")"
   ]
  },
  {
   "cell_type": "markdown",
   "metadata": {},
   "source": [
    "# Import Libraries\n",
    "\n",
    "## Library versions"
   ]
  },
  {
   "cell_type": "code",
   "execution_count": 39,
   "metadata": {},
   "outputs": [],
   "source": [
    "import pandas as pd\n",
    "import matplotlib.pyplot as plt\n",
    "import numpy as np\n",
    "import seaborn as sns"
   ]
  },
  {
   "cell_type": "markdown",
   "metadata": {},
   "source": [
    "# Import Datasets & join"
   ]
  },
  {
   "cell_type": "code",
   "execution_count": 298,
   "metadata": {},
   "outputs": [],
   "source": [
    "path = 'processo_cientista-master/data/'\n",
    "\n",
    "data = pd.read_csv(path+'rain_data_aus.csv')\n",
    "winds = pd.DataFrame()\n",
    "\n",
    "for number in [1,2,3,4,5,6,7,8]:\n",
    "    df = pd.read_csv(path+f'wind_table_0{number}.csv')\n",
    "    df.columns = ['date', 'location', 'wind_gustdir', 'wind_gustspeed', 'wind_dir9am',\n",
    "       'wind_dir3pm', 'wind_speed9am', 'wind_speed3pm']\n",
    "    winds = pd.concat([wind,df])\n",
    "\n",
    "data = pd.merge(data, winds, on=['date','location'])"
   ]
  },
  {
   "cell_type": "markdown",
   "metadata": {},
   "source": [
    "# Exploring Data"
   ]
  },
  {
   "cell_type": "markdown",
   "metadata": {
    "heading_collapsed": true
   },
   "source": [
    "## Analysis of *coluna_vigente*"
   ]
  },
  {
   "cell_type": "markdown",
   "metadata": {
    "hidden": true
   },
   "source": [
    "Here we can analyse if the *coluna_vigente* would be the probability of raining in the next day.\n",
    "In other words, woud be the prediction of the column *raintomorrow*"
   ]
  },
  {
   "cell_type": "code",
   "execution_count": 299,
   "metadata": {
    "hidden": true
   },
   "outputs": [],
   "source": [
    "testi = data.loc[:,['raintomorrow','modelo_vigente']]"
   ]
  },
  {
   "cell_type": "code",
   "execution_count": 308,
   "metadata": {
    "hidden": true
   },
   "outputs": [],
   "source": [
    "testi['prev'] = testi.modelo_vigente.apply(lambda x: x > 0.5)\n",
    "testi['real'] = testi.raintomorrow.apply(lambda x: x == 'Yes')"
   ]
  },
  {
   "cell_type": "code",
   "execution_count": 328,
   "metadata": {
    "hidden": true
   },
   "outputs": [
    {
     "name": "stdout",
     "output_type": "stream",
     "text": [
      "[[140443   3917]\n",
      " [ 13285  28934]]\n"
     ]
    }
   ],
   "source": [
    "from sklearn.metrics import confusion_matrix\n",
    "CM = confusion_matrix(testi.iloc[:,[2,3]].real,testi.iloc[:,[2,3]].prev)\n",
    "print(CM)          "
   ]
  },
  {
   "cell_type": "code",
   "execution_count": 331,
   "metadata": {
    "hidden": true,
    "scrolled": true
   },
   "outputs": [
    {
     "name": "stdout",
     "output_type": "stream",
     "text": [
      "              precision    recall  f1-score   support\n",
      "\n",
      "       False       0.91      0.97      0.94    144360\n",
      "        True       0.88      0.69      0.77     42219\n",
      "\n",
      "    accuracy                           0.91    186579\n",
      "   macro avg       0.90      0.83      0.86    186579\n",
      "weighted avg       0.91      0.91      0.90    186579\n",
      "\n"
     ]
    }
   ],
   "source": [
    "from sklearn.metrics import classification_report\n",
    "\n",
    "print(classification_report(testi.iloc[:,[2,3]].real,testi.iloc[:,[2,3]].prev))"
   ]
  },
  {
   "cell_type": "code",
   "execution_count": 329,
   "metadata": {
    "hidden": true
   },
   "outputs": [
    {
     "name": "stdout",
     "output_type": "stream",
     "text": [
      "precision : 0.8807646646981827\n",
      "recal : 0.6853\n"
     ]
    }
   ],
   "source": [
    "tn, fp, fn, tp = confusion_matrix(testi.iloc[:,[2,3]].real,testi.iloc[:,[2,3]].prev).ravel()\n",
    "\n",
    "precision = tp / (fp + tp)\n",
    "recal = tp / (fn + tp)\n",
    "\n",
    "print(\"precision :\", precision)\n",
    "print(\"recal :\",round(recal,4))"
   ]
  },
  {
   "cell_type": "code",
   "execution_count": 341,
   "metadata": {
    "hidden": true
   },
   "outputs": [],
   "source": [
    "prec = []\n",
    "rec = []\n",
    "\n",
    "for number in np.arange(0,1,0.05):\n",
    "\n",
    "    testi['prev'] = testi.modelo_vigente.apply(lambda x: x > number)\n",
    "    testi['real'] = testi.raintomorrow.apply(lambda x: x == 'Yes')\n",
    "\n",
    "\n",
    "    tn, fp, fn, tp = confusion_matrix(testi.iloc[:,[2,3]].real,testi.iloc[:,[2,3]].prev).ravel()\n",
    "\n",
    "    prec.append(tp / (fp + tp))\n",
    "    rec.append(tp / (fn + tp))"
   ]
  },
  {
   "cell_type": "code",
   "execution_count": 342,
   "metadata": {
    "hidden": true,
    "scrolled": true
   },
   "outputs": [],
   "source": [
    "# sns.scatterplot(x=np.arange(0,1,0.05), y=prec,label='precisão')\n",
    "# sns.scatterplot(x=np.arange(0,1,0.05), y=rec,label='recal')\n"
   ]
  },
  {
   "cell_type": "code",
   "execution_count": 343,
   "metadata": {
    "hidden": true,
    "scrolled": false
   },
   "outputs": [],
   "source": [
    "# sns.scatterplot(x=prec, y=rec,label='prec vs recall')"
   ]
  },
  {
   "cell_type": "markdown",
   "metadata": {
    "heading_collapsed": true
   },
   "source": [
    "## dataframe: describe, info, columns... etc"
   ]
  },
  {
   "cell_type": "code",
   "execution_count": 8,
   "metadata": {
    "collapsed": true,
    "hidden": true
   },
   "outputs": [
    {
     "name": "stdout",
     "output_type": "stream",
     "text": [
      "porcentagem de dados nulos:\n",
      "\n",
      "date                 0.0\n",
      "location             0.0\n",
      "mintemp              0.0\n",
      "maxtemp              0.0\n",
      "rainfall             1.0\n",
      "evaporation         43.0\n",
      "sunshine            48.0\n",
      "humidity9am          1.0\n",
      "humidity3pm          3.0\n",
      "pressure9am         10.0\n",
      "pressure3pm         10.0\n",
      "cloud9am            38.0\n",
      "cloud3pm            40.0\n",
      "temp9am              1.0\n",
      "temp3pm              2.0\n",
      "raintoday            1.0\n",
      "amountOfRain         0.0\n",
      "raintomorrow         0.0\n",
      "temp                 0.0\n",
      "humidity             3.0\n",
      "precipitation3pm     0.0\n",
      "precipitation9am     0.0\n",
      "modelo_vigente       0.0\n",
      "dtype: float64\n"
     ]
    }
   ],
   "source": [
    "print('porcentagem de dados nulos:\\n')\n",
    "print(round(data.isna().sum()/data.shape[0]*100))"
   ]
  },
  {
   "cell_type": "code",
   "execution_count": 9,
   "metadata": {
    "hidden": true
   },
   "outputs": [
    {
     "data": {
      "text/html": [
       "<div>\n",
       "<style scoped>\n",
       "    .dataframe tbody tr th:only-of-type {\n",
       "        vertical-align: middle;\n",
       "    }\n",
       "\n",
       "    .dataframe tbody tr th {\n",
       "        vertical-align: top;\n",
       "    }\n",
       "\n",
       "    .dataframe thead th {\n",
       "        text-align: right;\n",
       "    }\n",
       "</style>\n",
       "<table border=\"1\" class=\"dataframe\">\n",
       "  <thead>\n",
       "    <tr style=\"text-align: right;\">\n",
       "      <th></th>\n",
       "      <th>count</th>\n",
       "      <th>mean</th>\n",
       "      <th>std</th>\n",
       "      <th>min</th>\n",
       "      <th>25%</th>\n",
       "      <th>50%</th>\n",
       "      <th>75%</th>\n",
       "      <th>max</th>\n",
       "    </tr>\n",
       "  </thead>\n",
       "  <tbody>\n",
       "    <tr>\n",
       "      <th>mintemp</th>\n",
       "      <td>141556.0</td>\n",
       "      <td>12.186400</td>\n",
       "      <td>6.403283</td>\n",
       "      <td>-8.500000</td>\n",
       "      <td>7.600000</td>\n",
       "      <td>12.000000</td>\n",
       "      <td>16.800000</td>\n",
       "      <td>33.90000</td>\n",
       "    </tr>\n",
       "    <tr>\n",
       "      <th>maxtemp</th>\n",
       "      <td>141871.0</td>\n",
       "      <td>23.226784</td>\n",
       "      <td>7.117618</td>\n",
       "      <td>-4.800000</td>\n",
       "      <td>17.900000</td>\n",
       "      <td>22.600000</td>\n",
       "      <td>28.200000</td>\n",
       "      <td>48.10000</td>\n",
       "    </tr>\n",
       "    <tr>\n",
       "      <th>rainfall</th>\n",
       "      <td>140787.0</td>\n",
       "      <td>2.349974</td>\n",
       "      <td>8.465173</td>\n",
       "      <td>0.000000</td>\n",
       "      <td>0.000000</td>\n",
       "      <td>0.000000</td>\n",
       "      <td>0.800000</td>\n",
       "      <td>371.00000</td>\n",
       "    </tr>\n",
       "    <tr>\n",
       "      <th>evaporation</th>\n",
       "      <td>81350.0</td>\n",
       "      <td>5.469824</td>\n",
       "      <td>4.188537</td>\n",
       "      <td>0.000000</td>\n",
       "      <td>2.600000</td>\n",
       "      <td>4.800000</td>\n",
       "      <td>7.400000</td>\n",
       "      <td>145.00000</td>\n",
       "    </tr>\n",
       "    <tr>\n",
       "      <th>sunshine</th>\n",
       "      <td>74377.0</td>\n",
       "      <td>7.624853</td>\n",
       "      <td>3.781525</td>\n",
       "      <td>0.000000</td>\n",
       "      <td>4.900000</td>\n",
       "      <td>8.500000</td>\n",
       "      <td>10.600000</td>\n",
       "      <td>14.50000</td>\n",
       "    </tr>\n",
       "    <tr>\n",
       "      <th>humidity9am</th>\n",
       "      <td>140419.0</td>\n",
       "      <td>68.843810</td>\n",
       "      <td>19.051293</td>\n",
       "      <td>0.000000</td>\n",
       "      <td>57.000000</td>\n",
       "      <td>70.000000</td>\n",
       "      <td>83.000000</td>\n",
       "      <td>100.00000</td>\n",
       "    </tr>\n",
       "    <tr>\n",
       "      <th>humidity3pm</th>\n",
       "      <td>138583.0</td>\n",
       "      <td>51.482606</td>\n",
       "      <td>20.797772</td>\n",
       "      <td>0.000000</td>\n",
       "      <td>37.000000</td>\n",
       "      <td>52.000000</td>\n",
       "      <td>66.000000</td>\n",
       "      <td>100.00000</td>\n",
       "    </tr>\n",
       "    <tr>\n",
       "      <th>pressure9am</th>\n",
       "      <td>128179.0</td>\n",
       "      <td>1017.653758</td>\n",
       "      <td>7.105476</td>\n",
       "      <td>980.500000</td>\n",
       "      <td>1012.900000</td>\n",
       "      <td>1017.600000</td>\n",
       "      <td>1022.400000</td>\n",
       "      <td>1041.00000</td>\n",
       "    </tr>\n",
       "    <tr>\n",
       "      <th>pressure3pm</th>\n",
       "      <td>128212.0</td>\n",
       "      <td>1015.258204</td>\n",
       "      <td>7.036677</td>\n",
       "      <td>977.100000</td>\n",
       "      <td>1010.400000</td>\n",
       "      <td>1015.200000</td>\n",
       "      <td>1020.000000</td>\n",
       "      <td>1039.60000</td>\n",
       "    </tr>\n",
       "    <tr>\n",
       "      <th>cloud9am</th>\n",
       "      <td>88536.0</td>\n",
       "      <td>4.437189</td>\n",
       "      <td>2.887016</td>\n",
       "      <td>0.000000</td>\n",
       "      <td>1.000000</td>\n",
       "      <td>5.000000</td>\n",
       "      <td>7.000000</td>\n",
       "      <td>9.00000</td>\n",
       "    </tr>\n",
       "    <tr>\n",
       "      <th>cloud3pm</th>\n",
       "      <td>85099.0</td>\n",
       "      <td>4.503167</td>\n",
       "      <td>2.720633</td>\n",
       "      <td>0.000000</td>\n",
       "      <td>2.000000</td>\n",
       "      <td>5.000000</td>\n",
       "      <td>7.000000</td>\n",
       "      <td>9.00000</td>\n",
       "    </tr>\n",
       "    <tr>\n",
       "      <th>temp9am</th>\n",
       "      <td>141289.0</td>\n",
       "      <td>16.987509</td>\n",
       "      <td>6.492838</td>\n",
       "      <td>-7.200000</td>\n",
       "      <td>12.300000</td>\n",
       "      <td>16.700000</td>\n",
       "      <td>21.600000</td>\n",
       "      <td>40.20000</td>\n",
       "    </tr>\n",
       "    <tr>\n",
       "      <th>temp3pm</th>\n",
       "      <td>139467.0</td>\n",
       "      <td>21.687235</td>\n",
       "      <td>6.937594</td>\n",
       "      <td>-5.400000</td>\n",
       "      <td>16.600000</td>\n",
       "      <td>21.100000</td>\n",
       "      <td>26.400000</td>\n",
       "      <td>46.70000</td>\n",
       "    </tr>\n",
       "    <tr>\n",
       "      <th>amountOfRain</th>\n",
       "      <td>142193.0</td>\n",
       "      <td>2.360682</td>\n",
       "      <td>8.477969</td>\n",
       "      <td>0.000000</td>\n",
       "      <td>0.000000</td>\n",
       "      <td>0.000000</td>\n",
       "      <td>0.800000</td>\n",
       "      <td>371.00000</td>\n",
       "    </tr>\n",
       "    <tr>\n",
       "      <th>temp</th>\n",
       "      <td>141871.0</td>\n",
       "      <td>28.505419</td>\n",
       "      <td>10.237506</td>\n",
       "      <td>-3.760000</td>\n",
       "      <td>22.520000</td>\n",
       "      <td>28.520000</td>\n",
       "      <td>35.480000</td>\n",
       "      <td>59.72000</td>\n",
       "    </tr>\n",
       "    <tr>\n",
       "      <th>humidity</th>\n",
       "      <td>138583.0</td>\n",
       "      <td>61.991179</td>\n",
       "      <td>26.649111</td>\n",
       "      <td>2.000000</td>\n",
       "      <td>44.000000</td>\n",
       "      <td>63.200000</td>\n",
       "      <td>80.000000</td>\n",
       "      <td>122.00000</td>\n",
       "    </tr>\n",
       "    <tr>\n",
       "      <th>precipitation3pm</th>\n",
       "      <td>142193.0</td>\n",
       "      <td>10.014164</td>\n",
       "      <td>3.169832</td>\n",
       "      <td>0.000000</td>\n",
       "      <td>8.000000</td>\n",
       "      <td>10.000000</td>\n",
       "      <td>12.000000</td>\n",
       "      <td>26.00000</td>\n",
       "    </tr>\n",
       "    <tr>\n",
       "      <th>precipitation9am</th>\n",
       "      <td>142193.0</td>\n",
       "      <td>10.000748</td>\n",
       "      <td>4.997908</td>\n",
       "      <td>-17.739346</td>\n",
       "      <td>6.650238</td>\n",
       "      <td>10.000009</td>\n",
       "      <td>13.389306</td>\n",
       "      <td>32.47859</td>\n",
       "    </tr>\n",
       "    <tr>\n",
       "      <th>modelo_vigente</th>\n",
       "      <td>142193.0</td>\n",
       "      <td>0.227804</td>\n",
       "      <td>0.272764</td>\n",
       "      <td>0.000000</td>\n",
       "      <td>0.030055</td>\n",
       "      <td>0.100853</td>\n",
       "      <td>0.329507</td>\n",
       "      <td>0.99940</td>\n",
       "    </tr>\n",
       "  </tbody>\n",
       "</table>\n",
       "</div>"
      ],
      "text/plain": [
       "                     count         mean        std         min          25%  \\\n",
       "mintemp           141556.0    12.186400   6.403283   -8.500000     7.600000   \n",
       "maxtemp           141871.0    23.226784   7.117618   -4.800000    17.900000   \n",
       "rainfall          140787.0     2.349974   8.465173    0.000000     0.000000   \n",
       "evaporation        81350.0     5.469824   4.188537    0.000000     2.600000   \n",
       "sunshine           74377.0     7.624853   3.781525    0.000000     4.900000   \n",
       "humidity9am       140419.0    68.843810  19.051293    0.000000    57.000000   \n",
       "humidity3pm       138583.0    51.482606  20.797772    0.000000    37.000000   \n",
       "pressure9am       128179.0  1017.653758   7.105476  980.500000  1012.900000   \n",
       "pressure3pm       128212.0  1015.258204   7.036677  977.100000  1010.400000   \n",
       "cloud9am           88536.0     4.437189   2.887016    0.000000     1.000000   \n",
       "cloud3pm           85099.0     4.503167   2.720633    0.000000     2.000000   \n",
       "temp9am           141289.0    16.987509   6.492838   -7.200000    12.300000   \n",
       "temp3pm           139467.0    21.687235   6.937594   -5.400000    16.600000   \n",
       "amountOfRain      142193.0     2.360682   8.477969    0.000000     0.000000   \n",
       "temp              141871.0    28.505419  10.237506   -3.760000    22.520000   \n",
       "humidity          138583.0    61.991179  26.649111    2.000000    44.000000   \n",
       "precipitation3pm  142193.0    10.014164   3.169832    0.000000     8.000000   \n",
       "precipitation9am  142193.0    10.000748   4.997908  -17.739346     6.650238   \n",
       "modelo_vigente    142193.0     0.227804   0.272764    0.000000     0.030055   \n",
       "\n",
       "                          50%          75%         max  \n",
       "mintemp             12.000000    16.800000    33.90000  \n",
       "maxtemp             22.600000    28.200000    48.10000  \n",
       "rainfall             0.000000     0.800000   371.00000  \n",
       "evaporation          4.800000     7.400000   145.00000  \n",
       "sunshine             8.500000    10.600000    14.50000  \n",
       "humidity9am         70.000000    83.000000   100.00000  \n",
       "humidity3pm         52.000000    66.000000   100.00000  \n",
       "pressure9am       1017.600000  1022.400000  1041.00000  \n",
       "pressure3pm       1015.200000  1020.000000  1039.60000  \n",
       "cloud9am             5.000000     7.000000     9.00000  \n",
       "cloud3pm             5.000000     7.000000     9.00000  \n",
       "temp9am             16.700000    21.600000    40.20000  \n",
       "temp3pm             21.100000    26.400000    46.70000  \n",
       "amountOfRain         0.000000     0.800000   371.00000  \n",
       "temp                28.520000    35.480000    59.72000  \n",
       "humidity            63.200000    80.000000   122.00000  \n",
       "precipitation3pm    10.000000    12.000000    26.00000  \n",
       "precipitation9am    10.000009    13.389306    32.47859  \n",
       "modelo_vigente       0.100853     0.329507     0.99940  "
      ]
     },
     "execution_count": 9,
     "metadata": {},
     "output_type": "execute_result"
    }
   ],
   "source": [
    "data.describe().T"
   ]
  },
  {
   "cell_type": "code",
   "execution_count": 10,
   "metadata": {
    "hidden": true
   },
   "outputs": [
    {
     "data": {
      "text/html": [
       "<div>\n",
       "<style scoped>\n",
       "    .dataframe tbody tr th:only-of-type {\n",
       "        vertical-align: middle;\n",
       "    }\n",
       "\n",
       "    .dataframe tbody tr th {\n",
       "        vertical-align: top;\n",
       "    }\n",
       "\n",
       "    .dataframe thead th {\n",
       "        text-align: right;\n",
       "    }\n",
       "</style>\n",
       "<table border=\"1\" class=\"dataframe\">\n",
       "  <thead>\n",
       "    <tr style=\"text-align: right;\">\n",
       "      <th></th>\n",
       "      <th>date</th>\n",
       "      <th>location</th>\n",
       "      <th>mintemp</th>\n",
       "      <th>maxtemp</th>\n",
       "      <th>rainfall</th>\n",
       "      <th>evaporation</th>\n",
       "      <th>sunshine</th>\n",
       "      <th>humidity9am</th>\n",
       "      <th>humidity3pm</th>\n",
       "      <th>pressure9am</th>\n",
       "      <th>...</th>\n",
       "      <th>temp9am</th>\n",
       "      <th>temp3pm</th>\n",
       "      <th>raintoday</th>\n",
       "      <th>amountOfRain</th>\n",
       "      <th>raintomorrow</th>\n",
       "      <th>temp</th>\n",
       "      <th>humidity</th>\n",
       "      <th>precipitation3pm</th>\n",
       "      <th>precipitation9am</th>\n",
       "      <th>modelo_vigente</th>\n",
       "    </tr>\n",
       "  </thead>\n",
       "  <tbody>\n",
       "    <tr>\n",
       "      <th>0</th>\n",
       "      <td>2008-12-01</td>\n",
       "      <td>Albury</td>\n",
       "      <td>13.4</td>\n",
       "      <td>22.9</td>\n",
       "      <td>0.6</td>\n",
       "      <td>NaN</td>\n",
       "      <td>NaN</td>\n",
       "      <td>71.0</td>\n",
       "      <td>22.0</td>\n",
       "      <td>1007.7</td>\n",
       "      <td>...</td>\n",
       "      <td>16.9</td>\n",
       "      <td>21.8</td>\n",
       "      <td>No</td>\n",
       "      <td>0.0</td>\n",
       "      <td>No</td>\n",
       "      <td>29.48</td>\n",
       "      <td>28.400000</td>\n",
       "      <td>12</td>\n",
       "      <td>5.115360</td>\n",
       "      <td>0.089825</td>\n",
       "    </tr>\n",
       "    <tr>\n",
       "      <th>1</th>\n",
       "      <td>2008-12-02</td>\n",
       "      <td>Albury</td>\n",
       "      <td>7.4</td>\n",
       "      <td>25.1</td>\n",
       "      <td>0.0</td>\n",
       "      <td>NaN</td>\n",
       "      <td>NaN</td>\n",
       "      <td>44.0</td>\n",
       "      <td>25.0</td>\n",
       "      <td>1010.6</td>\n",
       "      <td>...</td>\n",
       "      <td>17.2</td>\n",
       "      <td>24.3</td>\n",
       "      <td>No</td>\n",
       "      <td>0.0</td>\n",
       "      <td>No</td>\n",
       "      <td>32.12</td>\n",
       "      <td>2.208569</td>\n",
       "      <td>10</td>\n",
       "      <td>21.497100</td>\n",
       "      <td>0.023477</td>\n",
       "    </tr>\n",
       "    <tr>\n",
       "      <th>2</th>\n",
       "      <td>2008-12-03</td>\n",
       "      <td>Albury</td>\n",
       "      <td>12.9</td>\n",
       "      <td>25.7</td>\n",
       "      <td>0.0</td>\n",
       "      <td>NaN</td>\n",
       "      <td>NaN</td>\n",
       "      <td>38.0</td>\n",
       "      <td>30.0</td>\n",
       "      <td>1007.6</td>\n",
       "      <td>...</td>\n",
       "      <td>21.0</td>\n",
       "      <td>23.2</td>\n",
       "      <td>No</td>\n",
       "      <td>0.0</td>\n",
       "      <td>No</td>\n",
       "      <td>32.84</td>\n",
       "      <td>38.000000</td>\n",
       "      <td>17</td>\n",
       "      <td>20.782859</td>\n",
       "      <td>0.027580</td>\n",
       "    </tr>\n",
       "    <tr>\n",
       "      <th>3</th>\n",
       "      <td>2008-12-04</td>\n",
       "      <td>Albury</td>\n",
       "      <td>9.2</td>\n",
       "      <td>28.0</td>\n",
       "      <td>0.0</td>\n",
       "      <td>NaN</td>\n",
       "      <td>NaN</td>\n",
       "      <td>45.0</td>\n",
       "      <td>16.0</td>\n",
       "      <td>1017.6</td>\n",
       "      <td>...</td>\n",
       "      <td>18.1</td>\n",
       "      <td>26.5</td>\n",
       "      <td>No</td>\n",
       "      <td>1.0</td>\n",
       "      <td>No</td>\n",
       "      <td>35.60</td>\n",
       "      <td>21.200000</td>\n",
       "      <td>8</td>\n",
       "      <td>12.028646</td>\n",
       "      <td>0.023962</td>\n",
       "    </tr>\n",
       "    <tr>\n",
       "      <th>4</th>\n",
       "      <td>2008-12-05</td>\n",
       "      <td>Albury</td>\n",
       "      <td>17.5</td>\n",
       "      <td>32.3</td>\n",
       "      <td>1.0</td>\n",
       "      <td>NaN</td>\n",
       "      <td>NaN</td>\n",
       "      <td>82.0</td>\n",
       "      <td>33.0</td>\n",
       "      <td>1010.8</td>\n",
       "      <td>...</td>\n",
       "      <td>17.8</td>\n",
       "      <td>29.7</td>\n",
       "      <td>No</td>\n",
       "      <td>0.2</td>\n",
       "      <td>No</td>\n",
       "      <td>40.76</td>\n",
       "      <td>41.600000</td>\n",
       "      <td>9</td>\n",
       "      <td>11.883546</td>\n",
       "      <td>0.220164</td>\n",
       "    </tr>\n",
       "  </tbody>\n",
       "</table>\n",
       "<p>5 rows × 23 columns</p>\n",
       "</div>"
      ],
      "text/plain": [
       "         date location  mintemp  maxtemp  rainfall  evaporation  sunshine  \\\n",
       "0  2008-12-01   Albury     13.4     22.9       0.6          NaN       NaN   \n",
       "1  2008-12-02   Albury      7.4     25.1       0.0          NaN       NaN   \n",
       "2  2008-12-03   Albury     12.9     25.7       0.0          NaN       NaN   \n",
       "3  2008-12-04   Albury      9.2     28.0       0.0          NaN       NaN   \n",
       "4  2008-12-05   Albury     17.5     32.3       1.0          NaN       NaN   \n",
       "\n",
       "   humidity9am  humidity3pm  pressure9am  ...  temp9am  temp3pm  raintoday  \\\n",
       "0         71.0         22.0       1007.7  ...     16.9     21.8         No   \n",
       "1         44.0         25.0       1010.6  ...     17.2     24.3         No   \n",
       "2         38.0         30.0       1007.6  ...     21.0     23.2         No   \n",
       "3         45.0         16.0       1017.6  ...     18.1     26.5         No   \n",
       "4         82.0         33.0       1010.8  ...     17.8     29.7         No   \n",
       "\n",
       "   amountOfRain  raintomorrow   temp   humidity precipitation3pm  \\\n",
       "0           0.0            No  29.48  28.400000               12   \n",
       "1           0.0            No  32.12   2.208569               10   \n",
       "2           0.0            No  32.84  38.000000               17   \n",
       "3           1.0            No  35.60  21.200000                8   \n",
       "4           0.2            No  40.76  41.600000                9   \n",
       "\n",
       "   precipitation9am  modelo_vigente  \n",
       "0          5.115360        0.089825  \n",
       "1         21.497100        0.023477  \n",
       "2         20.782859        0.027580  \n",
       "3         12.028646        0.023962  \n",
       "4         11.883546        0.220164  \n",
       "\n",
       "[5 rows x 23 columns]"
      ]
     },
     "execution_count": 10,
     "metadata": {},
     "output_type": "execute_result"
    }
   ],
   "source": [
    "data.head()"
   ]
  },
  {
   "cell_type": "code",
   "execution_count": 7,
   "metadata": {
    "hidden": true
   },
   "outputs": [
    {
     "data": {
      "text/plain": [
       "(105440, 23)"
      ]
     },
     "execution_count": 7,
     "metadata": {},
     "output_type": "execute_result"
    }
   ],
   "source": [
    "data.loc[(data.raintoday == 'No') & (data.precipitation9am > 1)].shape"
   ]
  },
  {
   "cell_type": "code",
   "execution_count": 8,
   "metadata": {
    "collapsed": true,
    "hidden": true
   },
   "outputs": [
    {
     "name": "stdout",
     "output_type": "stream",
     "text": [
      "<class 'pandas.core.frame.DataFrame'>\n",
      "RangeIndex: 142193 entries, 0 to 142192\n",
      "Data columns (total 23 columns):\n",
      " #   Column            Non-Null Count   Dtype  \n",
      "---  ------            --------------   -----  \n",
      " 0   date              142193 non-null  object \n",
      " 1   location          142193 non-null  object \n",
      " 2   mintemp           141556 non-null  float64\n",
      " 3   maxtemp           141871 non-null  float64\n",
      " 4   rainfall          140787 non-null  float64\n",
      " 5   evaporation       81350 non-null   float64\n",
      " 6   sunshine          74377 non-null   float64\n",
      " 7   humidity9am       140419 non-null  float64\n",
      " 8   humidity3pm       138583 non-null  float64\n",
      " 9   pressure9am       128179 non-null  float64\n",
      " 10  pressure3pm       128212 non-null  float64\n",
      " 11  cloud9am          88536 non-null   float64\n",
      " 12  cloud3pm          85099 non-null   float64\n",
      " 13  temp9am           141289 non-null  float64\n",
      " 14  temp3pm           139467 non-null  float64\n",
      " 15  raintoday         140787 non-null  object \n",
      " 16  amountOfRain      142193 non-null  float64\n",
      " 17  raintomorrow      142193 non-null  object \n",
      " 18  temp              141871 non-null  float64\n",
      " 19  humidity          138583 non-null  float64\n",
      " 20  precipitation3pm  142193 non-null  int64  \n",
      " 21  precipitation9am  142193 non-null  float64\n",
      " 22  modelo_vigente    142193 non-null  float64\n",
      "dtypes: float64(18), int64(1), object(4)\n",
      "memory usage: 22.8+ MB\n"
     ]
    }
   ],
   "source": [
    "data.info()"
   ]
  },
  {
   "cell_type": "markdown",
   "metadata": {
    "heading_collapsed": true
   },
   "source": [
    "## Relationship Analysis"
   ]
  },
  {
   "cell_type": "markdown",
   "metadata": {
    "hidden": true
   },
   "source": [
    "### **relationship *raintoday* and *rainfall***\n",
    "\n",
    "*raintoday* seems to be derived from *rainfall*"
   ]
  },
  {
   "cell_type": "code",
   "execution_count": 41,
   "metadata": {
    "hidden": true
   },
   "outputs": [],
   "source": [
    "xmax = data.loc[data.raintoday == 'No'].rainfall.max()\n",
    "xmin = data.loc[data.raintoday == 'No'].rainfall.min()\n",
    "yesmin = data.loc[data.raintoday == 'Yes'].rainfall.min()"
   ]
  },
  {
   "cell_type": "code",
   "execution_count": 105,
   "metadata": {
    "hidden": true
   },
   "outputs": [
    {
     "name": "stdout",
     "output_type": "stream",
     "text": [
      "minimum rainfall for necessary for raintoday = False: 0.0\n",
      "maximum rainfall for necessary for raintoday = False: 1.0\n",
      "minimum rainfall for necessary for raintoday = True: 1.1\n"
     ]
    }
   ],
   "source": [
    "print(f'minimum rainfall for necessary for raintoday = False: {xmin}')\n",
    "print(f'maximum rainfall for necessary for raintoday = False: {xmax}')\n",
    "print(f'minimum rainfall for necessary for raintoday = True: {yesmin}')"
   ]
  },
  {
   "cell_type": "markdown",
   "metadata": {
    "hidden": true
   },
   "source": [
    "### **relationship *raintomorrow* and *amountOfRain***\n",
    "\n",
    "*raintomorrow* seems to be derived from *amountOfRain*"
   ]
  },
  {
   "cell_type": "code",
   "execution_count": 43,
   "metadata": {
    "hidden": true
   },
   "outputs": [],
   "source": [
    "x_true_min = data.loc[(data.raintomorrow == 'No')].amountOfRain.min()\n",
    "x_true_max = data.loc[(data.raintomorrow == 'No')].amountOfRain.max()\n",
    "x_false_min = data.loc[(data.raintomorrow == 'Yes')].amountOfRain.min()"
   ]
  },
  {
   "cell_type": "code",
   "execution_count": 106,
   "metadata": {
    "hidden": true,
    "scrolled": false
   },
   "outputs": [
    {
     "name": "stdout",
     "output_type": "stream",
     "text": [
      "minimum rainfall for necessary for raintomorrow = False: 0.0\n",
      "maximum rainfall for necessary for raintomorrow = False: 1.0\n",
      "minimum rainfall for necessary for raintomorrow = True: 1.1\n"
     ]
    }
   ],
   "source": [
    "print(f'minimum rainfall for necessary for raintomorrow = False: {x_true_min}')\n",
    "print(f'maximum rainfall for necessary for raintomorrow = False: {x_true_max}')\n",
    "print(f'minimum rainfall for necessary for raintomorrow = True: {x_false_min}')"
   ]
  },
  {
   "cell_type": "markdown",
   "metadata": {
    "hidden": true
   },
   "source": [
    "### relationship *rainfall* and *amountOfRain*"
   ]
  },
  {
   "cell_type": "markdown",
   "metadata": {
    "hidden": true
   },
   "source": [
    "However, if we consider rainfall being on time 'T' and amountOfRain bein on time 'T+1', if we bring them to the same time window, we can see a really high High correlation between "
   ]
  },
  {
   "cell_type": "code",
   "execution_count": 15,
   "metadata": {
    "hidden": true
   },
   "outputs": [
    {
     "data": {
      "text/plain": [
       "<matplotlib.axes._subplots.AxesSubplot at 0x1b803868>"
      ]
     },
     "execution_count": 15,
     "metadata": {},
     "output_type": "execute_result"
    },
    {
     "data": {
      "image/png": "[encoded data removed]",
      "text/plain": [
       "<Figure size 432x288 with 1 Axes>"
      ]
     },
     "metadata": {
      "needs_background": "light"
     },
     "output_type": "display_data"
    }
   ],
   "source": [
    "expectancy = np.array(data.amountOfRain[0:-1]) + 1\n",
    "reality = np.array(data.rainfall[1:]) + 1\n",
    "\n",
    "error = (expectancy - reality)/reality *100\n",
    "\n",
    "sns.scatterplot(x=expectancy, y=reality)"
   ]
  },
  {
   "cell_type": "markdown",
   "metadata": {
    "hidden": true
   },
   "source": [
    "### Discrepancy between rainfall/raintoday and raintomorrow/amountOfRain"
   ]
  },
  {
   "cell_type": "markdown",
   "metadata": {
    "hidden": true
   },
   "source": [
    "Apart from the 1406 missing values of *rainfall*/*raintoday*, *raintomorrow*/*amountOfRain* should be\n",
    "similar, since the seconds \"would be\" the first ones in a time t+1.\n",
    "\n",
    "However, we have 13 rows with discrepant values between the two pairs!"
   ]
  },
  {
   "cell_type": "code",
   "execution_count": 290,
   "metadata": {
    "hidden": true
   },
   "outputs": [
    {
     "data": {
      "text/html": [
       "<div>\n",
       "<style scoped>\n",
       "    .dataframe tbody tr th:only-of-type {\n",
       "        vertical-align: middle;\n",
       "    }\n",
       "\n",
       "    .dataframe tbody tr th {\n",
       "        vertical-align: top;\n",
       "    }\n",
       "\n",
       "    .dataframe thead th {\n",
       "        text-align: right;\n",
       "    }\n",
       "</style>\n",
       "<table border=\"1\" class=\"dataframe\">\n",
       "  <thead>\n",
       "    <tr style=\"text-align: right;\">\n",
       "      <th></th>\n",
       "      <th>rainfall</th>\n",
       "      <th>raintoday</th>\n",
       "      <th>raintomorrow</th>\n",
       "      <th>amountOfRain</th>\n",
       "    </tr>\n",
       "  </thead>\n",
       "  <tbody>\n",
       "    <tr>\n",
       "      <th>3010</th>\n",
       "      <td>0.0</td>\n",
       "      <td>No</td>\n",
       "      <td>Yes</td>\n",
       "      <td>1.4</td>\n",
       "    </tr>\n",
       "    <tr>\n",
       "      <th>29496</th>\n",
       "      <td>15.6</td>\n",
       "      <td>Yes</td>\n",
       "      <td>No</td>\n",
       "      <td>0.0</td>\n",
       "    </tr>\n",
       "    <tr>\n",
       "      <th>53673</th>\n",
       "      <td>3.2</td>\n",
       "      <td>Yes</td>\n",
       "      <td>No</td>\n",
       "      <td>0.0</td>\n",
       "    </tr>\n",
       "    <tr>\n",
       "      <th>56701</th>\n",
       "      <td>0.0</td>\n",
       "      <td>No</td>\n",
       "      <td>Yes</td>\n",
       "      <td>3.0</td>\n",
       "    </tr>\n",
       "    <tr>\n",
       "      <th>65744</th>\n",
       "      <td>2.0</td>\n",
       "      <td>Yes</td>\n",
       "      <td>No</td>\n",
       "      <td>0.4</td>\n",
       "    </tr>\n",
       "    <tr>\n",
       "      <th>68179</th>\n",
       "      <td>0.0</td>\n",
       "      <td>No</td>\n",
       "      <td>Yes</td>\n",
       "      <td>1.4</td>\n",
       "    </tr>\n",
       "    <tr>\n",
       "      <th>75751</th>\n",
       "      <td>0.0</td>\n",
       "      <td>No</td>\n",
       "      <td>Yes</td>\n",
       "      <td>4.2</td>\n",
       "    </tr>\n",
       "    <tr>\n",
       "      <th>81693</th>\n",
       "      <td>0.0</td>\n",
       "      <td>No</td>\n",
       "      <td>Yes</td>\n",
       "      <td>1.6</td>\n",
       "    </tr>\n",
       "    <tr>\n",
       "      <th>90822</th>\n",
       "      <td>23.6</td>\n",
       "      <td>Yes</td>\n",
       "      <td>No</td>\n",
       "      <td>0.0</td>\n",
       "    </tr>\n",
       "    <tr>\n",
       "      <th>93855</th>\n",
       "      <td>5.0</td>\n",
       "      <td>Yes</td>\n",
       "      <td>No</td>\n",
       "      <td>0.0</td>\n",
       "    </tr>\n",
       "    <tr>\n",
       "      <th>96945</th>\n",
       "      <td>4.0</td>\n",
       "      <td>Yes</td>\n",
       "      <td>No</td>\n",
       "      <td>0.0</td>\n",
       "    </tr>\n",
       "    <tr>\n",
       "      <th>126673</th>\n",
       "      <td>3.0</td>\n",
       "      <td>Yes</td>\n",
       "      <td>No</td>\n",
       "      <td>1.0</td>\n",
       "    </tr>\n",
       "    <tr>\n",
       "      <th>129861</th>\n",
       "      <td>3.4</td>\n",
       "      <td>Yes</td>\n",
       "      <td>No</td>\n",
       "      <td>0.2</td>\n",
       "    </tr>\n",
       "  </tbody>\n",
       "</table>\n",
       "</div>"
      ],
      "text/plain": [
       "        rainfall raintoday raintomorrow  amountOfRain\n",
       "3010         0.0        No          Yes           1.4\n",
       "29496       15.6       Yes           No           0.0\n",
       "53673        3.2       Yes           No           0.0\n",
       "56701        0.0        No          Yes           3.0\n",
       "65744        2.0       Yes           No           0.4\n",
       "68179        0.0        No          Yes           1.4\n",
       "75751        0.0        No          Yes           4.2\n",
       "81693        0.0        No          Yes           1.6\n",
       "90822       23.6       Yes           No           0.0\n",
       "93855        5.0       Yes           No           0.0\n",
       "96945        4.0       Yes           No           0.0\n",
       "126673       3.0       Yes           No           1.0\n",
       "129861       3.4       Yes           No           0.2"
      ]
     },
     "execution_count": 290,
     "metadata": {},
     "output_type": "execute_result"
    }
   ],
   "source": [
    "pd.concat(  [data.rainfall[1:].reset_index(drop=True), \n",
    "             data.raintoday[1:].reset_index(drop=True),\n",
    "             data.raintomorrow[0:-1].reset_index(drop=True),\n",
    "             data.amountOfRain[0:-1].reset_index(drop=True)\n",
    "            ],axis=1).dropna().query('raintoday != raintomorrow')"
   ]
  },
  {
   "cell_type": "markdown",
   "metadata": {
    "hidden": true
   },
   "source": [
    "### temperature columns"
   ]
  },
  {
   "cell_type": "code",
   "execution_count": null,
   "metadata": {
    "hidden": true
   },
   "outputs": [],
   "source": [
    "# temperatura\n",
    "sns.pairplot(data.loc[:,['temp', 'mintemp', 'maxtemp', 'temp9am', 'temp3pm']])"
   ]
  },
  {
   "cell_type": "markdown",
   "metadata": {
    "hidden": true
   },
   "source": [
    "### pressure columns"
   ]
  },
  {
   "cell_type": "code",
   "execution_count": null,
   "metadata": {
    "hidden": true
   },
   "outputs": [],
   "source": [
    "pressure = data.loc[:,['pressure9am', 'pressure3pm']]\n",
    "sns.pairplot(pressure)"
   ]
  },
  {
   "cell_type": "markdown",
   "metadata": {
    "hidden": true
   },
   "source": [
    "### humidity columns"
   ]
  },
  {
   "cell_type": "code",
   "execution_count": 20,
   "metadata": {
    "collapsed": true,
    "hidden": true
   },
   "outputs": [
    {
     "data": {
      "text/plain": [
       "<seaborn.axisgrid.PairGrid at 0x1df9c070>"
      ]
     },
     "execution_count": 20,
     "metadata": {},
     "output_type": "execute_result"
    },
    {
     "data": {
      "image/png": "[encoded data removed]",
      "text/plain": [
       "<Figure size 540x540 with 12 Axes>"
      ]
     },
     "metadata": {
      "needs_background": "light"
     },
     "output_type": "display_data"
    }
   ],
   "source": [
    "humidity = data.loc[:,['humidity9am', 'humidity3pm', 'humidity']]\n",
    "sns.pairplot(humidity)"
   ]
  },
  {
   "cell_type": "code",
   "execution_count": 261,
   "metadata": {
    "hidden": true
   },
   "outputs": [
    {
     "name": "stdout",
     "output_type": "stream",
     "text": [
      "porcentagem de dados nulos:\n",
      "\n",
      "date              0.0\n",
      "location          0.0\n",
      "wind_gustdir      8.0\n",
      "wind_gustspeed    8.0\n",
      "wind_dir9am       9.0\n",
      "wind_dir3pm       4.0\n",
      "wind_speed9am     1.0\n",
      "wind_speed3pm     3.0\n",
      "dtype: float64\n"
     ]
    }
   ],
   "source": [
    "print('porcentagem de dados nulos:\\n')\n",
    "print(round(winds.isna().sum()/data.shape[0]*100))"
   ]
  },
  {
   "cell_type": "code",
   "execution_count": 265,
   "metadata": {
    "hidden": true
   },
   "outputs": [
    {
     "data": {
      "text/html": [
       "<div>\n",
       "<style scoped>\n",
       "    .dataframe tbody tr th:only-of-type {\n",
       "        vertical-align: middle;\n",
       "    }\n",
       "\n",
       "    .dataframe tbody tr th {\n",
       "        vertical-align: top;\n",
       "    }\n",
       "\n",
       "    .dataframe thead th {\n",
       "        text-align: right;\n",
       "    }\n",
       "</style>\n",
       "<table border=\"1\" class=\"dataframe\">\n",
       "  <thead>\n",
       "    <tr style=\"text-align: right;\">\n",
       "      <th></th>\n",
       "      <th>date</th>\n",
       "      <th>location</th>\n",
       "      <th>mintemp</th>\n",
       "      <th>maxtemp</th>\n",
       "      <th>rainfall</th>\n",
       "      <th>evaporation</th>\n",
       "      <th>sunshine</th>\n",
       "      <th>humidity9am</th>\n",
       "      <th>humidity3pm</th>\n",
       "      <th>pressure9am</th>\n",
       "      <th>...</th>\n",
       "      <th>temp9am</th>\n",
       "      <th>temp3pm</th>\n",
       "      <th>raintoday</th>\n",
       "      <th>amountOfRain</th>\n",
       "      <th>raintomorrow</th>\n",
       "      <th>temp</th>\n",
       "      <th>humidity</th>\n",
       "      <th>precipitation3pm</th>\n",
       "      <th>precipitation9am</th>\n",
       "      <th>modelo_vigente</th>\n",
       "    </tr>\n",
       "  </thead>\n",
       "  <tbody>\n",
       "    <tr>\n",
       "      <th>0</th>\n",
       "      <td>2008-12-01</td>\n",
       "      <td>Albury</td>\n",
       "      <td>13.4</td>\n",
       "      <td>22.9</td>\n",
       "      <td>0.6</td>\n",
       "      <td>NaN</td>\n",
       "      <td>NaN</td>\n",
       "      <td>71.0</td>\n",
       "      <td>22.0</td>\n",
       "      <td>1007.7</td>\n",
       "      <td>...</td>\n",
       "      <td>16.9</td>\n",
       "      <td>21.8</td>\n",
       "      <td>No</td>\n",
       "      <td>0.0</td>\n",
       "      <td>No</td>\n",
       "      <td>29.48</td>\n",
       "      <td>28.400000</td>\n",
       "      <td>12</td>\n",
       "      <td>5.11536</td>\n",
       "      <td>0.089825</td>\n",
       "    </tr>\n",
       "    <tr>\n",
       "      <th>1</th>\n",
       "      <td>2008-12-02</td>\n",
       "      <td>Albury</td>\n",
       "      <td>7.4</td>\n",
       "      <td>25.1</td>\n",
       "      <td>0.0</td>\n",
       "      <td>NaN</td>\n",
       "      <td>NaN</td>\n",
       "      <td>44.0</td>\n",
       "      <td>25.0</td>\n",
       "      <td>1010.6</td>\n",
       "      <td>...</td>\n",
       "      <td>17.2</td>\n",
       "      <td>24.3</td>\n",
       "      <td>No</td>\n",
       "      <td>0.0</td>\n",
       "      <td>No</td>\n",
       "      <td>32.12</td>\n",
       "      <td>2.208569</td>\n",
       "      <td>10</td>\n",
       "      <td>21.49710</td>\n",
       "      <td>0.023477</td>\n",
       "    </tr>\n",
       "  </tbody>\n",
       "</table>\n",
       "<p>2 rows × 23 columns</p>\n",
       "</div>"
      ],
      "text/plain": [
       "         date location  mintemp  maxtemp  rainfall  evaporation  sunshine  \\\n",
       "0  2008-12-01   Albury     13.4     22.9       0.6          NaN       NaN   \n",
       "1  2008-12-02   Albury      7.4     25.1       0.0          NaN       NaN   \n",
       "\n",
       "   humidity9am  humidity3pm  pressure9am  ...  temp9am  temp3pm  raintoday  \\\n",
       "0         71.0         22.0       1007.7  ...     16.9     21.8         No   \n",
       "1         44.0         25.0       1010.6  ...     17.2     24.3         No   \n",
       "\n",
       "   amountOfRain  raintomorrow   temp   humidity precipitation3pm  \\\n",
       "0           0.0            No  29.48  28.400000               12   \n",
       "1           0.0            No  32.12   2.208569               10   \n",
       "\n",
       "   precipitation9am  modelo_vigente  \n",
       "0           5.11536        0.089825  \n",
       "1          21.49710        0.023477  \n",
       "\n",
       "[2 rows x 23 columns]"
      ]
     },
     "execution_count": 265,
     "metadata": {},
     "output_type": "execute_result"
    }
   ],
   "source": [
    "data.head(2)"
   ]
  },
  {
   "cell_type": "code",
   "execution_count": 277,
   "metadata": {
    "hidden": true
   },
   "outputs": [
    {
     "data": {
      "text/html": [
       "<div>\n",
       "<style scoped>\n",
       "    .dataframe tbody tr th:only-of-type {\n",
       "        vertical-align: middle;\n",
       "    }\n",
       "\n",
       "    .dataframe tbody tr th {\n",
       "        vertical-align: top;\n",
       "    }\n",
       "\n",
       "    .dataframe thead th {\n",
       "        text-align: right;\n",
       "    }\n",
       "</style>\n",
       "<table border=\"1\" class=\"dataframe\">\n",
       "  <thead>\n",
       "    <tr style=\"text-align: right;\">\n",
       "      <th></th>\n",
       "      <th>date</th>\n",
       "      <th>location</th>\n",
       "      <th>mintemp</th>\n",
       "      <th>maxtemp</th>\n",
       "      <th>rainfall</th>\n",
       "      <th>evaporation</th>\n",
       "      <th>sunshine</th>\n",
       "      <th>humidity9am</th>\n",
       "      <th>humidity3pm</th>\n",
       "      <th>pressure9am</th>\n",
       "      <th>...</th>\n",
       "      <th>humidity</th>\n",
       "      <th>precipitation3pm</th>\n",
       "      <th>precipitation9am</th>\n",
       "      <th>modelo_vigente</th>\n",
       "      <th>wind_gustdir</th>\n",
       "      <th>wind_gustspeed</th>\n",
       "      <th>wind_dir9am</th>\n",
       "      <th>wind_dir3pm</th>\n",
       "      <th>wind_speed9am</th>\n",
       "      <th>wind_speed3pm</th>\n",
       "    </tr>\n",
       "  </thead>\n",
       "  <tbody>\n",
       "    <tr>\n",
       "      <th>0</th>\n",
       "      <td>2008-12-01</td>\n",
       "      <td>Albury</td>\n",
       "      <td>13.4</td>\n",
       "      <td>22.9</td>\n",
       "      <td>0.6</td>\n",
       "      <td>NaN</td>\n",
       "      <td>NaN</td>\n",
       "      <td>71.0</td>\n",
       "      <td>22.0</td>\n",
       "      <td>1007.7</td>\n",
       "      <td>...</td>\n",
       "      <td>28.400000</td>\n",
       "      <td>12.0</td>\n",
       "      <td>5.115360</td>\n",
       "      <td>0.089825</td>\n",
       "      <td>NaN</td>\n",
       "      <td>NaN</td>\n",
       "      <td>NaN</td>\n",
       "      <td>NaN</td>\n",
       "      <td>NaN</td>\n",
       "      <td>NaN</td>\n",
       "    </tr>\n",
       "    <tr>\n",
       "      <th>1</th>\n",
       "      <td>2008-12-02</td>\n",
       "      <td>Albury</td>\n",
       "      <td>7.4</td>\n",
       "      <td>25.1</td>\n",
       "      <td>0.0</td>\n",
       "      <td>NaN</td>\n",
       "      <td>NaN</td>\n",
       "      <td>44.0</td>\n",
       "      <td>25.0</td>\n",
       "      <td>1010.6</td>\n",
       "      <td>...</td>\n",
       "      <td>2.208569</td>\n",
       "      <td>10.0</td>\n",
       "      <td>21.497100</td>\n",
       "      <td>0.023477</td>\n",
       "      <td>NaN</td>\n",
       "      <td>NaN</td>\n",
       "      <td>NaN</td>\n",
       "      <td>NaN</td>\n",
       "      <td>NaN</td>\n",
       "      <td>NaN</td>\n",
       "    </tr>\n",
       "    <tr>\n",
       "      <th>2</th>\n",
       "      <td>2008-12-03</td>\n",
       "      <td>Albury</td>\n",
       "      <td>12.9</td>\n",
       "      <td>25.7</td>\n",
       "      <td>0.0</td>\n",
       "      <td>NaN</td>\n",
       "      <td>NaN</td>\n",
       "      <td>38.0</td>\n",
       "      <td>30.0</td>\n",
       "      <td>1007.6</td>\n",
       "      <td>...</td>\n",
       "      <td>38.000000</td>\n",
       "      <td>17.0</td>\n",
       "      <td>20.782859</td>\n",
       "      <td>0.027580</td>\n",
       "      <td>NaN</td>\n",
       "      <td>NaN</td>\n",
       "      <td>NaN</td>\n",
       "      <td>NaN</td>\n",
       "      <td>NaN</td>\n",
       "      <td>NaN</td>\n",
       "    </tr>\n",
       "    <tr>\n",
       "      <th>3</th>\n",
       "      <td>2008-12-04</td>\n",
       "      <td>Albury</td>\n",
       "      <td>9.2</td>\n",
       "      <td>28.0</td>\n",
       "      <td>0.0</td>\n",
       "      <td>NaN</td>\n",
       "      <td>NaN</td>\n",
       "      <td>45.0</td>\n",
       "      <td>16.0</td>\n",
       "      <td>1017.6</td>\n",
       "      <td>...</td>\n",
       "      <td>21.200000</td>\n",
       "      <td>8.0</td>\n",
       "      <td>12.028646</td>\n",
       "      <td>0.023962</td>\n",
       "      <td>NaN</td>\n",
       "      <td>NaN</td>\n",
       "      <td>NaN</td>\n",
       "      <td>NaN</td>\n",
       "      <td>NaN</td>\n",
       "      <td>NaN</td>\n",
       "    </tr>\n",
       "    <tr>\n",
       "      <th>4</th>\n",
       "      <td>2008-12-05</td>\n",
       "      <td>Albury</td>\n",
       "      <td>17.5</td>\n",
       "      <td>32.3</td>\n",
       "      <td>1.0</td>\n",
       "      <td>NaN</td>\n",
       "      <td>NaN</td>\n",
       "      <td>82.0</td>\n",
       "      <td>33.0</td>\n",
       "      <td>1010.8</td>\n",
       "      <td>...</td>\n",
       "      <td>41.600000</td>\n",
       "      <td>9.0</td>\n",
       "      <td>11.883546</td>\n",
       "      <td>0.220164</td>\n",
       "      <td>NaN</td>\n",
       "      <td>NaN</td>\n",
       "      <td>NaN</td>\n",
       "      <td>NaN</td>\n",
       "      <td>NaN</td>\n",
       "      <td>NaN</td>\n",
       "    </tr>\n",
       "    <tr>\n",
       "      <th>...</th>\n",
       "      <td>...</td>\n",
       "      <td>...</td>\n",
       "      <td>...</td>\n",
       "      <td>...</td>\n",
       "      <td>...</td>\n",
       "      <td>...</td>\n",
       "      <td>...</td>\n",
       "      <td>...</td>\n",
       "      <td>...</td>\n",
       "      <td>...</td>\n",
       "      <td>...</td>\n",
       "      <td>...</td>\n",
       "      <td>...</td>\n",
       "      <td>...</td>\n",
       "      <td>...</td>\n",
       "      <td>...</td>\n",
       "      <td>...</td>\n",
       "      <td>...</td>\n",
       "      <td>...</td>\n",
       "      <td>...</td>\n",
       "      <td>...</td>\n",
       "    </tr>\n",
       "    <tr>\n",
       "      <th>22188</th>\n",
       "      <td>2013-07-19</td>\n",
       "      <td>Perth</td>\n",
       "      <td>NaN</td>\n",
       "      <td>NaN</td>\n",
       "      <td>NaN</td>\n",
       "      <td>NaN</td>\n",
       "      <td>NaN</td>\n",
       "      <td>NaN</td>\n",
       "      <td>NaN</td>\n",
       "      <td>NaN</td>\n",
       "      <td>...</td>\n",
       "      <td>NaN</td>\n",
       "      <td>NaN</td>\n",
       "      <td>NaN</td>\n",
       "      <td>NaN</td>\n",
       "      <td>E</td>\n",
       "      <td>26.0</td>\n",
       "      <td>SE</td>\n",
       "      <td>SE</td>\n",
       "      <td>4.0</td>\n",
       "      <td>11.0</td>\n",
       "    </tr>\n",
       "    <tr>\n",
       "      <th>22189</th>\n",
       "      <td>2013-07-20</td>\n",
       "      <td>SalmonGums</td>\n",
       "      <td>NaN</td>\n",
       "      <td>NaN</td>\n",
       "      <td>NaN</td>\n",
       "      <td>NaN</td>\n",
       "      <td>NaN</td>\n",
       "      <td>NaN</td>\n",
       "      <td>NaN</td>\n",
       "      <td>NaN</td>\n",
       "      <td>...</td>\n",
       "      <td>NaN</td>\n",
       "      <td>NaN</td>\n",
       "      <td>NaN</td>\n",
       "      <td>NaN</td>\n",
       "      <td>SE</td>\n",
       "      <td>15.0</td>\n",
       "      <td>SSE</td>\n",
       "      <td>E</td>\n",
       "      <td>7.0</td>\n",
       "      <td>6.0</td>\n",
       "    </tr>\n",
       "    <tr>\n",
       "      <th>22190</th>\n",
       "      <td>2013-07-21</td>\n",
       "      <td>Walpole</td>\n",
       "      <td>NaN</td>\n",
       "      <td>NaN</td>\n",
       "      <td>NaN</td>\n",
       "      <td>NaN</td>\n",
       "      <td>NaN</td>\n",
       "      <td>NaN</td>\n",
       "      <td>NaN</td>\n",
       "      <td>NaN</td>\n",
       "      <td>...</td>\n",
       "      <td>NaN</td>\n",
       "      <td>NaN</td>\n",
       "      <td>NaN</td>\n",
       "      <td>NaN</td>\n",
       "      <td>SSW</td>\n",
       "      <td>20.0</td>\n",
       "      <td>WNW</td>\n",
       "      <td>SSW</td>\n",
       "      <td>6.0</td>\n",
       "      <td>6.0</td>\n",
       "    </tr>\n",
       "    <tr>\n",
       "      <th>22191</th>\n",
       "      <td>2013-07-22</td>\n",
       "      <td>Hobart</td>\n",
       "      <td>NaN</td>\n",
       "      <td>NaN</td>\n",
       "      <td>NaN</td>\n",
       "      <td>NaN</td>\n",
       "      <td>NaN</td>\n",
       "      <td>NaN</td>\n",
       "      <td>NaN</td>\n",
       "      <td>NaN</td>\n",
       "      <td>...</td>\n",
       "      <td>NaN</td>\n",
       "      <td>NaN</td>\n",
       "      <td>NaN</td>\n",
       "      <td>NaN</td>\n",
       "      <td>NW</td>\n",
       "      <td>50.0</td>\n",
       "      <td>NNW</td>\n",
       "      <td>NNW</td>\n",
       "      <td>17.0</td>\n",
       "      <td>28.0</td>\n",
       "    </tr>\n",
       "    <tr>\n",
       "      <th>22192</th>\n",
       "      <td>2013-07-23</td>\n",
       "      <td>Launceston</td>\n",
       "      <td>NaN</td>\n",
       "      <td>NaN</td>\n",
       "      <td>NaN</td>\n",
       "      <td>NaN</td>\n",
       "      <td>NaN</td>\n",
       "      <td>NaN</td>\n",
       "      <td>NaN</td>\n",
       "      <td>NaN</td>\n",
       "      <td>...</td>\n",
       "      <td>NaN</td>\n",
       "      <td>NaN</td>\n",
       "      <td>NaN</td>\n",
       "      <td>NaN</td>\n",
       "      <td>NW</td>\n",
       "      <td>50.0</td>\n",
       "      <td>NNW</td>\n",
       "      <td>NNW</td>\n",
       "      <td>15.0</td>\n",
       "      <td>17.0</td>\n",
       "    </tr>\n",
       "  </tbody>\n",
       "</table>\n",
       "<p>328772 rows × 29 columns</p>\n",
       "</div>"
      ],
      "text/plain": [
       "            date    location  mintemp  maxtemp  rainfall  evaporation  \\\n",
       "0     2008-12-01      Albury     13.4     22.9       0.6          NaN   \n",
       "1     2008-12-02      Albury      7.4     25.1       0.0          NaN   \n",
       "2     2008-12-03      Albury     12.9     25.7       0.0          NaN   \n",
       "3     2008-12-04      Albury      9.2     28.0       0.0          NaN   \n",
       "4     2008-12-05      Albury     17.5     32.3       1.0          NaN   \n",
       "...          ...         ...      ...      ...       ...          ...   \n",
       "22188 2013-07-19       Perth      NaN      NaN       NaN          NaN   \n",
       "22189 2013-07-20  SalmonGums      NaN      NaN       NaN          NaN   \n",
       "22190 2013-07-21     Walpole      NaN      NaN       NaN          NaN   \n",
       "22191 2013-07-22      Hobart      NaN      NaN       NaN          NaN   \n",
       "22192 2013-07-23  Launceston      NaN      NaN       NaN          NaN   \n",
       "\n",
       "       sunshine  humidity9am  humidity3pm  pressure9am  ...   humidity  \\\n",
       "0           NaN         71.0         22.0       1007.7  ...  28.400000   \n",
       "1           NaN         44.0         25.0       1010.6  ...   2.208569   \n",
       "2           NaN         38.0         30.0       1007.6  ...  38.000000   \n",
       "3           NaN         45.0         16.0       1017.6  ...  21.200000   \n",
       "4           NaN         82.0         33.0       1010.8  ...  41.600000   \n",
       "...         ...          ...          ...          ...  ...        ...   \n",
       "22188       NaN          NaN          NaN          NaN  ...        NaN   \n",
       "22189       NaN          NaN          NaN          NaN  ...        NaN   \n",
       "22190       NaN          NaN          NaN          NaN  ...        NaN   \n",
       "22191       NaN          NaN          NaN          NaN  ...        NaN   \n",
       "22192       NaN          NaN          NaN          NaN  ...        NaN   \n",
       "\n",
       "       precipitation3pm  precipitation9am  modelo_vigente  wind_gustdir  \\\n",
       "0                  12.0          5.115360        0.089825           NaN   \n",
       "1                  10.0         21.497100        0.023477           NaN   \n",
       "2                  17.0         20.782859        0.027580           NaN   \n",
       "3                   8.0         12.028646        0.023962           NaN   \n",
       "4                   9.0         11.883546        0.220164           NaN   \n",
       "...                 ...               ...             ...           ...   \n",
       "22188               NaN               NaN             NaN             E   \n",
       "22189               NaN               NaN             NaN            SE   \n",
       "22190               NaN               NaN             NaN           SSW   \n",
       "22191               NaN               NaN             NaN            NW   \n",
       "22192               NaN               NaN             NaN            NW   \n",
       "\n",
       "      wind_gustspeed  wind_dir9am wind_dir3pm  wind_speed9am  wind_speed3pm  \n",
       "0                NaN          NaN         NaN            NaN            NaN  \n",
       "1                NaN          NaN         NaN            NaN            NaN  \n",
       "2                NaN          NaN         NaN            NaN            NaN  \n",
       "3                NaN          NaN         NaN            NaN            NaN  \n",
       "4                NaN          NaN         NaN            NaN            NaN  \n",
       "...              ...          ...         ...            ...            ...  \n",
       "22188           26.0           SE          SE            4.0           11.0  \n",
       "22189           15.0          SSE           E            7.0            6.0  \n",
       "22190           20.0          WNW         SSW            6.0            6.0  \n",
       "22191           50.0          NNW         NNW           17.0           28.0  \n",
       "22192           50.0          NNW         NNW           15.0           17.0  \n",
       "\n",
       "[328772 rows x 29 columns]"
      ]
     },
     "execution_count": 277,
     "metadata": {},
     "output_type": "execute_result"
    }
   ],
   "source": [
    "pd.concat([data,winds])"
   ]
  },
  {
   "cell_type": "markdown",
   "metadata": {},
   "source": [
    "# Treating Data"
   ]
  },
  {
   "cell_type": "markdown",
   "metadata": {},
   "source": [
    "## Treating dataset: data"
   ]
  },
  {
   "cell_type": "markdown",
   "metadata": {},
   "source": [
    "**Treating: date column for datetime, raintoday and raintomorrow for binary categories**"
   ]
  },
  {
   "cell_type": "code",
   "execution_count": null,
   "metadata": {
    "code_folding": [
     0
    ]
   },
   "outputs": [],
   "source": [
    "def season_group(data):\n",
    "    \"\"\"\n",
    "    Function to create a new column of seasons groups\n",
    "    Selecting DataSet rows and classifing the season by the month\n",
    "    Summer = 1\n",
    "    Autumn = 2\n",
    "    Winter = 3\n",
    "    Spring = 4\n",
    "    \"\"\"\n",
    "    seasons= []\n",
    "    data['date'] = pd.to_datetime(data['date'])\n",
    "    \n",
    "    for x in range(len(data['date'])):\n",
    "        if ((data['date'][x].month) == 12) | ((data['date'][x].month) == 1) | ((data['date'][x].month) == 2):\n",
    "            seasons.append(1)\n",
    "        elif ((data['date'][x].month) == 3) | ((data['date'][x].month) == 4) | ((data['date'][x].month) == 5):\n",
    "            seasons.append(2)\n",
    "        elif ((data['date'][x].month) == 6) | ((data['date'][x].month) == 7) | ((data['date'][x].month) == 8):\n",
    "            seasons.append(3)\n",
    "        elif ((data['date'][x].month) == 9) | ((data['date'][x].month) == 10) | ((data['date'][x].month) == 11):\n",
    "            seasons.append(4)\n",
    "    data['season'] = seasons\n"
   ]
  },
  {
   "cell_type": "code",
   "execution_count": 345,
   "metadata": {},
   "outputs": [],
   "source": [
    "# date string to date datetime:\n",
    "data.loc[:,'date'] = pd.to_datetime(data.loc[:,'date'])\n",
    "\n",
    "# yes = 1, no = 0\n",
    "data.loc[:,'raintoday'] = data.loc[:,'raintoday'].apply(lambda x: 0 if x == 'No' else x)\n",
    "data.loc[:,'raintoday'] = data.loc[:,'raintoday'].apply(lambda x: 1 if x == 'Yes' else x)\n",
    "data.loc[:,'raintomorrow'] = data.loc[:,'raintomorrow'].apply(lambda x: 0 if x == 'No' else x)\n",
    "data.loc[:,'raintomorrow'] = data.loc[:,'raintomorrow'].apply(lambda x: 1 if x == 'Yes' else x)"
   ]
  },
  {
   "cell_type": "markdown",
   "metadata": {},
   "source": [
    "**Create a columns for month and create a column for season**"
   ]
  },
  {
   "cell_type": "code",
   "execution_count": 346,
   "metadata": {},
   "outputs": [],
   "source": [
    "data['month'] = data.loc[:,'date'].apply(lambda x: x.month)\n",
    "\n",
    "seasons = {12:'Summer', 1:'Summer', 2:'Summer', \n",
    "             3:'Autumn', 4:'Autumn', 5:'Autumn',\n",
    "             6:'Winter', 7:'Winter', 8:'Winter',\n",
    "             9:'Spring', 10:'Spring', 11:'Spring'}\n",
    "\n",
    "data['season'] = data.loc[:,'month'].apply(lambda x: seasons[x])"
   ]
  },
  {
   "cell_type": "markdown",
   "metadata": {},
   "source": [
    "**Filling NaNs with mean values per city** > Bad idea???\n",
    "\n",
    "At a first try, we will desconsider those columns columns. 38%, 40% of missing is close to half of the dataset!\n",
    "\n",
    "Columns with more than 10% NaN are:\n",
    "\n",
    "- evaporation         42.789026\n",
    "- sunshine            47.692924\n",
    "- cloud9am            37.735332\n",
    "- cloud3pm            40.152469\n",
    "\n",
    "We will consider usem them later, maybe the missing is only a zero value!"
   ]
  },
  {
   "cell_type": "code",
   "execution_count": 347,
   "metadata": {},
   "outputs": [],
   "source": [
    "data = data.drop(['evaporation', 'sunshine', 'cloud9am', 'cloud3pm'],axis=1)"
   ]
  },
  {
   "cell_type": "markdown",
   "metadata": {},
   "source": [
    "**Dropping some other columns**\n",
    "\n",
    "- ***modelo_vigente***: this column is the results of a prediction model, we won't need it for fitting the model, only for further comparations"
   ]
  },
  {
   "cell_type": "code",
   "execution_count": 348,
   "metadata": {},
   "outputs": [],
   "source": [
    "data = data.drop('modelo_vigente',axis=1)"
   ]
  },
  {
   "cell_type": "markdown",
   "metadata": {},
   "source": [
    "**Creating new variable: rainfall_index**\n",
    "\n",
    "*rainfall_index* will be the mean amount of rainfall for that location"
   ]
  },
  {
   "cell_type": "code",
   "execution_count": 349,
   "metadata": {},
   "outputs": [],
   "source": [
    "rainfall_index = data.groupby(by='location').describe().loc[:,'rainfall'].loc[:,'mean']\n",
    "data['rainfall_index'] = data.loc[:,'location'].apply(lambda x: rainfall_index.loc[x])"
   ]
  },
  {
   "cell_type": "markdown",
   "metadata": {},
   "source": [
    "**Dropping *temp***\n",
    "\n",
    "*temp* is clearly dependend of the max temperature, and also has some missing values"
   ]
  },
  {
   "cell_type": "code",
   "execution_count": 350,
   "metadata": {},
   "outputs": [],
   "source": [
    "data = data.drop('temp', axis=1)"
   ]
  },
  {
   "cell_type": "markdown",
   "metadata": {},
   "source": [
    "**ASDASDASDASDASDASDASD**"
   ]
  },
  {
   "cell_type": "markdown",
   "metadata": {},
   "source": [
    "# Free testing\n",
    "\n",
    "high rain (mean): Cairns, Darwin, CoffsHarbour            \n",
    "low rain (mean): Woomera, Uluru, AliceSprings"
   ]
  },
  {
   "cell_type": "code",
   "execution_count": null,
   "metadata": {},
   "outputs": [],
   "source": []
  },
  {
   "cell_type": "markdown",
   "metadata": {},
   "source": [
    "# Tobogã:"
   ]
  },
  {
   "cell_type": "markdown",
   "metadata": {
    "heading_collapsed": true
   },
   "source": [
    "## importing libraries"
   ]
  },
  {
   "cell_type": "code",
   "execution_count": 100,
   "metadata": {
    "hidden": true
   },
   "outputs": [],
   "source": [
    "from tqdm import tqdm\n",
    "from sklearn.linear_model import LogisticRegression\n",
    "from sklearn.model_selection import train_test_split\n",
    "from sklearn.preprocessing import StandardScaler\n",
    "from sklearn.metrics import mean_squared_error\n",
    "from sklearn.metrics import accuracy_score\n",
    "from sklearn.metrics import plot_roc_curve\n",
    "from sklearn.tree import DecisionTreeClassifier"
   ]
  },
  {
   "cell_type": "markdown",
   "metadata": {},
   "source": [
    "## Preparing Data: X and y (train and test) and comparison with *modelo_vigente*"
   ]
  },
  {
   "cell_type": "code",
   "execution_count": 352,
   "metadata": {},
   "outputs": [],
   "source": [
    "#teste dataframe, no cities and no season!\n",
    "teste = data.drop(['rainfall','amountOfRain','month','location'],axis=1).dropna()\n",
    "teste = pd.get_dummies(teste)\n",
    "#determine X and y\n",
    "\n",
    "# X = teste.drop('raintomorrow',axis=1)\n",
    "# y = teste.loc[:,'raintomorrow']\n",
    "\n",
    "#dummies\n",
    "# X = pd.get_dummies(X)\n",
    "\n",
    "#split data\n",
    "# X_train, X_test, y_train, y_test = train_test_split(X, y, test_size=0.4, random_state=42)\n",
    "\n",
    "before = teste.loc[teste.date <= '2016-06-24']\n",
    "after = teste.loc[teste.date > '2016-06-24']\n",
    "\n",
    "X_train =  before.drop(['raintomorrow','date'],axis=1)\n",
    "X_test = after.drop(['raintomorrow','date'],axis=1)\n",
    "\n",
    "y_train =  before.loc[:,'raintomorrow']\n",
    "y_test = after.loc[:,'raintomorrow']\n",
    "\n",
    "\n",
    "# Standardize data:\n",
    "scaler = StandardScaler().fit(X_train)\n",
    "\n",
    "X_train_std = scaler.transform(X_train)\n",
    "\n",
    "X_test_std = scaler.transform(X_test)"
   ]
  },
  {
   "cell_type": "code",
   "execution_count": 218,
   "metadata": {},
   "outputs": [],
   "source": [
    "#import modelo_vigente\n",
    "modelo_vigente = pd.read_csv(path+'rain_data_aus.csv').dropna().modelo_vigente\n",
    "\n",
    "\n",
    "## MODELO_VIGENTE ROC CURVE\n",
    "dframe = pd.read_csv(path+'rain_data_aus.csv')\n",
    "mv_y_pred_prob = dframe.modelo_vigente\n",
    "mv_y_test = dframe.raintomorrow.apply(lambda x: 1 if x == 'Yes' else 0)"
   ]
  },
  {
   "cell_type": "markdown",
   "metadata": {},
   "source": [
    "## Logistic regression"
   ]
  },
  {
   "cell_type": "code",
   "execution_count": 353,
   "metadata": {
    "code_folding": [
     9
    ]
   },
   "outputs": [
    {
     "data": {
      "text/plain": [
       "0.8443864608248169"
      ]
     },
     "execution_count": 353,
     "metadata": {},
     "output_type": "execute_result"
    }
   ],
   "source": [
    "#instantiate the model and fit\n",
    "logreg = LogisticRegression()\n",
    "\n",
    "logreg.fit(X_train_std, y_train)\n",
    "\n",
    "# let's evaluate - new data comes in:\n",
    "predictions = logreg.predict(X_test_std)\n",
    "pred_proba = logreg.predict_proba(X_test_std)\n",
    "\n",
    "results = pd.DataFrame({'prob_not_rain': pred_proba[:,0], \n",
    "                          'prob_rain': pred_proba[:,1], \n",
    "                          'predictions':predictions,\n",
    "                          'y_test':y_test})\n",
    "\n",
    "accuracy_score(y_test, predictions)"
   ]
  },
  {
   "cell_type": "code",
   "execution_count": 354,
   "metadata": {},
   "outputs": [
    {
     "data": {
      "image/png": "[encoded data removed]",
      "text/plain": [
       "<Figure size 432x288 with 1 Axes>"
      ]
     },
     "metadata": {
      "needs_background": "light"
     },
     "output_type": "display_data"
    }
   ],
   "source": [
    "# results\n",
    "fig, ax = plt.subplots()\n",
    "\n",
    "plot_roc_curve(logreg, X_train_std, y_train, ax=ax, name = 'prevendo dados do treino')\n",
    "plot_roc_curve(logreg, X_test_std, y_test, ax=ax, name = 'prevendo dados do teste')\n",
    "\n",
    "fpr, tpr, thresholds = roc_curve(mv_y_test, mv_y_pred_prob)\n",
    "plt.plot(fpr, tpr, label='Logistic Regression')\n",
    "plt.show();"
   ]
  },
  {
   "cell_type": "markdown",
   "metadata": {},
   "source": [
    "## Decision Trees\n",
    "\n",
    "Remember: we don't need to standardize the data here!"
   ]
  },
  {
   "cell_type": "code",
   "execution_count": 355,
   "metadata": {
    "code_folding": [
     17
    ]
   },
   "outputs": [
    {
     "name": "stderr",
     "output_type": "stream",
     "text": [
      "100%|██████████| 29/29 [03:13<00:00,  6.68s/it]\n"
     ]
    },
    {
     "data": {
      "text/plain": [
       "<matplotlib.axes._subplots.AxesSubplot at 0x2dc92eb0>"
      ]
     },
     "execution_count": 355,
     "metadata": {},
     "output_type": "execute_result"
    },
    {
     "data": {
      "image/png": "[encoded data removed]",
      "text/plain": [
       "<Figure size 864x288 with 2 Axes>"
      ]
     },
     "metadata": {
      "needs_background": "light"
     },
     "output_type": "display_data"
    }
   ],
   "source": [
    "df = pd.DataFrame()\n",
    "\n",
    "for N in tqdm(np.arange(1,15,1)):\n",
    "\n",
    "    tree = DecisionTreeClassifier(max_depth=N)\n",
    "    tree.fit(X_train, y_train)\n",
    "\n",
    "    # TRAIN SET and get precision and recall\n",
    "    tn, fp, fn, tp = confusion_matrix(y_train,tree.predict(X_train)).ravel()\n",
    "    a1, a2 = tp / (fp + tp), tp / (fn + tp)\n",
    "\n",
    "    # TEST SETand get precision, recall and test_score\n",
    "    tn, fp, fn, tp = confusion_matrix(y_test,tree.predict(X_test)).ravel()\n",
    "    a3, a4 = tp / (fp + tp), tp / (fn + tp)\n",
    "    test_score = (tn + tp)/(tn + fp + fn + tp)\n",
    "\n",
    "\n",
    "    minidf = pd.DataFrame({'depth':N, 'train_precision':a1, \n",
    "                          'train_recall':a2, 'test_precision':a3,\n",
    "                          'test_recall':a4, 'test_score':test_score}, index=[0])\n",
    "    df = pd.concat([df,minidf])\n",
    "    \n",
    "df = df.reset_index(drop=True)\n",
    "\n",
    "fig, ax = plt.subplots(nrows=1,ncols=2,figsize=(12,4))\n",
    "\n",
    "sns.lineplot(x='depth', y='train_precision', data=df, label = 'train_precision',ax=ax[0])\n",
    "sns.lineplot(x='depth', y='train_recall', data=df, label = 'train_recall',ax=ax[1])\n",
    "sns.lineplot(x='depth', y='test_precision', data=df, label = 'test_precision',ax=ax[0])\n",
    "sns.lineplot(x='depth', y='test_recall', data=df, label = 'test_recall',ax=ax[1])"
   ]
  },
  {
   "cell_type": "code",
   "execution_count": 357,
   "metadata": {},
   "outputs": [
    {
     "name": "stdout",
     "output_type": "stream",
     "text": [
      "accuracy_score:  0.829383199246213\n"
     ]
    },
    {
     "data": {
      "image/png": "[encoded data removed]",
      "text/plain": [
       "<Figure size 432x288 with 1 Axes>"
      ]
     },
     "metadata": {
      "needs_background": "light"
     },
     "output_type": "display_data"
    }
   ],
   "source": [
    "# fit with max_depth=4\n",
    "tree = DecisionTreeClassifier(max_depth=4)\n",
    "tree.fit(X_train, y_train)\n",
    "\n",
    "y_pred = tree.predict(X_test)\n",
    "\n",
    "acc_score = accuracy_score(y_test, y_pred)\n",
    "print('accuracy_score: ', acc_score)\n",
    "\n",
    "# results\n",
    "fig, ax = plt.subplots()\n",
    "\n",
    "plot_roc_curve(tree, X_train, y_train, ax=ax, name = 'prevendo dados do treino')\n",
    "plot_roc_curve(tree, X_test, y_test, ax=ax, name = 'prevendo dados do teste')\n",
    "\n",
    "fpr, tpr, thresholds = roc_curve(mv_y_test, mv_y_pred_prob)\n",
    "plt.plot(fpr, tpr, label='Decision Tree')\n",
    "plt.show();"
   ]
  },
  {
   "cell_type": "markdown",
   "metadata": {
    "heading_collapsed": true
   },
   "source": [
    "# Evaluating Model's performance"
   ]
  },
  {
   "cell_type": "markdown",
   "metadata": {
    "heading_collapsed": true,
    "hidden": true
   },
   "source": [
    "## Classification Metrics"
   ]
  },
  {
   "cell_type": "markdown",
   "metadata": {
    "heading_collapsed": true,
    "hidden": true
   },
   "source": [
    "### Accuracy score"
   ]
  },
  {
   "cell_type": "code",
   "execution_count": 99,
   "metadata": {
    "hidden": true
   },
   "outputs": [
    {
     "ename": "NameError",
     "evalue": "name 'knn' is not defined",
     "output_type": "error",
     "traceback": [
      "\u001b[1;31m---------------------------------------------------------------------------\u001b[0m",
      "\u001b[1;31mNameError\u001b[0m                                 Traceback (most recent call last)",
      "\u001b[1;32m<ipython-input-99-424992963321>\u001b[0m in \u001b[0;36m<module>\u001b[1;34m\u001b[0m\n\u001b[1;32m----> 1\u001b[1;33m \u001b[0mknn\u001b[0m\u001b[1;33m.\u001b[0m\u001b[0mscore\u001b[0m\u001b[1;33m(\u001b[0m\u001b[0mX_test\u001b[0m\u001b[1;33m,\u001b[0m \u001b[0my_test\u001b[0m\u001b[1;33m)\u001b[0m\u001b[1;33m\u001b[0m\u001b[1;33m\u001b[0m\u001b[0m\n\u001b[0m\u001b[0;32m      2\u001b[0m \u001b[1;32mfrom\u001b[0m \u001b[0msklearn\u001b[0m\u001b[1;33m.\u001b[0m\u001b[0mmetrics\u001b[0m \u001b[1;32mimport\u001b[0m \u001b[0maccuracy_score\u001b[0m\u001b[1;33m\u001b[0m\u001b[1;33m\u001b[0m\u001b[0m\n\u001b[0;32m      3\u001b[0m \u001b[0maccuracy_score\u001b[0m\u001b[1;33m(\u001b[0m\u001b[0my_test\u001b[0m\u001b[1;33m,\u001b[0m \u001b[0my_pred\u001b[0m\u001b[1;33m)\u001b[0m\u001b[1;33m\u001b[0m\u001b[1;33m\u001b[0m\u001b[0m\n",
      "\u001b[1;31mNameError\u001b[0m: name 'knn' is not defined"
     ]
    }
   ],
   "source": [
    ">>> knn.score(X_test, y_test)\n",
    ">>> from sklearn.metrics import accuracy_score\n",
    ">>> accuracy_score(y_test, y_pred)"
   ]
  },
  {
   "cell_type": "markdown",
   "metadata": {
    "heading_collapsed": true,
    "hidden": true
   },
   "source": [
    "### Classification Report"
   ]
  },
  {
   "cell_type": "code",
   "execution_count": null,
   "metadata": {
    "hidden": true
   },
   "outputs": [],
   "source": [
    ">>> from sklearn.metrics import classification_report\n",
    ">>> print(classification_report(y_test, y_pred))"
   ]
  },
  {
   "cell_type": "markdown",
   "metadata": {
    "heading_collapsed": true,
    "hidden": true
   },
   "source": [
    "### Confusion Matrix"
   ]
  },
  {
   "cell_type": "code",
   "execution_count": 72,
   "metadata": {
    "hidden": true
   },
   "outputs": [
    {
     "name": "stdout",
     "output_type": "stream",
     "text": [
      "recall:0.7051\n",
      "precision:0.4439\n",
      "f1_score:0.5449\n"
     ]
    }
   ],
   "source": [
    "from sklearn.metrics import precision_score, recall_score, f1_score, confusion_matrix\n",
    "\n",
    " \n",
    "precision = precision_score(y_test, predictions)\n",
    "recall = recall_score(y_test, predictions)\n",
    "f1_score = f1_score(y_test, predictions)\n",
    "\n",
    "print(f'recall:{round(precision,4)}')\n",
    "print(f'precision:{round(recall,4)}')\n",
    "print(f'f1_score:{round(f1_score,4)}')"
   ]
  },
  {
   "cell_type": "code",
   "execution_count": 73,
   "metadata": {
    "collapsed": true,
    "hidden": true
   },
   "outputs": [
    {
     "data": {
      "image/png": "[encoded data removed]",
      "text/plain": [
       "<Figure size 432x288 with 1 Axes>"
      ]
     },
     "metadata": {
      "needs_background": "light"
     },
     "output_type": "display_data"
    }
   ],
   "source": [
    "from sklearn.metrics import roc_curve\n",
    "y_pred_prob = model.predict_proba(X_test_std)[:,1]\n",
    "fpr, tpr, thresholds = roc_curve(y_test, y_pred_prob)\n",
    "plt.plot([0, 1], [0, 1], 'k--')\n",
    "plt.plot(fpr, tpr, label='Logistic Regression')\n",
    "plt.xlabel('False Positive Rate')\n",
    "plt.ylabel('True Positive Rate')\n",
    "plt.title('Logistic Regression ROC Curve')\n",
    "plt.show();"
   ]
  },
  {
   "cell_type": "code",
   "execution_count": 74,
   "metadata": {
    "hidden": true
   },
   "outputs": [
    {
     "data": {
      "image/png": "[encoded data removed]",
      "text/plain": [
       "<Figure size 432x288 with 1 Axes>"
      ]
     },
     "metadata": {
      "needs_background": "light"
     },
     "output_type": "display_data"
    }
   ],
   "source": [
    "from sklearn.metrics import plot_roc_curve\n",
    "fig, ax = plt.subplots()\n",
    "\n",
    "modelo_vigente = pd.read_csv(path+'rain_data_aus.csv').dropna().modelo_vigente\n",
    "\n",
    "plot_roc_curve(logreg, X_train_std, y_train, ax=ax, name = 'prevendo dados do treino')\n",
    "plot_roc_curve(logreg, X_test_std, y_test, ax=ax, name = 'prevendo dados do teste')\n",
    "\n",
    "\n",
    "## MODELO_VIGENTE ROC CURVE\n",
    "dframe = pd.read_csv(path+'rain_data_aus.csv')\n",
    "mv_y_pred_prob = dframe.modelo_vigente\n",
    "mv_y_test = dframe.raintomorrow.apply(lambda x: 1 if x == 'Yes' else 0)\n",
    "\n",
    "fpr, tpr, thresholds = roc_curve(mv_y_test, mv_y_pred_prob)\n",
    "plt.plot(fpr, tpr, label='Logistic Regression')\n",
    "plt.show();"
   ]
  },
  {
   "cell_type": "markdown",
   "metadata": {
    "heading_collapsed": true,
    "hidden": true
   },
   "source": [
    "## Regression Metrics"
   ]
  },
  {
   "cell_type": "markdown",
   "metadata": {
    "hidden": true
   },
   "source": [
    "### Mean Absolute Error"
   ]
  },
  {
   "cell_type": "code",
   "execution_count": null,
   "metadata": {
    "hidden": true
   },
   "outputs": [],
   "source": [
    ">>> from sklearn.metrics import mean_absolute_error\n",
    ">>> y_true = [3, -0.5, 2]\n",
    ">>> mean_absolute_error(y_true, y_pred)"
   ]
  },
  {
   "cell_type": "markdown",
   "metadata": {
    "hidden": true
   },
   "source": [
    "### Mean Squared Error"
   ]
  },
  {
   "cell_type": "code",
   "execution_count": null,
   "metadata": {
    "hidden": true
   },
   "outputs": [],
   "source": [
    ">>> from sklearn.metrics import mean_squared_error\n",
    ">>> mean_squared_error(y_test, y_pred)"
   ]
  },
  {
   "cell_type": "markdown",
   "metadata": {
    "hidden": true
   },
   "source": [
    "### R² Score"
   ]
  },
  {
   "cell_type": "code",
   "execution_count": null,
   "metadata": {
    "hidden": true
   },
   "outputs": [],
   "source": [
    ">>> from sklearn.metrics import r2_score\n",
    ">>> r2_score(y_true, y_pred)"
   ]
  },
  {
   "cell_type": "markdown",
   "metadata": {
    "heading_collapsed": true,
    "hidden": true
   },
   "source": [
    "## Clustering Metrics"
   ]
  },
  {
   "cell_type": "markdown",
   "metadata": {
    "hidden": true
   },
   "source": [
    "### Adjusted Rand Index"
   ]
  },
  {
   "cell_type": "code",
   "execution_count": null,
   "metadata": {
    "hidden": true
   },
   "outputs": [],
   "source": [
    ">>> from sklearn.metrics import adjusted_rand_score\n",
    ">>> adjusted_rand_score(y_true, y_pred)"
   ]
  },
  {
   "cell_type": "markdown",
   "metadata": {
    "hidden": true
   },
   "source": [
    "### Homogeneity"
   ]
  },
  {
   "cell_type": "code",
   "execution_count": null,
   "metadata": {
    "hidden": true
   },
   "outputs": [],
   "source": [
    ">>> from sklearn.metrics import homogeneity_score\n",
    ">>> homogeneity_score(y_true, y_pred)"
   ]
  },
  {
   "cell_type": "markdown",
   "metadata": {
    "hidden": true
   },
   "source": [
    "### V-measure"
   ]
  },
  {
   "cell_type": "code",
   "execution_count": null,
   "metadata": {
    "hidden": true
   },
   "outputs": [],
   "source": [
    ">>> from sklearn.metrics import v_measure_score\n",
    ">>> metrics.v_measure_score(y_true, y_pred)"
   ]
  },
  {
   "cell_type": "markdown",
   "metadata": {
    "heading_collapsed": true,
    "hidden": true
   },
   "source": [
    "## Cross-Validation"
   ]
  },
  {
   "cell_type": "code",
   "execution_count": null,
   "metadata": {
    "hidden": true
   },
   "outputs": [],
   "source": [
    ">>> from sklearn.cross_validation import cross_val_score\n",
    ">>> print(cross_val_score(knn, X_train, y_train, cv=4))\n",
    ">>> print(cross_val_score(lr, X, y, cv=2))"
   ]
  }
 ],
 "metadata": {
  "kernelspec": {
   "display_name": "Python 3",
   "language": "python",
   "name": "python3"
  },
  "language_info": {
   "codemirror_mode": {
    "name": "ipython",
    "version": 3
   },
   "file_extension": ".py",
   "mimetype": "text/x-python",
   "name": "python",
   "nbconvert_exporter": "python",
   "pygments_lexer": "ipython3",
   "version": "3.8.1"
  },
  "toc": {
   "base_numbering": 1,
   "nav_menu": {},
   "number_sections": true,
   "sideBar": true,
   "skip_h1_title": false,
   "title_cell": "Table of Contents",
   "title_sidebar": "Contents",
   "toc_cell": false,
   "toc_position": {},
   "toc_section_display": true,
   "toc_window_display": false
  },
  "varInspector": {
   "cols": {
    "lenName": 16,
    "lenType": 16,
    "lenVar": 40
   },
   "kernels_config": {
    "python": {
     "delete_cmd_postfix": "",
     "delete_cmd_prefix": "del ",
     "library": "var_list.py",
     "varRefreshCmd": "print(var_dic_list())"
    },
    "r": {
     "delete_cmd_postfix": ") ",
     "delete_cmd_prefix": "rm(",
     "library": "var_list.r",
     "varRefreshCmd": "cat(var_dic_list()) "
    }
   },
   "types_to_exclude": [
    "module",
    "function",
    "builtin_function_or_method",
    "instance",
    "_Feature"
   ],
   "window_display": false
  }
 },
 "nbformat": 4,
 "nbformat_minor": 4
}

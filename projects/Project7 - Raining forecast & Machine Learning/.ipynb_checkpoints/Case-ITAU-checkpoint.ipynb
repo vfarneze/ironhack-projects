{
 "cells": [
  {
   "cell_type": "code",
   "execution_count": 1,
   "metadata": {},
   "outputs": [],
   "source": [
    "import warnings\n",
    "warnings.filterwarnings(\"ignore\")"
   ]
  },
  {
   "cell_type": "markdown",
   "metadata": {},
   "source": [
    "# Import Libraries\n",
    "\n",
    "## Library versions"
   ]
  },
  {
   "cell_type": "code",
   "execution_count": 4,
   "metadata": {},
   "outputs": [],
   "source": [
    "import pandas as pd\n",
    "import matplotlib.pyplot as plt\n",
    "import numpy as np\n",
    "import seaborn as sns\n",
    "# pip install geopy\n",
    "from geopy.geocoders import Nominatim\n",
    "from tqdm import tqdm\n"
   ]
  },
  {
   "cell_type": "code",
   "execution_count": null,
   "metadata": {},
   "outputs": [],
   "source": []
  },
  {
   "cell_type": "code",
   "execution_count": null,
   "metadata": {},
   "outputs": [],
   "source": []
  },
  {
   "cell_type": "markdown",
   "metadata": {},
   "source": [
    "# Import Datasets & merge"
   ]
  },
  {
   "cell_type": "code",
   "execution_count": 32,
   "metadata": {},
   "outputs": [],
   "source": [
    "path = 'processo_cientista-master/data/'\n",
    "\n",
    "data = pd.read_csv(path+'rain_data_aus.csv')\n",
    "winds = pd.DataFrame()\n",
    "\n",
    "for number in [1,2,3,4,5,6,7,8]:\n",
    "    df = pd.read_csv(path+f'wind_table_0{number}.csv')\n",
    "    df.columns = ['date', 'location', 'wind_gustdir', 'wind_gustspeed', 'wind_dir9am',\n",
    "       'wind_dir3pm', 'wind_speed9am', 'wind_speed3pm']\n",
    "    winds = pd.concat([winds,df])\n",
    "\n",
    "data = pd.merge(data, winds, on=['date','location'])"
   ]
  },
  {
   "cell_type": "markdown",
   "metadata": {},
   "source": [
    "# Exploring Data"
   ]
  },
  {
   "cell_type": "markdown",
   "metadata": {
    "heading_collapsed": true
   },
   "source": [
    "## Analysis of *coluna_vigente*"
   ]
  },
  {
   "cell_type": "markdown",
   "metadata": {
    "hidden": true
   },
   "source": [
    "Here we can analyse if the *coluna_vigente* would be the probability of raining in the next day.\n",
    "In other words, woud be the prediction of the column *raintomorrow*"
   ]
  },
  {
   "cell_type": "code",
   "execution_count": 34,
   "metadata": {
    "hidden": true
   },
   "outputs": [],
   "source": [
    "testi = data.loc[:,['raintomorrow','modelo_vigente']]"
   ]
  },
  {
   "cell_type": "code",
   "execution_count": 35,
   "metadata": {
    "hidden": true
   },
   "outputs": [],
   "source": [
    "testi['prev'] = testi.modelo_vigente.apply(lambda x: x > 0.5)\n",
    "testi['real'] = testi.raintomorrow.apply(lambda x: x == 'Yes')"
   ]
  },
  {
   "cell_type": "code",
   "execution_count": 36,
   "metadata": {
    "hidden": true
   },
   "outputs": [
    {
     "name": "stdout",
     "output_type": "stream",
     "text": [
      "[[124404   2934]\n",
      " [ 10615  26433]]\n"
     ]
    }
   ],
   "source": [
    "from sklearn.metrics import confusion_matrix\n",
    "CM = confusion_matrix(testi.iloc[:,[2,3]].real,testi.iloc[:,[2,3]].prev)\n",
    "print(CM)          "
   ]
  },
  {
   "cell_type": "code",
   "execution_count": 37,
   "metadata": {
    "hidden": true,
    "scrolled": true
   },
   "outputs": [
    {
     "name": "stdout",
     "output_type": "stream",
     "text": [
      "              precision    recall  f1-score   support\n",
      "\n",
      "       False       0.92      0.98      0.95    127338\n",
      "        True       0.90      0.71      0.80     37048\n",
      "\n",
      "    accuracy                           0.92    164386\n",
      "   macro avg       0.91      0.85      0.87    164386\n",
      "weighted avg       0.92      0.92      0.91    164386\n",
      "\n"
     ]
    }
   ],
   "source": [
    "from sklearn.metrics import classification_report\n",
    "\n",
    "print(classification_report(testi.iloc[:,[2,3]].real,testi.iloc[:,[2,3]].prev))"
   ]
  },
  {
   "cell_type": "code",
   "execution_count": 38,
   "metadata": {
    "hidden": true
   },
   "outputs": [
    {
     "name": "stdout",
     "output_type": "stream",
     "text": [
      "precision : 0.9000919399325774\n",
      "recal : 0.7135\n"
     ]
    }
   ],
   "source": [
    "tn, fp, fn, tp = confusion_matrix(testi.iloc[:,[2,3]].real,testi.iloc[:,[2,3]].prev).ravel()\n",
    "\n",
    "precision = tp / (fp + tp)\n",
    "recal = tp / (fn + tp)\n",
    "\n",
    "print(\"precision :\", precision)\n",
    "print(\"recal :\",round(recal,4))"
   ]
  },
  {
   "cell_type": "code",
   "execution_count": 39,
   "metadata": {
    "hidden": true
   },
   "outputs": [],
   "source": [
    "prec = []\n",
    "rec = []\n",
    "\n",
    "for number in np.arange(0,1,0.05):\n",
    "\n",
    "    testi['prev'] = testi.modelo_vigente.apply(lambda x: x > number)\n",
    "    testi['real'] = testi.raintomorrow.apply(lambda x: x == 'Yes')\n",
    "\n",
    "\n",
    "    tn, fp, fn, tp = confusion_matrix(testi.iloc[:,[2,3]].real,testi.iloc[:,[2,3]].prev).ravel()\n",
    "\n",
    "    prec.append(tp / (fp + tp))\n",
    "    rec.append(tp / (fn + tp))"
   ]
  },
  {
   "cell_type": "code",
   "execution_count": 40,
   "metadata": {
    "hidden": true,
    "scrolled": true
   },
   "outputs": [],
   "source": [
    "# sns.scatterplot(x=np.arange(0,1,0.05), y=prec,label='precisão')\n",
    "# sns.scatterplot(x=np.arange(0,1,0.05), y=rec,label='recal')\n"
   ]
  },
  {
   "cell_type": "code",
   "execution_count": 41,
   "metadata": {
    "hidden": true,
    "scrolled": false
   },
   "outputs": [],
   "source": [
    "# sns.scatterplot(x=prec, y=rec,label='prec vs recall')"
   ]
  },
  {
   "cell_type": "markdown",
   "metadata": {
    "heading_collapsed": true
   },
   "source": [
    "## dataframe: describe, info, columns... etc"
   ]
  },
  {
   "cell_type": "code",
   "execution_count": 42,
   "metadata": {
    "hidden": true
   },
   "outputs": [
    {
     "name": "stdout",
     "output_type": "stream",
     "text": [
      "porcentagem de dados nulos:\n",
      "\n",
      "date                 0.0\n",
      "location             0.0\n",
      "mintemp              0.0\n",
      "maxtemp              0.0\n",
      "rainfall             1.0\n",
      "evaporation         45.0\n",
      "sunshine            51.0\n",
      "humidity9am          1.0\n",
      "humidity3pm          3.0\n",
      "pressure9am         10.0\n",
      "pressure3pm         10.0\n",
      "cloud9am            39.0\n",
      "cloud3pm            42.0\n",
      "temp9am              1.0\n",
      "temp3pm              2.0\n",
      "raintoday            1.0\n",
      "amountOfRain         0.0\n",
      "raintomorrow         0.0\n",
      "temp                 0.0\n",
      "humidity             3.0\n",
      "precipitation3pm     0.0\n",
      "precipitation9am     0.0\n",
      "modelo_vigente       0.0\n",
      "wind_gustdir         6.0\n",
      "wind_gustspeed       6.0\n",
      "wind_dir9am          7.0\n",
      "wind_dir3pm          3.0\n",
      "wind_speed9am        1.0\n",
      "wind_speed3pm        2.0\n",
      "dtype: float64\n"
     ]
    }
   ],
   "source": [
    "print('porcentagem de dados nulos:\\n')\n",
    "print(round(data.isna().sum()/data.shape[0]*100))"
   ]
  },
  {
   "cell_type": "code",
   "execution_count": 43,
   "metadata": {
    "hidden": true
   },
   "outputs": [
    {
     "data": {
      "text/html": [
       "<div>\n",
       "<style scoped>\n",
       "    .dataframe tbody tr th:only-of-type {\n",
       "        vertical-align: middle;\n",
       "    }\n",
       "\n",
       "    .dataframe tbody tr th {\n",
       "        vertical-align: top;\n",
       "    }\n",
       "\n",
       "    .dataframe thead th {\n",
       "        text-align: right;\n",
       "    }\n",
       "</style>\n",
       "<table border=\"1\" class=\"dataframe\">\n",
       "  <thead>\n",
       "    <tr style=\"text-align: right;\">\n",
       "      <th></th>\n",
       "      <th>count</th>\n",
       "      <th>mean</th>\n",
       "      <th>std</th>\n",
       "      <th>min</th>\n",
       "      <th>25%</th>\n",
       "      <th>50%</th>\n",
       "      <th>75%</th>\n",
       "      <th>max</th>\n",
       "    </tr>\n",
       "  </thead>\n",
       "  <tbody>\n",
       "    <tr>\n",
       "      <th>mintemp</th>\n",
       "      <td>163614.0</td>\n",
       "      <td>12.166114</td>\n",
       "      <td>6.401191</td>\n",
       "      <td>-8.500000</td>\n",
       "      <td>7.600000</td>\n",
       "      <td>11.900000</td>\n",
       "      <td>16.800000</td>\n",
       "      <td>33.90000</td>\n",
       "    </tr>\n",
       "    <tr>\n",
       "      <th>maxtemp</th>\n",
       "      <td>163989.0</td>\n",
       "      <td>23.190111</td>\n",
       "      <td>7.120299</td>\n",
       "      <td>-4.800000</td>\n",
       "      <td>17.900000</td>\n",
       "      <td>22.600000</td>\n",
       "      <td>28.200000</td>\n",
       "      <td>48.10000</td>\n",
       "    </tr>\n",
       "    <tr>\n",
       "      <th>rainfall</th>\n",
       "      <td>162767.0</td>\n",
       "      <td>2.354322</td>\n",
       "      <td>8.417735</td>\n",
       "      <td>0.000000</td>\n",
       "      <td>0.000000</td>\n",
       "      <td>0.000000</td>\n",
       "      <td>0.800000</td>\n",
       "      <td>371.00000</td>\n",
       "    </tr>\n",
       "    <tr>\n",
       "      <th>evaporation</th>\n",
       "      <td>90128.0</td>\n",
       "      <td>5.494619</td>\n",
       "      <td>4.275539</td>\n",
       "      <td>0.000000</td>\n",
       "      <td>2.600000</td>\n",
       "      <td>4.800000</td>\n",
       "      <td>7.400000</td>\n",
       "      <td>145.00000</td>\n",
       "    </tr>\n",
       "    <tr>\n",
       "      <th>sunshine</th>\n",
       "      <td>80607.0</td>\n",
       "      <td>7.607071</td>\n",
       "      <td>3.778324</td>\n",
       "      <td>0.000000</td>\n",
       "      <td>4.900000</td>\n",
       "      <td>8.400000</td>\n",
       "      <td>10.600000</td>\n",
       "      <td>14.50000</td>\n",
       "    </tr>\n",
       "    <tr>\n",
       "      <th>humidity9am</th>\n",
       "      <td>162352.0</td>\n",
       "      <td>69.084495</td>\n",
       "      <td>18.993050</td>\n",
       "      <td>0.000000</td>\n",
       "      <td>57.000000</td>\n",
       "      <td>70.000000</td>\n",
       "      <td>83.000000</td>\n",
       "      <td>100.00000</td>\n",
       "    </tr>\n",
       "    <tr>\n",
       "      <th>humidity3pm</th>\n",
       "      <td>159262.0</td>\n",
       "      <td>51.669563</td>\n",
       "      <td>20.760959</td>\n",
       "      <td>0.000000</td>\n",
       "      <td>37.000000</td>\n",
       "      <td>52.000000</td>\n",
       "      <td>66.000000</td>\n",
       "      <td>100.00000</td>\n",
       "    </tr>\n",
       "    <tr>\n",
       "      <th>pressure9am</th>\n",
       "      <td>148085.0</td>\n",
       "      <td>1017.645456</td>\n",
       "      <td>7.129291</td>\n",
       "      <td>980.500000</td>\n",
       "      <td>1012.900000</td>\n",
       "      <td>1017.600000</td>\n",
       "      <td>1022.400000</td>\n",
       "      <td>1041.00000</td>\n",
       "    </tr>\n",
       "    <tr>\n",
       "      <th>pressure3pm</th>\n",
       "      <td>148113.0</td>\n",
       "      <td>1015.245303</td>\n",
       "      <td>7.056098</td>\n",
       "      <td>977.100000</td>\n",
       "      <td>1010.400000</td>\n",
       "      <td>1015.200000</td>\n",
       "      <td>1020.000000</td>\n",
       "      <td>1039.60000</td>\n",
       "    </tr>\n",
       "    <tr>\n",
       "      <th>cloud9am</th>\n",
       "      <td>100879.0</td>\n",
       "      <td>4.505328</td>\n",
       "      <td>2.893438</td>\n",
       "      <td>0.000000</td>\n",
       "      <td>1.000000</td>\n",
       "      <td>5.000000</td>\n",
       "      <td>7.000000</td>\n",
       "      <td>9.00000</td>\n",
       "    </tr>\n",
       "    <tr>\n",
       "      <th>cloud3pm</th>\n",
       "      <td>95716.0</td>\n",
       "      <td>4.560993</td>\n",
       "      <td>2.731072</td>\n",
       "      <td>0.000000</td>\n",
       "      <td>2.000000</td>\n",
       "      <td>5.000000</td>\n",
       "      <td>7.000000</td>\n",
       "      <td>9.00000</td>\n",
       "    </tr>\n",
       "    <tr>\n",
       "      <th>temp9am</th>\n",
       "      <td>163410.0</td>\n",
       "      <td>16.949420</td>\n",
       "      <td>6.494967</td>\n",
       "      <td>-7.200000</td>\n",
       "      <td>12.200000</td>\n",
       "      <td>16.600000</td>\n",
       "      <td>21.500000</td>\n",
       "      <td>40.20000</td>\n",
       "    </tr>\n",
       "    <tr>\n",
       "      <th>temp3pm</th>\n",
       "      <td>160309.0</td>\n",
       "      <td>21.633172</td>\n",
       "      <td>6.932849</td>\n",
       "      <td>-5.400000</td>\n",
       "      <td>16.600000</td>\n",
       "      <td>21.100000</td>\n",
       "      <td>26.400000</td>\n",
       "      <td>46.70000</td>\n",
       "    </tr>\n",
       "    <tr>\n",
       "      <th>amountOfRain</th>\n",
       "      <td>164386.0</td>\n",
       "      <td>2.363260</td>\n",
       "      <td>8.419366</td>\n",
       "      <td>0.000000</td>\n",
       "      <td>0.000000</td>\n",
       "      <td>0.000000</td>\n",
       "      <td>0.800000</td>\n",
       "      <td>371.00000</td>\n",
       "    </tr>\n",
       "    <tr>\n",
       "      <th>temp</th>\n",
       "      <td>163989.0</td>\n",
       "      <td>28.470266</td>\n",
       "      <td>10.225285</td>\n",
       "      <td>-3.760000</td>\n",
       "      <td>22.520000</td>\n",
       "      <td>28.520000</td>\n",
       "      <td>35.360000</td>\n",
       "      <td>59.72000</td>\n",
       "    </tr>\n",
       "    <tr>\n",
       "      <th>humidity</th>\n",
       "      <td>159262.0</td>\n",
       "      <td>62.212184</td>\n",
       "      <td>26.620530</td>\n",
       "      <td>2.000000</td>\n",
       "      <td>44.000000</td>\n",
       "      <td>63.200000</td>\n",
       "      <td>80.000000</td>\n",
       "      <td>122.00000</td>\n",
       "    </tr>\n",
       "    <tr>\n",
       "      <th>precipitation3pm</th>\n",
       "      <td>164386.0</td>\n",
       "      <td>10.014612</td>\n",
       "      <td>3.174691</td>\n",
       "      <td>0.000000</td>\n",
       "      <td>8.000000</td>\n",
       "      <td>10.000000</td>\n",
       "      <td>12.000000</td>\n",
       "      <td>26.00000</td>\n",
       "    </tr>\n",
       "    <tr>\n",
       "      <th>precipitation9am</th>\n",
       "      <td>164386.0</td>\n",
       "      <td>9.995438</td>\n",
       "      <td>4.998239</td>\n",
       "      <td>-17.739346</td>\n",
       "      <td>6.646014</td>\n",
       "      <td>9.996363</td>\n",
       "      <td>13.379601</td>\n",
       "      <td>32.47859</td>\n",
       "    </tr>\n",
       "    <tr>\n",
       "      <th>modelo_vigente</th>\n",
       "      <td>164386.0</td>\n",
       "      <td>0.230207</td>\n",
       "      <td>0.269158</td>\n",
       "      <td>0.000000</td>\n",
       "      <td>0.032251</td>\n",
       "      <td>0.108306</td>\n",
       "      <td>0.337493</td>\n",
       "      <td>0.99940</td>\n",
       "    </tr>\n",
       "    <tr>\n",
       "      <th>wind_gustspeed</th>\n",
       "      <td>153868.0</td>\n",
       "      <td>39.864033</td>\n",
       "      <td>13.621080</td>\n",
       "      <td>6.000000</td>\n",
       "      <td>31.000000</td>\n",
       "      <td>39.000000</td>\n",
       "      <td>48.000000</td>\n",
       "      <td>135.00000</td>\n",
       "    </tr>\n",
       "    <tr>\n",
       "      <th>wind_speed9am</th>\n",
       "      <td>162933.0</td>\n",
       "      <td>13.960192</td>\n",
       "      <td>8.868137</td>\n",
       "      <td>0.000000</td>\n",
       "      <td>7.000000</td>\n",
       "      <td>13.000000</td>\n",
       "      <td>19.000000</td>\n",
       "      <td>130.00000</td>\n",
       "    </tr>\n",
       "    <tr>\n",
       "      <th>wind_speed3pm</th>\n",
       "      <td>160803.0</td>\n",
       "      <td>18.573310</td>\n",
       "      <td>8.780037</td>\n",
       "      <td>0.000000</td>\n",
       "      <td>13.000000</td>\n",
       "      <td>19.000000</td>\n",
       "      <td>24.000000</td>\n",
       "      <td>87.00000</td>\n",
       "    </tr>\n",
       "  </tbody>\n",
       "</table>\n",
       "</div>"
      ],
      "text/plain": [
       "                     count         mean        std         min          25%  \\\n",
       "mintemp           163614.0    12.166114   6.401191   -8.500000     7.600000   \n",
       "maxtemp           163989.0    23.190111   7.120299   -4.800000    17.900000   \n",
       "rainfall          162767.0     2.354322   8.417735    0.000000     0.000000   \n",
       "evaporation        90128.0     5.494619   4.275539    0.000000     2.600000   \n",
       "sunshine           80607.0     7.607071   3.778324    0.000000     4.900000   \n",
       "humidity9am       162352.0    69.084495  18.993050    0.000000    57.000000   \n",
       "humidity3pm       159262.0    51.669563  20.760959    0.000000    37.000000   \n",
       "pressure9am       148085.0  1017.645456   7.129291  980.500000  1012.900000   \n",
       "pressure3pm       148113.0  1015.245303   7.056098  977.100000  1010.400000   \n",
       "cloud9am          100879.0     4.505328   2.893438    0.000000     1.000000   \n",
       "cloud3pm           95716.0     4.560993   2.731072    0.000000     2.000000   \n",
       "temp9am           163410.0    16.949420   6.494967   -7.200000    12.200000   \n",
       "temp3pm           160309.0    21.633172   6.932849   -5.400000    16.600000   \n",
       "amountOfRain      164386.0     2.363260   8.419366    0.000000     0.000000   \n",
       "temp              163989.0    28.470266  10.225285   -3.760000    22.520000   \n",
       "humidity          159262.0    62.212184  26.620530    2.000000    44.000000   \n",
       "precipitation3pm  164386.0    10.014612   3.174691    0.000000     8.000000   \n",
       "precipitation9am  164386.0     9.995438   4.998239  -17.739346     6.646014   \n",
       "modelo_vigente    164386.0     0.230207   0.269158    0.000000     0.032251   \n",
       "wind_gustspeed    153868.0    39.864033  13.621080    6.000000    31.000000   \n",
       "wind_speed9am     162933.0    13.960192   8.868137    0.000000     7.000000   \n",
       "wind_speed3pm     160803.0    18.573310   8.780037    0.000000    13.000000   \n",
       "\n",
       "                          50%          75%         max  \n",
       "mintemp             11.900000    16.800000    33.90000  \n",
       "maxtemp             22.600000    28.200000    48.10000  \n",
       "rainfall             0.000000     0.800000   371.00000  \n",
       "evaporation          4.800000     7.400000   145.00000  \n",
       "sunshine             8.400000    10.600000    14.50000  \n",
       "humidity9am         70.000000    83.000000   100.00000  \n",
       "humidity3pm         52.000000    66.000000   100.00000  \n",
       "pressure9am       1017.600000  1022.400000  1041.00000  \n",
       "pressure3pm       1015.200000  1020.000000  1039.60000  \n",
       "cloud9am             5.000000     7.000000     9.00000  \n",
       "cloud3pm             5.000000     7.000000     9.00000  \n",
       "temp9am             16.600000    21.500000    40.20000  \n",
       "temp3pm             21.100000    26.400000    46.70000  \n",
       "amountOfRain         0.000000     0.800000   371.00000  \n",
       "temp                28.520000    35.360000    59.72000  \n",
       "humidity            63.200000    80.000000   122.00000  \n",
       "precipitation3pm    10.000000    12.000000    26.00000  \n",
       "precipitation9am     9.996363    13.379601    32.47859  \n",
       "modelo_vigente       0.108306     0.337493     0.99940  \n",
       "wind_gustspeed      39.000000    48.000000   135.00000  \n",
       "wind_speed9am       13.000000    19.000000   130.00000  \n",
       "wind_speed3pm       19.000000    24.000000    87.00000  "
      ]
     },
     "execution_count": 43,
     "metadata": {},
     "output_type": "execute_result"
    }
   ],
   "source": [
    "data.describe().T"
   ]
  },
  {
   "cell_type": "code",
   "execution_count": 44,
   "metadata": {
    "hidden": true
   },
   "outputs": [
    {
     "data": {
      "text/html": [
       "<div>\n",
       "<style scoped>\n",
       "    .dataframe tbody tr th:only-of-type {\n",
       "        vertical-align: middle;\n",
       "    }\n",
       "\n",
       "    .dataframe tbody tr th {\n",
       "        vertical-align: top;\n",
       "    }\n",
       "\n",
       "    .dataframe thead th {\n",
       "        text-align: right;\n",
       "    }\n",
       "</style>\n",
       "<table border=\"1\" class=\"dataframe\">\n",
       "  <thead>\n",
       "    <tr style=\"text-align: right;\">\n",
       "      <th></th>\n",
       "      <th>date</th>\n",
       "      <th>location</th>\n",
       "      <th>mintemp</th>\n",
       "      <th>maxtemp</th>\n",
       "      <th>rainfall</th>\n",
       "      <th>evaporation</th>\n",
       "      <th>sunshine</th>\n",
       "      <th>humidity9am</th>\n",
       "      <th>humidity3pm</th>\n",
       "      <th>pressure9am</th>\n",
       "      <th>...</th>\n",
       "      <th>humidity</th>\n",
       "      <th>precipitation3pm</th>\n",
       "      <th>precipitation9am</th>\n",
       "      <th>modelo_vigente</th>\n",
       "      <th>wind_gustdir</th>\n",
       "      <th>wind_gustspeed</th>\n",
       "      <th>wind_dir9am</th>\n",
       "      <th>wind_dir3pm</th>\n",
       "      <th>wind_speed9am</th>\n",
       "      <th>wind_speed3pm</th>\n",
       "    </tr>\n",
       "  </thead>\n",
       "  <tbody>\n",
       "    <tr>\n",
       "      <th>0</th>\n",
       "      <td>2008-12-01</td>\n",
       "      <td>Albury</td>\n",
       "      <td>13.4</td>\n",
       "      <td>22.9</td>\n",
       "      <td>0.6</td>\n",
       "      <td>NaN</td>\n",
       "      <td>NaN</td>\n",
       "      <td>71.0</td>\n",
       "      <td>22.0</td>\n",
       "      <td>1007.7</td>\n",
       "      <td>...</td>\n",
       "      <td>28.400000</td>\n",
       "      <td>12</td>\n",
       "      <td>5.115360</td>\n",
       "      <td>0.089825</td>\n",
       "      <td>W</td>\n",
       "      <td>44.0</td>\n",
       "      <td>W</td>\n",
       "      <td>WNW</td>\n",
       "      <td>20.0</td>\n",
       "      <td>24.0</td>\n",
       "    </tr>\n",
       "    <tr>\n",
       "      <th>1</th>\n",
       "      <td>2008-12-02</td>\n",
       "      <td>Albury</td>\n",
       "      <td>7.4</td>\n",
       "      <td>25.1</td>\n",
       "      <td>0.0</td>\n",
       "      <td>NaN</td>\n",
       "      <td>NaN</td>\n",
       "      <td>44.0</td>\n",
       "      <td>25.0</td>\n",
       "      <td>1010.6</td>\n",
       "      <td>...</td>\n",
       "      <td>2.208569</td>\n",
       "      <td>10</td>\n",
       "      <td>21.497100</td>\n",
       "      <td>0.023477</td>\n",
       "      <td>WNW</td>\n",
       "      <td>44.0</td>\n",
       "      <td>NNW</td>\n",
       "      <td>WSW</td>\n",
       "      <td>4.0</td>\n",
       "      <td>22.0</td>\n",
       "    </tr>\n",
       "    <tr>\n",
       "      <th>2</th>\n",
       "      <td>2008-12-03</td>\n",
       "      <td>Albury</td>\n",
       "      <td>12.9</td>\n",
       "      <td>25.7</td>\n",
       "      <td>0.0</td>\n",
       "      <td>NaN</td>\n",
       "      <td>NaN</td>\n",
       "      <td>38.0</td>\n",
       "      <td>30.0</td>\n",
       "      <td>1007.6</td>\n",
       "      <td>...</td>\n",
       "      <td>38.000000</td>\n",
       "      <td>17</td>\n",
       "      <td>20.782859</td>\n",
       "      <td>0.027580</td>\n",
       "      <td>WSW</td>\n",
       "      <td>46.0</td>\n",
       "      <td>W</td>\n",
       "      <td>WSW</td>\n",
       "      <td>19.0</td>\n",
       "      <td>26.0</td>\n",
       "    </tr>\n",
       "    <tr>\n",
       "      <th>3</th>\n",
       "      <td>2008-12-04</td>\n",
       "      <td>Albury</td>\n",
       "      <td>9.2</td>\n",
       "      <td>28.0</td>\n",
       "      <td>0.0</td>\n",
       "      <td>NaN</td>\n",
       "      <td>NaN</td>\n",
       "      <td>45.0</td>\n",
       "      <td>16.0</td>\n",
       "      <td>1017.6</td>\n",
       "      <td>...</td>\n",
       "      <td>21.200000</td>\n",
       "      <td>8</td>\n",
       "      <td>12.028646</td>\n",
       "      <td>0.023962</td>\n",
       "      <td>NE</td>\n",
       "      <td>24.0</td>\n",
       "      <td>SE</td>\n",
       "      <td>E</td>\n",
       "      <td>11.0</td>\n",
       "      <td>9.0</td>\n",
       "    </tr>\n",
       "    <tr>\n",
       "      <th>4</th>\n",
       "      <td>2008-12-05</td>\n",
       "      <td>Albury</td>\n",
       "      <td>17.5</td>\n",
       "      <td>32.3</td>\n",
       "      <td>1.0</td>\n",
       "      <td>NaN</td>\n",
       "      <td>NaN</td>\n",
       "      <td>82.0</td>\n",
       "      <td>33.0</td>\n",
       "      <td>1010.8</td>\n",
       "      <td>...</td>\n",
       "      <td>41.600000</td>\n",
       "      <td>9</td>\n",
       "      <td>11.883546</td>\n",
       "      <td>0.220164</td>\n",
       "      <td>W</td>\n",
       "      <td>41.0</td>\n",
       "      <td>ENE</td>\n",
       "      <td>NW</td>\n",
       "      <td>7.0</td>\n",
       "      <td>20.0</td>\n",
       "    </tr>\n",
       "  </tbody>\n",
       "</table>\n",
       "<p>5 rows × 29 columns</p>\n",
       "</div>"
      ],
      "text/plain": [
       "         date location  mintemp  maxtemp  rainfall  evaporation  sunshine  \\\n",
       "0  2008-12-01   Albury     13.4     22.9       0.6          NaN       NaN   \n",
       "1  2008-12-02   Albury      7.4     25.1       0.0          NaN       NaN   \n",
       "2  2008-12-03   Albury     12.9     25.7       0.0          NaN       NaN   \n",
       "3  2008-12-04   Albury      9.2     28.0       0.0          NaN       NaN   \n",
       "4  2008-12-05   Albury     17.5     32.3       1.0          NaN       NaN   \n",
       "\n",
       "   humidity9am  humidity3pm  pressure9am  ...   humidity  precipitation3pm  \\\n",
       "0         71.0         22.0       1007.7  ...  28.400000                12   \n",
       "1         44.0         25.0       1010.6  ...   2.208569                10   \n",
       "2         38.0         30.0       1007.6  ...  38.000000                17   \n",
       "3         45.0         16.0       1017.6  ...  21.200000                 8   \n",
       "4         82.0         33.0       1010.8  ...  41.600000                 9   \n",
       "\n",
       "   precipitation9am  modelo_vigente  wind_gustdir wind_gustspeed  wind_dir9am  \\\n",
       "0          5.115360        0.089825             W           44.0            W   \n",
       "1         21.497100        0.023477           WNW           44.0          NNW   \n",
       "2         20.782859        0.027580           WSW           46.0            W   \n",
       "3         12.028646        0.023962            NE           24.0           SE   \n",
       "4         11.883546        0.220164             W           41.0          ENE   \n",
       "\n",
       "  wind_dir3pm  wind_speed9am  wind_speed3pm  \n",
       "0         WNW           20.0           24.0  \n",
       "1         WSW            4.0           22.0  \n",
       "2         WSW           19.0           26.0  \n",
       "3           E           11.0            9.0  \n",
       "4          NW            7.0           20.0  \n",
       "\n",
       "[5 rows x 29 columns]"
      ]
     },
     "execution_count": 44,
     "metadata": {},
     "output_type": "execute_result"
    }
   ],
   "source": [
    "data.head()"
   ]
  },
  {
   "cell_type": "code",
   "execution_count": 45,
   "metadata": {
    "hidden": true
   },
   "outputs": [
    {
     "data": {
      "text/plain": [
       "(121687, 29)"
      ]
     },
     "execution_count": 45,
     "metadata": {},
     "output_type": "execute_result"
    }
   ],
   "source": [
    "data.loc[(data.raintoday == 'No') & (data.precipitation9am > 1)].shape"
   ]
  },
  {
   "cell_type": "code",
   "execution_count": 46,
   "metadata": {
    "hidden": true
   },
   "outputs": [
    {
     "name": "stdout",
     "output_type": "stream",
     "text": [
      "<class 'pandas.core.frame.DataFrame'>\n",
      "Int64Index: 164386 entries, 0 to 164385\n",
      "Data columns (total 29 columns):\n",
      " #   Column            Non-Null Count   Dtype  \n",
      "---  ------            --------------   -----  \n",
      " 0   date              164386 non-null  object \n",
      " 1   location          164386 non-null  object \n",
      " 2   mintemp           163614 non-null  float64\n",
      " 3   maxtemp           163989 non-null  float64\n",
      " 4   rainfall          162767 non-null  float64\n",
      " 5   evaporation       90128 non-null   float64\n",
      " 6   sunshine          80607 non-null   float64\n",
      " 7   humidity9am       162352 non-null  float64\n",
      " 8   humidity3pm       159262 non-null  float64\n",
      " 9   pressure9am       148085 non-null  float64\n",
      " 10  pressure3pm       148113 non-null  float64\n",
      " 11  cloud9am          100879 non-null  float64\n",
      " 12  cloud3pm          95716 non-null   float64\n",
      " 13  temp9am           163410 non-null  float64\n",
      " 14  temp3pm           160309 non-null  float64\n",
      " 15  raintoday         162767 non-null  object \n",
      " 16  amountOfRain      164386 non-null  float64\n",
      " 17  raintomorrow      164386 non-null  object \n",
      " 18  temp              163989 non-null  float64\n",
      " 19  humidity          159262 non-null  float64\n",
      " 20  precipitation3pm  164386 non-null  int64  \n",
      " 21  precipitation9am  164386 non-null  float64\n",
      " 22  modelo_vigente    164386 non-null  float64\n",
      " 23  wind_gustdir      153808 non-null  object \n",
      " 24  wind_gustspeed    153868 non-null  float64\n",
      " 25  wind_dir9am       152958 non-null  object \n",
      " 26  wind_dir3pm       159551 non-null  object \n",
      " 27  wind_speed9am     162933 non-null  float64\n",
      " 28  wind_speed3pm     160803 non-null  float64\n",
      "dtypes: float64(21), int64(1), object(7)\n",
      "memory usage: 33.2+ MB\n"
     ]
    }
   ],
   "source": [
    "data.info()"
   ]
  },
  {
   "cell_type": "markdown",
   "metadata": {},
   "source": [
    "## Rain data: analysis"
   ]
  },
  {
   "cell_type": "code",
   "execution_count": null,
   "metadata": {},
   "outputs": [],
   "source": [
    "#data for analysis\n",
    "prec = data.loc[:,['date', 'location', 'rainfall', 'precipitation3pm','precipitation9am']]\n",
    "prec.loc[:,'date'] =  pd.to_datetime(prec.loc[:,'date'])\n",
    "prec = prec.loc[prec.date <= '2016-06-24']"
   ]
  },
  {
   "cell_type": "code",
   "execution_count": null,
   "metadata": {},
   "outputs": [],
   "source": [
    "prec['prec_last_24h'] = prec['precipitation3pm'] + prec['precipitation9am']\n",
    "\n",
    "bob = prec.groupby(by=['location','date']).mean().reset_index()\n",
    "bob['year'] = bob.daambda x: x.year)\n",
    "bob['month'] = bob.date.apply(lambda x: x.month)\n",
    "bob['quinzena'] = bob.date.apply(lambda x: 1 if x.day in list(np.arange(1,16)) else 2)\n",
    "\n",
    "bob = bob.groupby(by=['year','month','quinzena','location']).sum().reset_index()\n",
    "\n",
    "cities = {}\n",
    "\n",
    "for city in tqdm(bob.location.unique()):\n",
    "    df = bob.query(f'location == \"{city}\"').drop(columns = 'location').reset_index(drop=True)\n",
    "    cities[city] = df"
   ]
  },
  {
   "cell_type": "code",
   "execution_count": 176,
   "metadata": {},
   "outputs": [
    {
     "data": {
      "text/plain": [
       "<matplotlib.axes._subplots.AxesSubplot at 0x24a10d48>"
      ]
     },
     "execution_count": 176,
     "metadata": {},
     "output_type": "execute_result"
    },
    {
     "data": {
      "image/png": "[encoded data removed]",
      "text/plain": [
       "<Figure size 1152x288 with 2 Axes>"
      ]
     },
     "metadata": {
      "needs_background": "light"
     },
     "output_type": "display_data"
    }
   ],
   "source": [
    "c = cities['Canberra']\n",
    "\n",
    "fig, ax = plt.subplots(nrows=1,ncols=2,figsize=(16,4))\n",
    "\n",
    "c2 = c.groupby(by=['year','month']).sum().drop(columns='quinzena').reset_index()\n",
    "c3 = c.groupby(by=['year']).sum().drop(columns=['quinzena','month']).reset_index()\n",
    "sns.lineplot(x=c2.index, y='rainfall',data=c2,ax=ax[0])\n",
    "sns.lineplot(x=c3.index, y='rainfall',data=c3,ax=ax[1])"
   ]
  },
  {
   "cell_type": "code",
   "execution_count": 177,
   "metadata": {},
   "outputs": [
    {
     "data": {
      "text/plain": [
       "<matplotlib.axes._subplots.AxesSubplot at 0x21ab5b98>"
      ]
     },
     "execution_count": 177,
     "metadata": {},
     "output_type": "execute_result"
    },
    {
     "data": {
      "image/png": "[encoded data removed]",
      "text/plain": [
       "<Figure size 1152x288 with 2 Axes>"
      ]
     },
     "metadata": {
      "needs_background": "light"
     },
     "output_type": "display_data"
    }
   ],
   "source": [
    "c = cities['Sydney']\n",
    "\n",
    "fig, ax = plt.subplots(nrows=1,ncols=2,figsize=(16,4))\n",
    "\n",
    "c2 = c.groupby(by=['year','month']).sum().drop(columns='quinzena').reset_index()\n",
    "c3 = c.groupby(by=['year']).sum().drop(columns=['quinzena','month']).reset_index()\n",
    "sns.lineplot(x=c2.index, y='rainfall',data=c2,ax=ax[0])\n",
    "sns.lineplot(x=c3.index, y='rainfall',data=c3,ax=ax[1])"
   ]
  },
  {
   "cell_type": "code",
   "execution_count": 178,
   "metadata": {},
   "outputs": [
    {
     "data": {
      "text/plain": [
       "<matplotlib.axes._subplots.AxesSubplot at 0x2349b9b8>"
      ]
     },
     "execution_count": 178,
     "metadata": {},
     "output_type": "execute_result"
    },
    {
     "data": {
      "image/png": "[encoded data removed]",
      "text/plain": [
       "<Figure size 1152x288 with 2 Axes>"
      ]
     },
     "metadata": {
      "needs_background": "light"
     },
     "output_type": "display_data"
    }
   ],
   "source": [
    "c = bob\n",
    "\n",
    "fig, ax = plt.subplots(nrows=1,ncols=2,figsize=(16,4))\n",
    "\n",
    "c2 = c.groupby(by=['year','month']).sum().drop(columns='quinzena').reset_index()\n",
    "c3 = c.groupby(by=['year']).sum().drop(columns=['quinzena','month']).reset_index()\n",
    "sns.lineplot(x=c2.index, y='rainfall',data=c2,ax=ax[0])\n",
    "sns.lineplot(x=c3.index, y='rainfall',data=c3,ax=ax[1])"
   ]
  },
  {
   "cell_type": "code",
   "execution_count": 179,
   "metadata": {},
   "outputs": [
    {
     "data": {
      "text/plain": [
       "<matplotlib.axes._subplots.AxesSubplot at 0x234eb100>"
      ]
     },
     "execution_count": 179,
     "metadata": {},
     "output_type": "execute_result"
    },
    {
     "data": {
      "image/png": "[encoded data removed]",
      "text/plain": [
       "<Figure size 1152x288 with 2 Axes>"
      ]
     },
     "metadata": {
      "needs_background": "light"
     },
     "output_type": "display_data"
    }
   ],
   "source": [
    "c = bob\n",
    "\n",
    "fig, ax = plt.subplots(nrows=1,ncols=2,figsize=(16,4))\n",
    "\n",
    "c2 = c.groupby(by=['year','month']).mean().drop(columns='quinzena').reset_index()\n",
    "c3 = c.groupby(by=['year']).mean().drop(columns=['quinzena','month']).reset_index()\n",
    "sns.lineplot(x=c2.index, y='rainfall',data=c2,ax=ax[0])\n",
    "sns.lineplot(x=c3.index, y='rainfall',data=c3,ax=ax[1])"
   ]
  },
  {
   "cell_type": "markdown",
   "metadata": {},
   "source": [
    "Maybe getting out some years will help!"
   ]
  },
  {
   "cell_type": "markdown",
   "metadata": {},
   "source": [
    "## Relationship Analysis"
   ]
  },
  {
   "cell_type": "markdown",
   "metadata": {
    "heading_collapsed": true
   },
   "source": [
    "### **relationship *raintoday* and *rainfall***\n",
    "\n",
    "*raintoday* seems to be derived from *rainfall*"
   ]
  },
  {
   "cell_type": "code",
   "execution_count": 17,
   "metadata": {
    "hidden": true
   },
   "outputs": [],
   "source": [
    "xmax = data.loc[data.raintoday == 'No'].rainfall.max()\n",
    "xmin = data.loc[data.raintoday == 'No'].rainfall.min()\n",
    "yesmin = data.loc[data.raintoday == 'Yes'].rainfall.min()"
   ]
  },
  {
   "cell_type": "code",
   "execution_count": 18,
   "metadata": {
    "hidden": true
   },
   "outputs": [
    {
     "name": "stdout",
     "output_type": "stream",
     "text": [
      "minimum rainfall for necessary for raintoday = False: 0.0\n",
      "maximum rainfall for necessary for raintoday = False: 1.0\n",
      "minimum rainfall for necessary for raintoday = True: 1.1\n"
     ]
    }
   ],
   "source": [
    "print(f'minimum rainfall for necessary for raintoday = False: {xmin}')\n",
    "print(f'maximum rainfall for necessary for raintoday = False: {xmax}')\n",
    "print(f'minimum rainfall for necessary for raintoday = True: {yesmin}')"
   ]
  },
  {
   "cell_type": "markdown",
   "metadata": {
    "heading_collapsed": true
   },
   "source": [
    "### **relationship *raintomorrow* and *amountOfRain***\n",
    "\n",
    "*raintomorrow* seems to be derived from *amountOfRain*"
   ]
  },
  {
   "cell_type": "code",
   "execution_count": 19,
   "metadata": {
    "hidden": true
   },
   "outputs": [],
   "source": [
    "x_true_min = data.loc[(data.raintomorrow == 'No')].amountOfRain.min()\n",
    "x_true_max = data.loc[(data.raintomorrow == 'No')].amountOfRain.max()\n",
    "x_false_min = data.loc[(data.raintomorrow == 'Yes')].amountOfRain.min()"
   ]
  },
  {
   "cell_type": "code",
   "execution_count": 20,
   "metadata": {
    "hidden": true,
    "scrolled": false
   },
   "outputs": [
    {
     "name": "stdout",
     "output_type": "stream",
     "text": [
      "minimum rainfall for necessary for raintomorrow = False: 0.0\n",
      "maximum rainfall for necessary for raintomorrow = False: 1.0\n",
      "minimum rainfall for necessary for raintomorrow = True: 1.1\n"
     ]
    }
   ],
   "source": [
    "print(f'minimum rainfall for necessary for raintomorrow = False: {x_true_min}')\n",
    "print(f'maximum rainfall for necessary for raintomorrow = False: {x_true_max}')\n",
    "print(f'minimum rainfall for necessary for raintomorrow = True: {x_false_min}')"
   ]
  },
  {
   "cell_type": "markdown",
   "metadata": {
    "heading_collapsed": true
   },
   "source": [
    "### relationship *rainfall* and *amountOfRain*"
   ]
  },
  {
   "cell_type": "markdown",
   "metadata": {
    "hidden": true
   },
   "source": [
    "However, if we consider rainfall being on time 'T' and amountOfRain bein on time 'T+1', if we bring them to the same time window, we can see a really high High correlation between "
   ]
  },
  {
   "cell_type": "code",
   "execution_count": 21,
   "metadata": {
    "hidden": true
   },
   "outputs": [
    {
     "data": {
      "text/plain": [
       "<matplotlib.axes._subplots.AxesSubplot at 0x1d2cc358>"
      ]
     },
     "execution_count": 21,
     "metadata": {},
     "output_type": "execute_result"
    },
    {
     "data": {
      "image/png": "[encoded data removed]",
      "text/plain": [
       "<Figure size 432x288 with 1 Axes>"
      ]
     },
     "metadata": {
      "needs_background": "light"
     },
     "output_type": "display_data"
    }
   ],
   "source": [
    "expectancy = np.array(data.amountOfRain[0:-1]) + 1\n",
    "reality = np.array(data.rainfall[1:]) + 1\n",
    "\n",
    "error = (expectancy - reality)/reality *100\n",
    "\n",
    "sns.scatterplot(x=expectancy, y=reality)"
   ]
  },
  {
   "cell_type": "markdown",
   "metadata": {
    "heading_collapsed": true
   },
   "source": [
    "### Discrepancy between rainfall/raintoday and raintomorrow/amountOfRain"
   ]
  },
  {
   "cell_type": "markdown",
   "metadata": {
    "hidden": true
   },
   "source": [
    "Apart from the 1406 missing values of *rainfall*/*raintoday*, *raintomorrow*/*amountOfRain* should be\n",
    "similar, since the seconds \"would be\" the first ones in a time t+1.\n",
    "\n",
    "However, we have 13 rows with discrepant values between the two pairs!"
   ]
  },
  {
   "cell_type": "code",
   "execution_count": 22,
   "metadata": {
    "hidden": true
   },
   "outputs": [
    {
     "data": {
      "text/html": [
       "<div>\n",
       "<style scoped>\n",
       "    .dataframe tbody tr th:only-of-type {\n",
       "        vertical-align: middle;\n",
       "    }\n",
       "\n",
       "    .dataframe tbody tr th {\n",
       "        vertical-align: top;\n",
       "    }\n",
       "\n",
       "    .dataframe thead th {\n",
       "        text-align: right;\n",
       "    }\n",
       "</style>\n",
       "<table border=\"1\" class=\"dataframe\">\n",
       "  <thead>\n",
       "    <tr style=\"text-align: right;\">\n",
       "      <th></th>\n",
       "      <th>rainfall</th>\n",
       "      <th>raintoday</th>\n",
       "      <th>raintomorrow</th>\n",
       "      <th>amountOfRain</th>\n",
       "    </tr>\n",
       "  </thead>\n",
       "  <tbody>\n",
       "    <tr>\n",
       "      <th>2607</th>\n",
       "      <td>0.0</td>\n",
       "      <td>No</td>\n",
       "      <td>Yes</td>\n",
       "      <td>3.8</td>\n",
       "    </tr>\n",
       "    <tr>\n",
       "      <th>2609</th>\n",
       "      <td>3.8</td>\n",
       "      <td>Yes</td>\n",
       "      <td>No</td>\n",
       "      <td>0.0</td>\n",
       "    </tr>\n",
       "    <tr>\n",
       "      <th>2615</th>\n",
       "      <td>0.0</td>\n",
       "      <td>No</td>\n",
       "      <td>Yes</td>\n",
       "      <td>3.6</td>\n",
       "    </tr>\n",
       "    <tr>\n",
       "      <th>2617</th>\n",
       "      <td>3.6</td>\n",
       "      <td>Yes</td>\n",
       "      <td>No</td>\n",
       "      <td>0.0</td>\n",
       "    </tr>\n",
       "    <tr>\n",
       "      <th>2631</th>\n",
       "      <td>0.0</td>\n",
       "      <td>No</td>\n",
       "      <td>Yes</td>\n",
       "      <td>8.6</td>\n",
       "    </tr>\n",
       "    <tr>\n",
       "      <th>...</th>\n",
       "      <td>...</td>\n",
       "      <td>...</td>\n",
       "      <td>...</td>\n",
       "      <td>...</td>\n",
       "    </tr>\n",
       "    <tr>\n",
       "      <th>164114</th>\n",
       "      <td>2.8</td>\n",
       "      <td>Yes</td>\n",
       "      <td>No</td>\n",
       "      <td>0.2</td>\n",
       "    </tr>\n",
       "    <tr>\n",
       "      <th>164118</th>\n",
       "      <td>0.4</td>\n",
       "      <td>No</td>\n",
       "      <td>Yes</td>\n",
       "      <td>6.2</td>\n",
       "    </tr>\n",
       "    <tr>\n",
       "      <th>164120</th>\n",
       "      <td>6.2</td>\n",
       "      <td>Yes</td>\n",
       "      <td>No</td>\n",
       "      <td>0.2</td>\n",
       "    </tr>\n",
       "    <tr>\n",
       "      <th>164248</th>\n",
       "      <td>0.0</td>\n",
       "      <td>No</td>\n",
       "      <td>Yes</td>\n",
       "      <td>6.8</td>\n",
       "    </tr>\n",
       "    <tr>\n",
       "      <th>164256</th>\n",
       "      <td>3.8</td>\n",
       "      <td>Yes</td>\n",
       "      <td>No</td>\n",
       "      <td>0.0</td>\n",
       "    </tr>\n",
       "  </tbody>\n",
       "</table>\n",
       "<p>5596 rows × 4 columns</p>\n",
       "</div>"
      ],
      "text/plain": [
       "        rainfall raintoday raintomorrow  amountOfRain\n",
       "2607         0.0        No          Yes           3.8\n",
       "2609         3.8       Yes           No           0.0\n",
       "2615         0.0        No          Yes           3.6\n",
       "2617         3.6       Yes           No           0.0\n",
       "2631         0.0        No          Yes           8.6\n",
       "...          ...       ...          ...           ...\n",
       "164114       2.8       Yes           No           0.2\n",
       "164118       0.4        No          Yes           6.2\n",
       "164120       6.2       Yes           No           0.2\n",
       "164248       0.0        No          Yes           6.8\n",
       "164256       3.8       Yes           No           0.0\n",
       "\n",
       "[5596 rows x 4 columns]"
      ]
     },
     "execution_count": 22,
     "metadata": {},
     "output_type": "execute_result"
    }
   ],
   "source": [
    "pd.concat(  [data.rainfall[1:].reset_index(drop=True), \n",
    "             data.raintoday[1:].reset_index(drop=True),\n",
    "             data.raintomorrow[0:-1].reset_index(drop=True),\n",
    "             data.amountOfRain[0:-1].reset_index(drop=True)\n",
    "            ],axis=1).dropna().query('raintoday != raintomorrow')"
   ]
  },
  {
   "cell_type": "markdown",
   "metadata": {
    "heading_collapsed": true
   },
   "source": [
    "### temperature columns"
   ]
  },
  {
   "cell_type": "code",
   "execution_count": 23,
   "metadata": {
    "hidden": true
   },
   "outputs": [],
   "source": [
    "# temperatura\n",
    "# sns.pairplot(data.loc[:,['temp', 'mintemp', 'maxtemp', 'temp9am', 'temp3pm']])"
   ]
  },
  {
   "cell_type": "markdown",
   "metadata": {
    "heading_collapsed": true
   },
   "source": [
    "### pressure columns"
   ]
  },
  {
   "cell_type": "code",
   "execution_count": 24,
   "metadata": {
    "hidden": true
   },
   "outputs": [],
   "source": [
    "pressure = data.loc[:,['pressure9am', 'pressure3pm']]\n",
    "# sns.pairplot(pressure)"
   ]
  },
  {
   "cell_type": "markdown",
   "metadata": {
    "heading_collapsed": true
   },
   "source": [
    "### humidity columns"
   ]
  },
  {
   "cell_type": "code",
   "execution_count": 25,
   "metadata": {
    "hidden": true
   },
   "outputs": [],
   "source": [
    "humidity = data.loc[:,['humidity9am', 'humidity3pm', 'humidity']]\n",
    "# sns.pairplot(humidity)"
   ]
  },
  {
   "cell_type": "code",
   "execution_count": 26,
   "metadata": {
    "hidden": true
   },
   "outputs": [
    {
     "name": "stdout",
     "output_type": "stream",
     "text": [
      "porcentagem de dados nulos:\n",
      "\n",
      "date              0.0\n",
      "location          0.0\n",
      "wind_gustdir      6.0\n",
      "wind_gustspeed    6.0\n",
      "wind_dir9am       7.0\n",
      "wind_dir3pm       3.0\n",
      "wind_speed9am     1.0\n",
      "wind_speed3pm     2.0\n",
      "dtype: float64\n"
     ]
    }
   ],
   "source": [
    "print('porcentagem de dados nulos:\\n')\n",
    "print(round(winds.isna().sum()/data.shape[0]*100))"
   ]
  },
  {
   "cell_type": "markdown",
   "metadata": {},
   "source": [
    "# Treating Data"
   ]
  },
  {
   "cell_type": "markdown",
   "metadata": {},
   "source": [
    "## ~Separating: data for training and data for testing~"
   ]
  },
  {
   "cell_type": "markdown",
   "metadata": {},
   "source": [
    "We will separate data, for not overfitting. For this reason we will reserve the last 366 days for testing."
   ]
  },
  {
   "cell_type": "code",
   "execution_count": 27,
   "metadata": {},
   "outputs": [
    {
     "name": "stdout",
     "output_type": "stream",
     "text": [
      "rows reserved for training:  78.61 %\n",
      "rows reserved for testing: 21.39 %\n"
     ]
    }
   ],
   "source": [
    "# total = data.shape[0]\n",
    "# data_testing = data.loc[data.date > '2016-06-24']\n",
    "# data = data.loc[data.date <= '2016-06-24']\n",
    "\n",
    "# print('rows reserved for training: ', round(data.shape[0]/total*100,2),'%')\n",
    "# print('rows reserved for testing:', round(data_testing.shape[0]/total*100,2),'%')"
   ]
  },
  {
   "cell_type": "markdown",
   "metadata": {},
   "source": [
    "## Treating dataset: data"
   ]
  },
  {
   "cell_type": "markdown",
   "metadata": {},
   "source": [
    "**Treating: date column for datetime, raintoday and raintomorrow for binary categories**"
   ]
  },
  {
   "cell_type": "code",
   "execution_count": 47,
   "metadata": {},
   "outputs": [],
   "source": [
    "# date string to date datetime:\n",
    "data.loc[:,'date'] = pd.to_datetime(data.loc[:,'date'])\n",
    "\n",
    "# yes = 1, no = 0\n",
    "data.loc[:,'raintoday'] = data.loc[:,'raintoday'].apply(lambda x: 0 if x == 'No' else x)\n",
    "data.loc[:,'raintoday'] = data.loc[:,'raintoday'].apply(lambda x: 1 if x == 'Yes' else x)\n",
    "data.loc[:,'raintomorrow'] = data.loc[:,'raintomorrow'].apply(lambda x: 0 if x == 'No' else x)\n",
    "data.loc[:,'raintomorrow'] = data.loc[:,'raintomorrow'].apply(lambda x: 1 if x == 'Yes' else x)"
   ]
  },
  {
   "cell_type": "markdown",
   "metadata": {},
   "source": [
    "**Create a columns for month and create a column for season**"
   ]
  },
  {
   "cell_type": "code",
   "execution_count": 48,
   "metadata": {},
   "outputs": [],
   "source": [
    "data['month'] = data.loc[:,'date'].apply(lambda x: x.month)\n",
    "\n",
    "seasons = {12:'Summer', 1:'Summer', 2:'Summer', \n",
    "             3:'Autumn', 4:'Autumn', 5:'Autumn',\n",
    "             6:'Winter', 7:'Winter', 8:'Winter',\n",
    "             9:'Spring', 10:'Spring', 11:'Spring'}\n",
    "\n",
    "data['season'] = data.loc[:,'month'].apply(lambda x: seasons[x])"
   ]
  },
  {
   "cell_type": "markdown",
   "metadata": {},
   "source": [
    "**Formating location**\n",
    "\n",
    "- some locations need to be formated and words separated (i.e. BadgerysCreek to Badgerys Creek)"
   ]
  },
  {
   "cell_type": "code",
   "execution_count": 49,
   "metadata": {},
   "outputs": [],
   "source": [
    "data['location'] = data['location'].str.replace(r\"([A-Z]+)\", r\" \\1\").str.strip()"
   ]
  },
  {
   "cell_type": "markdown",
   "metadata": {},
   "source": [
    "**Filling NaNs with mean values per city** > Bad idea???\n",
    "\n",
    "At a first try, we will desconsider those columns columns. 38%, 40% of missing is close to half of the dataset!\n",
    "\n",
    "Columns with more than 10% NaN are:\n",
    "\n",
    "- evaporation         42.789026\n",
    "- sunshine            47.692924\n",
    "- cloud9am            37.735332\n",
    "- cloud3pm            40.152469\n",
    "\n",
    "We will consider usem them later, maybe the missing is only a zero value!"
   ]
  },
  {
   "cell_type": "code",
   "execution_count": 50,
   "metadata": {},
   "outputs": [],
   "source": [
    "data = data.drop(['evaporation', 'sunshine', 'cloud9am', 'cloud3pm'],axis=1)"
   ]
  },
  {
   "cell_type": "markdown",
   "metadata": {},
   "source": [
    "**Dropping some other columns**\n",
    "\n",
    "- ***modelo_vigente***: this column is the results of a prediction model, we won't need it for fitting the model, only for further comparations"
   ]
  },
  {
   "cell_type": "code",
   "execution_count": 51,
   "metadata": {},
   "outputs": [],
   "source": [
    "data = data.drop('modelo_vigente',axis=1)"
   ]
  },
  {
   "cell_type": "markdown",
   "metadata": {},
   "source": [
    "**Creating new variable: rainfall_index**\n",
    "\n",
    "*rainfall_index* will be the mean amount of rainfall for that location"
   ]
  },
  {
   "cell_type": "code",
   "execution_count": 52,
   "metadata": {},
   "outputs": [],
   "source": [
    "# rainfall_index = data.groupby(by='location').describe().loc[:,'rainfall'].loc[:,'mean']\n",
    "# data['rainfall_index'] = data.loc[:,'location'].apply(lambda x: rainfall_index.loc[x])"
   ]
  },
  {
   "cell_type": "markdown",
   "metadata": {},
   "source": [
    "**Dropping *temp***\n",
    "\n",
    "*temp* is clearly dependend of the max temperature, and also has some missing values"
   ]
  },
  {
   "cell_type": "code",
   "execution_count": 53,
   "metadata": {},
   "outputs": [],
   "source": [
    "data = data.drop('temp', axis=1)"
   ]
  },
  {
   "cell_type": "markdown",
   "metadata": {},
   "source": [
    "**Adding a mean value for the proportion of raining the next day for each city**\n",
    "\n",
    "- *raintomo_mean*: will be the respective prob of rain the next day for the current city. Its the sum of 'raintomorro' by the total of rows of the city."
   ]
  },
  {
   "cell_type": "code",
   "execution_count": 54,
   "metadata": {},
   "outputs": [],
   "source": [
    "#get a df of mean prob of raining the next day for each city\n",
    "rainto_mean = data[['location', 'raintomorrow']].groupby(by='location').mean().reset_index()\n",
    "\n",
    "my_dict = {}\n",
    "\n",
    "for loc in rainto_mean.location.unique():\n",
    "    my_dict[loc] = round(rainto_mean.query(f'location == \"{loc}\"').raintomorrow.values[0],4)\n",
    "    \n",
    "data['loc_rainto_mean'] = data.location.apply(lambda x: my_dict[x])"
   ]
  },
  {
   "cell_type": "markdown",
   "metadata": {},
   "source": [
    "**Adding a mean value for the proportion of raining the next day for each *wind_direction***\n",
    "\n",
    "- *raintomo_mean*: will be the respective prob of rain the next day for the current city. Its the sum of 'raintomorro' by the total of rows of the city."
   ]
  },
  {
   "cell_type": "code",
   "execution_count": 55,
   "metadata": {},
   "outputs": [],
   "source": [
    "#get a df of mean prob of raining the next day for each wind_direction\n",
    "wind_rainto_mean = data[['wind_gustdir', 'raintomorrow']].groupby(by='wind_gustdir').mean().reset_index()\n",
    "\n",
    "for loc in wind_rainto_mean.wind_gustdir.unique():\n",
    "    my_dict[loc] = round(wind_rainto_mean.query(f'wind_gustdir == \"{loc}\"').raintomorrow.values[0],4)\n",
    "    \n",
    "data['wind_rainto_mean'] = data.wind_gustdir.apply(lambda x: my_dict[x] if type(x) == str else x)"
   ]
  },
  {
   "cell_type": "markdown",
   "metadata": {},
   "source": [
    "**Adding coorinates (*lat*, *lon*) columns and dropping *location***\n",
    "\n",
    "- We will add latitude and longitude as a mean for transforming the location in numeric values, instead of using them with get_dummies.\n",
    "- We won't need location anymore so we will drop them"
   ]
  },
  {
   "cell_type": "code",
   "execution_count": 56,
   "metadata": {},
   "outputs": [
    {
     "name": "stderr",
     "output_type": "stream",
     "text": [
      "100%|██████████| 49/49 [00:41<00:00,  1.18it/s]\n"
     ]
    }
   ],
   "source": [
    "geolocator = Nominatim(user_agent=\"my-application\")\n",
    "\n",
    "unique_loc = data['location'].unique()\n",
    "\n",
    "for city in tqdm(unique_loc):\n",
    "    geoloc = geolocator.geocode(city,'Australia')\n",
    "    my_dict[city + '_lat'] = geoloc.latitude\n",
    "    my_dict[city + '_lon'] = geoloc.longitude\n",
    "    \n",
    "data['location_lat'] = data.location.apply(lambda x: my_dict[x + '_lat'] if type(x) == str else x)\n",
    "data['location_lon'] = data.location.apply(lambda x: my_dict[x + '_lon'] if type(x) == str else x)"
   ]
  },
  {
   "cell_type": "code",
   "execution_count": 57,
   "metadata": {},
   "outputs": [],
   "source": [
    "data = data.drop(columns='location')"
   ]
  },
  {
   "cell_type": "markdown",
   "metadata": {},
   "source": [
    "**precipitacao nas ultimas 24h?**\n",
    "\n",
    "supondo que a decisão é as 3 da tarde...\n",
    "\n",
    "vai chover amanhã? à que horas do dia deve ser feito a previsão? 3 da tarde?"
   ]
  },
  {
   "cell_type": "code",
   "execution_count": 61,
   "metadata": {},
   "outputs": [],
   "source": [
    "data['prec_last_24h'] = data['precipitation3pm'] + data['precipitation9am']\n",
    "# NO FIM NÂO MUDOU SCORE, PRATICAMENTE O MESMO!"
   ]
  },
  {
   "cell_type": "markdown",
   "metadata": {},
   "source": [
    "# Tobogã:"
   ]
  },
  {
   "cell_type": "markdown",
   "metadata": {},
   "source": [
    "## importing libraries"
   ]
  },
  {
   "cell_type": "code",
   "execution_count": 67,
   "metadata": {},
   "outputs": [],
   "source": [
    "from sklearn.linear_model import LogisticRegression\n",
    "from sklearn.model_selection import train_test_split\n",
    "from sklearn.preprocessing import StandardScaler\n",
    "from sklearn.metrics import mean_squared_error\n",
    "from sklearn.metrics import accuracy_score\n",
    "from sklearn.metrics import plot_roc_curve\n",
    "from sklearn.tree import DecisionTreeClassifier\n",
    "from sklearn.model_selection import learning_curve\n",
    "from sklearn.model_selection import KFold\n",
    "from sklearn.metrics import roc_curve"
   ]
  },
  {
   "cell_type": "markdown",
   "metadata": {},
   "source": [
    "## Preparing Data: X and y (train and test) and comparison with *modelo_vigente*"
   ]
  },
  {
   "cell_type": "code",
   "execution_count": 189,
   "metadata": {},
   "outputs": [],
   "source": [
    "#teste dataframe, no cities and no season!\n",
    "teste = data.drop(['rainfall','amountOfRain','month',\n",
    "                   'precipitation3pm','precipitation9am'],axis=1).dropna()\n",
    "teste = pd.get_dummies(teste)"
   ]
  },
  {
   "cell_type": "code",
   "execution_count": 190,
   "metadata": {},
   "outputs": [],
   "source": [
    "# teste = teste.loc[teste.date > '2015-06-24']"
   ]
  },
  {
   "cell_type": "code",
   "execution_count": 191,
   "metadata": {
    "code_folding": []
   },
   "outputs": [],
   "source": [
    "#determine X and y\n",
    "split_with_time = True\n",
    "\n",
    "if split_with_time:\n",
    "    before = teste.loc[teste.date <= '2016-06-24']\n",
    "    after = teste.loc[teste.date > '2016-06-24']\n",
    "\n",
    "    X_train =  before.drop(['raintomorrow','date'],axis=1)\n",
    "    X_test = after.drop(['raintomorrow','date'],axis=1)\n",
    "\n",
    "    y_train =  before.loc[:,'raintomorrow']\n",
    "    y_test = after.loc[:,'raintomorrow']\n",
    "\n",
    "else:\n",
    "    #split data\n",
    "    X_train, X_test, y_train, y_test = train_test_split(X, y, test_size=0.4, random_state=42)\n",
    "    \n",
    "    \n",
    "#main data, in case tests are needed\n",
    "X = teste.drop(['raintomorrow','date'],axis=1)\n",
    "y = teste.loc[:,'raintomorrow']\n",
    "\n",
    "#dummies\n",
    "X = pd.get_dummies(X)"
   ]
  },
  {
   "cell_type": "code",
   "execution_count": 192,
   "metadata": {
    "cell_style": "center"
   },
   "outputs": [],
   "source": [
    "# Standardize data:\n",
    "scaler = StandardScaler().fit(X_train)\n",
    "\n",
    "X_train_std = scaler.transform(X_train)\n",
    "\n",
    "X_test_std = scaler.transform(X_test)"
   ]
  },
  {
   "cell_type": "code",
   "execution_count": 193,
   "metadata": {
    "cell_style": "center"
   },
   "outputs": [],
   "source": [
    "#import modelo_vigente\n",
    "modelo_vigente = pd.read_csv(path+'rain_data_aus.csv').dropna().modelo_vigente\n",
    "\n",
    "\n",
    "## MODELO_VIGENTE ROC CURVE\n",
    "dframe = pd.read_csv(path+'rain_data_aus.csv')\n",
    "mv_y_pred_prob = dframe.modelo_vigente\n",
    "mv_y_test = dframe.raintomorrow.apply(lambda x: 1 if x == 'Yes' else 0)"
   ]
  },
  {
   "cell_type": "markdown",
   "metadata": {},
   "source": [
    "## Taking the mean"
   ]
  },
  {
   "cell_type": "code",
   "execution_count": 194,
   "metadata": {
    "collapsed": true
   },
   "outputs": [
    {
     "ename": "ValueError",
     "evalue": "Found input variables with inconsistent numbers of samples: [27594, 17240]",
     "output_type": "error",
     "traceback": [
      "\u001b[1;31m---------------------------------------------------------------------------\u001b[0m",
      "\u001b[1;31mValueError\u001b[0m                                Traceback (most recent call last)",
      "\u001b[1;32m<ipython-input-194-af1b0a67007d>\u001b[0m in \u001b[0;36m<module>\u001b[1;34m\u001b[0m\n\u001b[0;32m      2\u001b[0m \u001b[0my_pred\u001b[0m \u001b[1;33m=\u001b[0m \u001b[0my_train\u001b[0m\u001b[1;33m.\u001b[0m\u001b[0mapply\u001b[0m\u001b[1;33m(\u001b[0m\u001b[1;32mlambda\u001b[0m \u001b[0mx\u001b[0m\u001b[1;33m:\u001b[0m \u001b[0mthe_mean\u001b[0m\u001b[1;33m)\u001b[0m\u001b[1;33m.\u001b[0m\u001b[0miloc\u001b[0m\u001b[1;33m[\u001b[0m\u001b[1;36m0\u001b[0m\u001b[1;33m:\u001b[0m\u001b[0my_test\u001b[0m\u001b[1;33m.\u001b[0m\u001b[0mshape\u001b[0m\u001b[1;33m[\u001b[0m\u001b[1;36m0\u001b[0m\u001b[1;33m]\u001b[0m\u001b[1;33m]\u001b[0m\u001b[1;33m\u001b[0m\u001b[1;33m\u001b[0m\u001b[0m\n\u001b[0;32m      3\u001b[0m \u001b[1;33m\u001b[0m\u001b[0m\n\u001b[1;32m----> 4\u001b[1;33m \u001b[0maccuracy_score\u001b[0m\u001b[1;33m(\u001b[0m\u001b[0my_test\u001b[0m\u001b[1;33m,\u001b[0m \u001b[0my_pred\u001b[0m\u001b[1;33m.\u001b[0m\u001b[0mapply\u001b[0m\u001b[1;33m(\u001b[0m\u001b[1;32mlambda\u001b[0m \u001b[0mx\u001b[0m\u001b[1;33m:\u001b[0m \u001b[1;36m1\u001b[0m \u001b[1;32mif\u001b[0m \u001b[0mx\u001b[0m\u001b[1;33m>\u001b[0m\u001b[1;36m0.5\u001b[0m \u001b[1;32melse\u001b[0m \u001b[1;36m0\u001b[0m\u001b[1;33m)\u001b[0m\u001b[1;33m)\u001b[0m\u001b[1;33m\u001b[0m\u001b[1;33m\u001b[0m\u001b[0m\n\u001b[0m",
      "\u001b[1;32mc:\\users\\vfarn\\appdata\\local\\programs\\python\\python38-32\\lib\\site-packages\\sklearn\\metrics\\_classification.py\u001b[0m in \u001b[0;36maccuracy_score\u001b[1;34m(y_true, y_pred, normalize, sample_weight)\u001b[0m\n\u001b[0;32m    183\u001b[0m \u001b[1;33m\u001b[0m\u001b[0m\n\u001b[0;32m    184\u001b[0m     \u001b[1;31m# Compute accuracy for each possible representation\u001b[0m\u001b[1;33m\u001b[0m\u001b[1;33m\u001b[0m\u001b[1;33m\u001b[0m\u001b[0m\n\u001b[1;32m--> 185\u001b[1;33m     \u001b[0my_type\u001b[0m\u001b[1;33m,\u001b[0m \u001b[0my_true\u001b[0m\u001b[1;33m,\u001b[0m \u001b[0my_pred\u001b[0m \u001b[1;33m=\u001b[0m \u001b[0m_check_targets\u001b[0m\u001b[1;33m(\u001b[0m\u001b[0my_true\u001b[0m\u001b[1;33m,\u001b[0m \u001b[0my_pred\u001b[0m\u001b[1;33m)\u001b[0m\u001b[1;33m\u001b[0m\u001b[1;33m\u001b[0m\u001b[0m\n\u001b[0m\u001b[0;32m    186\u001b[0m     \u001b[0mcheck_consistent_length\u001b[0m\u001b[1;33m(\u001b[0m\u001b[0my_true\u001b[0m\u001b[1;33m,\u001b[0m \u001b[0my_pred\u001b[0m\u001b[1;33m,\u001b[0m \u001b[0msample_weight\u001b[0m\u001b[1;33m)\u001b[0m\u001b[1;33m\u001b[0m\u001b[1;33m\u001b[0m\u001b[0m\n\u001b[0;32m    187\u001b[0m     \u001b[1;32mif\u001b[0m \u001b[0my_type\u001b[0m\u001b[1;33m.\u001b[0m\u001b[0mstartswith\u001b[0m\u001b[1;33m(\u001b[0m\u001b[1;34m'multilabel'\u001b[0m\u001b[1;33m)\u001b[0m\u001b[1;33m:\u001b[0m\u001b[1;33m\u001b[0m\u001b[1;33m\u001b[0m\u001b[0m\n",
      "\u001b[1;32mc:\\users\\vfarn\\appdata\\local\\programs\\python\\python38-32\\lib\\site-packages\\sklearn\\metrics\\_classification.py\u001b[0m in \u001b[0;36m_check_targets\u001b[1;34m(y_true, y_pred)\u001b[0m\n\u001b[0;32m     78\u001b[0m     \u001b[0my_pred\u001b[0m \u001b[1;33m:\u001b[0m \u001b[0marray\u001b[0m \u001b[1;32mor\u001b[0m \u001b[0mindicator\u001b[0m \u001b[0mmatrix\u001b[0m\u001b[1;33m\u001b[0m\u001b[1;33m\u001b[0m\u001b[0m\n\u001b[0;32m     79\u001b[0m     \"\"\"\n\u001b[1;32m---> 80\u001b[1;33m     \u001b[0mcheck_consistent_length\u001b[0m\u001b[1;33m(\u001b[0m\u001b[0my_true\u001b[0m\u001b[1;33m,\u001b[0m \u001b[0my_pred\u001b[0m\u001b[1;33m)\u001b[0m\u001b[1;33m\u001b[0m\u001b[1;33m\u001b[0m\u001b[0m\n\u001b[0m\u001b[0;32m     81\u001b[0m     \u001b[0mtype_true\u001b[0m \u001b[1;33m=\u001b[0m \u001b[0mtype_of_target\u001b[0m\u001b[1;33m(\u001b[0m\u001b[0my_true\u001b[0m\u001b[1;33m)\u001b[0m\u001b[1;33m\u001b[0m\u001b[1;33m\u001b[0m\u001b[0m\n\u001b[0;32m     82\u001b[0m     \u001b[0mtype_pred\u001b[0m \u001b[1;33m=\u001b[0m \u001b[0mtype_of_target\u001b[0m\u001b[1;33m(\u001b[0m\u001b[0my_pred\u001b[0m\u001b[1;33m)\u001b[0m\u001b[1;33m\u001b[0m\u001b[1;33m\u001b[0m\u001b[0m\n",
      "\u001b[1;32mc:\\users\\vfarn\\appdata\\local\\programs\\python\\python38-32\\lib\\site-packages\\sklearn\\utils\\validation.py\u001b[0m in \u001b[0;36mcheck_consistent_length\u001b[1;34m(*arrays)\u001b[0m\n\u001b[0;32m    209\u001b[0m     \u001b[0muniques\u001b[0m \u001b[1;33m=\u001b[0m \u001b[0mnp\u001b[0m\u001b[1;33m.\u001b[0m\u001b[0munique\u001b[0m\u001b[1;33m(\u001b[0m\u001b[0mlengths\u001b[0m\u001b[1;33m)\u001b[0m\u001b[1;33m\u001b[0m\u001b[1;33m\u001b[0m\u001b[0m\n\u001b[0;32m    210\u001b[0m     \u001b[1;32mif\u001b[0m \u001b[0mlen\u001b[0m\u001b[1;33m(\u001b[0m\u001b[0muniques\u001b[0m\u001b[1;33m)\u001b[0m \u001b[1;33m>\u001b[0m \u001b[1;36m1\u001b[0m\u001b[1;33m:\u001b[0m\u001b[1;33m\u001b[0m\u001b[1;33m\u001b[0m\u001b[0m\n\u001b[1;32m--> 211\u001b[1;33m         raise ValueError(\"Found input variables with inconsistent numbers of\"\n\u001b[0m\u001b[0;32m    212\u001b[0m                          \" samples: %r\" % [int(l) for l in lengths])\n\u001b[0;32m    213\u001b[0m \u001b[1;33m\u001b[0m\u001b[0m\n",
      "\u001b[1;31mValueError\u001b[0m: Found input variables with inconsistent numbers of samples: [27594, 17240]"
     ]
    }
   ],
   "source": [
    "the_mean = y_train.mean()\n",
    "y_pred = y_train.apply(lambda x: the_mean).iloc[0:y_test.shape[0]]\n",
    "\n",
    "accuracy_score(y_test, y_pred.apply(lambda x: 1 if x>0.5 else 0))"
   ]
  },
  {
   "cell_type": "markdown",
   "metadata": {},
   "source": [
    "## Logistic regression"
   ]
  },
  {
   "cell_type": "code",
   "execution_count": 195,
   "metadata": {
    "code_folding": [
     9
    ]
   },
   "outputs": [
    {
     "data": {
      "text/plain": [
       "0.8419946365151845"
      ]
     },
     "execution_count": 195,
     "metadata": {},
     "output_type": "execute_result"
    }
   ],
   "source": [
    "#instantiate the model and fit\n",
    "logreg = LogisticRegression()\n",
    "\n",
    "logreg.fit(X_train_std, y_train)\n",
    "\n",
    "# let's evaluate - new data comes in:\n",
    "predictions = logreg.predict(X_test_std)\n",
    "pred_proba = logreg.predict_proba(X_test_std)\n",
    "\n",
    "results = pd.DataFrame({'prob_not_rain': pred_proba[:,0], \n",
    "                          'prob_rain': pred_proba[:,1], \n",
    "                          'predictions':predictions,\n",
    "                          'y_test':y_test})\n",
    "\n",
    "accuracy_score(y_test, predictions)"
   ]
  },
  {
   "cell_type": "code",
   "execution_count": 196,
   "metadata": {},
   "outputs": [
    {
     "data": {
      "image/png": "[encoded data removed]",
      "text/plain": [
       "<Figure size 432x288 with 1 Axes>"
      ]
     },
     "metadata": {
      "needs_background": "light"
     },
     "output_type": "display_data"
    }
   ],
   "source": [
    "# results\n",
    "fig, ax = plt.subplots()\n",
    "\n",
    "plot_roc_curve(logreg, X_train_std, y_train, ax=ax, name = 'prevendo dados do treino')\n",
    "plot_roc_curve(logreg, X_test_std, y_test, ax=ax, name = 'prevendo dados do teste')\n",
    "\n",
    "fpr, tpr, thresholds = roc_curve(mv_y_test, mv_y_pred_prob)\n",
    "plt.plot(fpr, tpr, label='Logistic Regression')\n",
    "plt.show();"
   ]
  },
  {
   "cell_type": "markdown",
   "metadata": {
    "heading_collapsed": true
   },
   "source": [
    "## Decision Trees\n",
    "\n",
    "Remember: we don't need to standardize the data here!"
   ]
  },
  {
   "cell_type": "code",
   "execution_count": 64,
   "metadata": {
    "code_folding": [
     17
    ],
    "hidden": true
   },
   "outputs": [
    {
     "name": "stderr",
     "output_type": "stream",
     "text": [
      "100%|██████████| 9/9 [00:27<00:00,  3.04s/it]\n"
     ]
    },
    {
     "data": {
      "text/plain": [
       "<matplotlib.axes._subplots.AxesSubplot at 0x2573cc70>"
      ]
     },
     "execution_count": 64,
     "metadata": {},
     "output_type": "execute_result"
    },
    {
     "data": {
      "image/png": "[encoded data removed]",
      "text/plain": [
       "<Figure size 864x288 with 2 Axes>"
      ]
     },
     "metadata": {
      "needs_background": "light"
     },
     "output_type": "display_data"
    }
   ],
   "source": [
    "df = pd.DataFrame()\n",
    "\n",
    "for N in tqdm(np.arange(1,10,1)):\n",
    "\n",
    "    tree = DecisionTreeClassifier(max_depth=N)\n",
    "    tree.fit(X_train, y_train)\n",
    "\n",
    "    # TRAIN SET and get precision and recall\n",
    "    tn, fp, fn, tp = confusion_matrix(y_train,tree.predict(X_train)).ravel()\n",
    "    a1, a2 = tp / (fp + tp), tp / (fn + tp)\n",
    "\n",
    "    # TEST SETand get precision, recall and test_score\n",
    "    tn, fp, fn, tp = confusion_matrix(y_test,tree.predict(X_test)).ravel()\n",
    "    a3, a4 = tp / (fp + tp), tp / (fn + tp)\n",
    "    test_score = (tn + tp)/(tn + fp + fn + tp)\n",
    "\n",
    "\n",
    "    minidf = pd.DataFrame({'depth':N, 'train_precision':a1, \n",
    "                          'train_recall':a2, 'test_precision':a3,\n",
    "                          'test_recall':a4, 'test_score':test_score}, index=[0])\n",
    "    df = pd.concat([df,minidf])\n",
    "    \n",
    "df = df.reset_index(drop=True)\n",
    "\n",
    "fig, ax = plt.subplots(nrows=1,ncols=2,figsize=(12,4))\n",
    "\n",
    "sns.lineplot(x='depth', y='train_precision', data=df, label = 'train_precision',ax=ax[0])\n",
    "sns.lineplot(x='depth', y='train_recall', data=df, label = 'train_recall',ax=ax[1])\n",
    "sns.lineplot(x='depth', y='test_precision', data=df, label = 'test_precision',ax=ax[0])\n",
    "sns.lineplot(x='depth', y='test_recall', data=df, label = 'test_recall',ax=ax[1])"
   ]
  },
  {
   "cell_type": "code",
   "execution_count": 73,
   "metadata": {
    "hidden": true
   },
   "outputs": [
    {
     "name": "stdout",
     "output_type": "stream",
     "text": [
      "accuracy_score:  0.8343118069145466\n"
     ]
    },
    {
     "data": {
      "image/png": "[encoded data removed]",
      "text/plain": [
       "<Figure size 432x288 with 1 Axes>"
      ]
     },
     "metadata": {
      "needs_background": "light"
     },
     "output_type": "display_data"
    }
   ],
   "source": [
    "# fit with max_depth=7\n",
    "tree = DecisionTreeClassifier(max_depth=5)\n",
    "tree.fit(X_train, y_train)\n",
    "\n",
    "y_pred = tree.predict(X_test)\n",
    "\n",
    "acc_score = accuracy_score(y_test, y_pred)\n",
    "print('accuracy_score: ', acc_score)\n",
    "\n",
    "# results\n",
    "fig, ax = plt.subplots()\n",
    "\n",
    "plot_roc_curve(tree, X_train, y_train, ax=ax, name = 'prevendo dados do treino')\n",
    "plot_roc_curve(tree, X_test, y_test, ax=ax, name = 'prevendo dados do teste')\n",
    "\n",
    "fpr, tpr, thresholds = roc_curve(mv_y_test, mv_y_pred_prob)\n",
    "plt.plot(fpr, tpr, label='Decision Tree')\n",
    "plt.show();"
   ]
  },
  {
   "cell_type": "code",
   "execution_count": 66,
   "metadata": {
    "hidden": true
   },
   "outputs": [
    {
     "data": {
      "image/png": "[encoded data removed]",
      "text/plain": [
       "<Figure size 432x288 with 1 Axes>"
      ]
     },
     "metadata": {
      "needs_background": "light"
     },
     "output_type": "display_data"
    }
   ],
   "source": [
    "modelinho = DecisionTreeClassifier(max_depth=7)\n",
    "\n",
    "curve = learning_curve(modelinho, X, y, cv=KFold(10), scoring='roc_auc')\n",
    "# curve = learning_curve(modelinho, X, y, scoring='roc_auc')\n",
    "\n",
    "train_sizes = curve[0]\n",
    "train_scores = curve[1]\n",
    "test_scores = curve[2]\n",
    "\n",
    "plt.plot(train_sizes, train_scores.mean(axis=1), '-o', label='Training AUC')\n",
    "plt.plot(train_sizes, test_scores.mean(axis=1), '-o', label='Test AUC')\n",
    "plt.ylim([0., 1])\n",
    "plt.xlabel('Training Sizes')\n",
    "plt.ylabel('Scores')\n",
    "plt.legend(loc=4)\n",
    "plt.grid()"
   ]
  },
  {
   "cell_type": "code",
   "execution_count": null,
   "metadata": {
    "hidden": true
   },
   "outputs": [],
   "source": []
  },
  {
   "cell_type": "code",
   "execution_count": null,
   "metadata": {
    "hidden": true
   },
   "outputs": [],
   "source": []
  },
  {
   "cell_type": "code",
   "execution_count": null,
   "metadata": {
    "hidden": true
   },
   "outputs": [],
   "source": []
  },
  {
   "cell_type": "markdown",
   "metadata": {
    "heading_collapsed": true
   },
   "source": [
    "## Manual log:\n",
    "- mean() acc_score: 0.767051\n",
    "- logreg acc_score: 0.844313\n",
    "- logreg auc_test: 0.87\n",
    "- tree acc_score: 0.83793578\n",
    "- tree auc_test: 0.85"
   ]
  }
 ],
 "metadata": {
  "kernelspec": {
   "display_name": "Python 3",
   "language": "python",
   "name": "python3"
  },
  "toc": {
   "base_numbering": 1,
   "nav_menu": {},
   "number_sections": true,
   "sideBar": true,
   "skip_h1_title": false,
   "title_cell": "Table of Contents",
   "title_sidebar": "Contents",
   "toc_cell": false,
   "toc_position": {},
   "toc_section_display": true,
   "toc_window_display": false
  },
  "varInspector": {
   "cols": {
    "lenName": 16,
    "lenType": 16,
    "lenVar": 40
   },
   "kernels_config": {
    "python": {
     "delete_cmd_postfix": "",
     "delete_cmd_prefix": "del ",
     "library": "var_list.py",
     "varRefreshCmd": "print(var_dic_list())"
    },
    "r": {
     "delete_cmd_postfix": ") ",
     "delete_cmd_prefix": "rm(",
     "library": "var_list.r",
     "varRefreshCmd": "cat(var_dic_list()) "
    }
   },
   "types_to_exclude": [
    "module",
    "function",
    "builtin_function_or_method",
    "instance",
    "_Feature"
   ],
   "window_display": false
  }
 },
 "nbformat": 4,
 "nbformat_minor": 4
}

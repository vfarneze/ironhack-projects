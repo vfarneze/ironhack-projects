{
 "cells": [
  {
   "cell_type": "markdown",
   "metadata": {},
   "source": [
    "**Dropping some columns**\n",
    "- **raintomorrow**: This column might be the predicted results of someone who tested a model. We infered this because a discrepancy between the number of rains in \"present day\" from the \"following day\", which should be in fact equal.\n",
    "- **modelo_vigente**: This column was added by someone who tested a model for this dataset. We infered this by the columns name.\n",
    "\n",
    "explanation:\n",
    "\n",
    "- I first seemed that *raintomorrow* from one row would have the same value of *raintoday* from the next row, but in the end wasnt for all the cases."
   ]
  },
  {
   "cell_type": "code",
   "execution_count": null,
   "metadata": {},
   "outputs": [],
   "source": [
    "expectancy = np.array(testezinho.raintomorrow[0:-1])\n",
    "reality = np.array(testezinho.raintoday[1:])\n",
    "\n",
    "pd.Series((expectancy - reality)).value_counts()"
   ]
  },
  {
   "cell_type": "code",
   "execution_count": null,
   "metadata": {},
   "outputs": [],
   "source": [
    "testezinho = data.copy()"
   ]
  },
  {
   "cell_type": "code",
   "execution_count": null,
   "metadata": {},
   "outputs": [],
   "source": [
    "(pd.Series((expectancy)).value_counts() - pd.Series((reality)).value_counts())"
   ]
  },
  {
   "cell_type": "markdown",
   "metadata": {},
   "source": [
    "Therefore, it seems that the previous model had:\n",
    "- 5 False Positives (predicted a rain but it didn't the next day)\n",
    "- 989 False Negatives (predicted a no-rain but it rained the next day)\n",
    "- 141198 True Positives and True Negatives (predicted successfully when if would or not rain the next day)\n",
    "\n",
    "For this reason, we won't need those two columns"
   ]
  },
  {
   "cell_type": "markdown",
   "metadata": {},
   "source": [
    "**Dropping other columns**\n",
    "\n",
    "- **AmountOfRain** > This column might be the predicted results of someone who tested a model, again. We infered this because a discrepancy between the amount of rain in \"present day\" from the the amount of rain of the \"following day\", which should be in fact equal.\n",
    "\n",
    "In fact, if we shift rainfall a row bellow, comparing both columns shows us that there is a really good correlation between them, which reinforces our theory. Therefore, we can eliminate this column from our dataset without fear."
   ]
  }
 ],
 "metadata": {
  "kernelspec": {
   "display_name": "Python 3",
   "language": "python",
   "name": "python3"
  },
  "language_info": {
   "codemirror_mode": {
    "name": "ipython",
    "version": 3
   },
   "file_extension": ".py",
   "mimetype": "text/x-python",
   "name": "python",
   "nbconvert_exporter": "python",
   "pygments_lexer": "ipython3",
   "version": "3.8.1"
  },
  "toc": {
   "base_numbering": 1,
   "nav_menu": {},
   "number_sections": true,
   "sideBar": true,
   "skip_h1_title": false,
   "title_cell": "Table of Contents",
   "title_sidebar": "Contents",
   "toc_cell": false,
   "toc_position": {},
   "toc_section_display": true,
   "toc_window_display": false
  },
  "varInspector": {
   "cols": {
    "lenName": 16,
    "lenType": 16,
    "lenVar": 40
   },
   "kernels_config": {
    "python": {
     "delete_cmd_postfix": "",
     "delete_cmd_prefix": "del ",
     "library": "var_list.py",
     "varRefreshCmd": "print(var_dic_list())"
    },
    "r": {
     "delete_cmd_postfix": ") ",
     "delete_cmd_prefix": "rm(",
     "library": "var_list.r",
     "varRefreshCmd": "cat(var_dic_list()) "
    }
   },
   "types_to_exclude": [
    "module",
    "function",
    "builtin_function_or_method",
    "instance",
    "_Feature"
   ],
   "window_display": false
  }
 },
 "nbformat": 4,
 "nbformat_minor": 4
}

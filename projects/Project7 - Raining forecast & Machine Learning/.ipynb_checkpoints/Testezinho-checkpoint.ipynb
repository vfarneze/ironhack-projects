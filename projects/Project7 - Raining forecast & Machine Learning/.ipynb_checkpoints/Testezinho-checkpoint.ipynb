{
 "cells": [
  {
   "cell_type": "code",
   "execution_count": 89,
   "metadata": {},
   "outputs": [],
   "source": [
    "import warnings\n",
    "warnings.filterwarnings(\"ignore\")"
   ]
  },
  {
   "cell_type": "code",
   "execution_count": 1,
   "metadata": {},
   "outputs": [],
   "source": [
    "def teaching_assitant_bot():\n",
    "    from random import choices\n",
    "    frases = ['Quais foram suas hipóteses iniciais?',\n",
    "              'Pq você optou por este método?',\n",
    "              'Onde você queria chegar com isso?',\n",
    "              'Como você pode avaliar os seus resultados?',\n",
    "              'O que estas métricas te dizem?',\n",
    "              'Diante disso, quais podem ser seus próximos passos?']\n",
    "    return choices(frases)[0]"
   ]
  },
  {
   "cell_type": "code",
   "execution_count": 1,
   "metadata": {},
   "outputs": [],
   "source": [
    "import pandas as pd\n",
    "import matplotlib.pyplot as plt\n",
    "import numpy as np\n",
    "import seaborn as sns\n",
    "# pip install geopy\n",
    "from geopy.geocoders import Nominatim\n",
    "from tqdm import tqdm\n",
    "from datetime import datetime\n",
    "from sklearn.linear_model import LogisticRegression\n",
    "from sklearn.preprocessing import StandardScaler\n",
    "from sklearn.metrics import mean_squared_error, accuracy_score, plot_roc_curve, roc_curve, confusion_matrix\n",
    "from sklearn.tree import DecisionTreeClassifier\n",
    "from sklearn.model_selection import train_test_split,learning_curve, cross_val_score, KFold\n",
    "from sklearn.ensemble import RandomForestClassifier, BaggingClassifier, AdaBoostClassifier\n",
    "from sklearn.decomposition import PCA\n",
    "\n",
    "# from xgboost import XGBClassifier\n",
    "# from lightgbm import LGBMClassifier\n",
    "# from lightgbm import plot_importance"
   ]
  },
  {
   "cell_type": "code",
   "execution_count": 19,
   "metadata": {},
   "outputs": [],
   "source": [
    "#loading backup when needed\n",
    "teste = pd.read_csv('teste_backup_AUC087.csv')\n",
    "teste.loc[:,'date'] = pd.to_datetime(teste.loc[:,'date'])"
   ]
  },
  {
   "cell_type": "code",
   "execution_count": 35,
   "metadata": {},
   "outputs": [],
   "source": []
  },
  {
   "cell_type": "code",
   "execution_count": null,
   "metadata": {},
   "outputs": [],
   "source": []
  },
  {
   "cell_type": "code",
   "execution_count": 90,
   "metadata": {
    "collapsed": true
   },
   "outputs": [
    {
     "name": "stderr",
     "output_type": "stream",
     "text": [
      "\n",
      "\n",
      "\n",
      "\n",
      "\n",
      "  0%|          | 0/44 [00:00<?, ?it/s]\u001b[A\u001b[A\u001b[A\u001b[A\u001b[A\n",
      "\n",
      "\n",
      "\n",
      "\n",
      "  2%|▏         | 1/44 [00:08<06:15,  8.73s/it]\u001b[A\u001b[A\u001b[A\u001b[A\u001b[A\n",
      "\n",
      "\n",
      "\n",
      "\n",
      "  5%|▍         | 2/44 [00:13<05:22,  7.69s/it]\u001b[A\u001b[A\u001b[A\u001b[A\u001b[A\n",
      "\n",
      "\n",
      "\n",
      "\n",
      "  7%|▋         | 3/44 [00:20<04:59,  7.31s/it]\u001b[A\u001b[A\u001b[A\u001b[A\u001b[A\n",
      "\n",
      "\n",
      "\n",
      "\n",
      "  9%|▉         | 4/44 [00:28<04:57,  7.44s/it]\u001b[A\u001b[A\u001b[A\u001b[A\u001b[A\n",
      "\n",
      "\n",
      "\n",
      "\n",
      " 11%|█▏        | 5/44 [00:34<04:35,  7.07s/it]\u001b[A\u001b[A\u001b[A\u001b[A\u001b[A\n",
      "\n",
      "\n",
      "\n",
      "\n",
      " 14%|█▎        | 6/44 [00:41<04:26,  7.01s/it]\u001b[A\u001b[A\u001b[A\u001b[A\u001b[A\n",
      "\n",
      "\n",
      "\n",
      "\n",
      " 16%|█▌        | 7/44 [00:44<03:42,  6.00s/it]\u001b[A\u001b[A\u001b[A\u001b[A\u001b[A\n",
      "\n",
      "\n",
      "\n",
      "\n",
      " 18%|█▊        | 8/44 [00:49<03:24,  5.68s/it]\u001b[A\u001b[A\u001b[A\u001b[A\u001b[A\n",
      "\n",
      "\n",
      "\n",
      "\n",
      " 20%|██        | 9/44 [00:54<03:06,  5.32s/it]\u001b[A\u001b[A\u001b[A\u001b[A\u001b[A\n",
      "\n",
      "\n",
      "\n",
      "\n",
      " 23%|██▎       | 10/44 [01:01<03:23,  5.99s/it]\u001b[A\u001b[A\u001b[A\u001b[A\u001b[A\n",
      "\n",
      "\n",
      "\n",
      "\n",
      " 25%|██▌       | 11/44 [01:10<03:45,  6.84s/it]\u001b[A\u001b[A\u001b[A\u001b[A\u001b[A\n",
      "\n",
      "\n",
      "\n",
      "\n",
      " 27%|██▋       | 12/44 [01:16<03:28,  6.52s/it]\u001b[A\u001b[A\u001b[A\u001b[A\u001b[A\n",
      "\n",
      "\n",
      "\n",
      "\n",
      " 30%|██▉       | 13/44 [01:24<03:40,  7.10s/it]\u001b[A\u001b[A\u001b[A\u001b[A\u001b[A\n",
      "\n",
      "\n",
      "\n",
      "\n",
      " 32%|███▏      | 14/44 [01:31<03:31,  7.05s/it]\u001b[A\u001b[A\u001b[A\u001b[A\u001b[A\n",
      "\n",
      "\n",
      "\n",
      "\n",
      " 34%|███▍      | 15/44 [01:38<03:23,  7.03s/it]\u001b[A\u001b[A\u001b[A\u001b[A\u001b[A\n",
      "\n",
      "\n",
      "\n",
      "\n",
      " 36%|███▋      | 16/44 [01:47<03:29,  7.49s/it]\u001b[A\u001b[A\u001b[A\u001b[A\u001b[A\n",
      "\n",
      "\n",
      "\n",
      "\n",
      " 39%|███▊      | 17/44 [01:53<03:13,  7.18s/it]\u001b[A\u001b[A\u001b[A\u001b[A\u001b[A\n",
      "\n",
      "\n",
      "\n",
      "\n",
      " 41%|████      | 18/44 [02:03<03:23,  7.84s/it]\u001b[A\u001b[A\u001b[A\u001b[A\u001b[A\n",
      "\n",
      "\n",
      "\n",
      "\n",
      " 43%|████▎     | 19/44 [02:09<03:03,  7.34s/it]\u001b[A\u001b[A\u001b[A\u001b[A\u001b[A\n",
      "\n",
      "\n",
      "\n",
      "\n",
      " 45%|████▌     | 20/44 [02:15<02:50,  7.09s/it]\u001b[A\u001b[A\u001b[A\u001b[A\u001b[A\n",
      "\n",
      "\n",
      "\n",
      "\n",
      " 48%|████▊     | 21/44 [02:22<02:37,  6.87s/it]\u001b[A\u001b[A\u001b[A\u001b[A\u001b[A\n",
      "\n",
      "\n",
      "\n",
      "\n",
      " 50%|█████     | 22/44 [02:29<02:32,  6.92s/it]\u001b[A\u001b[A\u001b[A\u001b[A\u001b[A\n",
      "\n",
      "\n",
      "\n",
      "\n",
      " 52%|█████▏    | 23/44 [02:35<02:20,  6.69s/it]\u001b[A\u001b[A\u001b[A\u001b[A\u001b[A\n",
      "\n",
      "\n",
      "\n",
      "\n",
      " 55%|█████▍    | 24/44 [02:41<02:08,  6.41s/it]\u001b[A\u001b[A\u001b[A\u001b[A\u001b[A\n",
      "\n",
      "\n",
      "\n",
      "\n",
      " 57%|█████▋    | 25/44 [02:50<02:15,  7.13s/it]\u001b[A\u001b[A\u001b[A\u001b[A\u001b[A\n",
      "\n",
      "\n",
      "\n",
      "\n",
      " 59%|█████▉    | 26/44 [02:54<01:54,  6.35s/it]\u001b[A\u001b[A\u001b[A\u001b[A\u001b[A\n",
      "\n",
      "\n",
      "\n",
      "\n",
      " 61%|██████▏   | 27/44 [02:58<01:37,  5.75s/it]\u001b[A\u001b[A\u001b[A\u001b[A\u001b[A\n",
      "\n",
      "\n",
      "\n",
      "\n",
      " 64%|██████▎   | 28/44 [03:04<01:32,  5.76s/it]\u001b[A\u001b[A\u001b[A\u001b[A\u001b[A\n",
      "\n",
      "\n",
      "\n",
      "\n",
      " 66%|██████▌   | 29/44 [03:09<01:24,  5.62s/it]\u001b[A\u001b[A\u001b[A\u001b[A\u001b[A\n",
      "\n",
      "\n",
      "\n",
      "\n",
      " 68%|██████▊   | 30/44 [03:17<01:28,  6.34s/it]\u001b[A\u001b[A\u001b[A\u001b[A\u001b[A\n",
      "\n",
      "\n",
      "\n",
      "\n",
      " 70%|███████   | 31/44 [03:24<01:22,  6.37s/it]\u001b[A\u001b[A\u001b[A\u001b[A\u001b[A\n",
      "\n",
      "\n",
      "\n",
      "\n",
      " 73%|███████▎  | 32/44 [03:31<01:18,  6.54s/it]\u001b[A\u001b[A\u001b[A\u001b[A\u001b[A\n",
      "\n",
      "\n",
      "\n",
      "\n",
      " 75%|███████▌  | 33/44 [03:40<01:21,  7.45s/it]\u001b[A\u001b[A\u001b[A\u001b[A\u001b[A\n",
      "\n",
      "\n",
      "\n",
      "\n",
      " 77%|███████▋  | 34/44 [03:46<01:08,  6.89s/it]\u001b[A\u001b[A\u001b[A\u001b[A\u001b[A\n",
      "\n",
      "\n",
      "\n",
      "\n",
      " 80%|███████▉  | 35/44 [03:53<01:02,  6.92s/it]\u001b[A\u001b[A\u001b[A\u001b[A\u001b[A\n",
      "\n",
      "\n",
      "\n",
      "\n",
      " 82%|████████▏ | 36/44 [04:01<00:58,  7.26s/it]\u001b[A\u001b[A\u001b[A\u001b[A\u001b[A\n",
      "\n",
      "\n",
      "\n",
      "\n",
      " 84%|████████▍ | 37/44 [04:08<00:49,  7.10s/it]\u001b[A\u001b[A\u001b[A\u001b[A\u001b[A\n",
      "\n",
      "\n",
      "\n",
      "\n",
      " 86%|████████▋ | 38/44 [04:16<00:44,  7.34s/it]\u001b[A\u001b[A\u001b[A\u001b[A\u001b[A\n",
      "\n",
      "\n",
      "\n",
      "\n",
      " 89%|████████▊ | 39/44 [04:23<00:37,  7.41s/it]\u001b[A\u001b[A\u001b[A\u001b[A\u001b[A\n",
      "\n",
      "\n",
      "\n",
      "\n",
      " 91%|█████████ | 40/44 [04:23<00:20,  5.24s/it]\u001b[A\u001b[A\u001b[A\u001b[A\u001b[A"
     ]
    },
    {
     "name": "stdout",
     "output_type": "stream",
     "text": [
      "no data for location:  Launceston\n"
     ]
    },
    {
     "name": "stderr",
     "output_type": "stream",
     "text": [
      "\n",
      "\n",
      "\n",
      "\n",
      "\n",
      " 93%|█████████▎| 41/44 [04:30<00:16,  5.51s/it]\u001b[A\u001b[A\u001b[A\u001b[A\u001b[A\n",
      "\n",
      "\n",
      "\n",
      "\n",
      " 95%|█████████▌| 42/44 [04:34<00:10,  5.14s/it]\u001b[A\u001b[A\u001b[A\u001b[A\u001b[A\n",
      "\n",
      "\n",
      "\n",
      "\n",
      " 98%|█████████▊| 43/44 [04:34<00:03,  3.64s/it]\u001b[A\u001b[A\u001b[A\u001b[A\u001b[A"
     ]
    },
    {
     "name": "stdout",
     "output_type": "stream",
     "text": [
      "no data for location:  Katherine\n"
     ]
    },
    {
     "name": "stderr",
     "output_type": "stream",
     "text": [
      "\n",
      "\n",
      "\n",
      "\n",
      "\n",
      "100%|██████████| 44/44 [04:39<00:00,  6.34s/it]\u001b[A\u001b[A\u001b[A\u001b[A\u001b[A\n"
     ]
    }
   ],
   "source": [
    "results = pd.DataFrame()\n",
    "locations = teste.location.unique()\n",
    "scailing = False\n",
    "\n",
    "for loc in tqdm(locations):\n",
    "#     print('testing location:', loc)\n",
    "    \n",
    "    dados = teste.loc[teste.loc[:,'location'] == loc]\n",
    "\n",
    "    before = pd.get_dummies(dados.loc[teste.date <= '2016-06-24'].drop(columns='location'))\n",
    "    after = pd.get_dummies(dados.loc[teste.date > '2016-06-24'].drop(columns='location'))\n",
    "\n",
    "    X_train = before.drop(['raintomorrow','date'],axis=1)\n",
    "    y_train = before.loc[:,'raintomorrow']\n",
    "\n",
    "    X_test = after.drop(['raintomorrow','date'],axis=1)\n",
    "    y_test = after.loc[:,'raintomorrow']\n",
    "\n",
    "    if len(y_test) != 0:\n",
    "        #this when there is not a specifc value, get_dummites will ommit the column,\n",
    "        #so we need to create a column with zeros for this category\n",
    "        for col in X_train.columns:\n",
    "            if col not in X_test.columns:\n",
    "    #             print(f'The {col} column was not caught by the get_dummies, for location: ', loc)\n",
    "                X_test[col] = 0\n",
    "\n",
    "        if scailing:\n",
    "            # Standardize data:\n",
    "            scaler = StandardScaler().fit(X_train)\n",
    "            X_train_std = scaler.transform(X_train)\n",
    "            X_test_std = scaler.transform(X_test)\n",
    "        else:\n",
    "            X_train_std = X_train\n",
    "            X_test_std = X_test\n",
    "\n",
    "        logreg = LogisticRegression(max_iter=1000)\n",
    "\n",
    "        logreg.fit(X_train_std,y_train)\n",
    "\n",
    "        y_pred = logreg.predict(X_test_std)\n",
    "\n",
    "        minidf = pd.DataFrame({'loc':loc,'y_pred':y_pred,'y_test':y_test})\n",
    "        results = pd.concat([results,minidf])\n",
    "    \n",
    "    else:\n",
    "        print('no data for location: ',loc) "
   ]
  },
  {
   "cell_type": "code",
   "execution_count": 80,
   "metadata": {},
   "outputs": [
    {
     "data": {
      "text/plain": [
       "array([[9778,  805],\n",
       "       [1316, 1898]], dtype=int64)"
      ]
     },
     "execution_count": 80,
     "metadata": {},
     "output_type": "execute_result"
    }
   ],
   "source": [
    "from sklearn.metrics import recall_score, precision_score\n",
    "\n",
    "confusion_matrix(y_true= results.y_test, y_pred= results.y_pred)"
   ]
  },
  {
   "cell_type": "markdown",
   "metadata": {},
   "source": [
    "**with standardization**"
   ]
  },
  {
   "cell_type": "code",
   "execution_count": 86,
   "metadata": {
    "code_folding": [
     0
    ]
   },
   "outputs": [
    {
     "name": "stdout",
     "output_type": "stream",
     "text": [
      "recall_score:  0.5905413814561294\n",
      "precision_score:  0.7021827598964114\n",
      "accuracy_score:  0.8462709284627092\n"
     ]
    }
   ],
   "source": [
    "#(max_iter=100)\n",
    "print('recall_score: ', recall_score(y_true= results.y_test, y_pred= results.y_pred))\n",
    "print('precision_score: ', precision_score(y_true= results.y_test, y_pred= results.y_pred))\n",
    "print('accuracy_score: ', accuracy_score(y_true= results.y_test, y_pred= results.y_pred))"
   ]
  },
  {
   "cell_type": "markdown",
   "metadata": {},
   "source": [
    "**without standardization**"
   ]
  },
  {
   "cell_type": "code",
   "execution_count": 88,
   "metadata": {
    "code_folding": [
     0
    ]
   },
   "outputs": [
    {
     "name": "stdout",
     "output_type": "stream",
     "text": [
      "recall_score:  0.5920970752955819\n",
      "precision_score:  0.7356010823347506\n",
      "accuracy_score:  0.8554033485540334\n"
     ]
    }
   ],
   "source": [
    "#(max_iter=1000)\n",
    "print('recall_score: ', recall_score(y_true= results.y_test, y_pred= results.y_pred))\n",
    "print('precision_score: ', precision_score(y_true= results.y_test, y_pred= results.y_pred))\n",
    "print('accuracy_score: ', accuracy_score(y_true= results.y_test, y_pred= results.y_pred))"
   ]
  },
  {
   "cell_type": "code",
   "execution_count": 91,
   "metadata": {
    "code_folding": [
     0
    ]
   },
   "outputs": [
    {
     "name": "stdout",
     "output_type": "stream",
     "text": [
      "recall_score:  0.5930304915992533\n",
      "precision_score:  0.7291507268553941\n",
      "accuracy_score:  0.8538812785388128\n"
     ]
    }
   ],
   "source": [
    "#(max_iter=100000)\n",
    "print('recall_score: ', recall_score(y_true= results.y_test, y_pred= results.y_pred))\n",
    "print('precision_score: ', precision_score(y_true= results.y_test, y_pred= results.y_pred))\n",
    "print('accuracy_score: ', accuracy_score(y_true= results.y_test, y_pred= results.y_pred))"
   ]
  }
 ],
 "metadata": {
  "kernelspec": {
   "display_name": "Python 3",
   "language": "python",
   "name": "python3"
  },
  "language_info": {
   "codemirror_mode": {
    "name": "ipython",
    "version": 3
   },
   "file_extension": ".py",
   "mimetype": "text/x-python",
   "name": "python",
   "nbconvert_exporter": "python",
   "pygments_lexer": "ipython3",
   "version": "3.8.1"
  },
  "toc": {
   "base_numbering": 1,
   "nav_menu": {},
   "number_sections": true,
   "sideBar": true,
   "skip_h1_title": false,
   "title_cell": "Table of Contents",
   "title_sidebar": "Contents",
   "toc_cell": false,
   "toc_position": {},
   "toc_section_display": true,
   "toc_window_display": false
  },
  "varInspector": {
   "cols": {
    "lenName": 16,
    "lenType": 16,
    "lenVar": 40
   },
   "kernels_config": {
    "python": {
     "delete_cmd_postfix": "",
     "delete_cmd_prefix": "del ",
     "library": "var_list.py",
     "varRefreshCmd": "print(var_dic_list())"
    },
    "r": {
     "delete_cmd_postfix": ") ",
     "delete_cmd_prefix": "rm(",
     "library": "var_list.r",
     "varRefreshCmd": "cat(var_dic_list()) "
    }
   },
   "types_to_exclude": [
    "module",
    "function",
    "builtin_function_or_method",
    "instance",
    "_Feature"
   ],
   "window_display": false
  }
 },
 "nbformat": 4,
 "nbformat_minor": 4
}

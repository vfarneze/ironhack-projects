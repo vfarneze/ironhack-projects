{
 "cells": [
  {
   "cell_type": "code",
   "execution_count": 144,
   "metadata": {},
   "outputs": [],
   "source": [
    "import pandas as pd\n",
    "import numpy as np\n",
    "import os\n",
    "import re"
   ]
  },
  {
   "cell_type": "code",
   "execution_count": 5,
   "metadata": {},
   "outputs": [
    {
     "data": {
      "text/plain": [
       "['.ipynb_checkpoints',\n",
       " 'events_data.csv',\n",
       " 'parks_data.csv',\n",
       " 'WEB-events-API-parks.ipynb',\n",
       " 'web-scraping-project.pdf']"
      ]
     },
     "execution_count": 5,
     "metadata": {},
     "output_type": "execute_result"
    }
   ],
   "source": [
    "os.listdir('../Project3_API-WScrap/')"
   ]
  },
  {
   "cell_type": "code",
   "execution_count": 7,
   "metadata": {},
   "outputs": [],
   "source": [
    "events = pd.read_csv('../Project3_API-WScrap/events_data.csv')"
   ]
  },
  {
   "cell_type": "code",
   "execution_count": 55,
   "metadata": {},
   "outputs": [],
   "source": [
    "tipos = [type(x) for x in events.lineup]"
   ]
  },
  {
   "cell_type": "code",
   "execution_count": 63,
   "metadata": {},
   "outputs": [
    {
     "data": {
      "text/plain": [
       "array([<class 'str'>, <class 'float'>], dtype=object)"
      ]
     },
     "execution_count": 63,
     "metadata": {},
     "output_type": "execute_result"
    }
   ],
   "source": [
    "pd.DataFrame({'a':np.array(tipos)}).a.unique()"
   ]
  },
  {
   "cell_type": "code",
   "execution_count": 170,
   "metadata": {},
   "outputs": [
    {
     "name": "stdout",
     "output_type": "stream",
     "text": [
      "artistas únicos: 8534\n"
     ]
    }
   ],
   "source": [
    "def sum_list(lista):\n",
    "    x = ''\n",
    "    for element in lista:\n",
    "        x = x + element + ' '\n",
    "    \n",
    "    return x.strip()\n",
    "\n",
    "\n",
    "musicians = []\n",
    "\n",
    "for row in events.lineup:\n",
    "    \n",
    "    if type(row) == str:   \n",
    "    \n",
    "        my_list = row.split(',')\n",
    "\n",
    "        for musician in my_list:\n",
    "            musicians.append(musician.strip())\n",
    "\n",
    "musicians = pd.DataFrame({'col': musicians}).col.unique()\n",
    "unic_art = pd.DataFrame({'artist':musicians})\n",
    "\n",
    "unic_art.artist = unic_art.artist.apply(lambda x: sum_list(re.findall('\\w+',x)))\n",
    "unic_art.artist = unic_art.artist.apply(lambda x: x.split('\"')[1] if x.startswith('\"') else x)\n",
    "unic_art.artist = unic_art.artist.apply(lambda x: x.split('\"')[0] if x.endswith('\"') else x)\n",
    "unic_art.artist = unic_art.artist.apply(lambda x: 'noname' if len(x) <3 else x)\n",
    "\n",
    "\n",
    "\n",
    "unic_art.artist = unic_art.artist.sort_values().reset_index(drop=True)\n",
    "\n",
    "\n",
    "print(f'artistas únicos: {len(unic_art.artist.unique())}')"
   ]
  },
  {
   "cell_type": "code",
   "execution_count": 184,
   "metadata": {},
   "outputs": [
    {
     "data": {
      "text/html": [
       "<div>\n",
       "<style scoped>\n",
       "    .dataframe tbody tr th:only-of-type {\n",
       "        vertical-align: middle;\n",
       "    }\n",
       "\n",
       "    .dataframe tbody tr th {\n",
       "        vertical-align: top;\n",
       "    }\n",
       "\n",
       "    .dataframe thead th {\n",
       "        text-align: right;\n",
       "    }\n",
       "</style>\n",
       "<table border=\"1\" class=\"dataframe\">\n",
       "  <thead>\n",
       "    <tr style=\"text-align: right;\">\n",
       "      <th></th>\n",
       "      <th>artist</th>\n",
       "    </tr>\n",
       "  </thead>\n",
       "  <tbody>\n",
       "    <tr>\n",
       "      <th>1737</th>\n",
       "      <td>DJ 2nite</td>\n",
       "    </tr>\n",
       "    <tr>\n",
       "      <th>1738</th>\n",
       "      <td>DJ 5657</td>\n",
       "    </tr>\n",
       "    <tr>\n",
       "      <th>1739</th>\n",
       "      <td>DJ 9AM</td>\n",
       "    </tr>\n",
       "    <tr>\n",
       "      <th>1740</th>\n",
       "      <td>DJ A N T</td>\n",
       "    </tr>\n",
       "    <tr>\n",
       "      <th>1741</th>\n",
       "      <td>DJ ANGEL EYES</td>\n",
       "    </tr>\n",
       "    <tr>\n",
       "      <th>...</th>\n",
       "      <td>...</td>\n",
       "    </tr>\n",
       "    <tr>\n",
       "      <th>2056</th>\n",
       "      <td>DJs</td>\n",
       "    </tr>\n",
       "    <tr>\n",
       "      <th>2057</th>\n",
       "      <td>DJs</td>\n",
       "    </tr>\n",
       "    <tr>\n",
       "      <th>2058</th>\n",
       "      <td>DJs Dewey Chan and Miggz Opening set by Blind ...</td>\n",
       "    </tr>\n",
       "    <tr>\n",
       "      <th>2059</th>\n",
       "      <td>DJs Pierce Jackson</td>\n",
       "    </tr>\n",
       "    <tr>\n",
       "      <th>2060</th>\n",
       "      <td>DJs Saphe</td>\n",
       "    </tr>\n",
       "  </tbody>\n",
       "</table>\n",
       "<p>324 rows × 1 columns</p>\n",
       "</div>"
      ],
      "text/plain": [
       "                                                 artist\n",
       "1737                                           DJ 2nite\n",
       "1738                                            DJ 5657\n",
       "1739                                             DJ 9AM\n",
       "1740                                           DJ A N T\n",
       "1741                                      DJ ANGEL EYES\n",
       "...                                                 ...\n",
       "2056                                                DJs\n",
       "2057                                                DJs\n",
       "2058  DJs Dewey Chan and Miggz Opening set by Blind ...\n",
       "2059                                 DJs Pierce Jackson\n",
       "2060                                          DJs Saphe\n",
       "\n",
       "[324 rows x 1 columns]"
      ]
     },
     "execution_count": 184,
     "metadata": {},
     "output_type": "execute_result"
    }
   ],
   "source": [
    "mask = unic_art.artist.apply(lambda x: True if x.startswith('DJ') else False)\n",
    "unic_art.loc[mask]"
   ]
  },
  {
   "cell_type": "code",
   "execution_count": 87,
   "metadata": {},
   "outputs": [],
   "source": [
    "unic_art.to_csv('data.csv')"
   ]
  }
 ],
 "metadata": {
  "kernelspec": {
   "display_name": "Python 3",
   "language": "python",
   "name": "python3"
  },
  "language_info": {
   "codemirror_mode": {
    "name": "ipython",
    "version": 3
   },
   "file_extension": ".py",
   "mimetype": "text/x-python",
   "name": "python",
   "nbconvert_exporter": "python",
   "pygments_lexer": "ipython3",
   "version": "3.8.1"
  },
  "toc": {
   "base_numbering": 1,
   "nav_menu": {},
   "number_sections": true,
   "sideBar": true,
   "skip_h1_title": false,
   "title_cell": "Table of Contents",
   "title_sidebar": "Contents",
   "toc_cell": false,
   "toc_position": {},
   "toc_section_display": true,
   "toc_window_display": false
  },
  "varInspector": {
   "cols": {
    "lenName": 16,
    "lenType": 16,
    "lenVar": 40
   },
   "kernels_config": {
    "python": {
     "delete_cmd_postfix": "",
     "delete_cmd_prefix": "del ",
     "library": "var_list.py",
     "varRefreshCmd": "print(var_dic_list())"
    },
    "r": {
     "delete_cmd_postfix": ") ",
     "delete_cmd_prefix": "rm(",
     "library": "var_list.r",
     "varRefreshCmd": "cat(var_dic_list()) "
    }
   },
   "types_to_exclude": [
    "module",
    "function",
    "builtin_function_or_method",
    "instance",
    "_Feature"
   ],
   "window_display": false
  }
 },
 "nbformat": 4,
 "nbformat_minor": 4
}

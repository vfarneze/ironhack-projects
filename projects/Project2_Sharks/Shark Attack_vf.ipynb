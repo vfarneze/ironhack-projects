{
 "cells": [
  {
   "cell_type": "markdown",
   "metadata": {},
   "source": [
    "# The Shark Data Set Exploratory Analysis\n"
   ]
  },
  {
   "cell_type": "markdown",
   "metadata": {},
   "source": [
    "Objectives: \n",
    "\n",
    "1. Define question to anwer\n",
    "2. Clean up at least 3 columns from the Shark Data Set (https://www.kaggle.com/teajay/global-shark-attacks/version/1)\n",
    "3. Answer the question based on the analysis"
   ]
  },
  {
   "cell_type": "markdown",
   "metadata": {},
   "source": [
    "# Objective #1: Defining the question"
   ]
  },
  {
   "cell_type": "markdown",
   "metadata": {},
   "source": [
    "Sua chance de morrer por um ataque de tubarão é maior se você provocá-lo?"
   ]
  },
  {
   "cell_type": "markdown",
   "metadata": {},
   "source": [
    "# Objective #2: Clean up 3 columns from the Data Set"
   ]
  },
  {
   "cell_type": "code",
   "execution_count": 1,
   "metadata": {},
   "outputs": [],
   "source": [
    "import pandas as pd\n",
    "import numpy as np"
   ]
  },
  {
   "cell_type": "markdown",
   "metadata": {},
   "source": [
    "## Dropping 'Case Number' columns"
   ]
  },
  {
   "cell_type": "code",
   "execution_count": 2,
   "metadata": {
    "scrolled": true
   },
   "outputs": [],
   "source": [
    "shark = pd.read_csv('GSAF5.csv',encoding='latin-1')"
   ]
  },
  {
   "cell_type": "code",
   "execution_count": 3,
   "metadata": {
    "scrolled": true
   },
   "outputs": [
    {
     "data": {
      "text/plain": [
       "2"
      ]
     },
     "execution_count": 3,
     "metadata": {},
     "output_type": "execute_result"
    }
   ],
   "source": [
    "(~(shark['Case Number.1'] == shark['Case Number.2'])).sum()\n",
    "(~(shark['Case Number.1'] == shark['Case Number'])).sum()\n",
    "(~(shark['Case Number.2'] == shark['Case Number'])).sum()"
   ]
  },
  {
   "cell_type": "code",
   "execution_count": 4,
   "metadata": {},
   "outputs": [],
   "source": [
    "# Which one to delete?\n",
    "mask1 = (~(shark['Case Number.1'] == shark['Case Number.2']))\n",
    "mask2 = (~(shark['Case Number.1'] == shark['Case Number']))\n",
    "mask3 = (~(shark['Case Number.2'] == shark['Case Number']))\n",
    "\n",
    "# The divergent rows are:\n",
    "div_cases = shark[['Case Number','Case Number.1','Case Number.2','pdf','Investigator or Source']].loc[(mask1|mask2|mask3),:]\n",
    "div_cases.index\n",
    "\n",
    "\n",
    "# Aqui decidimos que substituiriamos as strings conflitantes (divergentes), mas manteríamos apenas uma coluna \"case number\".\n",
    "# Substituimos os valores corretos tirando os das coluna \"pdf\"\n",
    "\n",
    "#We will use a variable to store temporary values of the DF: shark_temp\n",
    "shark_temp = shark.copy()\n",
    "shark_temp.iloc[list(div_cases.index),0] = shark.iloc[list(div_cases.index),16].apply(lambda x: x.split('-')[0])\n",
    "\n",
    "#Agora, podemos dropar as colunas repetidas \"Case Number.1\" e \"Case Number.2\"\n",
    "keep_cols = ['Case Number', 'Date', 'Year', 'Type', 'Country', 'Area', 'Location',\n",
    "       'Activity', 'Name', 'Sex ', 'Age', 'Injury', 'Fatal (Y/N)', 'Time',\n",
    "       'Species ', 'Investigator or Source', 'pdf', 'href formula', 'href',\n",
    "       'original order', 'Unnamed: 22','Unnamed: 23']\n",
    "\n",
    "shark_temp = shark_temp.loc[:,keep_cols]"
   ]
  },
  {
   "cell_type": "markdown",
   "metadata": {},
   "source": [
    "## Dropping last 3 columns \n",
    "\n",
    "* Unnamed: 22\n",
    "* Unnamed: 23\n",
    "* original order"
   ]
  },
  {
   "cell_type": "code",
   "execution_count": 5,
   "metadata": {},
   "outputs": [
    {
     "name": "stdout",
     "output_type": "stream",
     "text": [
      "5991\n",
      "5990\n"
     ]
    }
   ],
   "source": [
    "#since those two last columns have no meaningfull information, we will discard them.\n",
    "\n",
    "print(shark_temp.loc[:,'Unnamed: 22'].isna().sum())\n",
    "print(shark_temp.loc[:,'Unnamed: 23'].isna().sum())\n",
    "\n",
    "#Column \"original order\" has unique numbers ranging from 1 to 5993, which is like an index, but in case timer order. \n",
    "shark_temp = shark_temp.loc[:,'Case Number':'href']"
   ]
  },
  {
   "cell_type": "markdown",
   "metadata": {},
   "source": [
    "## Cleaning column names"
   ]
  },
  {
   "cell_type": "code",
   "execution_count": 6,
   "metadata": {},
   "outputs": [],
   "source": [
    "#cleaning column names:\n",
    "col_list = [i.lower().strip().replace(' ', '_') for i in shark_temp.columns]\n",
    "shark_temp.columns = col_list"
   ]
  },
  {
   "cell_type": "markdown",
   "metadata": {},
   "source": [
    "## Cleaning the 'type' column\n",
    "\n",
    "Transform some 'invalid' values to 'unprovoked'\n",
    "\n",
    "Based on the following words, since they imply in peaceful activities:\n",
    "'swim','surf','div','board','bath' "
   ]
  },
  {
   "cell_type": "code",
   "execution_count": 7,
   "metadata": {},
   "outputs": [
    {
     "data": {
      "text/plain": [
       "Unprovoked      4386\n",
       "Provoked         557\n",
       "Invalid          519\n",
       "Sea Disaster     220\n",
       "Boat             200\n",
       "Boating          110\n",
       "Name: type, dtype: int64"
      ]
     },
     "execution_count": 7,
     "metadata": {},
     "output_type": "execute_result"
    }
   ],
   "source": [
    "# checking number of values in each category before 'clean up'\n",
    "shark_temp.type.value_counts()"
   ]
  },
  {
   "cell_type": "code",
   "execution_count": 8,
   "metadata": {},
   "outputs": [
    {
     "data": {
      "text/html": [
       "<div>\n",
       "<style scoped>\n",
       "    .dataframe tbody tr th:only-of-type {\n",
       "        vertical-align: middle;\n",
       "    }\n",
       "\n",
       "    .dataframe tbody tr th {\n",
       "        vertical-align: top;\n",
       "    }\n",
       "\n",
       "    .dataframe thead th {\n",
       "        text-align: right;\n",
       "    }\n",
       "</style>\n",
       "<table border=\"1\" class=\"dataframe\">\n",
       "  <thead>\n",
       "    <tr style=\"text-align: right;\">\n",
       "      <th></th>\n",
       "      <th>case_number</th>\n",
       "      <th>date</th>\n",
       "      <th>year</th>\n",
       "      <th>type</th>\n",
       "      <th>country</th>\n",
       "      <th>area</th>\n",
       "      <th>location</th>\n",
       "      <th>activity</th>\n",
       "      <th>name</th>\n",
       "      <th>sex</th>\n",
       "      <th>age</th>\n",
       "      <th>injury</th>\n",
       "      <th>fatal_(y/n)</th>\n",
       "      <th>time</th>\n",
       "      <th>species</th>\n",
       "      <th>investigator_or_source</th>\n",
       "      <th>pdf</th>\n",
       "      <th>href_formula</th>\n",
       "      <th>href</th>\n",
       "    </tr>\n",
       "  </thead>\n",
       "  <tbody>\n",
       "    <tr>\n",
       "      <th>50</th>\n",
       "      <td>2016.06.07</td>\n",
       "      <td>07-Jun-16</td>\n",
       "      <td>2016</td>\n",
       "      <td>Invalid</td>\n",
       "      <td>USA</td>\n",
       "      <td>South Carolina</td>\n",
       "      <td>Folly Beach, Charleston County</td>\n",
       "      <td>Surfing</td>\n",
       "      <td>Jack O'Neill</td>\n",
       "      <td>M</td>\n",
       "      <td>27</td>\n",
       "      <td>No injury, board damaged</td>\n",
       "      <td>N</td>\n",
       "      <td>11h30</td>\n",
       "      <td>Said to involve an 8' shark but more likely da...</td>\n",
       "      <td>C. Creswell, GSAF</td>\n",
       "      <td>2016.06.07-Oneill.pdf</td>\n",
       "      <td>http://sharkattackfile.net/spreadsheets/pdf_di...</td>\n",
       "      <td>http://sharkattackfile.net/spreadsheets/pdf_di...</td>\n",
       "    </tr>\n",
       "    <tr>\n",
       "      <th>73</th>\n",
       "      <td>2016.04.08</td>\n",
       "      <td>08-Apr-16</td>\n",
       "      <td>2016</td>\n",
       "      <td>Invalid</td>\n",
       "      <td>CAPE VERDE</td>\n",
       "      <td>Boa Vista Island</td>\n",
       "      <td>NaN</td>\n",
       "      <td>NaN</td>\n",
       "      <td>a British citizen</td>\n",
       "      <td>M</td>\n",
       "      <td>60</td>\n",
       "      <td>\"Serious\"</td>\n",
       "      <td>N</td>\n",
       "      <td>NaN</td>\n",
       "      <td>Shark involvement not confirmed</td>\n",
       "      <td>L.O.Guttke</td>\n",
       "      <td>2016.04.08-CapeVerde.pdf</td>\n",
       "      <td>http://sharkattackfile.net/spreadsheets/pdf_di...</td>\n",
       "      <td>http://sharkattackfile.net/spreadsheets/pdf_di...</td>\n",
       "    </tr>\n",
       "  </tbody>\n",
       "</table>\n",
       "</div>"
      ],
      "text/plain": [
       "   case_number       date  year     type     country              area  \\\n",
       "50  2016.06.07  07-Jun-16  2016  Invalid         USA    South Carolina   \n",
       "73  2016.04.08  08-Apr-16  2016  Invalid  CAPE VERDE  Boa Vista Island   \n",
       "\n",
       "                          location activity               name sex age  \\\n",
       "50  Folly Beach, Charleston County  Surfing       Jack O'Neill   M  27   \n",
       "73                             NaN      NaN  a British citizen   M  60   \n",
       "\n",
       "                      injury fatal_(y/n)   time  \\\n",
       "50  No injury, board damaged           N  11h30   \n",
       "73                 \"Serious\"           N    NaN   \n",
       "\n",
       "                                              species investigator_or_source  \\\n",
       "50  Said to involve an 8' shark but more likely da...      C. Creswell, GSAF   \n",
       "73                    Shark involvement not confirmed             L.O.Guttke   \n",
       "\n",
       "                         pdf  \\\n",
       "50     2016.06.07-Oneill.pdf   \n",
       "73  2016.04.08-CapeVerde.pdf   \n",
       "\n",
       "                                         href_formula  \\\n",
       "50  http://sharkattackfile.net/spreadsheets/pdf_di...   \n",
       "73  http://sharkattackfile.net/spreadsheets/pdf_di...   \n",
       "\n",
       "                                                 href  \n",
       "50  http://sharkattackfile.net/spreadsheets/pdf_di...  \n",
       "73  http://sharkattackfile.net/spreadsheets/pdf_di...  "
      ]
     },
     "execution_count": 8,
     "metadata": {},
     "output_type": "execute_result"
    }
   ],
   "source": [
    "shark_temp.loc[shark_temp.type == 'Invalid',:].head(2)"
   ]
  },
  {
   "cell_type": "code",
   "execution_count": 9,
   "metadata": {},
   "outputs": [],
   "source": [
    "import re\n",
    "shark_act = shark_temp.loc[shark_temp.type == 'Invalid',:].loc[:,'activity']"
   ]
  },
  {
   "cell_type": "code",
   "execution_count": 10,
   "metadata": {},
   "outputs": [],
   "source": [
    "# function to apply in \n",
    "\n",
    "def func_re (x):\n",
    "    '''\n",
    "    This function detects all strings containing the words according to the filters list,\n",
    "    and returns  'Unprovoked' when the word is found and 'Invalid' when not.\n",
    "\n",
    "    example 1:\n",
    "        Input: 'Surfing'\n",
    "        Output: 'Unprovoked' \n",
    "        \n",
    "    example 2:\n",
    "        Input: 'fishing'\n",
    "        Output: 'Invalid' \n",
    "    '''\n",
    "    \n",
    "    filters = ['[Ss]urf\\w+','[Ss]wim\\w+','[Bb]ath\\w+', '[Ww]ad\\w+','[Bb]oard\\w+','[Ss]norkel\\w+', '[Kk]ayak\\w+','[Dd]iv\\w+']\n",
    "    \n",
    "    y = 'Invalid'\n",
    "    for activity in filters:\n",
    "        try:\n",
    "            if len(re.findall(activity, x)) != 0:\n",
    "                y = 'Unprovoked'\n",
    "                break\n",
    "        except:\n",
    "            break\n",
    "    return y"
   ]
  },
  {
   "cell_type": "code",
   "execution_count": 11,
   "metadata": {},
   "outputs": [],
   "source": [
    "# implementing above function to shark_temp DataFrame\n",
    "\n",
    "shark_temp.loc[shark_temp.type == 'Invalid',['type']] = shark_act.apply(lambda x: func_re(x))"
   ]
  },
  {
   "cell_type": "code",
   "execution_count": 12,
   "metadata": {},
   "outputs": [
    {
     "data": {
      "text/plain": [
       "Unprovoked      4618\n",
       "Provoked         557\n",
       "Invalid          287\n",
       "Sea Disaster     220\n",
       "Boat             200\n",
       "Boating          110\n",
       "Name: type, dtype: int64"
      ]
     },
     "execution_count": 12,
     "metadata": {},
     "output_type": "execute_result"
    }
   ],
   "source": [
    "# checking 'type' values after clean up\n",
    "shark_temp.type.value_counts()"
   ]
  },
  {
   "cell_type": "markdown",
   "metadata": {},
   "source": [
    "## Cleaning 'Fatal(Y/N)' column\n",
    "\n",
    "* A clean version of the 'Fatal(Y/N)' column will be stored in a new column: 'fatal'"
   ]
  },
  {
   "cell_type": "code",
   "execution_count": 13,
   "metadata": {},
   "outputs": [
    {
     "data": {
      "text/plain": [
       "array(['N', 'Y', nan, 'UNKNOWN', ' N', 'F', 'N ', '#VALUE!', 'n'],\n",
       "      dtype=object)"
      ]
     },
     "execution_count": 13,
     "metadata": {},
     "output_type": "execute_result"
    }
   ],
   "source": [
    "shark.loc[:,'Fatal (Y/N)'].unique()"
   ]
  },
  {
   "cell_type": "code",
   "execution_count": 14,
   "metadata": {},
   "outputs": [
    {
     "data": {
      "text/plain": [
       "N          4315\n",
       "Y          1552\n",
       "UNKNOWN      94\n",
       " N            8\n",
       "n             1\n",
       "F             1\n",
       "N             1\n",
       "#VALUE!       1\n",
       "Name: fatal, dtype: int64"
      ]
     },
     "execution_count": 14,
     "metadata": {},
     "output_type": "execute_result"
    }
   ],
   "source": [
    "# primeiro: copiar coluna \"fatal(Y/N)\" em 'fatal'\n",
    "shark_temp['fatal'] = shark.loc[:,'Fatal (Y/N)']\n",
    "shark_temp['fatal'].value_counts()"
   ]
  },
  {
   "cell_type": "code",
   "execution_count": 15,
   "metadata": {},
   "outputs": [],
   "source": [
    "# Not fatal [' N','N ','n','N'] -> 0\n",
    "# Fatal ['Y','F'] -> 1 \n",
    "# Other [Nan, #VALUE!, UNKNOWN] -> np.nan\n",
    "\n",
    "shark_temp['fatal'] = shark_temp.loc[:,'fatal'].apply(lambda x: 0 if x in [' N','N ','n','N'] else (1 if x in ['Y','F'] else np.nan))"
   ]
  },
  {
   "cell_type": "code",
   "execution_count": 16,
   "metadata": {},
   "outputs": [
    {
     "data": {
      "text/plain": [
       "0.0    4325\n",
       "1.0    1553\n",
       "Name: fatal, dtype: int64"
      ]
     },
     "execution_count": 16,
     "metadata": {},
     "output_type": "execute_result"
    }
   ],
   "source": [
    "shark_temp['fatal'].value_counts()"
   ]
  },
  {
   "cell_type": "markdown",
   "metadata": {},
   "source": [
    "## Discarding rows with unnecessary values to the Analysis\n",
    "\n",
    "The 'type' columns contain the following unique values:\n",
    "* Invalid (leftovers after previous cleaning step)\n",
    "* Boat\n",
    "* Boating\n",
    "* Sea Disaster\n",
    "* Provoked \n",
    "* Unprovoked\n",
    "\n",
    "Except for \n",
    "* Provoked \n",
    "* Unprovoked \\\n",
    "the other valuer are being discarded since they don't add value to our final result.\n"
   ]
  },
  {
   "cell_type": "code",
   "execution_count": 17,
   "metadata": {},
   "outputs": [],
   "source": [
    "shark_temp = shark_temp.loc[~(shark_temp.type == 'Invalid'),:]\n",
    "shark_temp = shark_temp.loc[~(shark_temp.type == 'Boating'),:]\n",
    "shark_temp = shark_temp.loc[~(shark_temp.type == 'Boat'),:]\n",
    "shark_temp = shark_temp.loc[~(shark_temp.type == 'Sea Disaster'),:]"
   ]
  },
  {
   "cell_type": "markdown",
   "metadata": {},
   "source": [
    "## Dropping NaN in 'country' column"
   ]
  },
  {
   "cell_type": "code",
   "execution_count": 18,
   "metadata": {},
   "outputs": [],
   "source": [
    "shark_temp = shark_temp.loc[~(shark_temp.country.isna()),:]"
   ]
  },
  {
   "cell_type": "markdown",
   "metadata": {},
   "source": [
    "## Cleaning 'sex' column"
   ]
  },
  {
   "cell_type": "code",
   "execution_count": 19,
   "metadata": {},
   "outputs": [
    {
     "data": {
      "text/plain": [
       "array(['M', 'F', nan, 'M ', 'lli'], dtype=object)"
      ]
     },
     "execution_count": 19,
     "metadata": {},
     "output_type": "execute_result"
    }
   ],
   "source": [
    "shark_temp.sex.unique()"
   ]
  },
  {
   "cell_type": "code",
   "execution_count": 20,
   "metadata": {},
   "outputs": [],
   "source": [
    "# sex 'lli' is a dude> Brian Kang check: {shark.loc[shark['Sex '] == 'lli',:]}\n",
    "shark_temp.loc[shark_temp.sex == 'lli','sex'] = 'M'\n"
   ]
  },
  {
   "cell_type": "code",
   "execution_count": 21,
   "metadata": {},
   "outputs": [],
   "source": [
    "shark_temp.sex = shark_temp.sex.apply(lambda x: x.strip() if type(x) == str else 'undefined')"
   ]
  },
  {
   "cell_type": "markdown",
   "metadata": {},
   "source": [
    "# Objective #3: Answering the defined question\n",
    "\n",
    "What are your chances of dying in a shark attack if you provoked it first?  "
   ]
  },
  {
   "cell_type": "code",
   "execution_count": 25,
   "metadata": {
    "scrolled": true
   },
   "outputs": [
    {
     "data": {
      "text/html": [
       "<div>\n",
       "<style scoped>\n",
       "    .dataframe tbody tr th:only-of-type {\n",
       "        vertical-align: middle;\n",
       "    }\n",
       "\n",
       "    .dataframe tbody tr th {\n",
       "        vertical-align: top;\n",
       "    }\n",
       "\n",
       "    .dataframe thead th {\n",
       "        text-align: right;\n",
       "    }\n",
       "</style>\n",
       "<table border=\"1\" class=\"dataframe\">\n",
       "  <thead>\n",
       "    <tr style=\"text-align: right;\">\n",
       "      <th></th>\n",
       "      <th>type</th>\n",
       "      <th>count</th>\n",
       "      <th>mean</th>\n",
       "    </tr>\n",
       "  </thead>\n",
       "  <tbody>\n",
       "    <tr>\n",
       "      <th>0</th>\n",
       "      <td>Unprovoked</td>\n",
       "      <td>4521.0</td>\n",
       "      <td>0.267419</td>\n",
       "    </tr>\n",
       "    <tr>\n",
       "      <th>1</th>\n",
       "      <td>Provoked</td>\n",
       "      <td>551.0</td>\n",
       "      <td>0.030853</td>\n",
       "    </tr>\n",
       "  </tbody>\n",
       "</table>\n",
       "</div>"
      ],
      "text/plain": [
       "         type   count      mean\n",
       "0  Unprovoked  4521.0  0.267419\n",
       "1    Provoked   551.0  0.030853"
      ]
     },
     "execution_count": 25,
     "metadata": {},
     "output_type": "execute_result"
    }
   ],
   "source": [
    "shark_temp.groupby(['type'])['fatal'].describe().sort_values(by=['mean'], ascending=False).iloc[:,:2].reset_index()"
   ]
  },
  {
   "cell_type": "markdown",
   "metadata": {},
   "source": [
    "**Final answer:**\n",
    "\n",
    "You are more likely to survive if you provoke the shark before it attacks You! \n"
   ]
  },
  {
   "cell_type": "code",
   "execution_count": null,
   "metadata": {},
   "outputs": [],
   "source": []
  },
  {
   "cell_type": "markdown",
   "metadata": {},
   "source": [
    "# Bonus Question: \n",
    "\n",
    "What are the odds of surviving if a woman provokes a shark? "
   ]
  },
  {
   "cell_type": "code",
   "execution_count": 24,
   "metadata": {
    "scrolled": true
   },
   "outputs": [
    {
     "data": {
      "text/html": [
       "<div>\n",
       "<style scoped>\n",
       "    .dataframe tbody tr th:only-of-type {\n",
       "        vertical-align: middle;\n",
       "    }\n",
       "\n",
       "    .dataframe tbody tr th {\n",
       "        vertical-align: top;\n",
       "    }\n",
       "\n",
       "    .dataframe thead th {\n",
       "        text-align: right;\n",
       "    }\n",
       "</style>\n",
       "<table border=\"1\" class=\"dataframe\">\n",
       "  <thead>\n",
       "    <tr style=\"text-align: right;\">\n",
       "      <th></th>\n",
       "      <th></th>\n",
       "      <th>count</th>\n",
       "      <th>mean</th>\n",
       "    </tr>\n",
       "    <tr>\n",
       "      <th>type</th>\n",
       "      <th>sex</th>\n",
       "      <th></th>\n",
       "      <th></th>\n",
       "    </tr>\n",
       "  </thead>\n",
       "  <tbody>\n",
       "    <tr>\n",
       "      <th rowspan=\"3\" valign=\"top\">Unprovoked</th>\n",
       "      <th>undefined</th>\n",
       "      <td>160.0</td>\n",
       "      <td>0.362500</td>\n",
       "    </tr>\n",
       "    <tr>\n",
       "      <th>M</th>\n",
       "      <td>3843.0</td>\n",
       "      <td>0.272964</td>\n",
       "    </tr>\n",
       "    <tr>\n",
       "      <th>F</th>\n",
       "      <td>518.0</td>\n",
       "      <td>0.196911</td>\n",
       "    </tr>\n",
       "    <tr>\n",
       "      <th rowspan=\"3\" valign=\"top\">Provoked</th>\n",
       "      <th>F</th>\n",
       "      <td>19.0</td>\n",
       "      <td>0.052632</td>\n",
       "    </tr>\n",
       "    <tr>\n",
       "      <th>M</th>\n",
       "      <td>476.0</td>\n",
       "      <td>0.031513</td>\n",
       "    </tr>\n",
       "    <tr>\n",
       "      <th>undefined</th>\n",
       "      <td>56.0</td>\n",
       "      <td>0.017857</td>\n",
       "    </tr>\n",
       "  </tbody>\n",
       "</table>\n",
       "</div>"
      ],
      "text/plain": [
       "                       count      mean\n",
       "type       sex                        \n",
       "Unprovoked undefined   160.0  0.362500\n",
       "           M          3843.0  0.272964\n",
       "           F           518.0  0.196911\n",
       "Provoked   F            19.0  0.052632\n",
       "           M           476.0  0.031513\n",
       "           undefined    56.0  0.017857"
      ]
     },
     "execution_count": 24,
     "metadata": {},
     "output_type": "execute_result"
    }
   ],
   "source": [
    "shark_temp.groupby(['type','sex'])['fatal'].describe().sort_values(by=['mean'], ascending=False).iloc[:,:2]\n",
    "# .loc[top_10]"
   ]
  },
  {
   "cell_type": "markdown",
   "metadata": {},
   "source": [
    "Answer: A woman has 67% more chance of dying than a man if she provokes the shark first. \n",
    "BUT, if she does not provoke it first, the chances are 30% higher than a man to survive the same event.\n"
   ]
  },
  {
   "cell_type": "code",
   "execution_count": null,
   "metadata": {},
   "outputs": [],
   "source": []
  }
 ],
 "metadata": {
  "kernelspec": {
   "display_name": "Python 3",
   "language": "python",
   "name": "python3"
  },
  "language_info": {
   "codemirror_mode": {
    "name": "ipython",
    "version": 3
   },
   "file_extension": ".py",
   "mimetype": "text/x-python",
   "name": "python",
   "nbconvert_exporter": "python",
   "pygments_lexer": "ipython3",
   "version": "3.7.3"
  },
  "toc": {
   "base_numbering": 1,
   "nav_menu": {},
   "number_sections": true,
   "sideBar": true,
   "skip_h1_title": false,
   "title_cell": "Table of Contents",
   "title_sidebar": "Contents",
   "toc_cell": false,
   "toc_position": {},
   "toc_section_display": true,
   "toc_window_display": true
  },
  "varInspector": {
   "cols": {
    "lenName": 16,
    "lenType": 16,
    "lenVar": 40
   },
   "kernels_config": {
    "python": {
     "delete_cmd_postfix": "",
     "delete_cmd_prefix": "del ",
     "library": "var_list.py",
     "varRefreshCmd": "print(var_dic_list())"
    },
    "r": {
     "delete_cmd_postfix": ") ",
     "delete_cmd_prefix": "rm(",
     "library": "var_list.r",
     "varRefreshCmd": "cat(var_dic_list()) "
    }
   },
   "types_to_exclude": [
    "module",
    "function",
    "builtin_function_or_method",
    "instance",
    "_Feature"
   ],
   "window_display": false
  }
 },
 "nbformat": 4,
 "nbformat_minor": 4
}
